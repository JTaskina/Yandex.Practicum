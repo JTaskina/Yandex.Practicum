{
 "cells": [
  {
   "cell_type": "markdown",
   "metadata": {},
   "source": [
    "**Цель проекта**\n",
    "\n",
    "Подготовить список гипотез для увеличения выручки.\n",
    "Приоритизировать гипотезы, запустить A/B-тест и проанализировать результаты. \n",
    "\n"
   ]
  },
  {
   "cell_type": "code",
   "execution_count": 1,
   "metadata": {},
   "outputs": [],
   "source": [
    "import pandas as pd\n",
    "import datetime as dt\n",
    "import numpy as np\n",
    "import matplotlib.pyplot as plt\n",
    "from pandas.plotting import register_matplotlib_converters\n",
    "import scipy.stats as stats"
   ]
  },
  {
   "cell_type": "markdown",
   "metadata": {},
   "source": [
    "**1. Прочитаем файл, изучим и проведем предобработку**"
   ]
  },
  {
   "cell_type": "code",
   "execution_count": 2,
   "metadata": {},
   "outputs": [],
   "source": [
    "hypothesis = pd.read_csv('/datasets/hypothesis.csv')"
   ]
  },
  {
   "cell_type": "code",
   "execution_count": 3,
   "metadata": {
    "scrolled": true
   },
   "outputs": [
    {
     "data": {
      "text/html": [
       "<div>\n",
       "<style scoped>\n",
       "    .dataframe tbody tr th:only-of-type {\n",
       "        vertical-align: middle;\n",
       "    }\n",
       "\n",
       "    .dataframe tbody tr th {\n",
       "        vertical-align: top;\n",
       "    }\n",
       "\n",
       "    .dataframe thead th {\n",
       "        text-align: right;\n",
       "    }\n",
       "</style>\n",
       "<table border=\"1\" class=\"dataframe\">\n",
       "  <thead>\n",
       "    <tr style=\"text-align: right;\">\n",
       "      <th></th>\n",
       "      <th>Hypothesis</th>\n",
       "      <th>Reach</th>\n",
       "      <th>Impact</th>\n",
       "      <th>Confidence</th>\n",
       "      <th>Efforts</th>\n",
       "    </tr>\n",
       "  </thead>\n",
       "  <tbody>\n",
       "    <tr>\n",
       "      <th>0</th>\n",
       "      <td>Добавить два новых канала привлечения трафика, что позволит привлекать на 30% больше пользователей</td>\n",
       "      <td>3</td>\n",
       "      <td>10</td>\n",
       "      <td>8</td>\n",
       "      <td>6</td>\n",
       "    </tr>\n",
       "    <tr>\n",
       "      <th>1</th>\n",
       "      <td>Запустить собственную службу доставки, что сократит срок доставки заказов</td>\n",
       "      <td>2</td>\n",
       "      <td>5</td>\n",
       "      <td>4</td>\n",
       "      <td>10</td>\n",
       "    </tr>\n",
       "    <tr>\n",
       "      <th>2</th>\n",
       "      <td>Добавить блоки рекомендаций товаров на сайт интернет магазина, чтобы повысить конверсию и средний чек заказа</td>\n",
       "      <td>8</td>\n",
       "      <td>3</td>\n",
       "      <td>7</td>\n",
       "      <td>3</td>\n",
       "    </tr>\n",
       "    <tr>\n",
       "      <th>3</th>\n",
       "      <td>Изменить структура категорий, что увеличит конверсию, т.к. пользователи быстрее найдут нужный товар</td>\n",
       "      <td>8</td>\n",
       "      <td>3</td>\n",
       "      <td>3</td>\n",
       "      <td>8</td>\n",
       "    </tr>\n",
       "    <tr>\n",
       "      <th>4</th>\n",
       "      <td>Изменить цвет фона главной страницы, чтобы увеличить вовлеченность пользователей</td>\n",
       "      <td>3</td>\n",
       "      <td>1</td>\n",
       "      <td>1</td>\n",
       "      <td>1</td>\n",
       "    </tr>\n",
       "    <tr>\n",
       "      <th>5</th>\n",
       "      <td>Добавить страницу отзывов клиентов о магазине, что позволит увеличить количество заказов</td>\n",
       "      <td>3</td>\n",
       "      <td>2</td>\n",
       "      <td>2</td>\n",
       "      <td>3</td>\n",
       "    </tr>\n",
       "    <tr>\n",
       "      <th>6</th>\n",
       "      <td>Показать на главной странице баннеры с актуальными акциями и распродажами, чтобы увеличить конверсию</td>\n",
       "      <td>5</td>\n",
       "      <td>3</td>\n",
       "      <td>8</td>\n",
       "      <td>3</td>\n",
       "    </tr>\n",
       "    <tr>\n",
       "      <th>7</th>\n",
       "      <td>Добавить форму подписки на все основные страницы, чтобы собрать базу клиентов для email-рассылок</td>\n",
       "      <td>10</td>\n",
       "      <td>7</td>\n",
       "      <td>8</td>\n",
       "      <td>5</td>\n",
       "    </tr>\n",
       "    <tr>\n",
       "      <th>8</th>\n",
       "      <td>Запустить акцию, дающую скидку на товар в день рождения</td>\n",
       "      <td>1</td>\n",
       "      <td>9</td>\n",
       "      <td>9</td>\n",
       "      <td>5</td>\n",
       "    </tr>\n",
       "  </tbody>\n",
       "</table>\n",
       "</div>"
      ],
      "text/plain": [
       "                                                                                                     Hypothesis  \\\n",
       "0  Добавить два новых канала привлечения трафика, что позволит привлекать на 30% больше пользователей             \n",
       "1  Запустить собственную службу доставки, что сократит срок доставки заказов                                      \n",
       "2  Добавить блоки рекомендаций товаров на сайт интернет магазина, чтобы повысить конверсию и средний чек заказа   \n",
       "3  Изменить структура категорий, что увеличит конверсию, т.к. пользователи быстрее найдут нужный товар            \n",
       "4  Изменить цвет фона главной страницы, чтобы увеличить вовлеченность пользователей                               \n",
       "5  Добавить страницу отзывов клиентов о магазине, что позволит увеличить количество заказов                       \n",
       "6  Показать на главной странице баннеры с актуальными акциями и распродажами, чтобы увеличить конверсию           \n",
       "7  Добавить форму подписки на все основные страницы, чтобы собрать базу клиентов для email-рассылок               \n",
       "8  Запустить акцию, дающую скидку на товар в день рождения                                                        \n",
       "\n",
       "   Reach  Impact  Confidence  Efforts  \n",
       "0  3      10      8           6        \n",
       "1  2      5       4           10       \n",
       "2  8      3       7           3        \n",
       "3  8      3       3           8        \n",
       "4  3      1       1           1        \n",
       "5  3      2       2           3        \n",
       "6  5      3       8           3        \n",
       "7  10     7       8           5        \n",
       "8  1      9       9           5        "
      ]
     },
     "execution_count": 3,
     "metadata": {},
     "output_type": "execute_result"
    }
   ],
   "source": [
    "pd.options.display.max_colwidth = 1\n",
    "hypothesis.head(10)"
   ]
  },
  {
   "cell_type": "markdown",
   "metadata": {},
   "source": [
    "Название столбцов имеют прописные буквы, приведем их с корректному виду"
   ]
  },
  {
   "cell_type": "code",
   "execution_count": 4,
   "metadata": {},
   "outputs": [],
   "source": [
    "hypothesis.columns = hypothesis.columns.str.lower()"
   ]
  },
  {
   "cell_type": "markdown",
   "metadata": {},
   "source": [
    "Посмотрим на общую информацию"
   ]
  },
  {
   "cell_type": "code",
   "execution_count": 5,
   "metadata": {
    "scrolled": true
   },
   "outputs": [
    {
     "name": "stdout",
     "output_type": "stream",
     "text": [
      "<class 'pandas.core.frame.DataFrame'>\n",
      "RangeIndex: 9 entries, 0 to 8\n",
      "Data columns (total 5 columns):\n",
      " #   Column      Non-Null Count  Dtype \n",
      "---  ------      --------------  ----- \n",
      " 0   hypothesis  9 non-null      object\n",
      " 1   reach       9 non-null      int64 \n",
      " 2   impact      9 non-null      int64 \n",
      " 3   confidence  9 non-null      int64 \n",
      " 4   efforts     9 non-null      int64 \n",
      "dtypes: int64(4), object(1)\n",
      "memory usage: 488.0+ bytes\n"
     ]
    }
   ],
   "source": [
    "hypothesis.info()"
   ]
  },
  {
   "cell_type": "markdown",
   "metadata": {},
   "source": [
    "На первый взгляд все нормально. Выявим пропуски"
   ]
  },
  {
   "cell_type": "code",
   "execution_count": 6,
   "metadata": {
    "scrolled": true
   },
   "outputs": [
    {
     "data": {
      "text/plain": [
       "hypothesis    0\n",
       "reach         0\n",
       "impact        0\n",
       "confidence    0\n",
       "efforts       0\n",
       "dtype: int64"
      ]
     },
     "execution_count": 6,
     "metadata": {},
     "output_type": "execute_result"
    }
   ],
   "source": [
    "hypothesis.isna().sum()"
   ]
  },
  {
   "cell_type": "markdown",
   "metadata": {},
   "source": [
    "Пропусков нет. Проверим на явные дубликаты"
   ]
  },
  {
   "cell_type": "code",
   "execution_count": 7,
   "metadata": {},
   "outputs": [
    {
     "data": {
      "text/plain": [
       "0"
      ]
     },
     "execution_count": 7,
     "metadata": {},
     "output_type": "execute_result"
    }
   ],
   "source": [
    "hypothesis.duplicated().sum()"
   ]
  },
  {
   "cell_type": "markdown",
   "metadata": {},
   "source": [
    "Явных дубликатов нет."
   ]
  },
  {
   "cell_type": "markdown",
   "metadata": {},
   "source": [
    "**2.Применить фреймворк ICE для приоритизации гипотез. Отсортировать их по убыванию приоритета.**"
   ]
  },
  {
   "cell_type": "code",
   "execution_count": 8,
   "metadata": {
    "scrolled": true
   },
   "outputs": [
    {
     "data": {
      "text/html": [
       "<div>\n",
       "<style scoped>\n",
       "    .dataframe tbody tr th:only-of-type {\n",
       "        vertical-align: middle;\n",
       "    }\n",
       "\n",
       "    .dataframe tbody tr th {\n",
       "        vertical-align: top;\n",
       "    }\n",
       "\n",
       "    .dataframe thead th {\n",
       "        text-align: right;\n",
       "    }\n",
       "</style>\n",
       "<table border=\"1\" class=\"dataframe\">\n",
       "  <thead>\n",
       "    <tr style=\"text-align: right;\">\n",
       "      <th></th>\n",
       "      <th>hypothesis</th>\n",
       "      <th>reach</th>\n",
       "      <th>impact</th>\n",
       "      <th>confidence</th>\n",
       "      <th>efforts</th>\n",
       "      <th>ICE</th>\n",
       "    </tr>\n",
       "  </thead>\n",
       "  <tbody>\n",
       "    <tr>\n",
       "      <th>8</th>\n",
       "      <td>Запустить акцию, дающую скидку на товар в день рождения</td>\n",
       "      <td>1</td>\n",
       "      <td>9</td>\n",
       "      <td>9</td>\n",
       "      <td>5</td>\n",
       "      <td>16.20</td>\n",
       "    </tr>\n",
       "    <tr>\n",
       "      <th>0</th>\n",
       "      <td>Добавить два новых канала привлечения трафика, что позволит привлекать на 30% больше пользователей</td>\n",
       "      <td>3</td>\n",
       "      <td>10</td>\n",
       "      <td>8</td>\n",
       "      <td>6</td>\n",
       "      <td>13.33</td>\n",
       "    </tr>\n",
       "    <tr>\n",
       "      <th>7</th>\n",
       "      <td>Добавить форму подписки на все основные страницы, чтобы собрать базу клиентов для email-рассылок</td>\n",
       "      <td>10</td>\n",
       "      <td>7</td>\n",
       "      <td>8</td>\n",
       "      <td>5</td>\n",
       "      <td>11.20</td>\n",
       "    </tr>\n",
       "    <tr>\n",
       "      <th>6</th>\n",
       "      <td>Показать на главной странице баннеры с актуальными акциями и распродажами, чтобы увеличить конверсию</td>\n",
       "      <td>5</td>\n",
       "      <td>3</td>\n",
       "      <td>8</td>\n",
       "      <td>3</td>\n",
       "      <td>8.00</td>\n",
       "    </tr>\n",
       "    <tr>\n",
       "      <th>2</th>\n",
       "      <td>Добавить блоки рекомендаций товаров на сайт интернет магазина, чтобы повысить конверсию и средний чек заказа</td>\n",
       "      <td>8</td>\n",
       "      <td>3</td>\n",
       "      <td>7</td>\n",
       "      <td>3</td>\n",
       "      <td>7.00</td>\n",
       "    </tr>\n",
       "    <tr>\n",
       "      <th>1</th>\n",
       "      <td>Запустить собственную службу доставки, что сократит срок доставки заказов</td>\n",
       "      <td>2</td>\n",
       "      <td>5</td>\n",
       "      <td>4</td>\n",
       "      <td>10</td>\n",
       "      <td>2.00</td>\n",
       "    </tr>\n",
       "    <tr>\n",
       "      <th>5</th>\n",
       "      <td>Добавить страницу отзывов клиентов о магазине, что позволит увеличить количество заказов</td>\n",
       "      <td>3</td>\n",
       "      <td>2</td>\n",
       "      <td>2</td>\n",
       "      <td>3</td>\n",
       "      <td>1.33</td>\n",
       "    </tr>\n",
       "    <tr>\n",
       "      <th>3</th>\n",
       "      <td>Изменить структура категорий, что увеличит конверсию, т.к. пользователи быстрее найдут нужный товар</td>\n",
       "      <td>8</td>\n",
       "      <td>3</td>\n",
       "      <td>3</td>\n",
       "      <td>8</td>\n",
       "      <td>1.12</td>\n",
       "    </tr>\n",
       "    <tr>\n",
       "      <th>4</th>\n",
       "      <td>Изменить цвет фона главной страницы, чтобы увеличить вовлеченность пользователей</td>\n",
       "      <td>3</td>\n",
       "      <td>1</td>\n",
       "      <td>1</td>\n",
       "      <td>1</td>\n",
       "      <td>1.00</td>\n",
       "    </tr>\n",
       "  </tbody>\n",
       "</table>\n",
       "</div>"
      ],
      "text/plain": [
       "                                                                                                     hypothesis  \\\n",
       "8  Запустить акцию, дающую скидку на товар в день рождения                                                        \n",
       "0  Добавить два новых канала привлечения трафика, что позволит привлекать на 30% больше пользователей             \n",
       "7  Добавить форму подписки на все основные страницы, чтобы собрать базу клиентов для email-рассылок               \n",
       "6  Показать на главной странице баннеры с актуальными акциями и распродажами, чтобы увеличить конверсию           \n",
       "2  Добавить блоки рекомендаций товаров на сайт интернет магазина, чтобы повысить конверсию и средний чек заказа   \n",
       "1  Запустить собственную службу доставки, что сократит срок доставки заказов                                      \n",
       "5  Добавить страницу отзывов клиентов о магазине, что позволит увеличить количество заказов                       \n",
       "3  Изменить структура категорий, что увеличит конверсию, т.к. пользователи быстрее найдут нужный товар            \n",
       "4  Изменить цвет фона главной страницы, чтобы увеличить вовлеченность пользователей                               \n",
       "\n",
       "   reach  impact  confidence  efforts    ICE  \n",
       "8  1      9       9           5        16.20  \n",
       "0  3      10      8           6        13.33  \n",
       "7  10     7       8           5        11.20  \n",
       "6  5      3       8           3        8.00   \n",
       "2  8      3       7           3        7.00   \n",
       "1  2      5       4           10       2.00   \n",
       "5  3      2       2           3        1.33   \n",
       "3  8      3       3           8        1.12   \n",
       "4  3      1       1           1        1.00   "
      ]
     },
     "execution_count": 8,
     "metadata": {},
     "output_type": "execute_result"
    }
   ],
   "source": [
    "hypothesis['ICE']= round(hypothesis['impact'] * hypothesis['confidence']/hypothesis['efforts'],2)\n",
    "pd.options.display.max_colwidth = 1\n",
    "hypothesis.sort_values(by='ICE',ascending=False)"
   ]
  },
  {
   "cell_type": "markdown",
   "metadata": {},
   "source": [
    "На первом месте гипотеза \"Запустить акцию, дающую скидку на товар в день рождения\". Также наиболее перспективные гипотезы \"Добавить два новых канала привлечения трафика, что позволит привлекать на 30% больше пользователей'' и  \"Добавить форму подписки на все основные страницы, чтобы собрать базу клиентов для email-рассылок\""
   ]
  },
  {
   "cell_type": "markdown",
   "metadata": {},
   "source": [
    "**Применим фреймворк RICE для приоритизации гипотез. Отсортируем их по убыванию приоритета.**"
   ]
  },
  {
   "cell_type": "code",
   "execution_count": 9,
   "metadata": {
    "scrolled": true
   },
   "outputs": [
    {
     "data": {
      "text/html": [
       "<div>\n",
       "<style scoped>\n",
       "    .dataframe tbody tr th:only-of-type {\n",
       "        vertical-align: middle;\n",
       "    }\n",
       "\n",
       "    .dataframe tbody tr th {\n",
       "        vertical-align: top;\n",
       "    }\n",
       "\n",
       "    .dataframe thead th {\n",
       "        text-align: right;\n",
       "    }\n",
       "</style>\n",
       "<table border=\"1\" class=\"dataframe\">\n",
       "  <thead>\n",
       "    <tr style=\"text-align: right;\">\n",
       "      <th></th>\n",
       "      <th>hypothesis</th>\n",
       "      <th>reach</th>\n",
       "      <th>impact</th>\n",
       "      <th>confidence</th>\n",
       "      <th>efforts</th>\n",
       "      <th>ICE</th>\n",
       "      <th>RICE</th>\n",
       "    </tr>\n",
       "  </thead>\n",
       "  <tbody>\n",
       "    <tr>\n",
       "      <th>7</th>\n",
       "      <td>Добавить форму подписки на все основные страницы, чтобы собрать базу клиентов для email-рассылок</td>\n",
       "      <td>10</td>\n",
       "      <td>7</td>\n",
       "      <td>8</td>\n",
       "      <td>5</td>\n",
       "      <td>11.20</td>\n",
       "      <td>112.0</td>\n",
       "    </tr>\n",
       "    <tr>\n",
       "      <th>2</th>\n",
       "      <td>Добавить блоки рекомендаций товаров на сайт интернет магазина, чтобы повысить конверсию и средний чек заказа</td>\n",
       "      <td>8</td>\n",
       "      <td>3</td>\n",
       "      <td>7</td>\n",
       "      <td>3</td>\n",
       "      <td>7.00</td>\n",
       "      <td>56.0</td>\n",
       "    </tr>\n",
       "    <tr>\n",
       "      <th>0</th>\n",
       "      <td>Добавить два новых канала привлечения трафика, что позволит привлекать на 30% больше пользователей</td>\n",
       "      <td>3</td>\n",
       "      <td>10</td>\n",
       "      <td>8</td>\n",
       "      <td>6</td>\n",
       "      <td>13.33</td>\n",
       "      <td>40.0</td>\n",
       "    </tr>\n",
       "    <tr>\n",
       "      <th>6</th>\n",
       "      <td>Показать на главной странице баннеры с актуальными акциями и распродажами, чтобы увеличить конверсию</td>\n",
       "      <td>5</td>\n",
       "      <td>3</td>\n",
       "      <td>8</td>\n",
       "      <td>3</td>\n",
       "      <td>8.00</td>\n",
       "      <td>40.0</td>\n",
       "    </tr>\n",
       "    <tr>\n",
       "      <th>8</th>\n",
       "      <td>Запустить акцию, дающую скидку на товар в день рождения</td>\n",
       "      <td>1</td>\n",
       "      <td>9</td>\n",
       "      <td>9</td>\n",
       "      <td>5</td>\n",
       "      <td>16.20</td>\n",
       "      <td>16.2</td>\n",
       "    </tr>\n",
       "    <tr>\n",
       "      <th>3</th>\n",
       "      <td>Изменить структура категорий, что увеличит конверсию, т.к. пользователи быстрее найдут нужный товар</td>\n",
       "      <td>8</td>\n",
       "      <td>3</td>\n",
       "      <td>3</td>\n",
       "      <td>8</td>\n",
       "      <td>1.12</td>\n",
       "      <td>9.0</td>\n",
       "    </tr>\n",
       "    <tr>\n",
       "      <th>1</th>\n",
       "      <td>Запустить собственную службу доставки, что сократит срок доставки заказов</td>\n",
       "      <td>2</td>\n",
       "      <td>5</td>\n",
       "      <td>4</td>\n",
       "      <td>10</td>\n",
       "      <td>2.00</td>\n",
       "      <td>4.0</td>\n",
       "    </tr>\n",
       "    <tr>\n",
       "      <th>5</th>\n",
       "      <td>Добавить страницу отзывов клиентов о магазине, что позволит увеличить количество заказов</td>\n",
       "      <td>3</td>\n",
       "      <td>2</td>\n",
       "      <td>2</td>\n",
       "      <td>3</td>\n",
       "      <td>1.33</td>\n",
       "      <td>4.0</td>\n",
       "    </tr>\n",
       "    <tr>\n",
       "      <th>4</th>\n",
       "      <td>Изменить цвет фона главной страницы, чтобы увеличить вовлеченность пользователей</td>\n",
       "      <td>3</td>\n",
       "      <td>1</td>\n",
       "      <td>1</td>\n",
       "      <td>1</td>\n",
       "      <td>1.00</td>\n",
       "      <td>3.0</td>\n",
       "    </tr>\n",
       "  </tbody>\n",
       "</table>\n",
       "</div>"
      ],
      "text/plain": [
       "                                                                                                     hypothesis  \\\n",
       "7  Добавить форму подписки на все основные страницы, чтобы собрать базу клиентов для email-рассылок               \n",
       "2  Добавить блоки рекомендаций товаров на сайт интернет магазина, чтобы повысить конверсию и средний чек заказа   \n",
       "0  Добавить два новых канала привлечения трафика, что позволит привлекать на 30% больше пользователей             \n",
       "6  Показать на главной странице баннеры с актуальными акциями и распродажами, чтобы увеличить конверсию           \n",
       "8  Запустить акцию, дающую скидку на товар в день рождения                                                        \n",
       "3  Изменить структура категорий, что увеличит конверсию, т.к. пользователи быстрее найдут нужный товар            \n",
       "1  Запустить собственную службу доставки, что сократит срок доставки заказов                                      \n",
       "5  Добавить страницу отзывов клиентов о магазине, что позволит увеличить количество заказов                       \n",
       "4  Изменить цвет фона главной страницы, чтобы увеличить вовлеченность пользователей                               \n",
       "\n",
       "   reach  impact  confidence  efforts    ICE   RICE  \n",
       "7  10     7       8           5        11.20  112.0  \n",
       "2  8      3       7           3        7.00   56.0   \n",
       "0  3      10      8           6        13.33  40.0   \n",
       "6  5      3       8           3        8.00   40.0   \n",
       "8  1      9       9           5        16.20  16.2   \n",
       "3  8      3       3           8        1.12   9.0    \n",
       "1  2      5       4           10       2.00   4.0    \n",
       "5  3      2       2           3        1.33   4.0    \n",
       "4  3      1       1           1        1.00   3.0    "
      ]
     },
     "execution_count": 9,
     "metadata": {},
     "output_type": "execute_result"
    }
   ],
   "source": [
    "hypothesis['RICE']= round(hypothesis['reach']*hypothesis['impact']*hypothesis['confidence']/hypothesis['efforts'],2)\n",
    "pd.options.display.max_colwidth = 1\n",
    "hypothesis.sort_values(by='RICE',ascending=False)"
   ]
  },
  {
   "cell_type": "markdown",
   "metadata": {},
   "source": [
    "Сейчас в лидерах также гипотезы \"Добавить два новых канала привлечения трафика, что позволит привлекать на 30% больше пользователей'' и  \"Добавить форму подписки на все основные страницы, чтобы собрать базу клиентов для email-рассылок\". Также в лидерах гиоптеза 'Добавить блоки рекомендаций товаров на сайт интернет магазина, чтобы повысить конверсию и средний чек заказа'"
   ]
  },
  {
   "cell_type": "markdown",
   "metadata": {},
   "source": [
    "Фреймворк RICE учитывает параметр Reach (охват пользователей), и в лидеры вышли гипотезы с наибольшим охватом пользователей."
   ]
  },
  {
   "cell_type": "markdown",
   "metadata": {},
   "source": [
    "**3.Проанализируем A/B-тест:**"
   ]
  },
  {
   "cell_type": "markdown",
   "metadata": {},
   "source": [
    " Проанализируем данные и проведем предобработку."
   ]
  },
  {
   "cell_type": "code",
   "execution_count": 10,
   "metadata": {},
   "outputs": [],
   "source": [
    "orders = pd.read_csv('/datasets/orders.csv')"
   ]
  },
  {
   "cell_type": "code",
   "execution_count": 11,
   "metadata": {},
   "outputs": [
    {
     "data": {
      "text/html": [
       "<div>\n",
       "<style scoped>\n",
       "    .dataframe tbody tr th:only-of-type {\n",
       "        vertical-align: middle;\n",
       "    }\n",
       "\n",
       "    .dataframe tbody tr th {\n",
       "        vertical-align: top;\n",
       "    }\n",
       "\n",
       "    .dataframe thead th {\n",
       "        text-align: right;\n",
       "    }\n",
       "</style>\n",
       "<table border=\"1\" class=\"dataframe\">\n",
       "  <thead>\n",
       "    <tr style=\"text-align: right;\">\n",
       "      <th></th>\n",
       "      <th>transactionId</th>\n",
       "      <th>visitorId</th>\n",
       "      <th>date</th>\n",
       "      <th>revenue</th>\n",
       "      <th>group</th>\n",
       "    </tr>\n",
       "  </thead>\n",
       "  <tbody>\n",
       "    <tr>\n",
       "      <th>0</th>\n",
       "      <td>3667963787</td>\n",
       "      <td>3312258926</td>\n",
       "      <td>2019-08-15</td>\n",
       "      <td>1650</td>\n",
       "      <td>B</td>\n",
       "    </tr>\n",
       "    <tr>\n",
       "      <th>1</th>\n",
       "      <td>2804400009</td>\n",
       "      <td>3642806036</td>\n",
       "      <td>2019-08-15</td>\n",
       "      <td>730</td>\n",
       "      <td>B</td>\n",
       "    </tr>\n",
       "    <tr>\n",
       "      <th>2</th>\n",
       "      <td>2961555356</td>\n",
       "      <td>4069496402</td>\n",
       "      <td>2019-08-15</td>\n",
       "      <td>400</td>\n",
       "      <td>A</td>\n",
       "    </tr>\n",
       "    <tr>\n",
       "      <th>3</th>\n",
       "      <td>3797467345</td>\n",
       "      <td>1196621759</td>\n",
       "      <td>2019-08-15</td>\n",
       "      <td>9759</td>\n",
       "      <td>B</td>\n",
       "    </tr>\n",
       "    <tr>\n",
       "      <th>4</th>\n",
       "      <td>2282983706</td>\n",
       "      <td>2322279887</td>\n",
       "      <td>2019-08-15</td>\n",
       "      <td>2308</td>\n",
       "      <td>B</td>\n",
       "    </tr>\n",
       "    <tr>\n",
       "      <th>5</th>\n",
       "      <td>182168103</td>\n",
       "      <td>935554773</td>\n",
       "      <td>2019-08-15</td>\n",
       "      <td>2210</td>\n",
       "      <td>B</td>\n",
       "    </tr>\n",
       "    <tr>\n",
       "      <th>6</th>\n",
       "      <td>398296753</td>\n",
       "      <td>2900797465</td>\n",
       "      <td>2019-08-15</td>\n",
       "      <td>1860</td>\n",
       "      <td>B</td>\n",
       "    </tr>\n",
       "    <tr>\n",
       "      <th>7</th>\n",
       "      <td>2626614568</td>\n",
       "      <td>78758296</td>\n",
       "      <td>2019-08-15</td>\n",
       "      <td>1044</td>\n",
       "      <td>A</td>\n",
       "    </tr>\n",
       "    <tr>\n",
       "      <th>8</th>\n",
       "      <td>1576988021</td>\n",
       "      <td>295230930</td>\n",
       "      <td>2019-08-15</td>\n",
       "      <td>13710</td>\n",
       "      <td>A</td>\n",
       "    </tr>\n",
       "    <tr>\n",
       "      <th>9</th>\n",
       "      <td>1506739906</td>\n",
       "      <td>1882260405</td>\n",
       "      <td>2019-08-15</td>\n",
       "      <td>1855</td>\n",
       "      <td>B</td>\n",
       "    </tr>\n",
       "  </tbody>\n",
       "</table>\n",
       "</div>"
      ],
      "text/plain": [
       "   transactionId   visitorId        date  revenue group\n",
       "0  3667963787     3312258926  2019-08-15  1650     B   \n",
       "1  2804400009     3642806036  2019-08-15  730      B   \n",
       "2  2961555356     4069496402  2019-08-15  400      A   \n",
       "3  3797467345     1196621759  2019-08-15  9759     B   \n",
       "4  2282983706     2322279887  2019-08-15  2308     B   \n",
       "5  182168103      935554773   2019-08-15  2210     B   \n",
       "6  398296753      2900797465  2019-08-15  1860     B   \n",
       "7  2626614568     78758296    2019-08-15  1044     A   \n",
       "8  1576988021     295230930   2019-08-15  13710    A   \n",
       "9  1506739906     1882260405  2019-08-15  1855     B   "
      ]
     },
     "execution_count": 11,
     "metadata": {},
     "output_type": "execute_result"
    }
   ],
   "source": [
    "orders.head(10)"
   ]
  },
  {
   "cell_type": "code",
   "execution_count": 12,
   "metadata": {},
   "outputs": [
    {
     "name": "stdout",
     "output_type": "stream",
     "text": [
      "<class 'pandas.core.frame.DataFrame'>\n",
      "RangeIndex: 1197 entries, 0 to 1196\n",
      "Data columns (total 5 columns):\n",
      " #   Column         Non-Null Count  Dtype \n",
      "---  ------         --------------  ----- \n",
      " 0   transactionId  1197 non-null   int64 \n",
      " 1   visitorId      1197 non-null   int64 \n",
      " 2   date           1197 non-null   object\n",
      " 3   revenue        1197 non-null   int64 \n",
      " 4   group          1197 non-null   object\n",
      "dtypes: int64(3), object(2)\n",
      "memory usage: 46.9+ KB\n"
     ]
    }
   ],
   "source": [
    "orders.info()"
   ]
  },
  {
   "cell_type": "code",
   "execution_count": 13,
   "metadata": {},
   "outputs": [
    {
     "data": {
      "text/plain": [
       "transactionId    0\n",
       "visitorId        0\n",
       "date             0\n",
       "revenue          0\n",
       "group            0\n",
       "dtype: int64"
      ]
     },
     "execution_count": 13,
     "metadata": {},
     "output_type": "execute_result"
    }
   ],
   "source": [
    "orders.isna().sum()"
   ]
  },
  {
   "cell_type": "code",
   "execution_count": 14,
   "metadata": {},
   "outputs": [
    {
     "data": {
      "text/plain": [
       "0"
      ]
     },
     "execution_count": 14,
     "metadata": {},
     "output_type": "execute_result"
    }
   ],
   "source": [
    "orders.duplicated().sum()"
   ]
  },
  {
   "cell_type": "code",
   "execution_count": 15,
   "metadata": {},
   "outputs": [
    {
     "data": {
      "text/plain": [
       "array(['B', 'A'], dtype=object)"
      ]
     },
     "execution_count": 15,
     "metadata": {},
     "output_type": "execute_result"
    }
   ],
   "source": [
    "orders['group'].unique()"
   ]
  },
  {
   "cell_type": "markdown",
   "metadata": {},
   "source": [
    "Пропусков и дубликатов нет."
   ]
  },
  {
   "cell_type": "code",
   "execution_count": 16,
   "metadata": {},
   "outputs": [],
   "source": [
    " visitors = pd.read_csv('/datasets/visitors.csv')"
   ]
  },
  {
   "cell_type": "code",
   "execution_count": 17,
   "metadata": {},
   "outputs": [
    {
     "data": {
      "text/html": [
       "<div>\n",
       "<style scoped>\n",
       "    .dataframe tbody tr th:only-of-type {\n",
       "        vertical-align: middle;\n",
       "    }\n",
       "\n",
       "    .dataframe tbody tr th {\n",
       "        vertical-align: top;\n",
       "    }\n",
       "\n",
       "    .dataframe thead th {\n",
       "        text-align: right;\n",
       "    }\n",
       "</style>\n",
       "<table border=\"1\" class=\"dataframe\">\n",
       "  <thead>\n",
       "    <tr style=\"text-align: right;\">\n",
       "      <th></th>\n",
       "      <th>date</th>\n",
       "      <th>group</th>\n",
       "      <th>visitors</th>\n",
       "    </tr>\n",
       "  </thead>\n",
       "  <tbody>\n",
       "    <tr>\n",
       "      <th>0</th>\n",
       "      <td>2019-08-01</td>\n",
       "      <td>A</td>\n",
       "      <td>719</td>\n",
       "    </tr>\n",
       "    <tr>\n",
       "      <th>1</th>\n",
       "      <td>2019-08-02</td>\n",
       "      <td>A</td>\n",
       "      <td>619</td>\n",
       "    </tr>\n",
       "    <tr>\n",
       "      <th>2</th>\n",
       "      <td>2019-08-03</td>\n",
       "      <td>A</td>\n",
       "      <td>507</td>\n",
       "    </tr>\n",
       "    <tr>\n",
       "      <th>3</th>\n",
       "      <td>2019-08-04</td>\n",
       "      <td>A</td>\n",
       "      <td>717</td>\n",
       "    </tr>\n",
       "    <tr>\n",
       "      <th>4</th>\n",
       "      <td>2019-08-05</td>\n",
       "      <td>A</td>\n",
       "      <td>756</td>\n",
       "    </tr>\n",
       "    <tr>\n",
       "      <th>5</th>\n",
       "      <td>2019-08-06</td>\n",
       "      <td>A</td>\n",
       "      <td>667</td>\n",
       "    </tr>\n",
       "    <tr>\n",
       "      <th>6</th>\n",
       "      <td>2019-08-07</td>\n",
       "      <td>A</td>\n",
       "      <td>644</td>\n",
       "    </tr>\n",
       "    <tr>\n",
       "      <th>7</th>\n",
       "      <td>2019-08-08</td>\n",
       "      <td>A</td>\n",
       "      <td>610</td>\n",
       "    </tr>\n",
       "    <tr>\n",
       "      <th>8</th>\n",
       "      <td>2019-08-09</td>\n",
       "      <td>A</td>\n",
       "      <td>617</td>\n",
       "    </tr>\n",
       "    <tr>\n",
       "      <th>9</th>\n",
       "      <td>2019-08-10</td>\n",
       "      <td>A</td>\n",
       "      <td>406</td>\n",
       "    </tr>\n",
       "  </tbody>\n",
       "</table>\n",
       "</div>"
      ],
      "text/plain": [
       "         date group  visitors\n",
       "0  2019-08-01  A     719     \n",
       "1  2019-08-02  A     619     \n",
       "2  2019-08-03  A     507     \n",
       "3  2019-08-04  A     717     \n",
       "4  2019-08-05  A     756     \n",
       "5  2019-08-06  A     667     \n",
       "6  2019-08-07  A     644     \n",
       "7  2019-08-08  A     610     \n",
       "8  2019-08-09  A     617     \n",
       "9  2019-08-10  A     406     "
      ]
     },
     "execution_count": 17,
     "metadata": {},
     "output_type": "execute_result"
    }
   ],
   "source": [
    " visitors.head(10)"
   ]
  },
  {
   "cell_type": "code",
   "execution_count": 18,
   "metadata": {
    "scrolled": true
   },
   "outputs": [
    {
     "name": "stdout",
     "output_type": "stream",
     "text": [
      "<class 'pandas.core.frame.DataFrame'>\n",
      "RangeIndex: 62 entries, 0 to 61\n",
      "Data columns (total 3 columns):\n",
      " #   Column    Non-Null Count  Dtype \n",
      "---  ------    --------------  ----- \n",
      " 0   date      62 non-null     object\n",
      " 1   group     62 non-null     object\n",
      " 2   visitors  62 non-null     int64 \n",
      "dtypes: int64(1), object(2)\n",
      "memory usage: 1.6+ KB\n"
     ]
    }
   ],
   "source": [
    " visitors.info()"
   ]
  },
  {
   "cell_type": "code",
   "execution_count": 19,
   "metadata": {},
   "outputs": [
    {
     "data": {
      "text/plain": [
       "date        0\n",
       "group       0\n",
       "visitors    0\n",
       "dtype: int64"
      ]
     },
     "execution_count": 19,
     "metadata": {},
     "output_type": "execute_result"
    }
   ],
   "source": [
    "visitors.isna().sum()"
   ]
  },
  {
   "cell_type": "code",
   "execution_count": 20,
   "metadata": {},
   "outputs": [
    {
     "data": {
      "text/plain": [
       "0"
      ]
     },
     "execution_count": 20,
     "metadata": {},
     "output_type": "execute_result"
    }
   ],
   "source": [
    " visitors.duplicated().sum()"
   ]
  },
  {
   "cell_type": "code",
   "execution_count": 21,
   "metadata": {},
   "outputs": [
    {
     "data": {
      "text/plain": [
       "array(['A', 'B'], dtype=object)"
      ]
     },
     "execution_count": 21,
     "metadata": {},
     "output_type": "execute_result"
    }
   ],
   "source": [
    "visitors['group'].unique()"
   ]
  },
  {
   "cell_type": "markdown",
   "metadata": {},
   "source": [
    "Здесь также нет пропусков и дубликатов нет. Приведем названия столбцов и формат даты к корректному виду."
   ]
  },
  {
   "cell_type": "code",
   "execution_count": 22,
   "metadata": {
    "scrolled": true
   },
   "outputs": [],
   "source": [
    "orders.columns = orders.columns.str.replace('Id', '_id') \n",
    "\n",
    "orders['date'] = pd.to_datetime(orders['date'], format = '%Y-%m-%d') \n",
    "visitors['date'] = pd.to_datetime(visitors['date'], format = '%Y-%m-%d')"
   ]
  },
  {
   "cell_type": "code",
   "execution_count": 23,
   "metadata": {
    "scrolled": true
   },
   "outputs": [
    {
     "data": {
      "text/html": [
       "<div>\n",
       "<style scoped>\n",
       "    .dataframe tbody tr th:only-of-type {\n",
       "        vertical-align: middle;\n",
       "    }\n",
       "\n",
       "    .dataframe tbody tr th {\n",
       "        vertical-align: top;\n",
       "    }\n",
       "\n",
       "    .dataframe thead th {\n",
       "        text-align: right;\n",
       "    }\n",
       "</style>\n",
       "<table border=\"1\" class=\"dataframe\">\n",
       "  <thead>\n",
       "    <tr style=\"text-align: right;\">\n",
       "      <th></th>\n",
       "      <th>transaction_id</th>\n",
       "      <th>visitor_id</th>\n",
       "      <th>date</th>\n",
       "      <th>revenue</th>\n",
       "      <th>group</th>\n",
       "    </tr>\n",
       "  </thead>\n",
       "  <tbody>\n",
       "    <tr>\n",
       "      <th>0</th>\n",
       "      <td>3667963787</td>\n",
       "      <td>3312258926</td>\n",
       "      <td>2019-08-15</td>\n",
       "      <td>1650</td>\n",
       "      <td>B</td>\n",
       "    </tr>\n",
       "    <tr>\n",
       "      <th>1</th>\n",
       "      <td>2804400009</td>\n",
       "      <td>3642806036</td>\n",
       "      <td>2019-08-15</td>\n",
       "      <td>730</td>\n",
       "      <td>B</td>\n",
       "    </tr>\n",
       "    <tr>\n",
       "      <th>2</th>\n",
       "      <td>2961555356</td>\n",
       "      <td>4069496402</td>\n",
       "      <td>2019-08-15</td>\n",
       "      <td>400</td>\n",
       "      <td>A</td>\n",
       "    </tr>\n",
       "    <tr>\n",
       "      <th>3</th>\n",
       "      <td>3797467345</td>\n",
       "      <td>1196621759</td>\n",
       "      <td>2019-08-15</td>\n",
       "      <td>9759</td>\n",
       "      <td>B</td>\n",
       "    </tr>\n",
       "    <tr>\n",
       "      <th>4</th>\n",
       "      <td>2282983706</td>\n",
       "      <td>2322279887</td>\n",
       "      <td>2019-08-15</td>\n",
       "      <td>2308</td>\n",
       "      <td>B</td>\n",
       "    </tr>\n",
       "  </tbody>\n",
       "</table>\n",
       "</div>"
      ],
      "text/plain": [
       "   transaction_id  visitor_id       date  revenue group\n",
       "0  3667963787      3312258926 2019-08-15  1650     B   \n",
       "1  2804400009      3642806036 2019-08-15  730      B   \n",
       "2  2961555356      4069496402 2019-08-15  400      A   \n",
       "3  3797467345      1196621759 2019-08-15  9759     B   \n",
       "4  2282983706      2322279887 2019-08-15  2308     B   "
      ]
     },
     "execution_count": 23,
     "metadata": {},
     "output_type": "execute_result"
    }
   ],
   "source": [
    "orders.head()"
   ]
  },
  {
   "cell_type": "code",
   "execution_count": 24,
   "metadata": {},
   "outputs": [
    {
     "name": "stdout",
     "output_type": "stream",
     "text": [
      "Количество пользователей: 1197\n",
      "Количество пользователей, оказавшихся одновременно в двух группах:  58\n",
      "Доля пользователей, оказавшихся одновременно в двух группах,%:  4.85\n"
     ]
    }
   ],
   "source": [
    "group_a = orders[(orders['group'] == 'A')]['visitor_id']\n",
    "group_b = orders[(orders['group'] == 'B')]['visitor_id']\n",
    "print('Количество пользователей:', orders['visitor_id'].count())\n",
    "print('Количество пользователей, оказавшихся одновременно в двух группах: ', len(list(set(group_a) & set(group_b))))\n",
    "print('Доля пользователей, оказавшихся одновременно в двух группах,%: ', round(len(list(set(group_a) & set(group_b))) / orders['visitor_id'].count()*100,2))"
   ]
  },
  {
   "cell_type": "markdown",
   "metadata": {},
   "source": [
    "58 пользователей оказались одновременно в двух группах (4,85% от общего числа)."
   ]
  },
  {
   "cell_type": "markdown",
   "metadata": {},
   "source": [
    "Построим график кумулятивной выручки по группам. Сделаем выводы и предположения.  "
   ]
  },
  {
   "cell_type": "code",
   "execution_count": 25,
   "metadata": {},
   "outputs": [
    {
     "data": {
      "image/png": "[encoded data removed]",
      "text/plain": [
       "<Figure size 864x576 with 1 Axes>"
      ]
     },
     "metadata": {
      "needs_background": "light"
     },
     "output_type": "display_data"
    }
   ],
   "source": [
    "datesGroups = orders[['date','group']].drop_duplicates() \n",
    "ordersAggregated = datesGroups.apply(lambda x: orders[np.logical_and(orders['date'] <= x['date'], orders['group'] == x['group'])]\\\n",
    ".agg({'date' : 'max', 'group' : 'max', 'transaction_id' : 'nunique', 'visitor_id' : 'nunique', 'revenue' : 'sum'}), axis=1).sort_values(by=['date','group'])\n",
    "visitorsAggregated = datesGroups.apply(lambda x: visitors[np.logical_and(visitors['date'] <= x['date'], visitors['group'] == x['group'])].agg({'date' : 'max', 'group' : 'max', 'visitors' : 'sum'}), axis=1).sort_values(by=['date','group']) \n",
    "cumulativeData = ordersAggregated.merge(visitorsAggregated, left_on=['date', 'group'], right_on=['date', 'group'])\n",
    "cumulativeData.columns = ['date', 'group', 'orders', 'buyers', 'revenue', 'visitors']\n",
    "# датафрейм с кумулятивным количеством заказов и кумулятивной выручкой по дням в группе А\n",
    "cumulativeRevenueA = cumulativeData[cumulativeData['group']=='A'][['date','revenue', 'orders']]\n",
    "\n",
    "# датафрейм с кумулятивным количеством заказов и кумулятивной выручкой по дням в группе B\n",
    "cumulativeRevenueB = cumulativeData[cumulativeData['group']=='B'][['date','revenue', 'orders']]\n",
    "plt.figure(figsize=(12,8))\n",
    "# Строим график выручки группы А\n",
    "plt.plot(cumulativeRevenueA['date'], cumulativeRevenueA['revenue'], label='A')\n",
    "\n",
    "# Строим график выручки группы B\n",
    "plt.plot(cumulativeRevenueB['date'], cumulativeRevenueB['revenue'], label='B')\n",
    "plt.xlabel('Дата')\n",
    "plt.ylabel('Выручка') \n",
    "plt.title('Кумулятивная выручка по дням и группам')\n",
    "plt.legend();\n",
    "\n"
   ]
  },
  {
   "cell_type": "markdown",
   "metadata": {},
   "source": [
    "Выручка растет на протяжении всего теста в обоих группах.\n",
    "Выручка в группе В выше практически на протяжении всего периода.\n",
    "у группы B наблюдается резкий всплеск 18.08 и 19.08, который может быть связан с резким увеличением заказов в этот день, либо о появлении очень дорогих заказов.\n",
    "после выброса в группе B выручки в обоих группах стабилизируются и растут практически одинаково."
   ]
  },
  {
   "cell_type": "markdown",
   "metadata": {},
   "source": [
    "Построим график кумулятивного среднего чека по группам. Сделаем выводы и предположения."
   ]
  },
  {
   "cell_type": "code",
   "execution_count": 26,
   "metadata": {},
   "outputs": [
    {
     "data": {
      "image/png": "[encoded data removed]",
      "text/plain": [
       "<Figure size 864x576 with 1 Axes>"
      ]
     },
     "metadata": {
      "needs_background": "light"
     },
     "output_type": "display_data"
    }
   ],
   "source": [
    "plt.figure(figsize=(12,8))\n",
    "plt.plot(cumulativeRevenueA['date'], cumulativeRevenueA['revenue']/cumulativeRevenueA['orders'], label='A')\n",
    "plt.plot(cumulativeRevenueB['date'], cumulativeRevenueB['revenue']/cumulativeRevenueB['orders'], label='B')\n",
    "plt.xlabel('Дата')\n",
    "plt.ylabel('Средний чек') \n",
    "plt.title('Кумулятивный средний чек по дням и группам')\n",
    "plt.legend();"
   ]
  },
  {
   "cell_type": "markdown",
   "metadata": {},
   "source": [
    "В первой половине теста графики ведут себя не стабильно, есть как сильные росты, так и падения, но примерно одинаково.\n",
    "На графике среднего чека аномальное значение для группы B 18.08 и 19.08  уже более явное(что говорит о крупном заказе).\n",
    "К концу периода коммулятивный средний чек группы B выше, чем у А.\n",
    "К концу периода у группы А средний чек растет, а у B снижается."
   ]
  },
  {
   "cell_type": "markdown",
   "metadata": {},
   "source": [
    "Построим график относительного изменения кумулятивного среднего чека группы B к группе A. Сделаем выводы и предположения."
   ]
  },
  {
   "cell_type": "code",
   "execution_count": 27,
   "metadata": {},
   "outputs": [
    {
     "data": {
      "image/png": "[encoded data removed]",
      "text/plain": [
       "<Figure size 864x576 with 1 Axes>"
      ]
     },
     "metadata": {
      "needs_background": "light"
     },
     "output_type": "display_data"
    }
   ],
   "source": [
    "\n",
    "# собираем данные в одном датафрейме\n",
    "mergedCumulativeRevenue = cumulativeRevenueA.merge(cumulativeRevenueB, left_on='date', right_on='date', how='left', suffixes=['A', 'B'])\n",
    "plt.figure(figsize=(12,8))\n",
    "# cтроим отношение средних чеков\n",
    "plt.plot(mergedCumulativeRevenue['date'], (mergedCumulativeRevenue['revenueB']/mergedCumulativeRevenue['ordersB'])/(mergedCumulativeRevenue['revenueA']/mergedCumulativeRevenue['ordersA'])-1)\n",
    "\n",
    "plt.axhline(y=0, color='black', linestyle='--') \n",
    "plt.xlabel('Дата')\n",
    "plt.ylabel('Отношение') \n",
    "plt.title('Относительное изменение кумулятивного среднего чека группы B к группе A');\n"
   ]
  },
  {
   "cell_type": "markdown",
   "metadata": {},
   "source": [
    "В целом в группе В показатели лучше. Мы видим резкие скачки 4,8,9 19,20 августа. Это свидетельствует о крупных заказах и выбросах."
   ]
  },
  {
   "cell_type": "markdown",
   "metadata": {},
   "source": [
    "Построим график кумулятивного среднего количества заказов на посетителя по группам. Сделаем выводы и предположения."
   ]
  },
  {
   "cell_type": "code",
   "execution_count": 28,
   "metadata": {},
   "outputs": [
    {
     "data": {
      "image/png": "[encoded data removed]",
      "text/plain": [
       "<Figure size 864x576 with 1 Axes>"
      ]
     },
     "metadata": {
      "needs_background": "light"
     },
     "output_type": "display_data"
    }
   ],
   "source": [
    "# считаем среднее количество заказов на посетителя\n",
    "cumulativeData['conversion'] = cumulativeData['orders']/cumulativeData['visitors']\n",
    "\n",
    "# отделяем данные по группе A\n",
    "cumulativeDataA = cumulativeData[cumulativeData['group']=='A']\n",
    "\n",
    "# отделяем данные по группе B\n",
    "cumulativeDataB = cumulativeData[cumulativeData['group']=='B']\n",
    "plt.figure(figsize=(12,8))\n",
    "# строим графики\n",
    "plt.plot(cumulativeDataA['date'], cumulativeDataA['conversion'], label='A')\n",
    "plt.plot(cumulativeDataB['date'], cumulativeDataB['conversion'], label='B')\n",
    "plt.legend()\n",
    "plt.xlabel('Дата')\n",
    "plt.ylabel('Конверсия') \n",
    "plt.title('Кумулятивная конверсии по группам')\n",
    "plt.show(); \n"
   ]
  },
  {
   "cell_type": "markdown",
   "metadata": {},
   "source": [
    "По графику мы видим группы колебались первые 4 дня , но с 6 го дня конверсия группы B вырвалась вперёд и стабилизировалась, а конверсия группы A снизилась и также стабилизировалась."
   ]
  },
  {
   "cell_type": "markdown",
   "metadata": {},
   "source": [
    "Построим график относительного изменения кумулятивного среднего количества заказов на посетителя группы B к группе A. Сделаем выводы и предположения."
   ]
  },
  {
   "cell_type": "code",
   "execution_count": 29,
   "metadata": {},
   "outputs": [
    {
     "data": {
      "image/png": "[encoded data removed]",
      "text/plain": [
       "<Figure size 864x576 with 1 Axes>"
      ]
     },
     "metadata": {
      "needs_background": "light"
     },
     "output_type": "display_data"
    }
   ],
   "source": [
    "mergedCumulativeConversions = cumulativeDataA[['date','conversion']].merge(cumulativeDataB[['date','conversion']], left_on='date', right_on='date', how='left', suffixes=['A', 'B'])\n",
    "plt.figure(figsize=(12,8))\n",
    "plt.plot(mergedCumulativeConversions['date'], mergedCumulativeConversions['conversionB']/mergedCumulativeConversions['conversionA']-1, label=\"Относительный прирост кумулятивного среднего количества заказов на посетителя группы B относительно группы A\")\n",
    "plt.legend()\n",
    "\n",
    "plt.axhline(y=0, color='black', linestyle='--')\n",
    "plt.axhline(y=-0.1, color='grey', linestyle='--')\n",
    "plt.ylabel('Конверсия') \n",
    "plt.xlabel('Дата') \n",
    "plt.title('Относительный прирост конверсии группы B относительно группы A') \n",
    "plt.show();"
   ]
  },
  {
   "cell_type": "markdown",
   "metadata": {},
   "source": [
    "Почти с самого начала группа B лидирует по конверсии: прирост сначала колебался от 15% до 20% к концу периода в районе 10-15%."
   ]
  },
  {
   "cell_type": "markdown",
   "metadata": {},
   "source": [
    "Построим точечный график количества заказов по пользователям. Сделаем выводы и предположения."
   ]
  },
  {
   "cell_type": "code",
   "execution_count": 30,
   "metadata": {},
   "outputs": [],
   "source": [
    "ordersByUsers = (\n",
    "    orders.groupby('visitor_id', as_index=False)\n",
    "    .agg({'transaction_id': 'nunique'})\n",
    ")\n",
    "\n",
    "ordersByUsers.columns = ['visitor_id', 'orders']"
   ]
  },
  {
   "cell_type": "code",
   "execution_count": 31,
   "metadata": {},
   "outputs": [
    {
     "data": {
      "image/png": "[encoded data removed]",
      "text/plain": [
       "<Figure size 432x288 with 1 Axes>"
      ]
     },
     "metadata": {
      "needs_background": "light"
     },
     "output_type": "display_data"
    }
   ],
   "source": [
    "x_values = pd.Series(range(0,len(ordersByUsers)))\n",
    "\n",
    "plt.scatter(x_values, ordersByUsers['orders']) \n",
    "plt.ylabel('Кол-во заказов') \n",
    "plt.xlabel('Посетители') \n",
    "plt.title('Точечный график количества заказов по пользователям') \n",
    "plt.show();"
   ]
  },
  {
   "cell_type": "markdown",
   "metadata": {},
   "source": [
    "В основном количество заказов 1, но чтобы понять какие заказы считать аномалии посчитаем 95-й и 99-й перцентили количества заказов на пользователя. Выберем границу для определения аномальных пользователей."
   ]
  },
  {
   "cell_type": "code",
   "execution_count": 32,
   "metadata": {
    "scrolled": true
   },
   "outputs": [
    {
     "data": {
      "text/plain": [
       "array([2., 4.])"
      ]
     },
     "execution_count": 32,
     "metadata": {},
     "output_type": "execute_result"
    }
   ],
   "source": [
    "np.percentile(ordersByUsers['orders'], [95, 99])"
   ]
  },
  {
   "cell_type": "markdown",
   "metadata": {},
   "source": [
    "не более 5% пользователей оформляли больше 2 заказов.\n",
    "И только 1% пользователей заказывали больше 4-х раз.\n",
    "Выберем более 2-х заказов на одного пользователя за нижнюю границу числа заказов, и отсеим аномальных пользователей."
   ]
  },
  {
   "cell_type": "markdown",
   "metadata": {},
   "source": [
    "Построим точечный график стоимостей заказов. Сделаем выводы и предположения."
   ]
  },
  {
   "cell_type": "code",
   "execution_count": 33,
   "metadata": {
    "scrolled": true
   },
   "outputs": [
    {
     "data": {
      "text/html": [
       "<div>\n",
       "<style scoped>\n",
       "    .dataframe tbody tr th:only-of-type {\n",
       "        vertical-align: middle;\n",
       "    }\n",
       "\n",
       "    .dataframe tbody tr th {\n",
       "        vertical-align: top;\n",
       "    }\n",
       "\n",
       "    .dataframe thead th {\n",
       "        text-align: right;\n",
       "    }\n",
       "</style>\n",
       "<table border=\"1\" class=\"dataframe\">\n",
       "  <thead>\n",
       "    <tr style=\"text-align: right;\">\n",
       "      <th></th>\n",
       "      <th>visitor_id</th>\n",
       "      <th>revenue</th>\n",
       "    </tr>\n",
       "  </thead>\n",
       "  <tbody>\n",
       "    <tr>\n",
       "      <th>425</th>\n",
       "      <td>1920142716</td>\n",
       "      <td>1294500</td>\n",
       "    </tr>\n",
       "    <tr>\n",
       "      <th>1196</th>\n",
       "      <td>2108080724</td>\n",
       "      <td>202740</td>\n",
       "    </tr>\n",
       "    <tr>\n",
       "      <th>858</th>\n",
       "      <td>1316129916</td>\n",
       "      <td>93940</td>\n",
       "    </tr>\n",
       "    <tr>\n",
       "      <th>1136</th>\n",
       "      <td>1307669133</td>\n",
       "      <td>92550</td>\n",
       "    </tr>\n",
       "    <tr>\n",
       "      <th>744</th>\n",
       "      <td>888512513</td>\n",
       "      <td>86620</td>\n",
       "    </tr>\n",
       "    <tr>\n",
       "      <th>682</th>\n",
       "      <td>4266935830</td>\n",
       "      <td>78990</td>\n",
       "    </tr>\n",
       "    <tr>\n",
       "      <th>662</th>\n",
       "      <td>4266935830</td>\n",
       "      <td>78990</td>\n",
       "    </tr>\n",
       "    <tr>\n",
       "      <th>743</th>\n",
       "      <td>4133034833</td>\n",
       "      <td>67990</td>\n",
       "    </tr>\n",
       "    <tr>\n",
       "      <th>1103</th>\n",
       "      <td>1164614297</td>\n",
       "      <td>66350</td>\n",
       "    </tr>\n",
       "    <tr>\n",
       "      <th>1099</th>\n",
       "      <td>148427295</td>\n",
       "      <td>65710</td>\n",
       "    </tr>\n",
       "  </tbody>\n",
       "</table>\n",
       "</div>"
      ],
      "text/plain": [
       "      visitor_id  revenue\n",
       "425   1920142716  1294500\n",
       "1196  2108080724  202740 \n",
       "858   1316129916  93940  \n",
       "1136  1307669133  92550  \n",
       "744   888512513   86620  \n",
       "682   4266935830  78990  \n",
       "662   4266935830  78990  \n",
       "743   4133034833  67990  \n",
       "1103  1164614297  66350  \n",
       "1099  148427295   65710  "
      ]
     },
     "execution_count": 33,
     "metadata": {},
     "output_type": "execute_result"
    }
   ],
   "source": [
    "orders[['visitor_id', 'revenue']].sort_values(by='revenue', ascending=False).head(10) "
   ]
  },
  {
   "cell_type": "code",
   "execution_count": 34,
   "metadata": {
    "scrolled": true
   },
   "outputs": [
    {
     "data": {
      "image/png": "[encoded data removed]",
      "text/plain": [
       "<Figure size 432x288 with 1 Axes>"
      ]
     },
     "metadata": {
      "needs_background": "light"
     },
     "output_type": "display_data"
    }
   ],
   "source": [
    "x_values = pd.Series(range(0, len(orders['revenue'])))\n",
    "plt.scatter(x_values, orders['revenue']);\n",
    "plt.title('Точечный график стоимости заказов')\n",
    "plt.ylabel('Стоимость заказа')\n",
    "plt.xlabel('Заказы') \n",
    "plt.show();"
   ]
  },
  {
   "cell_type": "markdown",
   "metadata": {},
   "source": [
    "Зададим лимит в 100 000, чтобы подробнее рассмотреть график."
   ]
  },
  {
   "cell_type": "code",
   "execution_count": 35,
   "metadata": {},
   "outputs": [
    {
     "data": {
      "image/png": "[encoded data removed]",
      "text/plain": [
       "<Figure size 864x576 with 1 Axes>"
      ]
     },
     "metadata": {
      "needs_background": "light"
     },
     "output_type": "display_data"
    }
   ],
   "source": [
    "x_values = pd.Series(range(0, len(orders['revenue'])))\n",
    "plt.figure(figsize=(12,8))\n",
    "plt.scatter(x_values, orders['revenue'])\n",
    "plt.ylim(0, 100000) \n",
    "plt.ylabel('Стоимость заказов') \n",
    "plt.xlabel('Заказы') \n",
    "plt.title('Точечный график стоимости заказов') \n",
    "plt.show();"
   ]
  },
  {
   "cell_type": "markdown",
   "metadata": {},
   "source": [
    "По графику видно, что основные заказы до 20000, но посчитаем 95-й и 99-й перцентили стоимости заказов, чтобы понять какие заказы считать аномалии. Выберем границу для определения аномальных заказов."
   ]
  },
  {
   "cell_type": "code",
   "execution_count": 36,
   "metadata": {
    "scrolled": true
   },
   "outputs": [
    {
     "data": {
      "text/plain": [
       "array([28000. , 58233.2])"
      ]
     },
     "execution_count": 36,
     "metadata": {},
     "output_type": "execute_result"
    }
   ],
   "source": [
    "np.percentile(orders['revenue'], [95, 99])"
   ]
  },
  {
   "cell_type": "markdown",
   "metadata": {},
   "source": [
    "не более 5 % заказов стомостью более 28000 рублей,\n",
    "не более 1 % заказов стомостью более 58233 рублей.Установим предел по сумме заказа более 28тыс. для отсеивания аномальных пользователей."
   ]
  },
  {
   "cell_type": "markdown",
   "metadata": {},
   "source": [
    "Посчитаем статистическую значимость различий в среднем количестве заказов на посетителя между группами по «сырым» данным. Сделаем выводы и предположения."
   ]
  },
  {
   "cell_type": "code",
   "execution_count": 37,
   "metadata": {},
   "outputs": [],
   "source": [
    "visitorsADaily = visitors[visitors['group'] == 'A'][['date', 'visitors']]\n",
    "visitorsADaily.columns = ['date', 'visitorsPerDateA']\n",
    "\n",
    "visitorsACummulative = visitorsADaily.apply(\n",
    "    lambda x: visitorsADaily[visitorsADaily['date'] <= x['date']].agg(\n",
    "        {'date': 'max', 'visitorsPerDateA': 'sum'}\n",
    "    ),\n",
    "    axis=1,\n",
    ")\n",
    "visitorsACummulative.columns = ['date', 'visitorsCummulativeA']\n",
    "\n",
    "visitorsBDaily = visitors[visitors['group'] == 'B'][['date', 'visitors']]\n",
    "visitorsBDaily.columns = ['date', 'visitorsPerDateB']\n",
    "\n",
    "visitorsBCummulative = visitorsBDaily.apply(\n",
    "    lambda x: visitorsBDaily[visitorsBDaily['date'] <= x['date']].agg(\n",
    "       {'date': 'max', 'visitorsPerDateB': 'sum'}\n",
    "    ),\n",
    "    axis=1,\n",
    ")\n",
    "visitorsBCummulative.columns = ['date', 'visitorsCummulativeB']\n",
    "\n",
    "ordersADaily = (\n",
    "   orders[orders['group'] == 'A'][['date', 'transaction_id', 'visitor_id', 'revenue']]\n",
    "   .groupby('date', as_index=False)\n",
    "   .agg({'visitor_id': pd.Series.nunique, 'revenue': 'sum'})\n",
    ")\n",
    "ordersADaily.columns = ['date', 'ordersPerDateA', 'revenuePerDateA']\n",
    "\n",
    "ordersACummulative = ordersADaily.apply(\n",
    "    lambda x: ordersADaily[ordersADaily['date'] <= x['date']].agg(\n",
    "        {'date': 'max', 'ordersPerDateA': 'sum', 'revenuePerDateA': 'sum'}\n",
    "   ),\n",
    "    axis=1,\n",
    ").sort_values(by=['date'])\n",
    "ordersACummulative.columns = [\n",
    "    'date',\n",
    "    'ordersCummulativeA',\n",
    "   'revenueCummulativeA',\n",
    "]\n",
    "\n",
    "ordersBDaily = (\n",
    "   orders[orders['group'] == 'B'][['date', 'transaction_id', 'visitor_id', 'revenue']]\n",
    "   .groupby('date', as_index=False)\n",
    "   .agg({'visitor_id': pd.Series.nunique, 'revenue': 'sum'})\n",
    ")\n",
    "ordersBDaily.columns = ['date', 'ordersPerDateB', 'revenuePerDateB']\n",
    "\n",
    "ordersBCummulative = ordersBDaily.apply(\n",
    "    lambda x: ordersBDaily[ordersBDaily['date'] <= x['date']].agg(\n",
    "        {'date': 'max', 'ordersPerDateB': 'sum', 'revenuePerDateB': 'sum'}\n",
    "    ),\n",
    "    axis=1,\n",
    ").sort_values(by=['date'])\n",
    "ordersBCummulative.columns = [\n",
    "    'date',\n",
    "    'ordersCummulativeB',\n",
    "    'revenueCummulativeB',\n",
    "]\n",
    "\n",
    "data = (\n",
    "    ordersADaily.merge(\n",
    "        ordersBDaily, left_on='date', right_on='date', how='left'\n",
    "    )\n",
    "    .merge(ordersACummulative, left_on='date', right_on='date', how='left')\n",
    "    .merge(ordersBCummulative, left_on='date', right_on='date', how='left')\n",
    "    .merge(visitorsADaily, left_on='date', right_on='date', how='left')\n",
    "   .merge(visitorsBDaily, left_on='date', right_on='date', how='left')\n",
    "   .merge(visitorsACummulative, left_on='date', right_on='date', how='left')\n",
    "   .merge(visitorsBCummulative, left_on='date', right_on='date', how='left')\n",
    ")\n",
    "\n",
    "\n",
    "ordersByUsersA = (\n",
    "    orders[orders['group'] == 'A']\n",
    "    .groupby('visitor_id', as_index=False)\n",
    "    .agg({'transaction_id': pd.Series.nunique})\n",
    ")\n",
    "ordersByUsersA.columns = ['visitor_id', 'orders']\n",
    "\n",
    "ordersByUsersB = (\n",
    "    orders[orders['group'] == 'B']\n",
    "    .groupby('visitor_id', as_index=False)\n",
    "    .agg({'transaction_id': pd.Series.nunique})\n",
    ")\n",
    "ordersByUsersB.columns = ['visitor_id', 'orders']\n",
    "\n",
    "sampleA = pd.concat(\n",
    "    [\n",
    "        ordersByUsersA['orders'],\n",
    "        pd.Series(\n",
    "            0,\n",
    "            index=np.arange(\n",
    "                data['visitorsPerDateA'].sum() - len(ordersByUsersA['orders'])\n",
    "            ),\n",
    "            name='orders',\n",
    "        ),\n",
    "    ],\n",
    "    axis=0,\n",
    ")\n",
    "\n",
    "sampleB = pd.concat(\n",
    "    [\n",
    "        ordersByUsersB['orders'],\n",
    "        pd.Series(\n",
    "            0,\n",
    "            index=np.arange(\n",
    "                data['visitorsPerDateB'].sum() - len(ordersByUsersB['orders'])\n",
    "            ),\n",
    "            name='orders',\n",
    "        ),\n",
    "    ],\n",
    "    axis=0,\n",
    ")\n"
   ]
  },
  {
   "cell_type": "markdown",
   "metadata": {},
   "source": []
  },
  {
   "cell_type": "markdown",
   "metadata": {},
   "source": [
    "Нулевая гипотеза: Различий в конверсии между группами нет\n",
    "\n",
    "Альтернативная гипотеза: Различия в конверсиях между группами есть\n",
    "\n",
    "α=5% критический уровень статистической значимости"
   ]
  },
  {
   "cell_type": "code",
   "execution_count": 38,
   "metadata": {},
   "outputs": [
    {
     "name": "stdout",
     "output_type": "stream",
     "text": [
      "Значение p-value : 0.016792355056752608\n",
      "Отвергаем нулевую гипотезу\n",
      "Относительный прирост среднего группы В к конверсии группы А: 0.138\n"
     ]
    }
   ],
   "source": [
    "result_1 = stats.mannwhitneyu(sampleA, sampleB)[1] \n",
    "alpha = 0.05\n",
    "\n",
    "print(f'Значение p-value : {result_1}')\n",
    "\n",
    "if result_1 < alpha:\n",
    "    print(\"Отвергаем нулевую гипотезу\")\n",
    "else:\n",
    "    print(\"Не получилось отвергнуть нулевую гипотезу\")  \n",
    "print('Относительный прирост среднего группы В к конверсии группы А: {0:.3f}'.format(sampleB.mean()/sampleA.mean()-1))  "
   ]
  },
  {
   "cell_type": "markdown",
   "metadata": {},
   "source": [
    "Мы не можем утверждать, что различий между конверсиями нет. Относительный прирост конверсии группы B к конверсии группы A равен 13.8%."
   ]
  },
  {
   "cell_type": "markdown",
   "metadata": {},
   "source": [
    "Посчитаем статистическую значимость различий в среднем чеке заказа между группами по «сырым» данным. Сделаем выводы и предположения."
   ]
  },
  {
   "cell_type": "markdown",
   "metadata": {},
   "source": [
    "Нулевая гипотеза: Различий в средних чеках между группами нет\n",
    "\n",
    "Альтернативная гипотеза: Различия в средних чеках между группами есть\n",
    "\n",
    "α=5%критический уровень статистической значимости"
   ]
  },
  {
   "cell_type": "code",
   "execution_count": 39,
   "metadata": {},
   "outputs": [
    {
     "name": "stdout",
     "output_type": "stream",
     "text": [
      "Значение p-value : 0.7292909855432458\n",
      "Не получилось отвергнуть нулевую гипотезу\n",
      "Относительное различие среднего чека между группами:0.259\n"
     ]
    }
   ],
   "source": [
    "result_2 = stats.mannwhitneyu(orders[orders['group']=='A']['revenue'], orders[orders['group']=='B']['revenue'])[1]  \n",
    "\n",
    "print(f'Значение p-value : {result_2}')\n",
    "\n",
    "if result_2 < alpha:\n",
    "    print(\"Отвергаем нулевую гипотезу\")\n",
    "else:\n",
    "    print(\"Не получилось отвергнуть нулевую гипотезу\")  \n",
    "\n",
    "print('Относительное различие среднего чека между группами:{0:.3f}'.format(orders[orders['group']=='B']['revenue'].mean()/orders[orders['group']=='A']['revenue'].mean()-1))"
   ]
  },
  {
   "cell_type": "markdown",
   "metadata": {},
   "source": [
    "Мы не можем утверждать, что есть различия в среднем чеке. Относительное различие среднего чека между группами по «сырым» данным  25,9% (вероятно сказываются выбросы)."
   ]
  },
  {
   "cell_type": "markdown",
   "metadata": {},
   "source": [
    "Посчитаем статистическую значимость различий в среднем количестве заказов на посетителя между группами по «очищенным» данным. Сделаем выводы и предположения."
   ]
  },
  {
   "cell_type": "markdown",
   "metadata": {},
   "source": [
    "Узнаем, сколько анамальных пользователей."
   ]
  },
  {
   "cell_type": "code",
   "execution_count": 40,
   "metadata": {
    "scrolled": true
   },
   "outputs": [
    {
     "name": "stdout",
     "output_type": "stream",
     "text": [
      "1099    148427295\n",
      "18      199603092\n",
      "928     204675465\n",
      "23      237748145\n",
      "684     358944393\n",
      "Name: visitor_id, dtype: int64\n",
      "68\n"
     ]
    }
   ],
   "source": [
    "usersWithManyOrders = pd.concat(\n",
    "    [\n",
    "        ordersByUsersA[ordersByUsersA['orders'] > int(np.percentile(ordersByUsers['orders'], [95]))]['visitor_id'], \n",
    "        ordersByUsersB[ordersByUsersB['orders'] > int(np.percentile(orders['revenue'], [95])) ]['visitor_id'],\n",
    "    ],\n",
    "    axis=0,\n",
    ")\n",
    "\n",
    "\n",
    "usersWithExpensiveOrders = orders[orders['revenue'] > int(np.percentile(orders['revenue'], [95]))]['visitor_id']\n",
    "abnormalUsers = (\n",
    "    pd.concat([usersWithManyOrders, usersWithExpensiveOrders], axis=0)\n",
    "    .drop_duplicates()\n",
    "    .sort_values()\n",
    ")\n",
    "print(abnormalUsers.head(5))     \n",
    "print(abnormalUsers.shape[0])"
   ]
  },
  {
   "cell_type": "markdown",
   "metadata": {},
   "source": [
    "Уберем аномалии."
   ]
  },
  {
   "cell_type": "code",
   "execution_count": 41,
   "metadata": {
    "scrolled": true
   },
   "outputs": [],
   "source": [
    "sampleAFiltered = pd.concat(\n",
    "    [\n",
    "        ordersByUsersA[\n",
    "            np.logical_not(ordersByUsersA['visitor_id'].isin(abnormalUsers))\n",
    "        ]['orders'],\n",
    "        pd.Series(\n",
    "            0,\n",
    "            index=np.arange(\n",
    "                data['visitorsPerDateA'].sum() - len(ordersByUsersA['orders'])\n",
    "            ),\n",
    "            name='orders',\n",
    "        ),\n",
    "    ],\n",
    "    axis=0,\n",
    ")\n",
    "\n",
    "sampleBFiltered = pd.concat(\n",
    "    [\n",
    "        ordersByUsersB[\n",
    "            np.logical_not(ordersByUsersB['visitor_id'].isin(abnormalUsers))\n",
    "        ]['orders'],\n",
    "        pd.Series(\n",
    "            0,\n",
    "            index=np.arange(\n",
    "                data['visitorsPerDateB'].sum() - len(ordersByUsersB['orders'])\n",
    "            ),\n",
    "            name='orders',\n",
    "        ),\n",
    "    ],\n",
    "    axis=0,\n",
    ")\n"
   ]
  },
  {
   "cell_type": "markdown",
   "metadata": {},
   "source": [
    "Нулевая гипотеза: Различий в конверсии между группами нет\n",
    "\n",
    "Альтернативная гипотеза: Различия в конверсиях между группами есть\n",
    "\n",
    "α=5% критический уровень статистической значимости"
   ]
  },
  {
   "cell_type": "code",
   "execution_count": 42,
   "metadata": {},
   "outputs": [
    {
     "name": "stdout",
     "output_type": "stream",
     "text": [
      "Значение p-value : 0.011208506339388098\n",
      "Отвергаем нулевую гипотезу\n",
      "Отношение конверсии В к А, по очищенным данным:0.204\n"
     ]
    }
   ],
   "source": [
    "result_3 = stats.mannwhitneyu(sampleAFiltered, sampleBFiltered)[1] \n",
    "print(f'Значение p-value : {result_3}') \n",
    "if result_3 < alpha:\n",
    "    print(\"Отвергаем нулевую гипотезу\")\n",
    "else:\n",
    "    print(\"Не получилось отвергнуть нулевую гипотезу\") \n",
    "print('Отношение конверсии В к А, по очищенным данным:{0:.3f}'.format(sampleBFiltered.mean()/sampleAFiltered.mean()-1))\n"
   ]
  },
  {
   "cell_type": "markdown",
   "metadata": {},
   "source": [
    "Здесь также не можем утверждать, что различий между конверсиями нет. Относительный прирост конверсии группы B к конверсии группы A увеличился до 20,4%(по сырым данным 13,8%)."
   ]
  },
  {
   "cell_type": "markdown",
   "metadata": {},
   "source": [
    "Нулевая гипотеза: Различий в средних чеках между группами нет\n",
    "\n",
    "Альтернативная гипотеза: Различия в средних чеках между группами есть\n",
    "\n",
    "α=5% критический уровень статистической значимости"
   ]
  },
  {
   "cell_type": "code",
   "execution_count": 43,
   "metadata": {},
   "outputs": [
    {
     "name": "stdout",
     "output_type": "stream",
     "text": [
      "Значение p-value :0.7887147766264899\n",
      "Не получилось отвергнуть нулевую гипотезу\n",
      "Отношение конверсии В к А, по очищенным данным: -0.017\n"
     ]
    }
   ],
   "source": [
    "result_4 = stats.mannwhitneyu(\n",
    "            orders[\n",
    "                np.logical_and(\n",
    "                    orders['group'] == 'A',\n",
    "                    np.logical_not(orders['visitor_id'].isin(abnormalUsers)),\n",
    "                )\n",
    "            ]['revenue'],\n",
    "            orders[\n",
    "                np.logical_and(\n",
    "                    orders['group'] == 'B',\n",
    "                    np.logical_not(orders['visitor_id'].isin(abnormalUsers)),\n",
    "                )\n",
    "            ]['revenue'],\n",
    "        )[1]\n",
    "print(f'Значение p-value :{result_4}')  \n",
    "\n",
    "if result_4 < alpha:\n",
    "    print(\"Отвергаем нулевую гипотезу\")\n",
    "else:\n",
    "    print(\"Не получилось отвергнуть нулевую гипотезу\")  \n",
    "    \n",
    "print('Отношение конверсии В к А, по очищенным данным: {0:.3f}'.format(\n",
    "        orders[\n",
    "            np.logical_and(\n",
    "                orders['group'] == 'B',\n",
    "                np.logical_not(orders['visitor_id'].isin(abnormalUsers)),\n",
    "            )\n",
    "        ]['revenue'].mean()\n",
    "        / orders[\n",
    "            np.logical_and(\n",
    "                orders['group'] == 'A',\n",
    "                np.logical_not(orders['visitor_id'].isin(abnormalUsers)),\n",
    "            )\n",
    "        ]['revenue'].mean()\n",
    "        - 1)\n",
    ")\n"
   ]
  },
  {
   "cell_type": "markdown",
   "metadata": {},
   "source": [
    "Здесь мы не можем утверждать, что различия между средними чеками есть. Разница между средним чеком упала с 25,9% в пользу В до 1,7% в пользу А. Скорее всего это связано с выбросами в группе В."
   ]
  },
  {
   "cell_type": "markdown",
   "metadata": {},
   "source": [
    "** ВЫВОД**\n",
    "\n",
    "1. Мы изучили данные и провели предобработку, привели к нужному типу, к корректному виду названия столбцов.\n",
    "\n",
    "2. Применили фреймворк ICE и RICE для приоритизации гипотез. Отсортировали их по убыванию приоритета.\n",
    "\n",
    "   - При применении фреймворк ICE на первом месте гипотеза \"Запустить акцию, дающую скидку на товар в день рождения\". Также    наиболее перспективные гипотезы \"Добавить два новых канала привлечения трафика, что позволит привлекать на 30% больше пользователей'' и  \"Добавить форму подписки на все основные страницы, чтобы собрать базу клиентов для email-рассылок\"\n",
    "    \n",
    "   - При применении фреймворк RICE в лидерах также гипотезы \"Добавить два новых канала привлечения трафика, что позволит привлекать на 30% больше пользователей'' и \"Добавить форму подписки на все основные страницы, чтобы собрать базу клиентов для email-рассылок\". Также в лидерах гиоптеза 'Добавить блоки рекомендаций товаров на сайт интернет магазина, чтобы повысить конверсию и средний чек заказа'. 2 гипотезы совпадают, третья разнится.\n",
    "   Фреймворк RICE учитывает параметр Reach (охват пользователей), и в лидеры вышли гипотезы с наибольшим охватом пользователей.\n",
    "      \n",
    "3. Проанализировали A/B-тест:  \n",
    "\n",
    "  - Построили график кумулятивной выручки  и среднего чека по группам. Сделали выводы и предположения.    \n",
    "    Выручка растет на протяжении всего теста в обоих группах. Выручка в группе В выше практически на протяжении всего периода, у группы B наблюдается резкий всплеск 18.08 и 19.08, который может быть связан с резким увеличением заказов в этот день, либо о появлении очень дорогих заказов, после выброса в группе B выручки в обоих группах стабилизируются.\n",
    "    \n",
    "    В первой половине теста графика среднего чека ведут себя примерно одинаково,не стабильно, есть как сильный рост, так и падения.На графике среднего чека анамальное значение для группы B 18.08 и 19.08(что подтверждает и график выручки)  уже более явное(что говорит о крупном заказе). К концу периода коммулятивный средний чек группы B выше, чем у А,но у группы А средний чек растет, а у B снижается.\n",
    "    \n",
    "  - Построили график относительного изменения кумулятивного среднего чека группы B к группе A. Сделали выводы и предположения.   \n",
    "   В целом в группе В показатели лучше. Мы видим резкие скачки 4,8,9,19,20 августа. Это свидетельствует о крупных заказах и выбросах.\n",
    "    \n",
    "  - Построили график кумулятивного среднего количества заказов на посетителя по группам. Сделали выводы и предположения.   \n",
    "   По графику мы видим группы колебались первые 4 дня , но с 6 го дня конверсия группы B вырвалась вперёд и стабилизировалась, а конверсия группы A снизилась и также стабилизировалась.\n",
    "    \n",
    "  - Построили график относительного изменения кумулятивного среднего количества заказов на посетителя группы B к группе A.       Сделали выводы и предположения.   \n",
    "   Почти с самого начала группа B лидирует по конверсии: прирост сначала колебался от 15% до 20% к концу периода в районе 10-15%.\n",
    "     \n",
    "   - Построили точечный график количества заказов по пользователям и стоимостей заказов. Сделали выводы и предположения. Посчитали 95-й и 99-й перцентили количества заказов на пользователя и стоимости заказов. Выбрали границу для определения        аномальных пользователей.   \n",
    "   В основном количество заказов 1, но чтобы понять какие заказы считать аномалии посчитали 95-й(2заказа) и 99-й(4 заказа) перцентили количества заказов на пользователя.Выбрали от 3-х заказов на одного пользователя за нижнюю границу числа заказов, и отсеили аномальных пользователей по ней.\n",
    "   \n",
    "   - Построили точечный график стоимостей заказов. Сделали выводы и предположения. Посчитали 95-й и 99-й перцентили стоимости заказов. Выбрали границу для определения аномальных заказов.   \n",
    "   По графику видно, что основные заказы до 20000, но посчитали 95-й(28тыс) и 99-й(58,2тыс.) перцентили стоимости заказов, чтобы понять какие заказы считать аномалии. Установили предел по сумме заказа более 28тыс. для отсеивания аномальных пользователей.\n",
    "     \n",
    "   - Посчитайли статистическую значимость различий в среднем количестве заказов на посетителя и в среднем чеке заказа между          группами по «сырым» и «очищенным» данным. Сделали выводы и предположения.\n",
    "    \n",
    "   \n",
    "**По сырым и очищенным данным нет статистически значимого различия по среднему чеку между группами. \n",
    "График различия конверсии между группами сообщает, что результаты группы B лучше группы A: имеют тенденцию к росту, либо зафиксировались около среднего значения.График различия среднего чека колеблется: он-то и позволил нам найти аномалии. График различий кумулятивного среднего чека говорит нам о преимуществе группы B только из - за выброса.\n",
    "Исходя из обнаруженных фактов, тест следует остановить, признать его успешным и перейти к проверке следующей гипотезы.**\n",
    "  "
   ]
  }
 ],
 "metadata": {
  "ExecuteTimeLog": [
   {
    "duration": 1384,
    "start_time": "2024-03-23T18:02:05.057Z"
   },
   {
    "duration": 69,
    "start_time": "2024-03-23T18:02:06.443Z"
   },
   {
    "duration": 13,
    "start_time": "2024-03-23T18:02:06.514Z"
   },
   {
    "duration": 12,
    "start_time": "2024-03-23T18:02:46.851Z"
   },
   {
    "duration": 7,
    "start_time": "2024-03-23T18:03:33.033Z"
   },
   {
    "duration": 5,
    "start_time": "2024-03-23T18:04:31.067Z"
   },
   {
    "duration": 1122,
    "start_time": "2024-03-23T18:14:38.621Z"
   },
   {
    "duration": 1171,
    "start_time": "2024-03-23T18:15:15.199Z"
   },
   {
    "duration": 1179,
    "start_time": "2024-03-23T18:17:15.347Z"
   },
   {
    "duration": 27,
    "start_time": "2024-03-23T18:17:16.528Z"
   },
   {
    "duration": 13,
    "start_time": "2024-03-23T18:17:16.557Z"
   },
   {
    "duration": 10,
    "start_time": "2024-03-23T18:17:16.572Z"
   },
   {
    "duration": 25,
    "start_time": "2024-03-23T18:17:16.583Z"
   },
   {
    "duration": 24,
    "start_time": "2024-03-23T18:17:16.611Z"
   },
   {
    "duration": 8,
    "start_time": "2024-03-23T18:17:16.637Z"
   },
   {
    "duration": 36,
    "start_time": "2024-03-23T18:17:16.647Z"
   },
   {
    "duration": 10,
    "start_time": "2024-03-23T18:18:11.811Z"
   },
   {
    "duration": 8,
    "start_time": "2024-03-23T18:19:22.984Z"
   },
   {
    "duration": 15,
    "start_time": "2024-03-23T18:20:57.012Z"
   },
   {
    "duration": 11,
    "start_time": "2024-03-23T18:21:18.827Z"
   },
   {
    "duration": 16,
    "start_time": "2024-03-23T18:21:36.259Z"
   },
   {
    "duration": 18,
    "start_time": "2024-03-23T18:21:55.102Z"
   },
   {
    "duration": 1186,
    "start_time": "2024-03-23T18:25:31.345Z"
   },
   {
    "duration": 41,
    "start_time": "2024-03-23T18:25:32.532Z"
   },
   {
    "duration": 13,
    "start_time": "2024-03-23T18:25:32.574Z"
   },
   {
    "duration": 4,
    "start_time": "2024-03-23T18:25:32.590Z"
   },
   {
    "duration": 18,
    "start_time": "2024-03-23T18:25:32.595Z"
   },
   {
    "duration": 28,
    "start_time": "2024-03-23T18:25:32.615Z"
   },
   {
    "duration": 51,
    "start_time": "2024-03-23T18:25:32.645Z"
   },
   {
    "duration": 21,
    "start_time": "2024-03-23T18:25:32.698Z"
   },
   {
    "duration": 20,
    "start_time": "2024-03-23T18:25:32.720Z"
   },
   {
    "duration": 43,
    "start_time": "2024-03-23T18:25:32.743Z"
   },
   {
    "duration": 24,
    "start_time": "2024-03-23T18:25:32.788Z"
   },
   {
    "duration": 148,
    "start_time": "2024-03-23T18:25:32.814Z"
   },
   {
    "duration": 9,
    "start_time": "2024-03-23T18:25:32.963Z"
   },
   {
    "duration": 61,
    "start_time": "2024-03-23T18:25:32.973Z"
   },
   {
    "duration": 124,
    "start_time": "2024-03-23T18:25:33.035Z"
   },
   {
    "duration": 0,
    "start_time": "2024-03-23T18:25:33.161Z"
   },
   {
    "duration": 0,
    "start_time": "2024-03-23T18:25:33.163Z"
   },
   {
    "duration": 0,
    "start_time": "2024-03-23T18:25:33.164Z"
   },
   {
    "duration": 1,
    "start_time": "2024-03-23T18:25:33.165Z"
   },
   {
    "duration": 1,
    "start_time": "2024-03-23T18:25:33.167Z"
   },
   {
    "duration": 0,
    "start_time": "2024-03-23T18:25:33.169Z"
   },
   {
    "duration": 5,
    "start_time": "2024-03-23T18:25:58.658Z"
   },
   {
    "duration": 79,
    "start_time": "2024-03-23T18:26:02.036Z"
   },
   {
    "duration": 9,
    "start_time": "2024-03-23T18:26:03.405Z"
   },
   {
    "duration": 9,
    "start_time": "2024-03-23T18:26:10.111Z"
   },
   {
    "duration": 8,
    "start_time": "2024-03-23T18:26:14.953Z"
   },
   {
    "duration": 5,
    "start_time": "2024-03-23T18:26:42.608Z"
   },
   {
    "duration": 6,
    "start_time": "2024-03-23T18:28:46.139Z"
   },
   {
    "duration": 7,
    "start_time": "2024-03-23T18:28:52.192Z"
   },
   {
    "duration": 5,
    "start_time": "2024-03-23T18:31:39.926Z"
   },
   {
    "duration": 5,
    "start_time": "2024-03-23T18:32:05.697Z"
   },
   {
    "duration": 261,
    "start_time": "2024-03-23T18:35:46.774Z"
   },
   {
    "duration": 1210,
    "start_time": "2024-03-23T18:36:18.152Z"
   },
   {
    "duration": 28,
    "start_time": "2024-03-23T18:36:19.364Z"
   },
   {
    "duration": 13,
    "start_time": "2024-03-23T18:36:19.394Z"
   },
   {
    "duration": 3,
    "start_time": "2024-03-23T18:36:19.409Z"
   },
   {
    "duration": 22,
    "start_time": "2024-03-23T18:36:19.414Z"
   },
   {
    "duration": 25,
    "start_time": "2024-03-23T18:36:19.438Z"
   },
   {
    "duration": 25,
    "start_time": "2024-03-23T18:36:19.465Z"
   },
   {
    "duration": 23,
    "start_time": "2024-03-23T18:36:19.492Z"
   },
   {
    "duration": 12,
    "start_time": "2024-03-23T18:36:19.517Z"
   },
   {
    "duration": 46,
    "start_time": "2024-03-23T18:36:19.532Z"
   },
   {
    "duration": 11,
    "start_time": "2024-03-23T18:36:19.580Z"
   },
   {
    "duration": 38,
    "start_time": "2024-03-23T18:36:19.593Z"
   },
   {
    "duration": 9,
    "start_time": "2024-03-23T18:36:19.632Z"
   },
   {
    "duration": 32,
    "start_time": "2024-03-23T18:36:19.643Z"
   },
   {
    "duration": 8,
    "start_time": "2024-03-23T18:36:19.677Z"
   },
   {
    "duration": 18,
    "start_time": "2024-03-23T18:36:19.687Z"
   },
   {
    "duration": 9,
    "start_time": "2024-03-23T18:36:19.707Z"
   },
   {
    "duration": 17,
    "start_time": "2024-03-23T18:36:19.717Z"
   },
   {
    "duration": 8,
    "start_time": "2024-03-23T18:36:19.736Z"
   },
   {
    "duration": 31,
    "start_time": "2024-03-23T18:36:19.746Z"
   },
   {
    "duration": 6,
    "start_time": "2024-03-23T18:36:19.779Z"
   },
   {
    "duration": 8,
    "start_time": "2024-03-23T18:36:19.787Z"
   },
   {
    "duration": 4,
    "start_time": "2024-03-23T18:36:19.796Z"
   },
   {
    "duration": 7,
    "start_time": "2024-03-23T18:36:19.801Z"
   },
   {
    "duration": 383,
    "start_time": "2024-03-23T18:36:19.809Z"
   },
   {
    "duration": 5,
    "start_time": "2024-03-23T18:36:48.563Z"
   },
   {
    "duration": 262,
    "start_time": "2024-03-23T18:36:51.030Z"
   },
   {
    "duration": 11,
    "start_time": "2024-03-23T18:37:34.158Z"
   },
   {
    "duration": 249,
    "start_time": "2024-03-23T18:37:35.770Z"
   },
   {
    "duration": 34,
    "start_time": "2024-03-23T18:45:27.651Z"
   },
   {
    "duration": 40,
    "start_time": "2024-03-23T18:46:31.423Z"
   },
   {
    "duration": 9,
    "start_time": "2024-03-23T18:47:02.506Z"
   },
   {
    "duration": 39,
    "start_time": "2024-03-23T18:47:03.739Z"
   },
   {
    "duration": 6,
    "start_time": "2024-03-23T18:47:36.648Z"
   },
   {
    "duration": 28,
    "start_time": "2024-03-23T18:47:38.251Z"
   },
   {
    "duration": 15,
    "start_time": "2024-03-23T18:48:25.463Z"
   },
   {
    "duration": 539,
    "start_time": "2024-03-23T18:49:04.022Z"
   },
   {
    "duration": 187,
    "start_time": "2024-03-23T18:50:07.444Z"
   },
   {
    "duration": 338,
    "start_time": "2024-03-23T18:57:54.351Z"
   },
   {
    "duration": 238,
    "start_time": "2024-03-23T18:58:38.315Z"
   },
   {
    "duration": 213,
    "start_time": "2024-03-23T19:00:30.468Z"
   },
   {
    "duration": 238,
    "start_time": "2024-03-23T19:03:33.367Z"
   },
   {
    "duration": 209,
    "start_time": "2024-03-23T19:06:13.374Z"
   },
   {
    "duration": 383,
    "start_time": "2024-03-23T19:07:25.321Z"
   },
   {
    "duration": 11,
    "start_time": "2024-03-23T19:09:10.274Z"
   },
   {
    "duration": 12,
    "start_time": "2024-03-23T19:11:36.453Z"
   },
   {
    "duration": 8,
    "start_time": "2024-03-23T19:12:24.265Z"
   },
   {
    "duration": 119,
    "start_time": "2024-03-23T19:12:28.073Z"
   },
   {
    "duration": 5,
    "start_time": "2024-03-23T19:13:27.450Z"
   },
   {
    "duration": 6,
    "start_time": "2024-03-23T19:13:51.779Z"
   },
   {
    "duration": 8,
    "start_time": "2024-03-23T19:25:38.269Z"
   },
   {
    "duration": 5,
    "start_time": "2024-03-23T19:26:03.775Z"
   },
   {
    "duration": 7,
    "start_time": "2024-03-23T19:29:42.558Z"
   },
   {
    "duration": 125,
    "start_time": "2024-03-23T19:30:16.147Z"
   },
   {
    "duration": 133,
    "start_time": "2024-03-23T19:30:45.442Z"
   },
   {
    "duration": 3,
    "start_time": "2024-03-23T19:31:26.945Z"
   },
   {
    "duration": 112,
    "start_time": "2024-03-23T19:33:07.602Z"
   },
   {
    "duration": 131,
    "start_time": "2024-03-23T19:33:38.219Z"
   },
   {
    "duration": 249,
    "start_time": "2024-03-23T19:36:03.858Z"
   },
   {
    "duration": 139,
    "start_time": "2024-03-23T19:36:23.999Z"
   },
   {
    "duration": 5,
    "start_time": "2024-03-23T19:36:47.359Z"
   },
   {
    "duration": 12,
    "start_time": "2024-03-23T19:38:40.305Z"
   },
   {
    "duration": 1209,
    "start_time": "2024-03-24T08:44:55.315Z"
   },
   {
    "duration": 81,
    "start_time": "2024-03-24T08:44:56.526Z"
   },
   {
    "duration": 13,
    "start_time": "2024-03-24T08:44:56.608Z"
   },
   {
    "duration": 4,
    "start_time": "2024-03-24T08:44:56.623Z"
   },
   {
    "duration": 18,
    "start_time": "2024-03-24T08:44:56.628Z"
   },
   {
    "duration": 5,
    "start_time": "2024-03-24T08:44:56.648Z"
   },
   {
    "duration": 4,
    "start_time": "2024-03-24T08:44:56.655Z"
   },
   {
    "duration": 19,
    "start_time": "2024-03-24T08:44:56.660Z"
   },
   {
    "duration": 9,
    "start_time": "2024-03-24T08:44:56.680Z"
   },
   {
    "duration": 12,
    "start_time": "2024-03-24T08:44:56.692Z"
   },
   {
    "duration": 17,
    "start_time": "2024-03-24T08:44:56.705Z"
   },
   {
    "duration": 90,
    "start_time": "2024-03-24T08:44:56.723Z"
   },
   {
    "duration": 7,
    "start_time": "2024-03-24T08:44:56.815Z"
   },
   {
    "duration": 13,
    "start_time": "2024-03-24T08:44:56.823Z"
   },
   {
    "duration": 5,
    "start_time": "2024-03-24T08:44:56.837Z"
   },
   {
    "duration": 5,
    "start_time": "2024-03-24T08:44:56.844Z"
   },
   {
    "duration": 12,
    "start_time": "2024-03-24T08:44:56.851Z"
   },
   {
    "duration": 71,
    "start_time": "2024-03-24T08:44:56.865Z"
   },
   {
    "duration": 8,
    "start_time": "2024-03-24T08:44:56.937Z"
   },
   {
    "duration": 9,
    "start_time": "2024-03-24T08:44:56.946Z"
   },
   {
    "duration": 4,
    "start_time": "2024-03-24T08:44:56.957Z"
   },
   {
    "duration": 5,
    "start_time": "2024-03-24T08:44:56.963Z"
   },
   {
    "duration": 5,
    "start_time": "2024-03-24T08:44:56.969Z"
   },
   {
    "duration": 552,
    "start_time": "2024-03-24T08:44:56.976Z"
   },
   {
    "duration": 0,
    "start_time": "2024-03-24T08:44:57.530Z"
   },
   {
    "duration": 0,
    "start_time": "2024-03-24T08:44:57.532Z"
   },
   {
    "duration": 0,
    "start_time": "2024-03-24T08:44:57.533Z"
   },
   {
    "duration": 0,
    "start_time": "2024-03-24T08:44:57.534Z"
   },
   {
    "duration": 0,
    "start_time": "2024-03-24T08:44:57.535Z"
   },
   {
    "duration": 0,
    "start_time": "2024-03-24T08:44:57.537Z"
   },
   {
    "duration": 0,
    "start_time": "2024-03-24T08:44:57.538Z"
   },
   {
    "duration": 0,
    "start_time": "2024-03-24T08:44:57.539Z"
   },
   {
    "duration": 0,
    "start_time": "2024-03-24T08:44:57.542Z"
   },
   {
    "duration": 0,
    "start_time": "2024-03-24T08:44:57.542Z"
   },
   {
    "duration": 0,
    "start_time": "2024-03-24T08:44:57.544Z"
   },
   {
    "duration": 0,
    "start_time": "2024-03-24T08:44:57.545Z"
   },
   {
    "duration": 0,
    "start_time": "2024-03-24T08:44:57.546Z"
   },
   {
    "duration": 0,
    "start_time": "2024-03-24T08:44:57.547Z"
   },
   {
    "duration": 0,
    "start_time": "2024-03-24T08:44:57.548Z"
   },
   {
    "duration": 547,
    "start_time": "2024-03-24T08:46:00.385Z"
   },
   {
    "duration": 8,
    "start_time": "2024-03-24T08:48:10.191Z"
   },
   {
    "duration": 7,
    "start_time": "2024-03-24T08:48:14.400Z"
   },
   {
    "duration": 1040,
    "start_time": "2024-03-24T08:48:22.183Z"
   },
   {
    "duration": 27,
    "start_time": "2024-03-24T08:48:23.224Z"
   },
   {
    "duration": 12,
    "start_time": "2024-03-24T08:48:23.252Z"
   },
   {
    "duration": 9,
    "start_time": "2024-03-24T08:48:23.266Z"
   },
   {
    "duration": 14,
    "start_time": "2024-03-24T08:48:23.276Z"
   },
   {
    "duration": 7,
    "start_time": "2024-03-24T08:48:23.291Z"
   },
   {
    "duration": 4,
    "start_time": "2024-03-24T08:48:23.300Z"
   },
   {
    "duration": 11,
    "start_time": "2024-03-24T08:48:23.305Z"
   },
   {
    "duration": 8,
    "start_time": "2024-03-24T08:48:23.317Z"
   },
   {
    "duration": 11,
    "start_time": "2024-03-24T08:48:23.327Z"
   },
   {
    "duration": 34,
    "start_time": "2024-03-24T08:48:23.339Z"
   },
   {
    "duration": 38,
    "start_time": "2024-03-24T08:48:23.375Z"
   },
   {
    "duration": 10,
    "start_time": "2024-03-24T08:48:23.414Z"
   },
   {
    "duration": 11,
    "start_time": "2024-03-24T08:48:23.425Z"
   },
   {
    "duration": 7,
    "start_time": "2024-03-24T08:48:23.438Z"
   },
   {
    "duration": 6,
    "start_time": "2024-03-24T08:48:23.446Z"
   },
   {
    "duration": 12,
    "start_time": "2024-03-24T08:48:23.453Z"
   },
   {
    "duration": 15,
    "start_time": "2024-03-24T08:48:23.467Z"
   },
   {
    "duration": 7,
    "start_time": "2024-03-24T08:48:23.483Z"
   },
   {
    "duration": 14,
    "start_time": "2024-03-24T08:48:23.492Z"
   },
   {
    "duration": 5,
    "start_time": "2024-03-24T08:48:23.508Z"
   },
   {
    "duration": 9,
    "start_time": "2024-03-24T08:48:23.515Z"
   },
   {
    "duration": 5,
    "start_time": "2024-03-24T08:48:23.525Z"
   },
   {
    "duration": 8,
    "start_time": "2024-03-24T08:48:23.531Z"
   },
   {
    "duration": 29,
    "start_time": "2024-03-24T08:48:23.540Z"
   },
   {
    "duration": 521,
    "start_time": "2024-03-24T08:48:23.571Z"
   },
   {
    "duration": 160,
    "start_time": "2024-03-24T08:48:24.094Z"
   },
   {
    "duration": 268,
    "start_time": "2024-03-24T08:48:24.267Z"
   },
   {
    "duration": 193,
    "start_time": "2024-03-24T08:48:24.536Z"
   },
   {
    "duration": 320,
    "start_time": "2024-03-24T08:48:24.731Z"
   },
   {
    "duration": 13,
    "start_time": "2024-03-24T08:48:25.052Z"
   },
   {
    "duration": 118,
    "start_time": "2024-03-24T08:48:25.066Z"
   },
   {
    "duration": 4,
    "start_time": "2024-03-24T08:48:25.186Z"
   },
   {
    "duration": 13,
    "start_time": "2024-03-24T08:48:25.191Z"
   },
   {
    "duration": 2,
    "start_time": "2024-03-24T08:48:25.205Z"
   },
   {
    "duration": 139,
    "start_time": "2024-03-24T08:48:25.209Z"
   },
   {
    "duration": 138,
    "start_time": "2024-03-24T08:48:25.349Z"
   },
   {
    "duration": 4,
    "start_time": "2024-03-24T08:48:25.488Z"
   },
   {
    "duration": 282,
    "start_time": "2024-03-24T08:48:25.494Z"
   },
   {
    "duration": 263,
    "start_time": "2024-03-24T08:55:12.582Z"
   },
   {
    "duration": 455,
    "start_time": "2024-03-24T08:56:20.124Z"
   },
   {
    "duration": 18,
    "start_time": "2024-03-24T09:10:04.191Z"
   },
   {
    "duration": 133,
    "start_time": "2024-03-24T09:11:29.242Z"
   },
   {
    "duration": 143,
    "start_time": "2024-03-24T09:12:30.924Z"
   },
   {
    "duration": 13,
    "start_time": "2024-03-24T09:15:00.314Z"
   },
   {
    "duration": 11,
    "start_time": "2024-03-24T09:17:44.501Z"
   },
   {
    "duration": 10,
    "start_time": "2024-03-24T09:18:51.624Z"
   },
   {
    "duration": 1031,
    "start_time": "2024-03-24T09:20:05.316Z"
   },
   {
    "duration": 10,
    "start_time": "2024-03-24T09:24:05.523Z"
   },
   {
    "duration": 8,
    "start_time": "2024-03-24T09:25:06.977Z"
   },
   {
    "duration": 16,
    "start_time": "2024-03-24T09:27:33.132Z"
   },
   {
    "duration": 10,
    "start_time": "2024-03-24T09:28:50.462Z"
   },
   {
    "duration": 983,
    "start_time": "2024-03-24T09:32:09.837Z"
   },
   {
    "duration": 10,
    "start_time": "2024-03-24T09:32:29.381Z"
   },
   {
    "duration": 9,
    "start_time": "2024-03-24T09:33:27.096Z"
   },
   {
    "duration": 10,
    "start_time": "2024-03-24T09:33:29.121Z"
   },
   {
    "duration": 11,
    "start_time": "2024-03-24T09:34:01.427Z"
   },
   {
    "duration": 25,
    "start_time": "2024-03-24T09:34:58.810Z"
   },
   {
    "duration": 9,
    "start_time": "2024-03-24T09:37:15.048Z"
   },
   {
    "duration": 58,
    "start_time": "2024-03-24T14:09:46.585Z"
   },
   {
    "duration": 1240,
    "start_time": "2024-03-24T14:11:30.871Z"
   },
   {
    "duration": 73,
    "start_time": "2024-03-24T14:11:32.113Z"
   },
   {
    "duration": 12,
    "start_time": "2024-03-24T14:11:32.187Z"
   },
   {
    "duration": 3,
    "start_time": "2024-03-24T14:11:32.201Z"
   },
   {
    "duration": 14,
    "start_time": "2024-03-24T14:11:32.205Z"
   },
   {
    "duration": 8,
    "start_time": "2024-03-24T14:11:32.220Z"
   },
   {
    "duration": 25,
    "start_time": "2024-03-24T14:11:32.229Z"
   },
   {
    "duration": 28,
    "start_time": "2024-03-24T14:11:32.255Z"
   },
   {
    "duration": 8,
    "start_time": "2024-03-24T14:11:32.285Z"
   },
   {
    "duration": 14,
    "start_time": "2024-03-24T14:11:32.296Z"
   },
   {
    "duration": 15,
    "start_time": "2024-03-24T14:11:32.311Z"
   },
   {
    "duration": 94,
    "start_time": "2024-03-24T14:11:32.327Z"
   },
   {
    "duration": 8,
    "start_time": "2024-03-24T14:11:32.422Z"
   },
   {
    "duration": 10,
    "start_time": "2024-03-24T14:11:32.431Z"
   },
   {
    "duration": 5,
    "start_time": "2024-03-24T14:11:32.442Z"
   },
   {
    "duration": 8,
    "start_time": "2024-03-24T14:11:32.449Z"
   },
   {
    "duration": 9,
    "start_time": "2024-03-24T14:11:32.459Z"
   },
   {
    "duration": 75,
    "start_time": "2024-03-24T14:11:32.469Z"
   },
   {
    "duration": 7,
    "start_time": "2024-03-24T14:11:32.546Z"
   },
   {
    "duration": 16,
    "start_time": "2024-03-24T14:11:32.555Z"
   },
   {
    "duration": 6,
    "start_time": "2024-03-24T14:11:32.573Z"
   },
   {
    "duration": 7,
    "start_time": "2024-03-24T14:11:32.580Z"
   },
   {
    "duration": 5,
    "start_time": "2024-03-24T14:11:32.588Z"
   },
   {
    "duration": 7,
    "start_time": "2024-03-24T14:11:32.594Z"
   },
   {
    "duration": 8,
    "start_time": "2024-03-24T14:11:32.602Z"
   },
   {
    "duration": 548,
    "start_time": "2024-03-24T14:11:32.612Z"
   },
   {
    "duration": 165,
    "start_time": "2024-03-24T14:11:33.165Z"
   },
   {
    "duration": 346,
    "start_time": "2024-03-24T14:11:33.333Z"
   },
   {
    "duration": 205,
    "start_time": "2024-03-24T14:11:33.680Z"
   },
   {
    "duration": 314,
    "start_time": "2024-03-24T14:11:33.886Z"
   },
   {
    "duration": 7,
    "start_time": "2024-03-24T14:11:34.201Z"
   },
   {
    "duration": 115,
    "start_time": "2024-03-24T14:11:34.209Z"
   },
   {
    "duration": 4,
    "start_time": "2024-03-24T14:11:34.325Z"
   },
   {
    "duration": 30,
    "start_time": "2024-03-24T14:11:34.331Z"
   },
   {
    "duration": 19,
    "start_time": "2024-03-24T14:11:34.363Z"
   },
   {
    "duration": 134,
    "start_time": "2024-03-24T14:11:34.383Z"
   },
   {
    "duration": 131,
    "start_time": "2024-03-24T14:11:34.519Z"
   },
   {
    "duration": 5,
    "start_time": "2024-03-24T14:11:34.652Z"
   },
   {
    "duration": 281,
    "start_time": "2024-03-24T14:11:34.666Z"
   },
   {
    "duration": 0,
    "start_time": "2024-03-24T14:11:34.949Z"
   },
   {
    "duration": 0,
    "start_time": "2024-03-24T14:11:34.950Z"
   },
   {
    "duration": 0,
    "start_time": "2024-03-24T14:11:34.952Z"
   },
   {
    "duration": 0,
    "start_time": "2024-03-24T14:11:34.953Z"
   },
   {
    "duration": 0,
    "start_time": "2024-03-24T14:11:34.966Z"
   },
   {
    "duration": 119,
    "start_time": "2024-03-24T14:15:07.356Z"
   },
   {
    "duration": 513,
    "start_time": "2024-03-24T14:15:47.484Z"
   },
   {
    "duration": 480,
    "start_time": "2024-03-24T14:22:21.735Z"
   },
   {
    "duration": 438,
    "start_time": "2024-03-24T14:27:51.677Z"
   },
   {
    "duration": 480,
    "start_time": "2024-03-24T14:28:35.342Z"
   },
   {
    "duration": 10,
    "start_time": "2024-03-24T14:29:08.260Z"
   },
   {
    "duration": 11,
    "start_time": "2024-03-24T14:30:38.506Z"
   },
   {
    "duration": 18,
    "start_time": "2024-03-24T14:31:19.016Z"
   },
   {
    "duration": 14,
    "start_time": "2024-03-24T14:32:06.771Z"
   },
   {
    "duration": 14,
    "start_time": "2024-03-24T14:34:35.367Z"
   },
   {
    "duration": 11,
    "start_time": "2024-03-24T14:35:11.912Z"
   },
   {
    "duration": 69,
    "start_time": "2024-03-24T14:39:56.421Z"
   },
   {
    "duration": 9,
    "start_time": "2024-03-24T14:40:27.170Z"
   },
   {
    "duration": 8,
    "start_time": "2024-03-24T14:42:25.313Z"
   },
   {
    "duration": 8,
    "start_time": "2024-03-24T14:42:56.411Z"
   },
   {
    "duration": 11,
    "start_time": "2024-03-24T14:43:50.297Z"
   },
   {
    "duration": 8,
    "start_time": "2024-03-24T14:44:01.533Z"
   },
   {
    "duration": 242,
    "start_time": "2024-03-24T14:47:40.428Z"
   },
   {
    "duration": 243,
    "start_time": "2024-03-24T14:48:52.551Z"
   },
   {
    "duration": 338,
    "start_time": "2024-03-24T14:50:05.787Z"
   },
   {
    "duration": 325,
    "start_time": "2024-03-24T14:51:26.434Z"
   },
   {
    "duration": 155,
    "start_time": "2024-03-24T14:52:05.319Z"
   },
   {
    "duration": 28,
    "start_time": "2024-03-24T14:57:24.727Z"
   },
   {
    "duration": 27,
    "start_time": "2024-03-24T14:58:17.419Z"
   },
   {
    "duration": 8,
    "start_time": "2024-03-24T14:59:00.300Z"
   },
   {
    "duration": 8,
    "start_time": "2024-03-24T14:59:14.794Z"
   },
   {
    "duration": 27,
    "start_time": "2024-03-24T14:59:27.529Z"
   },
   {
    "duration": 37,
    "start_time": "2024-03-24T15:01:20.701Z"
   },
   {
    "duration": 29,
    "start_time": "2024-03-24T15:01:40.176Z"
   },
   {
    "duration": 988,
    "start_time": "2024-03-24T15:02:23.594Z"
   },
   {
    "duration": 13,
    "start_time": "2024-03-24T15:03:40.367Z"
   },
   {
    "duration": 17,
    "start_time": "2024-03-24T15:06:52.859Z"
   },
   {
    "duration": 17,
    "start_time": "2024-03-24T15:07:20.422Z"
   },
   {
    "duration": 14,
    "start_time": "2024-03-24T15:07:41.235Z"
   },
   {
    "duration": 62,
    "start_time": "2024-03-24T15:09:14.823Z"
   },
   {
    "duration": 60,
    "start_time": "2024-03-24T15:09:58.993Z"
   },
   {
    "duration": 750,
    "start_time": "2024-03-24T15:10:19.816Z"
   },
   {
    "duration": 14,
    "start_time": "2024-03-24T15:10:56.824Z"
   },
   {
    "duration": 14,
    "start_time": "2024-03-24T15:11:09.073Z"
   },
   {
    "duration": 64,
    "start_time": "2024-03-24T15:14:06.398Z"
   },
   {
    "duration": 65,
    "start_time": "2024-03-24T15:14:28.070Z"
   },
   {
    "duration": 14,
    "start_time": "2024-03-24T15:15:15.574Z"
   },
   {
    "duration": 1086,
    "start_time": "2024-03-24T15:18:27.229Z"
   },
   {
    "duration": 27,
    "start_time": "2024-03-24T15:18:28.317Z"
   },
   {
    "duration": 14,
    "start_time": "2024-03-24T15:18:28.346Z"
   },
   {
    "duration": 13,
    "start_time": "2024-03-24T15:18:28.363Z"
   },
   {
    "duration": 25,
    "start_time": "2024-03-24T15:18:28.378Z"
   },
   {
    "duration": 33,
    "start_time": "2024-03-24T15:18:28.405Z"
   },
   {
    "duration": 29,
    "start_time": "2024-03-24T15:18:28.439Z"
   },
   {
    "duration": 30,
    "start_time": "2024-03-24T15:18:28.469Z"
   },
   {
    "duration": 20,
    "start_time": "2024-03-24T15:18:28.500Z"
   },
   {
    "duration": 15,
    "start_time": "2024-03-24T15:18:28.523Z"
   },
   {
    "duration": 43,
    "start_time": "2024-03-24T15:18:28.539Z"
   },
   {
    "duration": 65,
    "start_time": "2024-03-24T15:18:28.584Z"
   },
   {
    "duration": 8,
    "start_time": "2024-03-24T15:18:28.651Z"
   },
   {
    "duration": 27,
    "start_time": "2024-03-24T15:18:28.660Z"
   },
   {
    "duration": 27,
    "start_time": "2024-03-24T15:18:28.688Z"
   },
   {
    "duration": 28,
    "start_time": "2024-03-24T15:18:28.716Z"
   },
   {
    "duration": 15,
    "start_time": "2024-03-24T15:18:28.745Z"
   },
   {
    "duration": 34,
    "start_time": "2024-03-24T15:18:28.762Z"
   },
   {
    "duration": 16,
    "start_time": "2024-03-24T15:18:28.797Z"
   },
   {
    "duration": 29,
    "start_time": "2024-03-24T15:18:28.814Z"
   },
   {
    "duration": 22,
    "start_time": "2024-03-24T15:18:28.845Z"
   },
   {
    "duration": 32,
    "start_time": "2024-03-24T15:18:28.868Z"
   },
   {
    "duration": 34,
    "start_time": "2024-03-24T15:18:28.902Z"
   },
   {
    "duration": 22,
    "start_time": "2024-03-24T15:18:28.937Z"
   },
   {
    "duration": 23,
    "start_time": "2024-03-24T15:18:28.960Z"
   },
   {
    "duration": 529,
    "start_time": "2024-03-24T15:18:28.984Z"
   },
   {
    "duration": 176,
    "start_time": "2024-03-24T15:18:29.514Z"
   },
   {
    "duration": 265,
    "start_time": "2024-03-24T15:18:29.693Z"
   },
   {
    "duration": 202,
    "start_time": "2024-03-24T15:18:29.959Z"
   },
   {
    "duration": 326,
    "start_time": "2024-03-24T15:18:30.165Z"
   },
   {
    "duration": 7,
    "start_time": "2024-03-24T15:18:30.493Z"
   },
   {
    "duration": 176,
    "start_time": "2024-03-24T15:18:30.501Z"
   },
   {
    "duration": 5,
    "start_time": "2024-03-24T15:18:30.679Z"
   },
   {
    "duration": 50,
    "start_time": "2024-03-24T15:18:30.686Z"
   },
   {
    "duration": 45,
    "start_time": "2024-03-24T15:18:30.738Z"
   },
   {
    "duration": 206,
    "start_time": "2024-03-24T15:18:30.785Z"
   },
   {
    "duration": 182,
    "start_time": "2024-03-24T15:18:30.993Z"
   },
   {
    "duration": 6,
    "start_time": "2024-03-24T15:18:31.178Z"
   },
   {
    "duration": 574,
    "start_time": "2024-03-24T15:18:31.186Z"
   },
   {
    "duration": 14,
    "start_time": "2024-03-24T15:18:31.761Z"
   },
   {
    "duration": 73,
    "start_time": "2024-03-24T15:18:31.776Z"
   },
   {
    "duration": 38,
    "start_time": "2024-03-24T15:18:31.850Z"
   },
   {
    "duration": 14,
    "start_time": "2024-03-24T15:18:31.889Z"
   },
   {
    "duration": 19,
    "start_time": "2024-03-24T15:19:47.404Z"
   },
   {
    "duration": 14,
    "start_time": "2024-03-24T15:20:04.556Z"
   },
   {
    "duration": 14,
    "start_time": "2024-03-24T15:20:16.325Z"
   },
   {
    "duration": 13,
    "start_time": "2024-03-24T15:21:03.923Z"
   },
   {
    "duration": 8,
    "start_time": "2024-03-24T15:37:41.342Z"
   },
   {
    "duration": 9,
    "start_time": "2024-03-24T15:39:48.718Z"
   },
   {
    "duration": 8,
    "start_time": "2024-03-24T15:42:38.529Z"
   },
   {
    "duration": 6,
    "start_time": "2024-03-24T16:03:33.821Z"
   },
   {
    "duration": 530,
    "start_time": "2024-03-24T16:03:42.386Z"
   },
   {
    "duration": 8,
    "start_time": "2024-03-24T16:03:53.401Z"
   },
   {
    "duration": 9,
    "start_time": "2024-03-24T16:04:07.717Z"
   },
   {
    "duration": 1062,
    "start_time": "2024-03-24T16:05:29.576Z"
   },
   {
    "duration": 38,
    "start_time": "2024-03-24T16:05:30.640Z"
   },
   {
    "duration": 32,
    "start_time": "2024-03-24T16:05:30.681Z"
   },
   {
    "duration": 57,
    "start_time": "2024-03-24T16:05:30.715Z"
   },
   {
    "duration": 67,
    "start_time": "2024-03-24T16:05:30.775Z"
   },
   {
    "duration": 91,
    "start_time": "2024-03-24T16:05:30.843Z"
   },
   {
    "duration": 95,
    "start_time": "2024-03-24T16:05:30.936Z"
   },
   {
    "duration": 65,
    "start_time": "2024-03-24T16:05:31.032Z"
   },
   {
    "duration": 91,
    "start_time": "2024-03-24T16:05:31.099Z"
   },
   {
    "duration": 87,
    "start_time": "2024-03-24T16:05:31.192Z"
   },
   {
    "duration": 75,
    "start_time": "2024-03-24T16:05:31.281Z"
   },
   {
    "duration": 121,
    "start_time": "2024-03-24T16:05:31.357Z"
   },
   {
    "duration": 47,
    "start_time": "2024-03-24T16:05:31.480Z"
   },
   {
    "duration": 46,
    "start_time": "2024-03-24T16:05:31.531Z"
   },
   {
    "duration": 27,
    "start_time": "2024-03-24T16:05:31.579Z"
   },
   {
    "duration": 29,
    "start_time": "2024-03-24T16:05:31.608Z"
   },
   {
    "duration": 26,
    "start_time": "2024-03-24T16:05:31.639Z"
   },
   {
    "duration": 47,
    "start_time": "2024-03-24T16:05:31.667Z"
   },
   {
    "duration": 13,
    "start_time": "2024-03-24T16:05:31.715Z"
   },
   {
    "duration": 19,
    "start_time": "2024-03-24T16:05:31.729Z"
   },
   {
    "duration": 18,
    "start_time": "2024-03-24T16:05:31.750Z"
   },
   {
    "duration": 16,
    "start_time": "2024-03-24T16:05:31.778Z"
   },
   {
    "duration": 14,
    "start_time": "2024-03-24T16:05:31.796Z"
   },
   {
    "duration": 13,
    "start_time": "2024-03-24T16:05:31.811Z"
   },
   {
    "duration": 12,
    "start_time": "2024-03-24T16:05:31.826Z"
   },
   {
    "duration": 562,
    "start_time": "2024-03-24T16:05:31.840Z"
   },
   {
    "duration": 191,
    "start_time": "2024-03-24T16:05:32.403Z"
   },
   {
    "duration": 262,
    "start_time": "2024-03-24T16:05:32.595Z"
   },
   {
    "duration": 216,
    "start_time": "2024-03-24T16:05:32.865Z"
   },
   {
    "duration": 313,
    "start_time": "2024-03-24T16:05:33.082Z"
   },
   {
    "duration": 7,
    "start_time": "2024-03-24T16:05:33.397Z"
   },
   {
    "duration": 124,
    "start_time": "2024-03-24T16:05:33.405Z"
   },
   {
    "duration": 4,
    "start_time": "2024-03-24T16:05:33.531Z"
   },
   {
    "duration": 9,
    "start_time": "2024-03-24T16:05:33.537Z"
   },
   {
    "duration": 2,
    "start_time": "2024-03-24T16:05:33.547Z"
   },
   {
    "duration": 135,
    "start_time": "2024-03-24T16:05:33.566Z"
   },
   {
    "duration": 189,
    "start_time": "2024-03-24T16:05:33.703Z"
   },
   {
    "duration": 5,
    "start_time": "2024-03-24T16:05:33.894Z"
   },
   {
    "duration": 8,
    "start_time": "2024-03-24T16:05:33.900Z"
   },
   {
    "duration": 6,
    "start_time": "2024-03-24T16:05:33.909Z"
   },
   {
    "duration": 543,
    "start_time": "2024-03-24T16:05:33.918Z"
   },
   {
    "duration": 19,
    "start_time": "2024-03-24T16:05:34.463Z"
   },
   {
    "duration": 9,
    "start_time": "2024-03-24T16:05:34.483Z"
   },
   {
    "duration": 32,
    "start_time": "2024-03-24T16:05:34.493Z"
   },
   {
    "duration": 12,
    "start_time": "2024-03-24T16:05:34.526Z"
   },
   {
    "duration": 8,
    "start_time": "2024-03-24T17:28:41.012Z"
   },
   {
    "duration": 1102,
    "start_time": "2024-03-24T19:23:10.082Z"
   },
   {
    "duration": 27,
    "start_time": "2024-03-24T19:23:11.186Z"
   },
   {
    "duration": 14,
    "start_time": "2024-03-24T19:23:11.214Z"
   },
   {
    "duration": 4,
    "start_time": "2024-03-24T19:23:11.230Z"
   },
   {
    "duration": 13,
    "start_time": "2024-03-24T19:23:11.235Z"
   },
   {
    "duration": 6,
    "start_time": "2024-03-24T19:23:11.250Z"
   },
   {
    "duration": 9,
    "start_time": "2024-03-24T19:23:11.257Z"
   },
   {
    "duration": 11,
    "start_time": "2024-03-24T19:23:11.268Z"
   },
   {
    "duration": 9,
    "start_time": "2024-03-24T19:23:11.281Z"
   },
   {
    "duration": 26,
    "start_time": "2024-03-24T19:23:11.293Z"
   },
   {
    "duration": 15,
    "start_time": "2024-03-24T19:23:11.321Z"
   },
   {
    "duration": 37,
    "start_time": "2024-03-24T19:23:11.338Z"
   },
   {
    "duration": 8,
    "start_time": "2024-03-24T19:23:11.377Z"
   },
   {
    "duration": 10,
    "start_time": "2024-03-24T19:23:11.386Z"
   },
   {
    "duration": 6,
    "start_time": "2024-03-24T19:23:11.397Z"
   },
   {
    "duration": 5,
    "start_time": "2024-03-24T19:23:11.404Z"
   },
   {
    "duration": 3,
    "start_time": "2024-03-24T19:23:11.411Z"
   },
   {
    "duration": 15,
    "start_time": "2024-03-24T19:23:11.416Z"
   },
   {
    "duration": 7,
    "start_time": "2024-03-24T19:23:11.433Z"
   },
   {
    "duration": 32,
    "start_time": "2024-03-24T19:23:11.441Z"
   },
   {
    "duration": 6,
    "start_time": "2024-03-24T19:23:11.474Z"
   },
   {
    "duration": 6,
    "start_time": "2024-03-24T19:23:11.481Z"
   },
   {
    "duration": 4,
    "start_time": "2024-03-24T19:23:11.488Z"
   },
   {
    "duration": 7,
    "start_time": "2024-03-24T19:23:11.493Z"
   },
   {
    "duration": 8,
    "start_time": "2024-03-24T19:23:11.501Z"
   },
   {
    "duration": 533,
    "start_time": "2024-03-24T19:23:11.510Z"
   },
   {
    "duration": 170,
    "start_time": "2024-03-24T19:23:12.044Z"
   },
   {
    "duration": 265,
    "start_time": "2024-03-24T19:23:12.217Z"
   },
   {
    "duration": 197,
    "start_time": "2024-03-24T19:23:12.483Z"
   },
   {
    "duration": 323,
    "start_time": "2024-03-24T19:23:12.681Z"
   },
   {
    "duration": 6,
    "start_time": "2024-03-24T19:23:13.005Z"
   },
   {
    "duration": 117,
    "start_time": "2024-03-24T19:23:13.013Z"
   },
   {
    "duration": 5,
    "start_time": "2024-03-24T19:23:13.132Z"
   },
   {
    "duration": 16,
    "start_time": "2024-03-24T19:23:13.138Z"
   },
   {
    "duration": 9,
    "start_time": "2024-03-24T19:23:13.156Z"
   },
   {
    "duration": 125,
    "start_time": "2024-03-24T19:23:13.167Z"
   },
   {
    "duration": 166,
    "start_time": "2024-03-24T19:23:13.294Z"
   },
   {
    "duration": 5,
    "start_time": "2024-03-24T19:23:13.464Z"
   },
   {
    "duration": 10,
    "start_time": "2024-03-24T19:23:13.470Z"
   },
   {
    "duration": 5,
    "start_time": "2024-03-24T19:23:13.481Z"
   },
   {
    "duration": 515,
    "start_time": "2024-03-24T19:23:13.487Z"
   },
   {
    "duration": 10,
    "start_time": "2024-03-24T19:23:14.003Z"
   },
   {
    "duration": 8,
    "start_time": "2024-03-24T19:23:14.015Z"
   },
   {
    "duration": 49,
    "start_time": "2024-03-24T19:23:14.024Z"
   },
   {
    "duration": 13,
    "start_time": "2024-03-24T19:23:14.075Z"
   },
   {
    "duration": 4,
    "start_time": "2024-03-24T19:38:55.184Z"
   },
   {
    "duration": 10,
    "start_time": "2024-03-24T20:37:08.759Z"
   },
   {
    "duration": 9,
    "start_time": "2024-03-24T20:37:20.453Z"
   },
   {
    "duration": 1064,
    "start_time": "2024-03-24T20:43:50.310Z"
   },
   {
    "duration": 28,
    "start_time": "2024-03-24T20:43:51.375Z"
   },
   {
    "duration": 12,
    "start_time": "2024-03-24T20:43:51.405Z"
   },
   {
    "duration": 3,
    "start_time": "2024-03-24T20:43:51.418Z"
   },
   {
    "duration": 16,
    "start_time": "2024-03-24T20:43:51.423Z"
   },
   {
    "duration": 5,
    "start_time": "2024-03-24T20:43:51.440Z"
   },
   {
    "duration": 5,
    "start_time": "2024-03-24T20:43:51.446Z"
   },
   {
    "duration": 4,
    "start_time": "2024-03-24T20:43:51.453Z"
   },
   {
    "duration": 16,
    "start_time": "2024-03-24T20:43:51.458Z"
   },
   {
    "duration": 9,
    "start_time": "2024-03-24T20:43:51.476Z"
   },
   {
    "duration": 13,
    "start_time": "2024-03-24T20:43:51.486Z"
   },
   {
    "duration": 14,
    "start_time": "2024-03-24T20:43:51.500Z"
   },
   {
    "duration": 40,
    "start_time": "2024-03-24T20:43:51.515Z"
   },
   {
    "duration": 7,
    "start_time": "2024-03-24T20:43:51.557Z"
   },
   {
    "duration": 9,
    "start_time": "2024-03-24T20:43:51.566Z"
   },
   {
    "duration": 9,
    "start_time": "2024-03-24T20:43:51.576Z"
   },
   {
    "duration": 8,
    "start_time": "2024-03-24T20:43:51.587Z"
   },
   {
    "duration": 4,
    "start_time": "2024-03-24T20:43:51.597Z"
   },
   {
    "duration": 19,
    "start_time": "2024-03-24T20:43:51.602Z"
   },
   {
    "duration": 7,
    "start_time": "2024-03-24T20:43:51.623Z"
   },
   {
    "duration": 10,
    "start_time": "2024-03-24T20:43:51.632Z"
   },
   {
    "duration": 23,
    "start_time": "2024-03-24T20:43:51.643Z"
   },
   {
    "duration": 5,
    "start_time": "2024-03-24T20:43:51.668Z"
   },
   {
    "duration": 13,
    "start_time": "2024-03-24T20:43:51.674Z"
   },
   {
    "duration": 6,
    "start_time": "2024-03-24T20:43:51.689Z"
   },
   {
    "duration": 10,
    "start_time": "2024-03-24T20:43:51.696Z"
   },
   {
    "duration": 524,
    "start_time": "2024-03-24T20:43:51.708Z"
   },
   {
    "duration": 174,
    "start_time": "2024-03-24T20:43:52.235Z"
   },
   {
    "duration": 272,
    "start_time": "2024-03-24T20:43:52.410Z"
   },
   {
    "duration": 199,
    "start_time": "2024-03-24T20:43:52.684Z"
   },
   {
    "duration": 316,
    "start_time": "2024-03-24T20:43:52.884Z"
   },
   {
    "duration": 7,
    "start_time": "2024-03-24T20:43:53.201Z"
   },
   {
    "duration": 118,
    "start_time": "2024-03-24T20:43:53.210Z"
   },
   {
    "duration": 6,
    "start_time": "2024-03-24T20:43:53.329Z"
   },
   {
    "duration": 9,
    "start_time": "2024-03-24T20:43:53.336Z"
   },
   {
    "duration": 2,
    "start_time": "2024-03-24T20:43:53.346Z"
   },
   {
    "duration": 129,
    "start_time": "2024-03-24T20:43:53.366Z"
   },
   {
    "duration": 174,
    "start_time": "2024-03-24T20:43:53.496Z"
   },
   {
    "duration": 4,
    "start_time": "2024-03-24T20:43:53.672Z"
   },
   {
    "duration": 10,
    "start_time": "2024-03-24T20:43:53.678Z"
   },
   {
    "duration": 8,
    "start_time": "2024-03-24T20:43:53.689Z"
   },
   {
    "duration": 569,
    "start_time": "2024-03-24T20:43:53.698Z"
   },
   {
    "duration": 9,
    "start_time": "2024-03-24T20:43:54.269Z"
   },
   {
    "duration": 8,
    "start_time": "2024-03-24T20:43:54.279Z"
   },
   {
    "duration": 31,
    "start_time": "2024-03-24T20:43:54.288Z"
   },
   {
    "duration": 12,
    "start_time": "2024-03-24T20:43:54.321Z"
   },
   {
    "duration": 1072,
    "start_time": "2024-03-24T20:46:35.838Z"
   },
   {
    "duration": 28,
    "start_time": "2024-03-24T20:46:36.912Z"
   },
   {
    "duration": 12,
    "start_time": "2024-03-24T20:46:36.941Z"
   },
   {
    "duration": 15,
    "start_time": "2024-03-24T20:46:36.955Z"
   },
   {
    "duration": 24,
    "start_time": "2024-03-24T20:46:36.971Z"
   },
   {
    "duration": 30,
    "start_time": "2024-03-24T20:46:36.996Z"
   },
   {
    "duration": 28,
    "start_time": "2024-03-24T20:46:37.028Z"
   },
   {
    "duration": 20,
    "start_time": "2024-03-24T20:46:37.057Z"
   },
   {
    "duration": 23,
    "start_time": "2024-03-24T20:46:37.078Z"
   },
   {
    "duration": 27,
    "start_time": "2024-03-24T20:46:37.105Z"
   },
   {
    "duration": 16,
    "start_time": "2024-03-24T20:46:37.134Z"
   },
   {
    "duration": 41,
    "start_time": "2024-03-24T20:46:37.152Z"
   },
   {
    "duration": 61,
    "start_time": "2024-03-24T20:46:37.194Z"
   },
   {
    "duration": 7,
    "start_time": "2024-03-24T20:46:37.257Z"
   },
   {
    "duration": 36,
    "start_time": "2024-03-24T20:46:37.266Z"
   },
   {
    "duration": 22,
    "start_time": "2024-03-24T20:46:37.304Z"
   },
   {
    "duration": 34,
    "start_time": "2024-03-24T20:46:37.328Z"
   },
   {
    "duration": 29,
    "start_time": "2024-03-24T20:46:37.364Z"
   },
   {
    "duration": 29,
    "start_time": "2024-03-24T20:46:37.395Z"
   },
   {
    "duration": 6,
    "start_time": "2024-03-24T20:46:37.426Z"
   },
   {
    "duration": 32,
    "start_time": "2024-03-24T20:46:37.434Z"
   },
   {
    "duration": 29,
    "start_time": "2024-03-24T20:46:37.468Z"
   },
   {
    "duration": 31,
    "start_time": "2024-03-24T20:46:37.499Z"
   },
   {
    "duration": 31,
    "start_time": "2024-03-24T20:46:37.532Z"
   },
   {
    "duration": 20,
    "start_time": "2024-03-24T20:46:37.564Z"
   },
   {
    "duration": 25,
    "start_time": "2024-03-24T20:46:37.585Z"
   },
   {
    "duration": 524,
    "start_time": "2024-03-24T20:46:37.612Z"
   },
   {
    "duration": 169,
    "start_time": "2024-03-24T20:46:38.140Z"
   },
   {
    "duration": 234,
    "start_time": "2024-03-24T20:46:38.311Z"
   },
   {
    "duration": 212,
    "start_time": "2024-03-24T20:46:38.546Z"
   },
   {
    "duration": 321,
    "start_time": "2024-03-24T20:46:38.760Z"
   },
   {
    "duration": 7,
    "start_time": "2024-03-24T20:46:39.083Z"
   },
   {
    "duration": 130,
    "start_time": "2024-03-24T20:46:39.092Z"
   },
   {
    "duration": 5,
    "start_time": "2024-03-24T20:46:39.223Z"
   },
   {
    "duration": 9,
    "start_time": "2024-03-24T20:46:39.229Z"
   },
   {
    "duration": 3,
    "start_time": "2024-03-24T20:46:39.239Z"
   },
   {
    "duration": 156,
    "start_time": "2024-03-24T20:46:39.244Z"
   },
   {
    "duration": 170,
    "start_time": "2024-03-24T20:46:39.401Z"
   },
   {
    "duration": 5,
    "start_time": "2024-03-24T20:46:39.573Z"
   },
   {
    "duration": 19,
    "start_time": "2024-03-24T20:46:39.579Z"
   },
   {
    "duration": 22,
    "start_time": "2024-03-24T20:46:39.600Z"
   },
   {
    "duration": 525,
    "start_time": "2024-03-24T20:46:39.623Z"
   },
   {
    "duration": 16,
    "start_time": "2024-03-24T20:46:40.149Z"
   },
   {
    "duration": 9,
    "start_time": "2024-03-24T20:46:40.166Z"
   },
   {
    "duration": 39,
    "start_time": "2024-03-24T20:46:40.176Z"
   },
   {
    "duration": 13,
    "start_time": "2024-03-24T20:46:40.216Z"
   },
   {
    "duration": 52,
    "start_time": "2024-03-25T09:07:28.178Z"
   },
   {
    "duration": 1306,
    "start_time": "2024-03-25T09:07:42.839Z"
   },
   {
    "duration": 84,
    "start_time": "2024-03-25T09:07:44.147Z"
   },
   {
    "duration": 12,
    "start_time": "2024-03-25T09:07:44.233Z"
   },
   {
    "duration": 5,
    "start_time": "2024-03-25T09:07:44.247Z"
   },
   {
    "duration": 22,
    "start_time": "2024-03-25T09:07:44.254Z"
   },
   {
    "duration": 17,
    "start_time": "2024-03-25T09:07:44.278Z"
   },
   {
    "duration": 14,
    "start_time": "2024-03-25T09:07:44.296Z"
   },
   {
    "duration": 14,
    "start_time": "2024-03-25T09:07:44.311Z"
   },
   {
    "duration": 24,
    "start_time": "2024-03-25T09:07:44.326Z"
   },
   {
    "duration": 21,
    "start_time": "2024-03-25T09:07:44.352Z"
   },
   {
    "duration": 15,
    "start_time": "2024-03-25T09:07:44.375Z"
   },
   {
    "duration": 20,
    "start_time": "2024-03-25T09:07:44.391Z"
   },
   {
    "duration": 96,
    "start_time": "2024-03-25T09:07:44.412Z"
   },
   {
    "duration": 8,
    "start_time": "2024-03-25T09:07:44.510Z"
   },
   {
    "duration": 23,
    "start_time": "2024-03-25T09:07:44.519Z"
   },
   {
    "duration": 16,
    "start_time": "2024-03-25T09:07:44.543Z"
   },
   {
    "duration": 16,
    "start_time": "2024-03-25T09:07:44.560Z"
   },
   {
    "duration": 34,
    "start_time": "2024-03-25T09:07:44.578Z"
   },
   {
    "duration": 74,
    "start_time": "2024-03-25T09:07:44.613Z"
   },
   {
    "duration": 8,
    "start_time": "2024-03-25T09:07:44.689Z"
   },
   {
    "duration": 25,
    "start_time": "2024-03-25T09:07:44.698Z"
   },
   {
    "duration": 8,
    "start_time": "2024-03-25T09:07:44.725Z"
   },
   {
    "duration": 22,
    "start_time": "2024-03-25T09:07:44.735Z"
   },
   {
    "duration": 6,
    "start_time": "2024-03-25T09:07:44.758Z"
   },
   {
    "duration": 11,
    "start_time": "2024-03-25T09:07:44.765Z"
   },
   {
    "duration": 21,
    "start_time": "2024-03-25T09:07:44.777Z"
   },
   {
    "duration": 545,
    "start_time": "2024-03-25T09:07:44.799Z"
   },
   {
    "duration": 199,
    "start_time": "2024-03-25T09:07:45.348Z"
   },
   {
    "duration": 354,
    "start_time": "2024-03-25T09:07:45.549Z"
   },
   {
    "duration": 212,
    "start_time": "2024-03-25T09:07:45.905Z"
   },
   {
    "duration": 293,
    "start_time": "2024-03-25T09:07:46.119Z"
   },
   {
    "duration": 8,
    "start_time": "2024-03-25T09:07:46.414Z"
   },
   {
    "duration": 122,
    "start_time": "2024-03-25T09:07:46.423Z"
   },
   {
    "duration": 6,
    "start_time": "2024-03-25T09:07:46.547Z"
   },
   {
    "duration": 27,
    "start_time": "2024-03-25T09:07:46.555Z"
   },
   {
    "duration": 3,
    "start_time": "2024-03-25T09:07:46.583Z"
   },
   {
    "duration": 173,
    "start_time": "2024-03-25T09:07:46.588Z"
   },
   {
    "duration": 177,
    "start_time": "2024-03-25T09:07:46.763Z"
   },
   {
    "duration": 6,
    "start_time": "2024-03-25T09:07:46.942Z"
   },
   {
    "duration": 4,
    "start_time": "2024-03-25T09:07:46.949Z"
   },
   {
    "duration": 5,
    "start_time": "2024-03-25T09:07:46.954Z"
   },
   {
    "duration": 559,
    "start_time": "2024-03-25T09:07:46.961Z"
   },
   {
    "duration": 12,
    "start_time": "2024-03-25T09:07:47.522Z"
   },
   {
    "duration": 10,
    "start_time": "2024-03-25T09:07:47.536Z"
   },
   {
    "duration": 52,
    "start_time": "2024-03-25T09:07:47.548Z"
   },
   {
    "duration": 15,
    "start_time": "2024-03-25T09:07:47.602Z"
   },
   {
    "duration": 162,
    "start_time": "2024-03-25T09:09:27.616Z"
   },
   {
    "duration": 168,
    "start_time": "2024-03-25T09:09:45.321Z"
   },
   {
    "duration": 663,
    "start_time": "2024-03-25T09:23:14.942Z"
   },
   {
    "duration": 756,
    "start_time": "2024-03-25T09:23:21.364Z"
   },
   {
    "duration": 493,
    "start_time": "2024-03-25T09:23:50.809Z"
   },
   {
    "duration": 519,
    "start_time": "2024-03-25T09:24:09.586Z"
   },
   {
    "duration": 485,
    "start_time": "2024-03-25T09:24:43.678Z"
   },
   {
    "duration": 492,
    "start_time": "2024-03-25T09:24:58.120Z"
   },
   {
    "duration": 197,
    "start_time": "2024-03-25T09:26:32.320Z"
   },
   {
    "duration": 296,
    "start_time": "2024-03-25T09:27:38.453Z"
   },
   {
    "duration": 391,
    "start_time": "2024-03-25T09:35:35.578Z"
   },
   {
    "duration": 280,
    "start_time": "2024-03-25T09:35:52.407Z"
   },
   {
    "duration": 319,
    "start_time": "2024-03-25T09:38:31.940Z"
   },
   {
    "duration": 230,
    "start_time": "2024-03-25T09:48:08.551Z"
   },
   {
    "duration": 346,
    "start_time": "2024-03-25T09:48:17.549Z"
   },
   {
    "duration": 331,
    "start_time": "2024-03-25T09:55:21.733Z"
   },
   {
    "duration": 125,
    "start_time": "2024-03-25T10:10:51.997Z"
   },
   {
    "duration": 134,
    "start_time": "2024-03-25T10:12:02.142Z"
   },
   {
    "duration": 1231,
    "start_time": "2024-03-25T15:03:13.199Z"
   },
   {
    "duration": 27,
    "start_time": "2024-03-25T15:03:14.432Z"
   },
   {
    "duration": 20,
    "start_time": "2024-03-25T15:03:14.461Z"
   },
   {
    "duration": 35,
    "start_time": "2024-03-25T15:03:14.483Z"
   },
   {
    "duration": 15,
    "start_time": "2024-03-25T15:03:14.520Z"
   },
   {
    "duration": 6,
    "start_time": "2024-03-25T15:03:14.537Z"
   },
   {
    "duration": 5,
    "start_time": "2024-03-25T15:03:14.544Z"
   },
   {
    "duration": 22,
    "start_time": "2024-03-25T15:03:14.551Z"
   },
   {
    "duration": 22,
    "start_time": "2024-03-25T15:03:14.575Z"
   },
   {
    "duration": 10,
    "start_time": "2024-03-25T15:03:14.600Z"
   },
   {
    "duration": 13,
    "start_time": "2024-03-25T15:03:14.611Z"
   },
   {
    "duration": 24,
    "start_time": "2024-03-25T15:03:14.626Z"
   },
   {
    "duration": 40,
    "start_time": "2024-03-25T15:03:14.652Z"
   },
   {
    "duration": 8,
    "start_time": "2024-03-25T15:03:14.694Z"
   },
   {
    "duration": 13,
    "start_time": "2024-03-25T15:03:14.703Z"
   },
   {
    "duration": 7,
    "start_time": "2024-03-25T15:03:14.717Z"
   },
   {
    "duration": 6,
    "start_time": "2024-03-25T15:03:14.725Z"
   },
   {
    "duration": 5,
    "start_time": "2024-03-25T15:03:14.732Z"
   },
   {
    "duration": 17,
    "start_time": "2024-03-25T15:03:14.738Z"
   },
   {
    "duration": 27,
    "start_time": "2024-03-25T15:03:14.756Z"
   },
   {
    "duration": 13,
    "start_time": "2024-03-25T15:03:14.784Z"
   },
   {
    "duration": 7,
    "start_time": "2024-03-25T15:03:14.798Z"
   },
   {
    "duration": 5,
    "start_time": "2024-03-25T15:03:14.806Z"
   },
   {
    "duration": 5,
    "start_time": "2024-03-25T15:03:14.813Z"
   },
   {
    "duration": 8,
    "start_time": "2024-03-25T15:03:14.819Z"
   },
   {
    "duration": 14,
    "start_time": "2024-03-25T15:03:14.829Z"
   },
   {
    "duration": 631,
    "start_time": "2024-03-25T15:03:14.844Z"
   },
   {
    "duration": 245,
    "start_time": "2024-03-25T15:03:15.479Z"
   },
   {
    "duration": 317,
    "start_time": "2024-03-25T15:03:15.726Z"
   },
   {
    "duration": 239,
    "start_time": "2024-03-25T15:03:16.044Z"
   },
   {
    "duration": 355,
    "start_time": "2024-03-25T15:03:16.284Z"
   },
   {
    "duration": 7,
    "start_time": "2024-03-25T15:03:16.640Z"
   },
   {
    "duration": 142,
    "start_time": "2024-03-25T15:03:16.649Z"
   },
   {
    "duration": 5,
    "start_time": "2024-03-25T15:03:16.792Z"
   },
   {
    "duration": 18,
    "start_time": "2024-03-25T15:03:16.798Z"
   },
   {
    "duration": 158,
    "start_time": "2024-03-25T15:03:16.817Z"
   },
   {
    "duration": 186,
    "start_time": "2024-03-25T15:03:16.980Z"
   },
   {
    "duration": 14,
    "start_time": "2024-03-25T15:03:17.168Z"
   },
   {
    "duration": 2,
    "start_time": "2024-03-25T15:03:17.183Z"
   },
   {
    "duration": 10,
    "start_time": "2024-03-25T15:03:17.186Z"
   },
   {
    "duration": 558,
    "start_time": "2024-03-25T15:03:17.198Z"
   },
   {
    "duration": 2,
    "start_time": "2024-03-25T15:03:17.758Z"
   },
   {
    "duration": 22,
    "start_time": "2024-03-25T15:03:17.761Z"
   },
   {
    "duration": 14,
    "start_time": "2024-03-25T15:03:17.784Z"
   },
   {
    "duration": 29,
    "start_time": "2024-03-25T15:03:17.799Z"
   },
   {
    "duration": 13,
    "start_time": "2024-03-25T15:03:17.830Z"
   },
   {
    "duration": 1362,
    "start_time": "2024-03-25T19:09:04.790Z"
   },
   {
    "duration": 78,
    "start_time": "2024-03-25T19:09:06.154Z"
   },
   {
    "duration": 13,
    "start_time": "2024-03-25T19:09:06.233Z"
   },
   {
    "duration": 3,
    "start_time": "2024-03-25T19:09:06.248Z"
   },
   {
    "duration": 12,
    "start_time": "2024-03-25T19:09:06.253Z"
   },
   {
    "duration": 19,
    "start_time": "2024-03-25T19:09:06.266Z"
   },
   {
    "duration": 33,
    "start_time": "2024-03-25T19:09:06.286Z"
   },
   {
    "duration": 20,
    "start_time": "2024-03-25T19:09:06.321Z"
   },
   {
    "duration": 24,
    "start_time": "2024-03-25T19:09:06.342Z"
   },
   {
    "duration": 10,
    "start_time": "2024-03-25T19:09:06.369Z"
   },
   {
    "duration": 23,
    "start_time": "2024-03-25T19:09:06.380Z"
   },
   {
    "duration": 22,
    "start_time": "2024-03-25T19:09:06.405Z"
   },
   {
    "duration": 91,
    "start_time": "2024-03-25T19:09:06.428Z"
   },
   {
    "duration": 9,
    "start_time": "2024-03-25T19:09:06.521Z"
   },
   {
    "duration": 17,
    "start_time": "2024-03-25T19:09:06.531Z"
   },
   {
    "duration": 8,
    "start_time": "2024-03-25T19:09:06.550Z"
   },
   {
    "duration": 34,
    "start_time": "2024-03-25T19:09:06.559Z"
   },
   {
    "duration": 24,
    "start_time": "2024-03-25T19:09:06.595Z"
   },
   {
    "duration": 80,
    "start_time": "2024-03-25T19:09:06.621Z"
   },
   {
    "duration": 8,
    "start_time": "2024-03-25T19:09:06.702Z"
   },
   {
    "duration": 15,
    "start_time": "2024-03-25T19:09:06.711Z"
   },
   {
    "duration": 13,
    "start_time": "2024-03-25T19:09:06.728Z"
   },
   {
    "duration": 30,
    "start_time": "2024-03-25T19:09:06.742Z"
   },
   {
    "duration": 6,
    "start_time": "2024-03-25T19:09:06.774Z"
   },
   {
    "duration": 26,
    "start_time": "2024-03-25T19:09:06.782Z"
   },
   {
    "duration": 28,
    "start_time": "2024-03-25T19:09:06.810Z"
   },
   {
    "duration": 626,
    "start_time": "2024-03-25T19:09:06.840Z"
   },
   {
    "duration": 229,
    "start_time": "2024-03-25T19:09:07.479Z"
   },
   {
    "duration": 347,
    "start_time": "2024-03-25T19:09:07.710Z"
   },
   {
    "duration": 238,
    "start_time": "2024-03-25T19:09:08.059Z"
   },
   {
    "duration": 392,
    "start_time": "2024-03-25T19:09:08.298Z"
   },
   {
    "duration": 7,
    "start_time": "2024-03-25T19:09:08.692Z"
   },
   {
    "duration": 179,
    "start_time": "2024-03-25T19:09:08.700Z"
   },
   {
    "duration": 5,
    "start_time": "2024-03-25T19:09:08.881Z"
   },
   {
    "duration": 17,
    "start_time": "2024-03-25T19:09:08.888Z"
   },
   {
    "duration": 162,
    "start_time": "2024-03-25T19:09:08.906Z"
   },
   {
    "duration": 180,
    "start_time": "2024-03-25T19:09:09.070Z"
   },
   {
    "duration": 5,
    "start_time": "2024-03-25T19:09:09.252Z"
   },
   {
    "duration": 5,
    "start_time": "2024-03-25T19:09:09.258Z"
   },
   {
    "duration": 15,
    "start_time": "2024-03-25T19:09:09.265Z"
   },
   {
    "duration": 571,
    "start_time": "2024-03-25T19:09:09.282Z"
   },
   {
    "duration": 3,
    "start_time": "2024-03-25T19:09:09.854Z"
   },
   {
    "duration": 24,
    "start_time": "2024-03-25T19:09:09.858Z"
   },
   {
    "duration": 10,
    "start_time": "2024-03-25T19:09:09.883Z"
   },
   {
    "duration": 35,
    "start_time": "2024-03-25T19:09:09.895Z"
   },
   {
    "duration": 14,
    "start_time": "2024-03-25T19:09:09.932Z"
   },
   {
    "duration": 18,
    "start_time": "2024-03-25T19:11:21.934Z"
   },
   {
    "duration": 13,
    "start_time": "2024-03-25T19:11:31.588Z"
   },
   {
    "duration": 1142,
    "start_time": "2024-03-25T19:25:47.327Z"
   },
   {
    "duration": 27,
    "start_time": "2024-03-25T19:25:48.471Z"
   },
   {
    "duration": 16,
    "start_time": "2024-03-25T19:25:48.499Z"
   },
   {
    "duration": 14,
    "start_time": "2024-03-25T19:25:48.518Z"
   },
   {
    "duration": 22,
    "start_time": "2024-03-25T19:25:48.533Z"
   },
   {
    "duration": 29,
    "start_time": "2024-03-25T19:25:48.557Z"
   },
   {
    "duration": 19,
    "start_time": "2024-03-25T19:25:48.587Z"
   },
   {
    "duration": 26,
    "start_time": "2024-03-25T19:25:48.607Z"
   },
   {
    "duration": 23,
    "start_time": "2024-03-25T19:25:48.635Z"
   },
   {
    "duration": 18,
    "start_time": "2024-03-25T19:25:48.662Z"
   },
   {
    "duration": 45,
    "start_time": "2024-03-25T19:25:48.682Z"
   },
   {
    "duration": 24,
    "start_time": "2024-03-25T19:25:48.729Z"
   },
   {
    "duration": 32,
    "start_time": "2024-03-25T19:25:48.755Z"
   },
   {
    "duration": 20,
    "start_time": "2024-03-25T19:25:48.789Z"
   },
   {
    "duration": 14,
    "start_time": "2024-03-25T19:25:48.811Z"
   },
   {
    "duration": 21,
    "start_time": "2024-03-25T19:25:48.826Z"
   },
   {
    "duration": 40,
    "start_time": "2024-03-25T19:25:48.848Z"
   },
   {
    "duration": 8,
    "start_time": "2024-03-25T19:25:48.890Z"
   },
   {
    "duration": 24,
    "start_time": "2024-03-25T19:25:48.899Z"
   },
   {
    "duration": 32,
    "start_time": "2024-03-25T19:25:48.924Z"
   },
   {
    "duration": 30,
    "start_time": "2024-03-25T19:25:48.958Z"
   },
   {
    "duration": 68,
    "start_time": "2024-03-25T19:25:48.990Z"
   },
   {
    "duration": 21,
    "start_time": "2024-03-25T19:25:49.060Z"
   },
   {
    "duration": 40,
    "start_time": "2024-03-25T19:25:49.082Z"
   },
   {
    "duration": 606,
    "start_time": "2024-03-25T19:25:49.124Z"
   },
   {
    "duration": 228,
    "start_time": "2024-03-25T19:25:49.732Z"
   },
   {
    "duration": 328,
    "start_time": "2024-03-25T19:25:49.962Z"
   },
   {
    "duration": 239,
    "start_time": "2024-03-25T19:25:50.295Z"
   },
   {
    "duration": 338,
    "start_time": "2024-03-25T19:25:50.536Z"
   },
   {
    "duration": 8,
    "start_time": "2024-03-25T19:25:50.875Z"
   },
   {
    "duration": 145,
    "start_time": "2024-03-25T19:25:50.884Z"
   },
   {
    "duration": 6,
    "start_time": "2024-03-25T19:25:51.031Z"
   },
   {
    "duration": 31,
    "start_time": "2024-03-25T19:25:51.039Z"
   },
   {
    "duration": 139,
    "start_time": "2024-03-25T19:25:51.072Z"
   },
   {
    "duration": 174,
    "start_time": "2024-03-25T19:25:51.213Z"
   },
   {
    "duration": 5,
    "start_time": "2024-03-25T19:25:51.389Z"
   },
   {
    "duration": 32,
    "start_time": "2024-03-25T19:25:51.396Z"
   },
   {
    "duration": 14,
    "start_time": "2024-03-25T19:25:51.430Z"
   },
   {
    "duration": 553,
    "start_time": "2024-03-25T19:25:51.445Z"
   },
   {
    "duration": 11,
    "start_time": "2024-03-25T19:25:52.000Z"
   },
   {
    "duration": 20,
    "start_time": "2024-03-25T19:25:52.012Z"
   },
   {
    "duration": 33,
    "start_time": "2024-03-25T19:25:52.034Z"
   },
   {
    "duration": 16,
    "start_time": "2024-03-25T19:25:52.081Z"
   },
   {
    "duration": 1182,
    "start_time": "2024-03-25T19:29:49.345Z"
   },
   {
    "duration": 26,
    "start_time": "2024-03-25T19:29:50.529Z"
   },
   {
    "duration": 12,
    "start_time": "2024-03-25T19:29:50.557Z"
   },
   {
    "duration": 4,
    "start_time": "2024-03-25T19:29:50.571Z"
   },
   {
    "duration": 31,
    "start_time": "2024-03-25T19:29:50.577Z"
   },
   {
    "duration": 16,
    "start_time": "2024-03-25T19:29:50.609Z"
   },
   {
    "duration": 26,
    "start_time": "2024-03-25T19:29:50.626Z"
   },
   {
    "duration": 11,
    "start_time": "2024-03-25T19:29:50.653Z"
   },
   {
    "duration": 20,
    "start_time": "2024-03-25T19:29:50.665Z"
   },
   {
    "duration": 21,
    "start_time": "2024-03-25T19:29:50.688Z"
   },
   {
    "duration": 55,
    "start_time": "2024-03-25T19:29:50.711Z"
   },
   {
    "duration": 10,
    "start_time": "2024-03-25T19:29:50.767Z"
   },
   {
    "duration": 19,
    "start_time": "2024-03-25T19:29:50.779Z"
   },
   {
    "duration": 23,
    "start_time": "2024-03-25T19:29:50.799Z"
   },
   {
    "duration": 31,
    "start_time": "2024-03-25T19:29:50.823Z"
   },
   {
    "duration": 9,
    "start_time": "2024-03-25T19:29:50.855Z"
   },
   {
    "duration": 23,
    "start_time": "2024-03-25T19:29:50.865Z"
   },
   {
    "duration": 8,
    "start_time": "2024-03-25T19:29:50.890Z"
   },
   {
    "duration": 32,
    "start_time": "2024-03-25T19:29:50.899Z"
   },
   {
    "duration": 23,
    "start_time": "2024-03-25T19:29:50.933Z"
   },
   {
    "duration": 20,
    "start_time": "2024-03-25T19:29:50.958Z"
   },
   {
    "duration": 25,
    "start_time": "2024-03-25T19:29:50.979Z"
   },
   {
    "duration": 43,
    "start_time": "2024-03-25T19:29:51.006Z"
   },
   {
    "duration": 17,
    "start_time": "2024-03-25T19:29:51.051Z"
   },
   {
    "duration": 596,
    "start_time": "2024-03-25T19:29:51.069Z"
   },
   {
    "duration": 227,
    "start_time": "2024-03-25T19:29:51.667Z"
   },
   {
    "duration": 327,
    "start_time": "2024-03-25T19:29:51.895Z"
   },
   {
    "duration": 238,
    "start_time": "2024-03-25T19:29:52.227Z"
   },
   {
    "duration": 375,
    "start_time": "2024-03-25T19:29:52.467Z"
   },
   {
    "duration": 6,
    "start_time": "2024-03-25T19:29:52.844Z"
   },
   {
    "duration": 152,
    "start_time": "2024-03-25T19:29:52.852Z"
   },
   {
    "duration": 5,
    "start_time": "2024-03-25T19:29:53.006Z"
   },
   {
    "duration": 29,
    "start_time": "2024-03-25T19:29:53.013Z"
   },
   {
    "duration": 139,
    "start_time": "2024-03-25T19:29:53.043Z"
   },
   {
    "duration": 177,
    "start_time": "2024-03-25T19:29:53.183Z"
   },
   {
    "duration": 5,
    "start_time": "2024-03-25T19:29:53.361Z"
   },
   {
    "duration": 550,
    "start_time": "2024-03-25T19:29:53.379Z"
   },
   {
    "duration": 11,
    "start_time": "2024-03-25T19:29:53.930Z"
   },
   {
    "duration": 41,
    "start_time": "2024-03-25T19:29:53.942Z"
   },
   {
    "duration": 31,
    "start_time": "2024-03-25T19:29:53.985Z"
   },
   {
    "duration": 14,
    "start_time": "2024-03-25T19:29:54.018Z"
   },
   {
    "duration": 4,
    "start_time": "2024-03-25T19:32:10.186Z"
   },
   {
    "duration": 3,
    "start_time": "2024-03-25T19:32:14.705Z"
   },
   {
    "duration": 1084,
    "start_time": "2024-03-25T19:32:27.338Z"
   },
   {
    "duration": 26,
    "start_time": "2024-03-25T19:32:28.424Z"
   },
   {
    "duration": 12,
    "start_time": "2024-03-25T19:32:28.452Z"
   },
   {
    "duration": 3,
    "start_time": "2024-03-25T19:32:28.466Z"
   },
   {
    "duration": 19,
    "start_time": "2024-03-25T19:32:28.471Z"
   },
   {
    "duration": 6,
    "start_time": "2024-03-25T19:32:28.492Z"
   },
   {
    "duration": 13,
    "start_time": "2024-03-25T19:32:28.500Z"
   },
   {
    "duration": 4,
    "start_time": "2024-03-25T19:32:28.515Z"
   },
   {
    "duration": 15,
    "start_time": "2024-03-25T19:32:28.520Z"
   },
   {
    "duration": 13,
    "start_time": "2024-03-25T19:32:28.538Z"
   },
   {
    "duration": 71,
    "start_time": "2024-03-25T19:32:28.552Z"
   },
   {
    "duration": 8,
    "start_time": "2024-03-25T19:32:28.625Z"
   },
   {
    "duration": 18,
    "start_time": "2024-03-25T19:32:28.634Z"
   },
   {
    "duration": 7,
    "start_time": "2024-03-25T19:32:28.654Z"
   },
   {
    "duration": 7,
    "start_time": "2024-03-25T19:32:28.663Z"
   },
   {
    "duration": 14,
    "start_time": "2024-03-25T19:32:28.672Z"
   },
   {
    "duration": 20,
    "start_time": "2024-03-25T19:32:28.689Z"
   },
   {
    "duration": 8,
    "start_time": "2024-03-25T19:32:28.711Z"
   },
   {
    "duration": 19,
    "start_time": "2024-03-25T19:32:28.720Z"
   },
   {
    "duration": 21,
    "start_time": "2024-03-25T19:32:28.741Z"
   },
   {
    "duration": 7,
    "start_time": "2024-03-25T19:32:28.764Z"
   },
   {
    "duration": 6,
    "start_time": "2024-03-25T19:32:28.772Z"
   },
   {
    "duration": 8,
    "start_time": "2024-03-25T19:32:28.779Z"
   },
   {
    "duration": 7,
    "start_time": "2024-03-25T19:32:28.789Z"
   },
   {
    "duration": 595,
    "start_time": "2024-03-25T19:32:28.797Z"
   },
   {
    "duration": 227,
    "start_time": "2024-03-25T19:32:29.393Z"
   },
   {
    "duration": 311,
    "start_time": "2024-03-25T19:32:29.622Z"
   },
   {
    "duration": 236,
    "start_time": "2024-03-25T19:32:29.936Z"
   },
   {
    "duration": 364,
    "start_time": "2024-03-25T19:32:30.173Z"
   },
   {
    "duration": 8,
    "start_time": "2024-03-25T19:32:30.538Z"
   },
   {
    "duration": 979,
    "start_time": "2024-03-25T19:32:30.548Z"
   },
   {
    "duration": 11,
    "start_time": "2024-03-25T19:32:31.529Z"
   },
   {
    "duration": 103,
    "start_time": "2024-03-25T19:32:31.542Z"
   },
   {
    "duration": 173,
    "start_time": "2024-03-25T19:32:31.647Z"
   },
   {
    "duration": 183,
    "start_time": "2024-03-25T19:32:31.822Z"
   },
   {
    "duration": 3,
    "start_time": "2024-03-25T19:32:32.007Z"
   },
   {
    "duration": 652,
    "start_time": "2024-03-25T19:32:32.012Z"
   },
   {
    "duration": 19,
    "start_time": "2024-03-25T19:32:32.666Z"
   },
   {
    "duration": 22,
    "start_time": "2024-03-25T19:32:32.687Z"
   },
   {
    "duration": 59,
    "start_time": "2024-03-25T19:32:32.711Z"
   },
   {
    "duration": 14,
    "start_time": "2024-03-25T19:32:32.771Z"
   },
   {
    "duration": 5,
    "start_time": "2024-03-25T19:32:53.618Z"
   },
   {
    "duration": 174,
    "start_time": "2024-03-25T19:35:01.315Z"
   },
   {
    "duration": 1189,
    "start_time": "2024-03-25T19:37:28.363Z"
   },
   {
    "duration": 27,
    "start_time": "2024-03-25T19:37:29.554Z"
   },
   {
    "duration": 15,
    "start_time": "2024-03-25T19:37:29.582Z"
   },
   {
    "duration": 4,
    "start_time": "2024-03-25T19:37:29.599Z"
   },
   {
    "duration": 16,
    "start_time": "2024-03-25T19:37:29.605Z"
   },
   {
    "duration": 9,
    "start_time": "2024-03-25T19:37:29.623Z"
   },
   {
    "duration": 15,
    "start_time": "2024-03-25T19:37:29.634Z"
   },
   {
    "duration": 32,
    "start_time": "2024-03-25T19:37:29.650Z"
   },
   {
    "duration": 33,
    "start_time": "2024-03-25T19:37:29.684Z"
   },
   {
    "duration": 15,
    "start_time": "2024-03-25T19:37:29.721Z"
   },
   {
    "duration": 37,
    "start_time": "2024-03-25T19:37:29.738Z"
   },
   {
    "duration": 9,
    "start_time": "2024-03-25T19:37:29.777Z"
   },
   {
    "duration": 62,
    "start_time": "2024-03-25T19:37:29.788Z"
   },
   {
    "duration": 7,
    "start_time": "2024-03-25T19:37:29.852Z"
   },
   {
    "duration": 6,
    "start_time": "2024-03-25T19:37:29.861Z"
   },
   {
    "duration": 4,
    "start_time": "2024-03-25T19:37:29.869Z"
   },
   {
    "duration": 15,
    "start_time": "2024-03-25T19:37:29.874Z"
   },
   {
    "duration": 8,
    "start_time": "2024-03-25T19:37:29.891Z"
   },
   {
    "duration": 14,
    "start_time": "2024-03-25T19:37:29.900Z"
   },
   {
    "duration": 51,
    "start_time": "2024-03-25T19:37:29.916Z"
   },
   {
    "duration": 34,
    "start_time": "2024-03-25T19:37:29.968Z"
   },
   {
    "duration": 60,
    "start_time": "2024-03-25T19:37:30.004Z"
   },
   {
    "duration": 117,
    "start_time": "2024-03-25T19:37:30.066Z"
   },
   {
    "duration": 291,
    "start_time": "2024-03-25T19:37:30.185Z"
   },
   {
    "duration": 949,
    "start_time": "2024-03-25T19:37:30.478Z"
   },
   {
    "duration": 241,
    "start_time": "2024-03-25T19:37:31.428Z"
   },
   {
    "duration": 346,
    "start_time": "2024-03-25T19:37:31.671Z"
   },
   {
    "duration": 268,
    "start_time": "2024-03-25T19:37:32.020Z"
   },
   {
    "duration": 355,
    "start_time": "2024-03-25T19:37:32.290Z"
   },
   {
    "duration": 8,
    "start_time": "2024-03-25T19:37:32.647Z"
   },
   {
    "duration": 148,
    "start_time": "2024-03-25T19:37:32.657Z"
   },
   {
    "duration": 6,
    "start_time": "2024-03-25T19:37:32.807Z"
   },
   {
    "duration": 11,
    "start_time": "2024-03-25T19:37:32.815Z"
   },
   {
    "duration": 159,
    "start_time": "2024-03-25T19:37:32.828Z"
   },
   {
    "duration": 191,
    "start_time": "2024-03-25T19:37:32.989Z"
   },
   {
    "duration": 3,
    "start_time": "2024-03-25T19:37:33.182Z"
   },
   {
    "duration": 565,
    "start_time": "2024-03-25T19:37:33.187Z"
   },
   {
    "duration": 11,
    "start_time": "2024-03-25T19:37:33.754Z"
   },
   {
    "duration": 9,
    "start_time": "2024-03-25T19:37:33.780Z"
   },
   {
    "duration": 31,
    "start_time": "2024-03-25T19:37:33.791Z"
   },
   {
    "duration": 14,
    "start_time": "2024-03-25T19:37:33.824Z"
   },
   {
    "duration": 1183,
    "start_time": "2024-03-25T19:42:42.038Z"
   },
   {
    "duration": 26,
    "start_time": "2024-03-25T19:42:43.223Z"
   },
   {
    "duration": 12,
    "start_time": "2024-03-25T19:42:43.251Z"
   },
   {
    "duration": 3,
    "start_time": "2024-03-25T19:42:43.265Z"
   },
   {
    "duration": 16,
    "start_time": "2024-03-25T19:42:43.269Z"
   },
   {
    "duration": 6,
    "start_time": "2024-03-25T19:42:43.286Z"
   },
   {
    "duration": 8,
    "start_time": "2024-03-25T19:42:43.293Z"
   },
   {
    "duration": 7,
    "start_time": "2024-03-25T19:42:43.302Z"
   },
   {
    "duration": 14,
    "start_time": "2024-03-25T19:42:43.310Z"
   },
   {
    "duration": 12,
    "start_time": "2024-03-25T19:42:43.327Z"
   },
   {
    "duration": 39,
    "start_time": "2024-03-25T19:42:43.341Z"
   },
   {
    "duration": 8,
    "start_time": "2024-03-25T19:42:43.382Z"
   },
   {
    "duration": 18,
    "start_time": "2024-03-25T19:42:43.391Z"
   },
   {
    "duration": 6,
    "start_time": "2024-03-25T19:42:43.410Z"
   },
   {
    "duration": 5,
    "start_time": "2024-03-25T19:42:43.417Z"
   },
   {
    "duration": 4,
    "start_time": "2024-03-25T19:42:43.423Z"
   },
   {
    "duration": 16,
    "start_time": "2024-03-25T19:42:43.428Z"
   },
   {
    "duration": 7,
    "start_time": "2024-03-25T19:42:43.445Z"
   },
   {
    "duration": 10,
    "start_time": "2024-03-25T19:42:43.480Z"
   },
   {
    "duration": 6,
    "start_time": "2024-03-25T19:42:43.491Z"
   },
   {
    "duration": 7,
    "start_time": "2024-03-25T19:42:43.498Z"
   },
   {
    "duration": 5,
    "start_time": "2024-03-25T19:42:43.506Z"
   },
   {
    "duration": 7,
    "start_time": "2024-03-25T19:42:43.512Z"
   },
   {
    "duration": 10,
    "start_time": "2024-03-25T19:42:43.520Z"
   },
   {
    "duration": 628,
    "start_time": "2024-03-25T19:42:43.531Z"
   },
   {
    "duration": 236,
    "start_time": "2024-03-25T19:42:44.161Z"
   },
   {
    "duration": 319,
    "start_time": "2024-03-25T19:42:44.399Z"
   },
   {
    "duration": 233,
    "start_time": "2024-03-25T19:42:44.721Z"
   },
   {
    "duration": 372,
    "start_time": "2024-03-25T19:42:44.956Z"
   },
   {
    "duration": 7,
    "start_time": "2024-03-25T19:42:45.329Z"
   },
   {
    "duration": 160,
    "start_time": "2024-03-25T19:42:45.338Z"
   },
   {
    "duration": 5,
    "start_time": "2024-03-25T19:42:45.500Z"
   },
   {
    "duration": 41,
    "start_time": "2024-03-25T19:42:45.506Z"
   },
   {
    "duration": 169,
    "start_time": "2024-03-25T19:42:45.549Z"
   },
   {
    "duration": 184,
    "start_time": "2024-03-25T19:42:45.720Z"
   },
   {
    "duration": 3,
    "start_time": "2024-03-25T19:42:45.906Z"
   },
   {
    "duration": 572,
    "start_time": "2024-03-25T19:42:45.911Z"
   },
   {
    "duration": 12,
    "start_time": "2024-03-25T19:42:46.485Z"
   },
   {
    "duration": 12,
    "start_time": "2024-03-25T19:42:46.499Z"
   },
   {
    "duration": 59,
    "start_time": "2024-03-25T19:42:46.521Z"
   },
   {
    "duration": 14,
    "start_time": "2024-03-25T19:42:46.582Z"
   },
   {
    "duration": 1245,
    "start_time": "2024-03-25T20:22:13.076Z"
   },
   {
    "duration": 28,
    "start_time": "2024-03-25T20:22:14.323Z"
   },
   {
    "duration": 15,
    "start_time": "2024-03-25T20:22:14.352Z"
   },
   {
    "duration": 3,
    "start_time": "2024-03-25T20:22:14.369Z"
   },
   {
    "duration": 23,
    "start_time": "2024-03-25T20:22:14.374Z"
   },
   {
    "duration": 16,
    "start_time": "2024-03-25T20:22:14.398Z"
   },
   {
    "duration": 13,
    "start_time": "2024-03-25T20:22:14.416Z"
   },
   {
    "duration": 22,
    "start_time": "2024-03-25T20:22:14.431Z"
   },
   {
    "duration": 20,
    "start_time": "2024-03-25T20:22:14.455Z"
   },
   {
    "duration": 13,
    "start_time": "2024-03-25T20:22:14.478Z"
   },
   {
    "duration": 58,
    "start_time": "2024-03-25T20:22:14.492Z"
   },
   {
    "duration": 8,
    "start_time": "2024-03-25T20:22:14.552Z"
   },
   {
    "duration": 24,
    "start_time": "2024-03-25T20:22:14.562Z"
   },
   {
    "duration": 15,
    "start_time": "2024-03-25T20:22:14.588Z"
   },
   {
    "duration": 10,
    "start_time": "2024-03-25T20:22:14.605Z"
   },
   {
    "duration": 5,
    "start_time": "2024-03-25T20:22:14.617Z"
   },
   {
    "duration": 20,
    "start_time": "2024-03-25T20:22:14.624Z"
   },
   {
    "duration": 15,
    "start_time": "2024-03-25T20:22:14.645Z"
   },
   {
    "duration": 22,
    "start_time": "2024-03-25T20:22:14.662Z"
   },
   {
    "duration": 10,
    "start_time": "2024-03-25T20:22:14.686Z"
   },
   {
    "duration": 7,
    "start_time": "2024-03-25T20:22:14.698Z"
   },
   {
    "duration": 16,
    "start_time": "2024-03-25T20:22:14.706Z"
   },
   {
    "duration": 16,
    "start_time": "2024-03-25T20:22:14.724Z"
   },
   {
    "duration": 14,
    "start_time": "2024-03-25T20:22:14.742Z"
   },
   {
    "duration": 633,
    "start_time": "2024-03-25T20:22:14.758Z"
   },
   {
    "duration": 244,
    "start_time": "2024-03-25T20:22:15.393Z"
   },
   {
    "duration": 318,
    "start_time": "2024-03-25T20:22:15.639Z"
   },
   {
    "duration": 272,
    "start_time": "2024-03-25T20:22:15.961Z"
   },
   {
    "duration": 360,
    "start_time": "2024-03-25T20:22:16.234Z"
   },
   {
    "duration": 7,
    "start_time": "2024-03-25T20:22:16.596Z"
   },
   {
    "duration": 169,
    "start_time": "2024-03-25T20:22:16.604Z"
   },
   {
    "duration": 16,
    "start_time": "2024-03-25T20:22:16.775Z"
   },
   {
    "duration": 18,
    "start_time": "2024-03-25T20:22:16.793Z"
   },
   {
    "duration": 189,
    "start_time": "2024-03-25T20:22:16.813Z"
   },
   {
    "duration": 222,
    "start_time": "2024-03-25T20:22:17.004Z"
   },
   {
    "duration": 4,
    "start_time": "2024-03-25T20:22:17.229Z"
   },
   {
    "duration": 664,
    "start_time": "2024-03-25T20:22:17.236Z"
   },
   {
    "duration": 13,
    "start_time": "2024-03-25T20:22:17.902Z"
   },
   {
    "duration": 34,
    "start_time": "2024-03-25T20:22:17.917Z"
   },
   {
    "duration": 48,
    "start_time": "2024-03-25T20:22:17.952Z"
   },
   {
    "duration": 18,
    "start_time": "2024-03-25T20:22:18.003Z"
   },
   {
    "duration": 1183,
    "start_time": "2024-03-25T20:36:11.834Z"
   },
   {
    "duration": 28,
    "start_time": "2024-03-25T20:36:13.019Z"
   },
   {
    "duration": 14,
    "start_time": "2024-03-25T20:36:13.048Z"
   },
   {
    "duration": 8,
    "start_time": "2024-03-25T20:36:13.064Z"
   },
   {
    "duration": 14,
    "start_time": "2024-03-25T20:36:13.074Z"
   },
   {
    "duration": 6,
    "start_time": "2024-03-25T20:36:13.089Z"
   },
   {
    "duration": 10,
    "start_time": "2024-03-25T20:36:13.097Z"
   },
   {
    "duration": 6,
    "start_time": "2024-03-25T20:36:13.108Z"
   },
   {
    "duration": 18,
    "start_time": "2024-03-25T20:36:13.115Z"
   },
   {
    "duration": 28,
    "start_time": "2024-03-25T20:36:13.135Z"
   },
   {
    "duration": 45,
    "start_time": "2024-03-25T20:36:13.165Z"
   },
   {
    "duration": 9,
    "start_time": "2024-03-25T20:36:13.212Z"
   },
   {
    "duration": 34,
    "start_time": "2024-03-25T20:36:13.224Z"
   },
   {
    "duration": 12,
    "start_time": "2024-03-25T20:36:13.259Z"
   },
   {
    "duration": 10,
    "start_time": "2024-03-25T20:36:13.273Z"
   },
   {
    "duration": 8,
    "start_time": "2024-03-25T20:36:13.285Z"
   },
   {
    "duration": 20,
    "start_time": "2024-03-25T20:36:13.294Z"
   },
   {
    "duration": 8,
    "start_time": "2024-03-25T20:36:13.316Z"
   },
   {
    "duration": 38,
    "start_time": "2024-03-25T20:36:13.326Z"
   },
   {
    "duration": 17,
    "start_time": "2024-03-25T20:36:13.366Z"
   },
   {
    "duration": 7,
    "start_time": "2024-03-25T20:36:13.385Z"
   },
   {
    "duration": 6,
    "start_time": "2024-03-25T20:36:13.393Z"
   },
   {
    "duration": 9,
    "start_time": "2024-03-25T20:36:13.400Z"
   },
   {
    "duration": 11,
    "start_time": "2024-03-25T20:36:13.411Z"
   },
   {
    "duration": 650,
    "start_time": "2024-03-25T20:36:13.424Z"
   },
   {
    "duration": 257,
    "start_time": "2024-03-25T20:36:14.075Z"
   },
   {
    "duration": 319,
    "start_time": "2024-03-25T20:36:14.333Z"
   },
   {
    "duration": 255,
    "start_time": "2024-03-25T20:36:14.655Z"
   },
   {
    "duration": 355,
    "start_time": "2024-03-25T20:36:14.912Z"
   },
   {
    "duration": 7,
    "start_time": "2024-03-25T20:36:15.269Z"
   },
   {
    "duration": 463,
    "start_time": "2024-03-25T20:36:15.278Z"
   },
   {
    "duration": 7,
    "start_time": "2024-03-25T20:36:15.743Z"
   },
   {
    "duration": 27,
    "start_time": "2024-03-25T20:36:15.751Z"
   },
   {
    "duration": 180,
    "start_time": "2024-03-25T20:36:15.779Z"
   },
   {
    "duration": 193,
    "start_time": "2024-03-25T20:36:15.961Z"
   },
   {
    "duration": 4,
    "start_time": "2024-03-25T20:36:16.155Z"
   },
   {
    "duration": 697,
    "start_time": "2024-03-25T20:36:16.160Z"
   },
   {
    "duration": 16,
    "start_time": "2024-03-25T20:36:16.859Z"
   },
   {
    "duration": 26,
    "start_time": "2024-03-25T20:36:16.877Z"
   },
   {
    "duration": 58,
    "start_time": "2024-03-25T20:36:16.905Z"
   },
   {
    "duration": 16,
    "start_time": "2024-03-25T20:36:16.965Z"
   },
   {
    "duration": 13,
    "start_time": "2024-03-25T20:38:52.210Z"
   },
   {
    "duration": 13,
    "start_time": "2024-03-25T20:50:17.891Z"
   },
   {
    "duration": 12,
    "start_time": "2024-03-25T20:50:31.642Z"
   },
   {
    "duration": 8,
    "start_time": "2024-03-25T20:53:51.629Z"
   },
   {
    "duration": 7,
    "start_time": "2024-03-25T20:55:58.221Z"
   },
   {
    "duration": 4,
    "start_time": "2024-03-25T20:59:41.210Z"
   },
   {
    "duration": 5,
    "start_time": "2024-03-25T21:02:15.151Z"
   },
   {
    "duration": 96,
    "start_time": "2024-03-25T21:13:37.711Z"
   },
   {
    "duration": 4,
    "start_time": "2024-03-25T21:13:49.204Z"
   },
   {
    "duration": 9,
    "start_time": "2024-03-25T21:14:09.101Z"
   },
   {
    "duration": 8,
    "start_time": "2024-03-25T21:17:56.774Z"
   },
   {
    "duration": 33,
    "start_time": "2024-03-25T21:18:01.264Z"
   },
   {
    "duration": 1130,
    "start_time": "2024-03-25T21:20:44.101Z"
   },
   {
    "duration": 27,
    "start_time": "2024-03-25T21:20:45.233Z"
   },
   {
    "duration": 30,
    "start_time": "2024-03-25T21:20:45.262Z"
   },
   {
    "duration": 18,
    "start_time": "2024-03-25T21:20:45.294Z"
   },
   {
    "duration": 27,
    "start_time": "2024-03-25T21:20:45.314Z"
   },
   {
    "duration": 26,
    "start_time": "2024-03-25T21:20:45.343Z"
   },
   {
    "duration": 21,
    "start_time": "2024-03-25T21:20:45.370Z"
   },
   {
    "duration": 37,
    "start_time": "2024-03-25T21:20:45.392Z"
   },
   {
    "duration": 28,
    "start_time": "2024-03-25T21:20:45.431Z"
   },
   {
    "duration": 15,
    "start_time": "2024-03-25T21:20:45.462Z"
   },
   {
    "duration": 52,
    "start_time": "2024-03-25T21:20:45.478Z"
   },
   {
    "duration": 8,
    "start_time": "2024-03-25T21:20:45.532Z"
   },
   {
    "duration": 25,
    "start_time": "2024-03-25T21:20:45.541Z"
   },
   {
    "duration": 10,
    "start_time": "2024-03-25T21:20:45.567Z"
   },
   {
    "duration": 18,
    "start_time": "2024-03-25T21:20:45.578Z"
   },
   {
    "duration": 7,
    "start_time": "2024-03-25T21:20:45.597Z"
   },
   {
    "duration": 25,
    "start_time": "2024-03-25T21:20:45.606Z"
   },
   {
    "duration": 7,
    "start_time": "2024-03-25T21:20:45.632Z"
   },
   {
    "duration": 24,
    "start_time": "2024-03-25T21:20:45.640Z"
   },
   {
    "duration": 19,
    "start_time": "2024-03-25T21:20:45.665Z"
   },
   {
    "duration": 16,
    "start_time": "2024-03-25T21:20:45.686Z"
   },
   {
    "duration": 9,
    "start_time": "2024-03-25T21:20:45.703Z"
   },
   {
    "duration": 9,
    "start_time": "2024-03-25T21:20:45.713Z"
   },
   {
    "duration": 9,
    "start_time": "2024-03-25T21:20:45.724Z"
   },
   {
    "duration": 8,
    "start_time": "2024-03-25T21:20:45.734Z"
   },
   {
    "duration": 578,
    "start_time": "2024-03-25T21:20:45.744Z"
   },
   {
    "duration": 227,
    "start_time": "2024-03-25T21:20:46.323Z"
   },
   {
    "duration": 342,
    "start_time": "2024-03-25T21:20:46.553Z"
   },
   {
    "duration": 229,
    "start_time": "2024-03-25T21:20:46.896Z"
   },
   {
    "duration": 349,
    "start_time": "2024-03-25T21:20:47.126Z"
   },
   {
    "duration": 6,
    "start_time": "2024-03-25T21:20:47.477Z"
   },
   {
    "duration": 140,
    "start_time": "2024-03-25T21:20:47.484Z"
   },
   {
    "duration": 5,
    "start_time": "2024-03-25T21:20:47.625Z"
   },
   {
    "duration": 9,
    "start_time": "2024-03-25T21:20:47.631Z"
   },
   {
    "duration": 162,
    "start_time": "2024-03-25T21:20:47.641Z"
   },
   {
    "duration": 163,
    "start_time": "2024-03-25T21:20:47.805Z"
   },
   {
    "duration": 11,
    "start_time": "2024-03-25T21:20:47.970Z"
   },
   {
    "duration": 535,
    "start_time": "2024-03-25T21:20:47.983Z"
   },
   {
    "duration": 11,
    "start_time": "2024-03-25T21:20:48.520Z"
   },
   {
    "duration": 9,
    "start_time": "2024-03-25T21:20:48.533Z"
   },
   {
    "duration": 20,
    "start_time": "2024-03-25T21:20:48.543Z"
   },
   {
    "duration": 36,
    "start_time": "2024-03-25T21:20:48.564Z"
   },
   {
    "duration": 15,
    "start_time": "2024-03-25T21:20:48.601Z"
   },
   {
    "duration": 26,
    "start_time": "2024-03-25T21:22:45.291Z"
   },
   {
    "duration": 456,
    "start_time": "2024-03-25T21:23:26.335Z"
   },
   {
    "duration": 110,
    "start_time": "2024-03-25T21:34:48.881Z"
   },
   {
    "duration": 261,
    "start_time": "2024-03-25T21:35:20.416Z"
   },
   {
    "duration": 28,
    "start_time": "2024-03-25T21:35:28.403Z"
   },
   {
    "duration": 1113,
    "start_time": "2024-03-25T21:36:23.020Z"
   },
   {
    "duration": 26,
    "start_time": "2024-03-25T21:36:24.134Z"
   },
   {
    "duration": 13,
    "start_time": "2024-03-25T21:36:24.161Z"
   },
   {
    "duration": 9,
    "start_time": "2024-03-25T21:36:24.177Z"
   },
   {
    "duration": 29,
    "start_time": "2024-03-25T21:36:24.188Z"
   },
   {
    "duration": 27,
    "start_time": "2024-03-25T21:36:24.219Z"
   },
   {
    "duration": 9,
    "start_time": "2024-03-25T21:36:24.248Z"
   },
   {
    "duration": 37,
    "start_time": "2024-03-25T21:36:24.258Z"
   },
   {
    "duration": 24,
    "start_time": "2024-03-25T21:36:24.297Z"
   },
   {
    "duration": 12,
    "start_time": "2024-03-25T21:36:24.324Z"
   },
   {
    "duration": 43,
    "start_time": "2024-03-25T21:36:24.337Z"
   },
   {
    "duration": 8,
    "start_time": "2024-03-25T21:36:24.381Z"
   },
   {
    "duration": 10,
    "start_time": "2024-03-25T21:36:24.390Z"
   },
   {
    "duration": 7,
    "start_time": "2024-03-25T21:36:24.401Z"
   },
   {
    "duration": 4,
    "start_time": "2024-03-25T21:36:24.410Z"
   },
   {
    "duration": 4,
    "start_time": "2024-03-25T21:36:24.416Z"
   },
   {
    "duration": 15,
    "start_time": "2024-03-25T21:36:24.421Z"
   },
   {
    "duration": 7,
    "start_time": "2024-03-25T21:36:24.438Z"
   },
   {
    "duration": 35,
    "start_time": "2024-03-25T21:36:24.446Z"
   },
   {
    "duration": 5,
    "start_time": "2024-03-25T21:36:24.483Z"
   },
   {
    "duration": 8,
    "start_time": "2024-03-25T21:36:24.489Z"
   },
   {
    "duration": 12,
    "start_time": "2024-03-25T21:36:24.498Z"
   },
   {
    "duration": 6,
    "start_time": "2024-03-25T21:36:24.512Z"
   },
   {
    "duration": 13,
    "start_time": "2024-03-25T21:36:24.520Z"
   },
   {
    "duration": 6,
    "start_time": "2024-03-25T21:36:24.534Z"
   },
   {
    "duration": 605,
    "start_time": "2024-03-25T21:36:24.542Z"
   },
   {
    "duration": 221,
    "start_time": "2024-03-25T21:36:25.148Z"
   },
   {
    "duration": 338,
    "start_time": "2024-03-25T21:36:25.372Z"
   },
   {
    "duration": 240,
    "start_time": "2024-03-25T21:36:25.712Z"
   },
   {
    "duration": 388,
    "start_time": "2024-03-25T21:36:25.955Z"
   },
   {
    "duration": 8,
    "start_time": "2024-03-25T21:36:26.344Z"
   },
   {
    "duration": 138,
    "start_time": "2024-03-25T21:36:26.354Z"
   },
   {
    "duration": 6,
    "start_time": "2024-03-25T21:36:26.493Z"
   },
   {
    "duration": 20,
    "start_time": "2024-03-25T21:36:26.501Z"
   },
   {
    "duration": 163,
    "start_time": "2024-03-25T21:36:26.523Z"
   },
   {
    "duration": 166,
    "start_time": "2024-03-25T21:36:26.688Z"
   },
   {
    "duration": 5,
    "start_time": "2024-03-25T21:36:26.855Z"
   },
   {
    "duration": 302,
    "start_time": "2024-03-25T21:36:26.861Z"
   },
   {
    "duration": 0,
    "start_time": "2024-03-25T21:36:27.165Z"
   },
   {
    "duration": 0,
    "start_time": "2024-03-25T21:36:27.166Z"
   },
   {
    "duration": 0,
    "start_time": "2024-03-25T21:36:27.167Z"
   },
   {
    "duration": 0,
    "start_time": "2024-03-25T21:36:27.167Z"
   },
   {
    "duration": 0,
    "start_time": "2024-03-25T21:36:27.169Z"
   },
   {
    "duration": 0,
    "start_time": "2024-03-25T21:36:27.180Z"
   },
   {
    "duration": 1585,
    "start_time": "2024-03-25T21:39:34.575Z"
   },
   {
    "duration": 15,
    "start_time": "2024-03-25T21:43:39.642Z"
   },
   {
    "duration": 39,
    "start_time": "2024-03-25T21:46:43.391Z"
   },
   {
    "duration": 116,
    "start_time": "2024-03-25T21:48:07.533Z"
   },
   {
    "duration": 449,
    "start_time": "2024-03-25T21:48:32.479Z"
   },
   {
    "duration": 25,
    "start_time": "2024-03-25T21:48:35.531Z"
   },
   {
    "duration": 46,
    "start_time": "2024-03-26T08:25:07.325Z"
   },
   {
    "duration": 1257,
    "start_time": "2024-03-26T08:25:22.675Z"
   },
   {
    "duration": 74,
    "start_time": "2024-03-26T08:25:23.934Z"
   },
   {
    "duration": 12,
    "start_time": "2024-03-26T08:25:24.009Z"
   },
   {
    "duration": 18,
    "start_time": "2024-03-26T08:25:24.023Z"
   },
   {
    "duration": 21,
    "start_time": "2024-03-26T08:25:24.042Z"
   },
   {
    "duration": 43,
    "start_time": "2024-03-26T08:25:24.064Z"
   },
   {
    "duration": 20,
    "start_time": "2024-03-26T08:25:24.109Z"
   },
   {
    "duration": 10,
    "start_time": "2024-03-26T08:25:24.131Z"
   },
   {
    "duration": 17,
    "start_time": "2024-03-26T08:25:24.142Z"
   },
   {
    "duration": 13,
    "start_time": "2024-03-26T08:25:24.161Z"
   },
   {
    "duration": 105,
    "start_time": "2024-03-26T08:25:24.175Z"
   },
   {
    "duration": 8,
    "start_time": "2024-03-26T08:25:24.282Z"
   },
   {
    "duration": 25,
    "start_time": "2024-03-26T08:25:24.291Z"
   },
   {
    "duration": 47,
    "start_time": "2024-03-26T08:25:24.318Z"
   },
   {
    "duration": 19,
    "start_time": "2024-03-26T08:25:24.366Z"
   },
   {
    "duration": 10,
    "start_time": "2024-03-26T08:25:24.386Z"
   },
   {
    "duration": 76,
    "start_time": "2024-03-26T08:25:24.398Z"
   },
   {
    "duration": 8,
    "start_time": "2024-03-26T08:25:24.475Z"
   },
   {
    "duration": 33,
    "start_time": "2024-03-26T08:25:24.484Z"
   },
   {
    "duration": 15,
    "start_time": "2024-03-26T08:25:24.518Z"
   },
   {
    "duration": 20,
    "start_time": "2024-03-26T08:25:24.534Z"
   },
   {
    "duration": 23,
    "start_time": "2024-03-26T08:25:24.556Z"
   },
   {
    "duration": 19,
    "start_time": "2024-03-26T08:25:24.581Z"
   },
   {
    "duration": 24,
    "start_time": "2024-03-26T08:25:24.602Z"
   },
   {
    "duration": 15,
    "start_time": "2024-03-26T08:25:24.627Z"
   },
   {
    "duration": 582,
    "start_time": "2024-03-26T08:25:24.643Z"
   },
   {
    "duration": 208,
    "start_time": "2024-03-26T08:25:25.227Z"
   },
   {
    "duration": 389,
    "start_time": "2024-03-26T08:25:25.438Z"
   },
   {
    "duration": 262,
    "start_time": "2024-03-26T08:25:25.829Z"
   },
   {
    "duration": 334,
    "start_time": "2024-03-26T08:25:26.093Z"
   },
   {
    "duration": 6,
    "start_time": "2024-03-26T08:25:26.428Z"
   },
   {
    "duration": 134,
    "start_time": "2024-03-26T08:25:26.436Z"
   },
   {
    "duration": 5,
    "start_time": "2024-03-26T08:25:26.571Z"
   },
   {
    "duration": 22,
    "start_time": "2024-03-26T08:25:26.577Z"
   },
   {
    "duration": 171,
    "start_time": "2024-03-26T08:25:26.600Z"
   },
   {
    "duration": 156,
    "start_time": "2024-03-26T08:25:26.772Z"
   },
   {
    "duration": 5,
    "start_time": "2024-03-26T08:25:26.929Z"
   },
   {
    "duration": 539,
    "start_time": "2024-03-26T08:25:26.935Z"
   },
   {
    "duration": 24,
    "start_time": "2024-03-26T08:25:27.475Z"
   },
   {
    "duration": 10,
    "start_time": "2024-03-26T08:25:27.501Z"
   },
   {
    "duration": 25,
    "start_time": "2024-03-26T08:25:27.513Z"
   },
   {
    "duration": 42,
    "start_time": "2024-03-26T08:25:27.540Z"
   },
   {
    "duration": 39,
    "start_time": "2024-03-26T08:25:27.584Z"
   },
   {
    "duration": 13,
    "start_time": "2024-03-26T08:25:27.625Z"
   },
   {
    "duration": 6,
    "start_time": "2024-03-26T08:27:06.493Z"
   },
   {
    "duration": 7,
    "start_time": "2024-03-26T08:30:52.307Z"
   },
   {
    "duration": 9,
    "start_time": "2024-03-26T08:31:23.618Z"
   },
   {
    "duration": 8,
    "start_time": "2024-03-26T08:31:59.929Z"
   },
   {
    "duration": 8,
    "start_time": "2024-03-26T08:32:30.515Z"
   },
   {
    "duration": 8,
    "start_time": "2024-03-26T08:33:04.909Z"
   },
   {
    "duration": 7,
    "start_time": "2024-03-26T08:33:46.442Z"
   },
   {
    "duration": 7,
    "start_time": "2024-03-26T08:34:27.543Z"
   },
   {
    "duration": 9,
    "start_time": "2024-03-26T08:36:16.785Z"
   },
   {
    "duration": 10,
    "start_time": "2024-03-26T08:36:26.401Z"
   },
   {
    "duration": 1049,
    "start_time": "2024-03-26T08:42:21.910Z"
   },
   {
    "duration": 29,
    "start_time": "2024-03-26T08:42:22.960Z"
   },
   {
    "duration": 15,
    "start_time": "2024-03-26T08:42:22.990Z"
   },
   {
    "duration": 13,
    "start_time": "2024-03-26T08:42:23.007Z"
   },
   {
    "duration": 24,
    "start_time": "2024-03-26T08:42:23.021Z"
   },
   {
    "duration": 12,
    "start_time": "2024-03-26T08:42:23.046Z"
   },
   {
    "duration": 18,
    "start_time": "2024-03-26T08:42:23.059Z"
   },
   {
    "duration": 9,
    "start_time": "2024-03-26T08:42:23.079Z"
   },
   {
    "duration": 23,
    "start_time": "2024-03-26T08:42:23.089Z"
   },
   {
    "duration": 12,
    "start_time": "2024-03-26T08:42:23.115Z"
   },
   {
    "duration": 49,
    "start_time": "2024-03-26T08:42:23.129Z"
   },
   {
    "duration": 7,
    "start_time": "2024-03-26T08:42:23.180Z"
   },
   {
    "duration": 22,
    "start_time": "2024-03-26T08:42:23.189Z"
   },
   {
    "duration": 25,
    "start_time": "2024-03-26T08:42:23.212Z"
   },
   {
    "duration": 10,
    "start_time": "2024-03-26T08:42:23.238Z"
   },
   {
    "duration": 9,
    "start_time": "2024-03-26T08:42:23.249Z"
   },
   {
    "duration": 25,
    "start_time": "2024-03-26T08:42:23.260Z"
   },
   {
    "duration": 7,
    "start_time": "2024-03-26T08:42:23.287Z"
   },
   {
    "duration": 25,
    "start_time": "2024-03-26T08:42:23.295Z"
   },
   {
    "duration": 8,
    "start_time": "2024-03-26T08:42:23.321Z"
   },
   {
    "duration": 11,
    "start_time": "2024-03-26T08:42:23.331Z"
   },
   {
    "duration": 6,
    "start_time": "2024-03-26T08:42:23.343Z"
   },
   {
    "duration": 16,
    "start_time": "2024-03-26T08:42:23.350Z"
   },
   {
    "duration": 10,
    "start_time": "2024-03-26T08:42:23.368Z"
   },
   {
    "duration": 9,
    "start_time": "2024-03-26T08:42:23.379Z"
   },
   {
    "duration": 546,
    "start_time": "2024-03-26T08:42:23.389Z"
   },
   {
    "duration": 219,
    "start_time": "2024-03-26T08:42:23.936Z"
   },
   {
    "duration": 337,
    "start_time": "2024-03-26T08:42:24.165Z"
   },
   {
    "duration": 235,
    "start_time": "2024-03-26T08:42:24.503Z"
   },
   {
    "duration": 366,
    "start_time": "2024-03-26T08:42:24.740Z"
   },
   {
    "duration": 6,
    "start_time": "2024-03-26T08:42:25.107Z"
   },
   {
    "duration": 130,
    "start_time": "2024-03-26T08:42:25.114Z"
   },
   {
    "duration": 5,
    "start_time": "2024-03-26T08:42:25.246Z"
   },
   {
    "duration": 23,
    "start_time": "2024-03-26T08:42:25.252Z"
   },
   {
    "duration": 134,
    "start_time": "2024-03-26T08:42:25.277Z"
   },
   {
    "duration": 178,
    "start_time": "2024-03-26T08:42:25.413Z"
   },
   {
    "duration": 5,
    "start_time": "2024-03-26T08:42:25.592Z"
   },
   {
    "duration": 573,
    "start_time": "2024-03-26T08:42:25.599Z"
   },
   {
    "duration": 25,
    "start_time": "2024-03-26T08:42:26.174Z"
   },
   {
    "duration": 10,
    "start_time": "2024-03-26T08:42:26.200Z"
   },
   {
    "duration": 7,
    "start_time": "2024-03-26T08:42:26.212Z"
   },
   {
    "duration": 22,
    "start_time": "2024-03-26T08:42:26.221Z"
   },
   {
    "duration": 36,
    "start_time": "2024-03-26T08:42:26.244Z"
   },
   {
    "duration": 13,
    "start_time": "2024-03-26T08:42:26.282Z"
   },
   {
    "duration": 1077,
    "start_time": "2024-03-26T08:45:23.385Z"
   },
   {
    "duration": 28,
    "start_time": "2024-03-26T08:45:24.463Z"
   },
   {
    "duration": 12,
    "start_time": "2024-03-26T08:45:24.493Z"
   },
   {
    "duration": 38,
    "start_time": "2024-03-26T08:45:24.507Z"
   },
   {
    "duration": 22,
    "start_time": "2024-03-26T08:45:24.547Z"
   },
   {
    "duration": 15,
    "start_time": "2024-03-26T08:45:24.570Z"
   },
   {
    "duration": 12,
    "start_time": "2024-03-26T08:45:24.587Z"
   },
   {
    "duration": 9,
    "start_time": "2024-03-26T08:45:24.601Z"
   },
   {
    "duration": 12,
    "start_time": "2024-03-26T08:45:24.612Z"
   },
   {
    "duration": 16,
    "start_time": "2024-03-26T08:45:24.626Z"
   },
   {
    "duration": 59,
    "start_time": "2024-03-26T08:45:24.644Z"
   },
   {
    "duration": 9,
    "start_time": "2024-03-26T08:45:24.705Z"
   },
   {
    "duration": 30,
    "start_time": "2024-03-26T08:45:24.715Z"
   },
   {
    "duration": 15,
    "start_time": "2024-03-26T08:45:24.747Z"
   },
   {
    "duration": 17,
    "start_time": "2024-03-26T08:45:24.764Z"
   },
   {
    "duration": 17,
    "start_time": "2024-03-26T08:45:24.782Z"
   },
   {
    "duration": 20,
    "start_time": "2024-03-26T08:45:24.801Z"
   },
   {
    "duration": 8,
    "start_time": "2024-03-26T08:45:24.822Z"
   },
   {
    "duration": 12,
    "start_time": "2024-03-26T08:45:24.831Z"
   },
   {
    "duration": 21,
    "start_time": "2024-03-26T08:45:24.845Z"
   },
   {
    "duration": 21,
    "start_time": "2024-03-26T08:45:24.868Z"
   },
   {
    "duration": 6,
    "start_time": "2024-03-26T08:45:24.890Z"
   },
   {
    "duration": 14,
    "start_time": "2024-03-26T08:45:24.897Z"
   },
   {
    "duration": 12,
    "start_time": "2024-03-26T08:45:24.912Z"
   },
   {
    "duration": 8,
    "start_time": "2024-03-26T08:45:24.925Z"
   },
   {
    "duration": 550,
    "start_time": "2024-03-26T08:45:24.934Z"
   },
   {
    "duration": 222,
    "start_time": "2024-03-26T08:45:25.486Z"
   },
   {
    "duration": 337,
    "start_time": "2024-03-26T08:45:25.711Z"
   },
   {
    "duration": 245,
    "start_time": "2024-03-26T08:45:26.049Z"
   },
   {
    "duration": 324,
    "start_time": "2024-03-26T08:45:26.295Z"
   },
   {
    "duration": 6,
    "start_time": "2024-03-26T08:45:26.620Z"
   },
   {
    "duration": 135,
    "start_time": "2024-03-26T08:45:26.627Z"
   },
   {
    "duration": 5,
    "start_time": "2024-03-26T08:45:26.764Z"
   },
   {
    "duration": 14,
    "start_time": "2024-03-26T08:45:26.770Z"
   },
   {
    "duration": 140,
    "start_time": "2024-03-26T08:45:26.786Z"
   },
   {
    "duration": 185,
    "start_time": "2024-03-26T08:45:26.928Z"
   },
   {
    "duration": 4,
    "start_time": "2024-03-26T08:45:27.115Z"
   },
   {
    "duration": 551,
    "start_time": "2024-03-26T08:45:27.121Z"
   },
   {
    "duration": 24,
    "start_time": "2024-03-26T08:45:27.673Z"
   },
   {
    "duration": 10,
    "start_time": "2024-03-26T08:45:27.699Z"
   },
   {
    "duration": 8,
    "start_time": "2024-03-26T08:45:27.711Z"
   },
   {
    "duration": 15,
    "start_time": "2024-03-26T08:45:27.721Z"
   },
   {
    "duration": 52,
    "start_time": "2024-03-26T08:45:27.738Z"
   },
   {
    "duration": 14,
    "start_time": "2024-03-26T08:45:27.791Z"
   },
   {
    "duration": 1063,
    "start_time": "2024-03-26T08:48:11.213Z"
   },
   {
    "duration": 28,
    "start_time": "2024-03-26T08:48:12.278Z"
   },
   {
    "duration": 12,
    "start_time": "2024-03-26T08:48:12.308Z"
   },
   {
    "duration": 47,
    "start_time": "2024-03-26T08:48:12.322Z"
   },
   {
    "duration": 46,
    "start_time": "2024-03-26T08:48:12.370Z"
   },
   {
    "duration": 39,
    "start_time": "2024-03-26T08:48:12.418Z"
   },
   {
    "duration": 23,
    "start_time": "2024-03-26T08:48:12.460Z"
   },
   {
    "duration": 33,
    "start_time": "2024-03-26T08:48:12.485Z"
   },
   {
    "duration": 89,
    "start_time": "2024-03-26T08:48:12.520Z"
   },
   {
    "duration": 66,
    "start_time": "2024-03-26T08:48:12.612Z"
   },
   {
    "duration": 80,
    "start_time": "2024-03-26T08:48:12.679Z"
   },
   {
    "duration": 32,
    "start_time": "2024-03-26T08:48:12.761Z"
   },
   {
    "duration": 57,
    "start_time": "2024-03-26T08:48:12.795Z"
   },
   {
    "duration": 37,
    "start_time": "2024-03-26T08:48:12.854Z"
   },
   {
    "duration": 46,
    "start_time": "2024-03-26T08:48:12.893Z"
   },
   {
    "duration": 47,
    "start_time": "2024-03-26T08:48:12.940Z"
   },
   {
    "duration": 63,
    "start_time": "2024-03-26T08:48:12.989Z"
   },
   {
    "duration": 23,
    "start_time": "2024-03-26T08:48:13.053Z"
   },
   {
    "duration": 28,
    "start_time": "2024-03-26T08:48:13.077Z"
   },
   {
    "duration": 33,
    "start_time": "2024-03-26T08:48:13.107Z"
   },
   {
    "duration": 19,
    "start_time": "2024-03-26T08:48:13.141Z"
   },
   {
    "duration": 58,
    "start_time": "2024-03-26T08:48:13.162Z"
   },
   {
    "duration": 45,
    "start_time": "2024-03-26T08:48:13.221Z"
   },
   {
    "duration": 23,
    "start_time": "2024-03-26T08:48:13.267Z"
   },
   {
    "duration": 38,
    "start_time": "2024-03-26T08:48:13.292Z"
   },
   {
    "duration": 559,
    "start_time": "2024-03-26T08:48:13.331Z"
   },
   {
    "duration": 247,
    "start_time": "2024-03-26T08:48:13.892Z"
   },
   {
    "duration": 338,
    "start_time": "2024-03-26T08:48:14.142Z"
   },
   {
    "duration": 229,
    "start_time": "2024-03-26T08:48:14.481Z"
   },
   {
    "duration": 331,
    "start_time": "2024-03-26T08:48:14.712Z"
   },
   {
    "duration": 6,
    "start_time": "2024-03-26T08:48:15.045Z"
   },
   {
    "duration": 195,
    "start_time": "2024-03-26T08:48:15.052Z"
   },
   {
    "duration": 6,
    "start_time": "2024-03-26T08:48:15.248Z"
   },
   {
    "duration": 70,
    "start_time": "2024-03-26T08:48:15.266Z"
   },
   {
    "duration": 163,
    "start_time": "2024-03-26T08:48:15.338Z"
   },
   {
    "duration": 189,
    "start_time": "2024-03-26T08:48:15.503Z"
   },
   {
    "duration": 5,
    "start_time": "2024-03-26T08:48:15.693Z"
   },
   {
    "duration": 595,
    "start_time": "2024-03-26T08:48:15.699Z"
   },
   {
    "duration": 24,
    "start_time": "2024-03-26T08:48:16.296Z"
   },
   {
    "duration": 11,
    "start_time": "2024-03-26T08:48:16.322Z"
   },
   {
    "duration": 9,
    "start_time": "2024-03-26T08:48:16.334Z"
   },
   {
    "duration": 7,
    "start_time": "2024-03-26T08:48:16.366Z"
   },
   {
    "duration": 23,
    "start_time": "2024-03-26T08:48:16.375Z"
   },
   {
    "duration": 13,
    "start_time": "2024-03-26T08:48:16.399Z"
   },
   {
    "duration": 1091,
    "start_time": "2024-03-26T13:41:16.712Z"
   },
   {
    "duration": 29,
    "start_time": "2024-03-26T13:41:17.804Z"
   },
   {
    "duration": 13,
    "start_time": "2024-03-26T13:41:17.834Z"
   },
   {
    "duration": 3,
    "start_time": "2024-03-26T13:41:17.849Z"
   },
   {
    "duration": 13,
    "start_time": "2024-03-26T13:41:17.853Z"
   },
   {
    "duration": 6,
    "start_time": "2024-03-26T13:41:17.867Z"
   },
   {
    "duration": 14,
    "start_time": "2024-03-26T13:41:17.875Z"
   },
   {
    "duration": 13,
    "start_time": "2024-03-26T13:41:17.891Z"
   },
   {
    "duration": 16,
    "start_time": "2024-03-26T13:41:17.905Z"
   },
   {
    "duration": 12,
    "start_time": "2024-03-26T13:41:17.923Z"
   },
   {
    "duration": 40,
    "start_time": "2024-03-26T13:41:17.937Z"
   },
   {
    "duration": 7,
    "start_time": "2024-03-26T13:41:17.979Z"
   },
   {
    "duration": 12,
    "start_time": "2024-03-26T13:41:17.988Z"
   },
   {
    "duration": 10,
    "start_time": "2024-03-26T13:41:18.001Z"
   },
   {
    "duration": 8,
    "start_time": "2024-03-26T13:41:18.012Z"
   },
   {
    "duration": 3,
    "start_time": "2024-03-26T13:41:18.021Z"
   },
   {
    "duration": 17,
    "start_time": "2024-03-26T13:41:18.026Z"
   },
   {
    "duration": 7,
    "start_time": "2024-03-26T13:41:18.044Z"
   },
   {
    "duration": 14,
    "start_time": "2024-03-26T13:41:18.053Z"
   },
   {
    "duration": 6,
    "start_time": "2024-03-26T13:41:18.068Z"
   },
   {
    "duration": 5,
    "start_time": "2024-03-26T13:41:18.075Z"
   },
   {
    "duration": 8,
    "start_time": "2024-03-26T13:41:18.081Z"
   },
   {
    "duration": 9,
    "start_time": "2024-03-26T13:41:18.090Z"
   },
   {
    "duration": 8,
    "start_time": "2024-03-26T13:41:18.101Z"
   },
   {
    "duration": 6,
    "start_time": "2024-03-26T13:41:18.111Z"
   },
   {
    "duration": 590,
    "start_time": "2024-03-26T13:41:18.119Z"
   },
   {
    "duration": 217,
    "start_time": "2024-03-26T13:41:18.710Z"
   },
   {
    "duration": 314,
    "start_time": "2024-03-26T13:41:18.930Z"
   },
   {
    "duration": 234,
    "start_time": "2024-03-26T13:41:19.246Z"
   },
   {
    "duration": 333,
    "start_time": "2024-03-26T13:41:19.481Z"
   },
   {
    "duration": 6,
    "start_time": "2024-03-26T13:41:19.816Z"
   },
   {
    "duration": 138,
    "start_time": "2024-03-26T13:41:19.823Z"
   },
   {
    "duration": 4,
    "start_time": "2024-03-26T13:41:19.963Z"
   },
   {
    "duration": 17,
    "start_time": "2024-03-26T13:41:19.968Z"
   },
   {
    "duration": 164,
    "start_time": "2024-03-26T13:41:19.988Z"
   },
   {
    "duration": 164,
    "start_time": "2024-03-26T13:41:20.154Z"
   },
   {
    "duration": 5,
    "start_time": "2024-03-26T13:41:20.320Z"
   },
   {
    "duration": 525,
    "start_time": "2024-03-26T13:41:20.326Z"
   },
   {
    "duration": 32,
    "start_time": "2024-03-26T13:41:20.852Z"
   },
   {
    "duration": 9,
    "start_time": "2024-03-26T13:41:20.885Z"
   },
   {
    "duration": 32,
    "start_time": "2024-03-26T13:41:20.896Z"
   },
   {
    "duration": 53,
    "start_time": "2024-03-26T13:41:20.929Z"
   },
   {
    "duration": 75,
    "start_time": "2024-03-26T13:41:20.984Z"
   },
   {
    "duration": 13,
    "start_time": "2024-03-26T13:41:21.061Z"
   },
   {
    "duration": 1047,
    "start_time": "2024-03-26T18:34:37.176Z"
   },
   {
    "duration": 28,
    "start_time": "2024-03-26T18:34:38.225Z"
   },
   {
    "duration": 12,
    "start_time": "2024-03-26T18:34:38.254Z"
   },
   {
    "duration": 3,
    "start_time": "2024-03-26T18:34:38.268Z"
   },
   {
    "duration": 15,
    "start_time": "2024-03-26T18:34:38.272Z"
   },
   {
    "duration": 5,
    "start_time": "2024-03-26T18:34:38.288Z"
   },
   {
    "duration": 9,
    "start_time": "2024-03-26T18:34:38.295Z"
   },
   {
    "duration": 9,
    "start_time": "2024-03-26T18:34:38.305Z"
   },
   {
    "duration": 24,
    "start_time": "2024-03-26T18:34:38.315Z"
   },
   {
    "duration": 34,
    "start_time": "2024-03-26T18:34:38.341Z"
   },
   {
    "duration": 50,
    "start_time": "2024-03-26T18:34:38.376Z"
   },
   {
    "duration": 7,
    "start_time": "2024-03-26T18:34:38.428Z"
   },
   {
    "duration": 13,
    "start_time": "2024-03-26T18:34:38.437Z"
   },
   {
    "duration": 9,
    "start_time": "2024-03-26T18:34:38.451Z"
   },
   {
    "duration": 8,
    "start_time": "2024-03-26T18:34:38.461Z"
   },
   {
    "duration": 5,
    "start_time": "2024-03-26T18:34:38.471Z"
   },
   {
    "duration": 16,
    "start_time": "2024-03-26T18:34:38.477Z"
   },
   {
    "duration": 8,
    "start_time": "2024-03-26T18:34:38.495Z"
   },
   {
    "duration": 12,
    "start_time": "2024-03-26T18:34:38.504Z"
   },
   {
    "duration": 6,
    "start_time": "2024-03-26T18:34:38.519Z"
   },
   {
    "duration": 41,
    "start_time": "2024-03-26T18:34:38.526Z"
   },
   {
    "duration": 7,
    "start_time": "2024-03-26T18:34:38.568Z"
   },
   {
    "duration": 8,
    "start_time": "2024-03-26T18:34:38.576Z"
   },
   {
    "duration": 11,
    "start_time": "2024-03-26T18:34:38.586Z"
   },
   {
    "duration": 9,
    "start_time": "2024-03-26T18:34:38.598Z"
   },
   {
    "duration": 593,
    "start_time": "2024-03-26T18:34:38.609Z"
   },
   {
    "duration": 209,
    "start_time": "2024-03-26T18:34:39.204Z"
   },
   {
    "duration": 284,
    "start_time": "2024-03-26T18:34:39.416Z"
   },
   {
    "duration": 243,
    "start_time": "2024-03-26T18:34:39.702Z"
   },
   {
    "duration": 361,
    "start_time": "2024-03-26T18:34:39.947Z"
   },
   {
    "duration": 7,
    "start_time": "2024-03-26T18:34:40.309Z"
   },
   {
    "duration": 133,
    "start_time": "2024-03-26T18:34:40.317Z"
   },
   {
    "duration": 17,
    "start_time": "2024-03-26T18:34:40.451Z"
   },
   {
    "duration": 8,
    "start_time": "2024-03-26T18:34:40.469Z"
   },
   {
    "duration": 147,
    "start_time": "2024-03-26T18:34:40.479Z"
   },
   {
    "duration": 170,
    "start_time": "2024-03-26T18:34:40.628Z"
   },
   {
    "duration": 5,
    "start_time": "2024-03-26T18:34:40.799Z"
   },
   {
    "duration": 563,
    "start_time": "2024-03-26T18:34:40.805Z"
   },
   {
    "duration": 24,
    "start_time": "2024-03-26T18:34:41.370Z"
   },
   {
    "duration": 11,
    "start_time": "2024-03-26T18:34:41.396Z"
   },
   {
    "duration": 9,
    "start_time": "2024-03-26T18:34:41.410Z"
   },
   {
    "duration": 9,
    "start_time": "2024-03-26T18:34:41.420Z"
   },
   {
    "duration": 63,
    "start_time": "2024-03-26T18:34:41.430Z"
   },
   {
    "duration": 15,
    "start_time": "2024-03-26T18:34:41.494Z"
   },
   {
    "duration": 4,
    "start_time": "2024-03-26T19:17:32.314Z"
   },
   {
    "duration": 129,
    "start_time": "2024-03-26T19:17:37.928Z"
   },
   {
    "duration": 12,
    "start_time": "2024-03-26T19:18:12.049Z"
   },
   {
    "duration": 17,
    "start_time": "2024-03-26T19:18:29.570Z"
   },
   {
    "duration": 16,
    "start_time": "2024-03-26T19:18:39.274Z"
   },
   {
    "duration": 1162,
    "start_time": "2024-03-26T19:21:01.763Z"
   },
   {
    "duration": 28,
    "start_time": "2024-03-26T19:21:02.927Z"
   },
   {
    "duration": 14,
    "start_time": "2024-03-26T19:21:02.957Z"
   },
   {
    "duration": 4,
    "start_time": "2024-03-26T19:21:02.973Z"
   },
   {
    "duration": 22,
    "start_time": "2024-03-26T19:21:02.979Z"
   },
   {
    "duration": 21,
    "start_time": "2024-03-26T19:21:03.004Z"
   },
   {
    "duration": 30,
    "start_time": "2024-03-26T19:21:03.027Z"
   },
   {
    "duration": 66,
    "start_time": "2024-03-26T19:21:03.059Z"
   },
   {
    "duration": 43,
    "start_time": "2024-03-26T19:21:03.127Z"
   },
   {
    "duration": 31,
    "start_time": "2024-03-26T19:21:03.173Z"
   },
   {
    "duration": 54,
    "start_time": "2024-03-26T19:21:03.206Z"
   },
   {
    "duration": 9,
    "start_time": "2024-03-26T19:21:03.262Z"
   },
   {
    "duration": 15,
    "start_time": "2024-03-26T19:21:03.274Z"
   },
   {
    "duration": 12,
    "start_time": "2024-03-26T19:21:03.291Z"
   },
   {
    "duration": 14,
    "start_time": "2024-03-26T19:21:03.304Z"
   },
   {
    "duration": 5,
    "start_time": "2024-03-26T19:21:03.319Z"
   },
   {
    "duration": 26,
    "start_time": "2024-03-26T19:21:03.326Z"
   },
   {
    "duration": 18,
    "start_time": "2024-03-26T19:21:03.353Z"
   },
   {
    "duration": 17,
    "start_time": "2024-03-26T19:21:03.373Z"
   },
   {
    "duration": 10,
    "start_time": "2024-03-26T19:21:03.392Z"
   },
   {
    "duration": 9,
    "start_time": "2024-03-26T19:21:03.404Z"
   },
   {
    "duration": 8,
    "start_time": "2024-03-26T19:21:03.414Z"
   },
   {
    "duration": 13,
    "start_time": "2024-03-26T19:21:03.424Z"
   },
   {
    "duration": 41,
    "start_time": "2024-03-26T19:21:03.438Z"
   },
   {
    "duration": 25,
    "start_time": "2024-03-26T19:21:03.480Z"
   },
   {
    "duration": 627,
    "start_time": "2024-03-26T19:21:03.506Z"
   },
   {
    "duration": 260,
    "start_time": "2024-03-26T19:21:04.134Z"
   },
   {
    "duration": 333,
    "start_time": "2024-03-26T19:21:04.399Z"
   },
   {
    "duration": 273,
    "start_time": "2024-03-26T19:21:04.734Z"
   },
   {
    "duration": 353,
    "start_time": "2024-03-26T19:21:05.009Z"
   },
   {
    "duration": 10,
    "start_time": "2024-03-26T19:21:05.366Z"
   },
   {
    "duration": 163,
    "start_time": "2024-03-26T19:21:05.379Z"
   },
   {
    "duration": 5,
    "start_time": "2024-03-26T19:21:05.543Z"
   },
   {
    "duration": 28,
    "start_time": "2024-03-26T19:21:05.549Z"
   },
   {
    "duration": 158,
    "start_time": "2024-03-26T19:21:05.579Z"
   },
   {
    "duration": 216,
    "start_time": "2024-03-26T19:21:05.738Z"
   },
   {
    "duration": 12,
    "start_time": "2024-03-26T19:21:05.956Z"
   },
   {
    "duration": 573,
    "start_time": "2024-03-26T19:21:05.971Z"
   },
   {
    "duration": 45,
    "start_time": "2024-03-26T19:21:06.546Z"
   },
   {
    "duration": 12,
    "start_time": "2024-03-26T19:21:06.593Z"
   },
   {
    "duration": 20,
    "start_time": "2024-03-26T19:21:06.606Z"
   },
   {
    "duration": 23,
    "start_time": "2024-03-26T19:21:06.628Z"
   },
   {
    "duration": 31,
    "start_time": "2024-03-26T19:21:06.653Z"
   },
   {
    "duration": 15,
    "start_time": "2024-03-26T19:21:06.686Z"
   },
   {
    "duration": 1104,
    "start_time": "2024-03-26T19:21:45.998Z"
   },
   {
    "duration": 29,
    "start_time": "2024-03-26T19:21:47.104Z"
   },
   {
    "duration": 12,
    "start_time": "2024-03-26T19:21:47.134Z"
   },
   {
    "duration": 16,
    "start_time": "2024-03-26T19:21:47.148Z"
   },
   {
    "duration": 30,
    "start_time": "2024-03-26T19:21:47.165Z"
   },
   {
    "duration": 13,
    "start_time": "2024-03-26T19:21:47.197Z"
   },
   {
    "duration": 21,
    "start_time": "2024-03-26T19:21:47.211Z"
   },
   {
    "duration": 17,
    "start_time": "2024-03-26T19:21:47.234Z"
   },
   {
    "duration": 31,
    "start_time": "2024-03-26T19:21:47.253Z"
   },
   {
    "duration": 60,
    "start_time": "2024-03-26T19:21:47.289Z"
   },
   {
    "duration": 33,
    "start_time": "2024-03-26T19:21:47.351Z"
   },
   {
    "duration": 42,
    "start_time": "2024-03-26T19:21:47.386Z"
   },
   {
    "duration": 37,
    "start_time": "2024-03-26T19:21:47.429Z"
   },
   {
    "duration": 25,
    "start_time": "2024-03-26T19:21:47.468Z"
   },
   {
    "duration": 20,
    "start_time": "2024-03-26T19:21:47.495Z"
   },
   {
    "duration": 30,
    "start_time": "2024-03-26T19:21:47.517Z"
   },
   {
    "duration": 13,
    "start_time": "2024-03-26T19:21:47.548Z"
   },
   {
    "duration": 27,
    "start_time": "2024-03-26T19:21:47.562Z"
   },
   {
    "duration": 19,
    "start_time": "2024-03-26T19:21:47.591Z"
   },
   {
    "duration": 37,
    "start_time": "2024-03-26T19:21:47.611Z"
   },
   {
    "duration": 17,
    "start_time": "2024-03-26T19:21:47.650Z"
   },
   {
    "duration": 36,
    "start_time": "2024-03-26T19:21:47.669Z"
   },
   {
    "duration": 33,
    "start_time": "2024-03-26T19:21:47.706Z"
   },
   {
    "duration": 27,
    "start_time": "2024-03-26T19:21:47.741Z"
   },
   {
    "duration": 567,
    "start_time": "2024-03-26T19:21:47.770Z"
   },
   {
    "duration": 257,
    "start_time": "2024-03-26T19:21:48.339Z"
   },
   {
    "duration": 335,
    "start_time": "2024-03-26T19:21:48.597Z"
   },
   {
    "duration": 257,
    "start_time": "2024-03-26T19:21:48.937Z"
   },
   {
    "duration": 364,
    "start_time": "2024-03-26T19:21:49.196Z"
   },
   {
    "duration": 10,
    "start_time": "2024-03-26T19:21:49.561Z"
   },
   {
    "duration": 166,
    "start_time": "2024-03-26T19:21:49.576Z"
   },
   {
    "duration": 5,
    "start_time": "2024-03-26T19:21:49.743Z"
   },
   {
    "duration": 27,
    "start_time": "2024-03-26T19:21:49.749Z"
   },
   {
    "duration": 159,
    "start_time": "2024-03-26T19:21:49.778Z"
   },
   {
    "duration": 197,
    "start_time": "2024-03-26T19:21:49.939Z"
   },
   {
    "duration": 5,
    "start_time": "2024-03-26T19:21:50.137Z"
   },
   {
    "duration": 549,
    "start_time": "2024-03-26T19:21:50.143Z"
   },
   {
    "duration": 31,
    "start_time": "2024-03-26T19:21:50.694Z"
   },
   {
    "duration": 13,
    "start_time": "2024-03-26T19:21:50.727Z"
   },
   {
    "duration": 41,
    "start_time": "2024-03-26T19:21:50.742Z"
   },
   {
    "duration": 24,
    "start_time": "2024-03-26T19:21:50.785Z"
   },
   {
    "duration": 33,
    "start_time": "2024-03-26T19:21:50.811Z"
   },
   {
    "duration": 47,
    "start_time": "2024-03-26T19:21:50.845Z"
   },
   {
    "duration": 1163,
    "start_time": "2024-03-26T19:24:57.431Z"
   },
   {
    "duration": 27,
    "start_time": "2024-03-26T19:24:58.596Z"
   },
   {
    "duration": 12,
    "start_time": "2024-03-26T19:24:58.625Z"
   },
   {
    "duration": 14,
    "start_time": "2024-03-26T19:24:58.639Z"
   },
   {
    "duration": 23,
    "start_time": "2024-03-26T19:24:58.654Z"
   },
   {
    "duration": 9,
    "start_time": "2024-03-26T19:24:58.683Z"
   },
   {
    "duration": 7,
    "start_time": "2024-03-26T19:24:58.693Z"
   },
   {
    "duration": 14,
    "start_time": "2024-03-26T19:24:58.702Z"
   },
   {
    "duration": 50,
    "start_time": "2024-03-26T19:24:58.718Z"
   },
   {
    "duration": 39,
    "start_time": "2024-03-26T19:24:58.773Z"
   },
   {
    "duration": 9,
    "start_time": "2024-03-26T19:24:58.813Z"
   },
   {
    "duration": 10,
    "start_time": "2024-03-26T19:24:58.823Z"
   },
   {
    "duration": 6,
    "start_time": "2024-03-26T19:24:58.835Z"
   },
   {
    "duration": 7,
    "start_time": "2024-03-26T19:24:58.842Z"
   },
   {
    "duration": 17,
    "start_time": "2024-03-26T19:24:58.850Z"
   },
   {
    "duration": 18,
    "start_time": "2024-03-26T19:24:58.870Z"
   },
   {
    "duration": 8,
    "start_time": "2024-03-26T19:24:58.890Z"
   },
   {
    "duration": 28,
    "start_time": "2024-03-26T19:24:58.899Z"
   },
   {
    "duration": 30,
    "start_time": "2024-03-26T19:24:58.929Z"
   },
   {
    "duration": 11,
    "start_time": "2024-03-26T19:24:58.961Z"
   },
   {
    "duration": 20,
    "start_time": "2024-03-26T19:24:58.974Z"
   },
   {
    "duration": 12,
    "start_time": "2024-03-26T19:24:58.995Z"
   },
   {
    "duration": 23,
    "start_time": "2024-03-26T19:24:59.008Z"
   },
   {
    "duration": 25,
    "start_time": "2024-03-26T19:24:59.032Z"
   },
   {
    "duration": 659,
    "start_time": "2024-03-26T19:24:59.059Z"
   },
   {
    "duration": 255,
    "start_time": "2024-03-26T19:24:59.720Z"
   },
   {
    "duration": 329,
    "start_time": "2024-03-26T19:24:59.977Z"
   },
   {
    "duration": 245,
    "start_time": "2024-03-26T19:25:00.310Z"
   },
   {
    "duration": 399,
    "start_time": "2024-03-26T19:25:00.556Z"
   },
   {
    "duration": 18,
    "start_time": "2024-03-26T19:25:00.957Z"
   },
   {
    "duration": 164,
    "start_time": "2024-03-26T19:25:00.977Z"
   },
   {
    "duration": 5,
    "start_time": "2024-03-26T19:25:01.143Z"
   },
   {
    "duration": 46,
    "start_time": "2024-03-26T19:25:01.149Z"
   },
   {
    "duration": 207,
    "start_time": "2024-03-26T19:25:01.196Z"
   },
   {
    "duration": 202,
    "start_time": "2024-03-26T19:25:01.404Z"
   },
   {
    "duration": 6,
    "start_time": "2024-03-26T19:25:01.607Z"
   },
   {
    "duration": 597,
    "start_time": "2024-03-26T19:25:01.614Z"
   },
   {
    "duration": 24,
    "start_time": "2024-03-26T19:25:02.212Z"
   },
   {
    "duration": 11,
    "start_time": "2024-03-26T19:25:02.237Z"
   },
   {
    "duration": 18,
    "start_time": "2024-03-26T19:25:02.265Z"
   },
   {
    "duration": 24,
    "start_time": "2024-03-26T19:25:02.285Z"
   },
   {
    "duration": 29,
    "start_time": "2024-03-26T19:25:02.311Z"
   },
   {
    "duration": 38,
    "start_time": "2024-03-26T19:25:02.342Z"
   },
   {
    "duration": 128,
    "start_time": "2024-03-26T19:25:53.327Z"
   },
   {
    "duration": 1160,
    "start_time": "2024-03-26T19:26:22.576Z"
   },
   {
    "duration": 28,
    "start_time": "2024-03-26T19:26:23.738Z"
   },
   {
    "duration": 23,
    "start_time": "2024-03-26T19:26:23.768Z"
   },
   {
    "duration": 14,
    "start_time": "2024-03-26T19:26:23.793Z"
   },
   {
    "duration": 31,
    "start_time": "2024-03-26T19:26:23.809Z"
   },
   {
    "duration": 26,
    "start_time": "2024-03-26T19:26:23.841Z"
   },
   {
    "duration": 32,
    "start_time": "2024-03-26T19:26:23.869Z"
   },
   {
    "duration": 28,
    "start_time": "2024-03-26T19:26:23.903Z"
   },
   {
    "duration": 46,
    "start_time": "2024-03-26T19:26:23.932Z"
   },
   {
    "duration": 63,
    "start_time": "2024-03-26T19:26:23.980Z"
   },
   {
    "duration": 10,
    "start_time": "2024-03-26T19:26:24.045Z"
   },
   {
    "duration": 30,
    "start_time": "2024-03-26T19:26:24.057Z"
   },
   {
    "duration": 21,
    "start_time": "2024-03-26T19:26:24.089Z"
   },
   {
    "duration": 16,
    "start_time": "2024-03-26T19:26:24.113Z"
   },
   {
    "duration": 28,
    "start_time": "2024-03-26T19:26:24.131Z"
   },
   {
    "duration": 36,
    "start_time": "2024-03-26T19:26:24.161Z"
   },
   {
    "duration": 20,
    "start_time": "2024-03-26T19:26:24.198Z"
   },
   {
    "duration": 21,
    "start_time": "2024-03-26T19:26:24.220Z"
   },
   {
    "duration": 20,
    "start_time": "2024-03-26T19:26:24.242Z"
   },
   {
    "duration": 44,
    "start_time": "2024-03-26T19:26:24.264Z"
   },
   {
    "duration": 35,
    "start_time": "2024-03-26T19:26:24.310Z"
   },
   {
    "duration": 17,
    "start_time": "2024-03-26T19:26:24.347Z"
   },
   {
    "duration": 27,
    "start_time": "2024-03-26T19:26:24.366Z"
   },
   {
    "duration": 28,
    "start_time": "2024-03-26T19:26:24.395Z"
   },
   {
    "duration": 693,
    "start_time": "2024-03-26T19:26:24.425Z"
   },
   {
    "duration": 239,
    "start_time": "2024-03-26T19:26:25.120Z"
   },
   {
    "duration": 355,
    "start_time": "2024-03-26T19:26:25.360Z"
   },
   {
    "duration": 293,
    "start_time": "2024-03-26T19:26:25.717Z"
   },
   {
    "duration": 380,
    "start_time": "2024-03-26T19:26:26.012Z"
   },
   {
    "duration": 6,
    "start_time": "2024-03-26T19:26:26.395Z"
   },
   {
    "duration": 152,
    "start_time": "2024-03-26T19:26:26.403Z"
   },
   {
    "duration": 13,
    "start_time": "2024-03-26T19:26:26.556Z"
   },
   {
    "duration": 13,
    "start_time": "2024-03-26T19:26:26.571Z"
   },
   {
    "duration": 174,
    "start_time": "2024-03-26T19:26:26.586Z"
   },
   {
    "duration": 188,
    "start_time": "2024-03-26T19:26:26.762Z"
   },
   {
    "duration": 16,
    "start_time": "2024-03-26T19:26:26.951Z"
   },
   {
    "duration": 612,
    "start_time": "2024-03-26T19:26:26.970Z"
   },
   {
    "duration": 28,
    "start_time": "2024-03-26T19:26:27.585Z"
   },
   {
    "duration": 11,
    "start_time": "2024-03-26T19:26:27.614Z"
   },
   {
    "duration": 8,
    "start_time": "2024-03-26T19:26:27.626Z"
   },
   {
    "duration": 14,
    "start_time": "2024-03-26T19:26:27.665Z"
   },
   {
    "duration": 29,
    "start_time": "2024-03-26T19:26:27.682Z"
   },
   {
    "duration": 13,
    "start_time": "2024-03-26T19:26:27.713Z"
   },
   {
    "duration": 8,
    "start_time": "2024-03-26T19:27:44.615Z"
   },
   {
    "duration": 11,
    "start_time": "2024-03-26T19:27:52.262Z"
   },
   {
    "duration": 10,
    "start_time": "2024-03-26T19:27:57.960Z"
   },
   {
    "duration": 9,
    "start_time": "2024-03-26T19:28:04.203Z"
   },
   {
    "duration": 9,
    "start_time": "2024-03-26T19:28:13.908Z"
   },
   {
    "duration": 1167,
    "start_time": "2024-03-26T19:31:14.298Z"
   },
   {
    "duration": 29,
    "start_time": "2024-03-26T19:31:15.468Z"
   },
   {
    "duration": 12,
    "start_time": "2024-03-26T19:31:15.499Z"
   },
   {
    "duration": 4,
    "start_time": "2024-03-26T19:31:15.513Z"
   },
   {
    "duration": 36,
    "start_time": "2024-03-26T19:31:15.518Z"
   },
   {
    "duration": 38,
    "start_time": "2024-03-26T19:31:15.556Z"
   },
   {
    "duration": 31,
    "start_time": "2024-03-26T19:31:15.595Z"
   },
   {
    "duration": 19,
    "start_time": "2024-03-26T19:31:15.627Z"
   },
   {
    "duration": 12,
    "start_time": "2024-03-26T19:31:15.648Z"
   },
   {
    "duration": 39,
    "start_time": "2024-03-26T19:31:15.663Z"
   },
   {
    "duration": 8,
    "start_time": "2024-03-26T19:31:15.703Z"
   },
   {
    "duration": 17,
    "start_time": "2024-03-26T19:31:15.713Z"
   },
   {
    "duration": 7,
    "start_time": "2024-03-26T19:31:15.732Z"
   },
   {
    "duration": 19,
    "start_time": "2024-03-26T19:31:15.740Z"
   },
   {
    "duration": 7,
    "start_time": "2024-03-26T19:31:15.761Z"
   },
   {
    "duration": 17,
    "start_time": "2024-03-26T19:31:15.769Z"
   },
   {
    "duration": 8,
    "start_time": "2024-03-26T19:31:15.788Z"
   },
   {
    "duration": 11,
    "start_time": "2024-03-26T19:31:15.798Z"
   },
   {
    "duration": 13,
    "start_time": "2024-03-26T19:31:15.810Z"
   },
   {
    "duration": 19,
    "start_time": "2024-03-26T19:31:15.825Z"
   },
   {
    "duration": 22,
    "start_time": "2024-03-26T19:31:15.846Z"
   },
   {
    "duration": 12,
    "start_time": "2024-03-26T19:31:15.870Z"
   },
   {
    "duration": 10,
    "start_time": "2024-03-26T19:31:15.883Z"
   },
   {
    "duration": 22,
    "start_time": "2024-03-26T19:31:15.895Z"
   },
   {
    "duration": 643,
    "start_time": "2024-03-26T19:31:15.919Z"
   },
   {
    "duration": 259,
    "start_time": "2024-03-26T19:31:16.566Z"
   },
   {
    "duration": 340,
    "start_time": "2024-03-26T19:31:16.826Z"
   },
   {
    "duration": 269,
    "start_time": "2024-03-26T19:31:17.172Z"
   },
   {
    "duration": 397,
    "start_time": "2024-03-26T19:31:17.443Z"
   },
   {
    "duration": 7,
    "start_time": "2024-03-26T19:31:17.841Z"
   },
   {
    "duration": 163,
    "start_time": "2024-03-26T19:31:17.849Z"
   },
   {
    "duration": 4,
    "start_time": "2024-03-26T19:31:18.014Z"
   },
   {
    "duration": 8,
    "start_time": "2024-03-26T19:31:18.020Z"
   },
   {
    "duration": 178,
    "start_time": "2024-03-26T19:31:18.029Z"
   },
   {
    "duration": 197,
    "start_time": "2024-03-26T19:31:18.209Z"
   },
   {
    "duration": 6,
    "start_time": "2024-03-26T19:31:18.408Z"
   },
   {
    "duration": 631,
    "start_time": "2024-03-26T19:31:18.416Z"
   },
   {
    "duration": 39,
    "start_time": "2024-03-26T19:31:19.049Z"
   },
   {
    "duration": 11,
    "start_time": "2024-03-26T19:31:19.091Z"
   },
   {
    "duration": 8,
    "start_time": "2024-03-26T19:31:19.104Z"
   },
   {
    "duration": 8,
    "start_time": "2024-03-26T19:31:19.113Z"
   },
   {
    "duration": 54,
    "start_time": "2024-03-26T19:31:19.123Z"
   },
   {
    "duration": 17,
    "start_time": "2024-03-26T19:31:19.178Z"
   },
   {
    "duration": 363,
    "start_time": "2024-03-26T19:56:05.767Z"
   },
   {
    "duration": 1017,
    "start_time": "2024-03-26T19:56:14.599Z"
   },
   {
    "duration": 28,
    "start_time": "2024-03-26T19:56:15.617Z"
   },
   {
    "duration": 13,
    "start_time": "2024-03-26T19:56:15.647Z"
   },
   {
    "duration": 9,
    "start_time": "2024-03-26T19:56:15.662Z"
   },
   {
    "duration": 20,
    "start_time": "2024-03-26T19:56:15.673Z"
   },
   {
    "duration": 27,
    "start_time": "2024-03-26T19:56:15.695Z"
   },
   {
    "duration": 28,
    "start_time": "2024-03-26T19:56:15.723Z"
   },
   {
    "duration": 14,
    "start_time": "2024-03-26T19:56:15.752Z"
   },
   {
    "duration": 12,
    "start_time": "2024-03-26T19:56:15.768Z"
   },
   {
    "duration": 43,
    "start_time": "2024-03-26T19:56:15.782Z"
   },
   {
    "duration": 28,
    "start_time": "2024-03-26T19:56:15.827Z"
   },
   {
    "duration": 13,
    "start_time": "2024-03-26T19:56:15.857Z"
   },
   {
    "duration": 10,
    "start_time": "2024-03-26T19:56:15.872Z"
   },
   {
    "duration": 23,
    "start_time": "2024-03-26T19:56:15.883Z"
   },
   {
    "duration": 14,
    "start_time": "2024-03-26T19:56:15.908Z"
   },
   {
    "duration": 19,
    "start_time": "2024-03-26T19:56:15.923Z"
   },
   {
    "duration": 8,
    "start_time": "2024-03-26T19:56:15.944Z"
   },
   {
    "duration": 17,
    "start_time": "2024-03-26T19:56:15.954Z"
   },
   {
    "duration": 5,
    "start_time": "2024-03-26T19:56:15.973Z"
   },
   {
    "duration": 6,
    "start_time": "2024-03-26T19:56:15.979Z"
   },
   {
    "duration": 6,
    "start_time": "2024-03-26T19:56:15.987Z"
   },
   {
    "duration": 11,
    "start_time": "2024-03-26T19:56:15.994Z"
   },
   {
    "duration": 10,
    "start_time": "2024-03-26T19:56:16.007Z"
   },
   {
    "duration": 8,
    "start_time": "2024-03-26T19:56:16.018Z"
   },
   {
    "duration": 588,
    "start_time": "2024-03-26T19:56:16.028Z"
   },
   {
    "duration": 211,
    "start_time": "2024-03-26T19:56:16.617Z"
   },
   {
    "duration": 349,
    "start_time": "2024-03-26T19:56:16.830Z"
   },
   {
    "duration": 245,
    "start_time": "2024-03-26T19:56:17.182Z"
   },
   {
    "duration": 367,
    "start_time": "2024-03-26T19:56:17.428Z"
   },
   {
    "duration": 8,
    "start_time": "2024-03-26T19:56:17.796Z"
   },
   {
    "duration": 134,
    "start_time": "2024-03-26T19:56:17.805Z"
   },
   {
    "duration": 4,
    "start_time": "2024-03-26T19:56:17.941Z"
   },
   {
    "duration": 23,
    "start_time": "2024-03-26T19:56:17.946Z"
   },
   {
    "duration": 134,
    "start_time": "2024-03-26T19:56:17.971Z"
   },
   {
    "duration": 160,
    "start_time": "2024-03-26T19:56:18.107Z"
   },
   {
    "duration": 4,
    "start_time": "2024-03-26T19:56:18.269Z"
   },
   {
    "duration": 409,
    "start_time": "2024-03-26T19:56:18.274Z"
   },
   {
    "duration": 24,
    "start_time": "2024-03-26T19:56:18.685Z"
   },
   {
    "duration": 10,
    "start_time": "2024-03-26T19:56:18.711Z"
   },
   {
    "duration": 31,
    "start_time": "2024-03-26T19:56:18.722Z"
   },
   {
    "duration": 53,
    "start_time": "2024-03-26T19:56:18.755Z"
   },
   {
    "duration": 55,
    "start_time": "2024-03-26T19:56:18.810Z"
   },
   {
    "duration": 17,
    "start_time": "2024-03-26T19:56:18.867Z"
   },
   {
    "duration": 1187,
    "start_time": "2024-03-26T20:03:28.361Z"
   },
   {
    "duration": 30,
    "start_time": "2024-03-26T20:03:29.550Z"
   },
   {
    "duration": 15,
    "start_time": "2024-03-26T20:03:29.582Z"
   },
   {
    "duration": 3,
    "start_time": "2024-03-26T20:03:29.598Z"
   },
   {
    "duration": 23,
    "start_time": "2024-03-26T20:03:29.602Z"
   },
   {
    "duration": 5,
    "start_time": "2024-03-26T20:03:29.627Z"
   },
   {
    "duration": 8,
    "start_time": "2024-03-26T20:03:29.634Z"
   },
   {
    "duration": 39,
    "start_time": "2024-03-26T20:03:29.644Z"
   },
   {
    "duration": 15,
    "start_time": "2024-03-26T20:03:29.686Z"
   },
   {
    "duration": 41,
    "start_time": "2024-03-26T20:03:29.705Z"
   },
   {
    "duration": 11,
    "start_time": "2024-03-26T20:03:29.747Z"
   },
   {
    "duration": 12,
    "start_time": "2024-03-26T20:03:29.765Z"
   },
   {
    "duration": 8,
    "start_time": "2024-03-26T20:03:29.779Z"
   },
   {
    "duration": 20,
    "start_time": "2024-03-26T20:03:29.788Z"
   },
   {
    "duration": 5,
    "start_time": "2024-03-26T20:03:29.810Z"
   },
   {
    "duration": 25,
    "start_time": "2024-03-26T20:03:29.816Z"
   },
   {
    "duration": 25,
    "start_time": "2024-03-26T20:03:29.842Z"
   },
   {
    "duration": 14,
    "start_time": "2024-03-26T20:03:29.870Z"
   },
   {
    "duration": 8,
    "start_time": "2024-03-26T20:03:29.886Z"
   },
   {
    "duration": 15,
    "start_time": "2024-03-26T20:03:29.896Z"
   },
   {
    "duration": 19,
    "start_time": "2024-03-26T20:03:29.912Z"
   },
   {
    "duration": 40,
    "start_time": "2024-03-26T20:03:29.932Z"
   },
   {
    "duration": 18,
    "start_time": "2024-03-26T20:03:29.974Z"
   },
   {
    "duration": 8,
    "start_time": "2024-03-26T20:03:29.994Z"
   },
   {
    "duration": 703,
    "start_time": "2024-03-26T20:03:30.004Z"
   },
   {
    "duration": 256,
    "start_time": "2024-03-26T20:03:30.709Z"
   },
   {
    "duration": 378,
    "start_time": "2024-03-26T20:03:30.968Z"
   },
   {
    "duration": 260,
    "start_time": "2024-03-26T20:03:31.349Z"
   },
   {
    "duration": 322,
    "start_time": "2024-03-26T20:03:31.610Z"
   },
   {
    "duration": 7,
    "start_time": "2024-03-26T20:03:31.933Z"
   },
   {
    "duration": 180,
    "start_time": "2024-03-26T20:03:31.941Z"
   },
   {
    "duration": 5,
    "start_time": "2024-03-26T20:03:32.122Z"
   },
   {
    "duration": 29,
    "start_time": "2024-03-26T20:03:32.128Z"
   },
   {
    "duration": 173,
    "start_time": "2024-03-26T20:03:32.158Z"
   },
   {
    "duration": 217,
    "start_time": "2024-03-26T20:03:32.332Z"
   },
   {
    "duration": 5,
    "start_time": "2024-03-26T20:03:32.550Z"
   },
   {
    "duration": 669,
    "start_time": "2024-03-26T20:03:32.556Z"
   },
   {
    "duration": 48,
    "start_time": "2024-03-26T20:03:33.226Z"
   },
   {
    "duration": 17,
    "start_time": "2024-03-26T20:03:33.276Z"
   },
   {
    "duration": 11,
    "start_time": "2024-03-26T20:03:33.295Z"
   },
   {
    "duration": 7,
    "start_time": "2024-03-26T20:03:33.308Z"
   },
   {
    "duration": 61,
    "start_time": "2024-03-26T20:03:33.317Z"
   },
   {
    "duration": 17,
    "start_time": "2024-03-26T20:03:33.380Z"
   },
   {
    "duration": 1177,
    "start_time": "2024-03-26T20:08:04.535Z"
   },
   {
    "duration": 36,
    "start_time": "2024-03-26T20:08:05.713Z"
   },
   {
    "duration": 16,
    "start_time": "2024-03-26T20:08:05.751Z"
   },
   {
    "duration": 20,
    "start_time": "2024-03-26T20:08:05.770Z"
   },
   {
    "duration": 31,
    "start_time": "2024-03-26T20:08:05.792Z"
   },
   {
    "duration": 21,
    "start_time": "2024-03-26T20:08:05.825Z"
   },
   {
    "duration": 8,
    "start_time": "2024-03-26T20:08:05.848Z"
   },
   {
    "duration": 27,
    "start_time": "2024-03-26T20:08:05.858Z"
   },
   {
    "duration": 17,
    "start_time": "2024-03-26T20:08:05.890Z"
   },
   {
    "duration": 55,
    "start_time": "2024-03-26T20:08:05.910Z"
   },
   {
    "duration": 15,
    "start_time": "2024-03-26T20:08:05.968Z"
   },
   {
    "duration": 13,
    "start_time": "2024-03-26T20:08:05.986Z"
   },
   {
    "duration": 7,
    "start_time": "2024-03-26T20:08:06.001Z"
   },
   {
    "duration": 29,
    "start_time": "2024-03-26T20:08:06.010Z"
   },
   {
    "duration": 6,
    "start_time": "2024-03-26T20:08:06.041Z"
   },
   {
    "duration": 19,
    "start_time": "2024-03-26T20:08:06.067Z"
   },
   {
    "duration": 8,
    "start_time": "2024-03-26T20:08:06.088Z"
   },
   {
    "duration": 9,
    "start_time": "2024-03-26T20:08:06.098Z"
   },
   {
    "duration": 25,
    "start_time": "2024-03-26T20:08:06.109Z"
   },
   {
    "duration": 6,
    "start_time": "2024-03-26T20:08:06.137Z"
   },
   {
    "duration": 6,
    "start_time": "2024-03-26T20:08:06.145Z"
   },
   {
    "duration": 19,
    "start_time": "2024-03-26T20:08:06.153Z"
   },
   {
    "duration": 11,
    "start_time": "2024-03-26T20:08:06.174Z"
   },
   {
    "duration": 20,
    "start_time": "2024-03-26T20:08:06.186Z"
   },
   {
    "duration": 674,
    "start_time": "2024-03-26T20:08:06.208Z"
   },
   {
    "duration": 234,
    "start_time": "2024-03-26T20:08:06.884Z"
   },
   {
    "duration": 337,
    "start_time": "2024-03-26T20:08:07.120Z"
   },
   {
    "duration": 272,
    "start_time": "2024-03-26T20:08:07.465Z"
   },
   {
    "duration": 422,
    "start_time": "2024-03-26T20:08:07.738Z"
   },
   {
    "duration": 11,
    "start_time": "2024-03-26T20:08:08.161Z"
   },
   {
    "duration": 163,
    "start_time": "2024-03-26T20:08:08.175Z"
   },
   {
    "duration": 5,
    "start_time": "2024-03-26T20:08:08.339Z"
   },
   {
    "duration": 28,
    "start_time": "2024-03-26T20:08:08.346Z"
   },
   {
    "duration": 155,
    "start_time": "2024-03-26T20:08:08.377Z"
   },
   {
    "duration": 218,
    "start_time": "2024-03-26T20:08:08.534Z"
   },
   {
    "duration": 14,
    "start_time": "2024-03-26T20:08:08.765Z"
   },
   {
    "duration": 459,
    "start_time": "2024-03-26T20:08:08.782Z"
   },
   {
    "duration": 44,
    "start_time": "2024-03-26T20:08:09.243Z"
   },
   {
    "duration": 13,
    "start_time": "2024-03-26T20:08:09.290Z"
   },
   {
    "duration": 8,
    "start_time": "2024-03-26T20:08:09.304Z"
   },
   {
    "duration": 7,
    "start_time": "2024-03-26T20:08:09.313Z"
   },
   {
    "duration": 65,
    "start_time": "2024-03-26T20:08:09.322Z"
   },
   {
    "duration": 14,
    "start_time": "2024-03-26T20:08:09.390Z"
   },
   {
    "duration": 14,
    "start_time": "2024-03-26T20:09:56.984Z"
   },
   {
    "duration": 94,
    "start_time": "2024-03-26T20:11:34.255Z"
   },
   {
    "duration": 10,
    "start_time": "2024-03-26T20:11:50.491Z"
   },
   {
    "duration": 1113,
    "start_time": "2024-03-26T20:13:24.610Z"
   },
   {
    "duration": 28,
    "start_time": "2024-03-26T20:13:25.724Z"
   },
   {
    "duration": 12,
    "start_time": "2024-03-26T20:13:25.754Z"
   },
   {
    "duration": 6,
    "start_time": "2024-03-26T20:13:25.768Z"
   },
   {
    "duration": 24,
    "start_time": "2024-03-26T20:13:25.776Z"
   },
   {
    "duration": 23,
    "start_time": "2024-03-26T20:13:25.802Z"
   },
   {
    "duration": 11,
    "start_time": "2024-03-26T20:13:25.827Z"
   },
   {
    "duration": 25,
    "start_time": "2024-03-26T20:13:25.840Z"
   },
   {
    "duration": 30,
    "start_time": "2024-03-26T20:13:25.867Z"
   },
   {
    "duration": 57,
    "start_time": "2024-03-26T20:13:25.899Z"
   },
   {
    "duration": 57,
    "start_time": "2024-03-26T20:13:25.958Z"
   },
   {
    "duration": 26,
    "start_time": "2024-03-26T20:13:26.016Z"
   },
   {
    "duration": 24,
    "start_time": "2024-03-26T20:13:26.043Z"
   },
   {
    "duration": 10,
    "start_time": "2024-03-26T20:13:26.070Z"
   },
   {
    "duration": 22,
    "start_time": "2024-03-26T20:13:26.082Z"
   },
   {
    "duration": 16,
    "start_time": "2024-03-26T20:13:26.110Z"
   },
   {
    "duration": 7,
    "start_time": "2024-03-26T20:13:26.127Z"
   },
   {
    "duration": 28,
    "start_time": "2024-03-26T20:13:26.135Z"
   },
   {
    "duration": 20,
    "start_time": "2024-03-26T20:13:26.165Z"
   },
   {
    "duration": 20,
    "start_time": "2024-03-26T20:13:26.186Z"
   },
   {
    "duration": 6,
    "start_time": "2024-03-26T20:13:26.207Z"
   },
   {
    "duration": 16,
    "start_time": "2024-03-26T20:13:26.214Z"
   },
   {
    "duration": 23,
    "start_time": "2024-03-26T20:13:26.231Z"
   },
   {
    "duration": 14,
    "start_time": "2024-03-26T20:13:26.255Z"
   },
   {
    "duration": 648,
    "start_time": "2024-03-26T20:13:26.271Z"
   },
   {
    "duration": 253,
    "start_time": "2024-03-26T20:13:26.921Z"
   },
   {
    "duration": 326,
    "start_time": "2024-03-26T20:13:27.177Z"
   },
   {
    "duration": 241,
    "start_time": "2024-03-26T20:13:27.504Z"
   },
   {
    "duration": 405,
    "start_time": "2024-03-26T20:13:27.747Z"
   },
   {
    "duration": 12,
    "start_time": "2024-03-26T20:13:28.153Z"
   },
   {
    "duration": 157,
    "start_time": "2024-03-26T20:13:28.168Z"
   },
   {
    "duration": 5,
    "start_time": "2024-03-26T20:13:28.326Z"
   },
   {
    "duration": 9,
    "start_time": "2024-03-26T20:13:28.332Z"
   },
   {
    "duration": 190,
    "start_time": "2024-03-26T20:13:28.342Z"
   },
   {
    "duration": 203,
    "start_time": "2024-03-26T20:13:28.534Z"
   },
   {
    "duration": 4,
    "start_time": "2024-03-26T20:13:28.739Z"
   },
   {
    "duration": 479,
    "start_time": "2024-03-26T20:13:28.745Z"
   },
   {
    "duration": 24,
    "start_time": "2024-03-26T20:13:29.226Z"
   },
   {
    "duration": 31,
    "start_time": "2024-03-26T20:13:29.251Z"
   },
   {
    "duration": 48,
    "start_time": "2024-03-26T20:13:29.285Z"
   },
   {
    "duration": 15,
    "start_time": "2024-03-26T20:13:29.336Z"
   },
   {
    "duration": 60,
    "start_time": "2024-03-26T20:13:29.353Z"
   },
   {
    "duration": 24,
    "start_time": "2024-03-26T20:13:29.415Z"
   },
   {
    "duration": 1064,
    "start_time": "2024-03-26T20:17:35.000Z"
   },
   {
    "duration": 28,
    "start_time": "2024-03-26T20:17:36.066Z"
   },
   {
    "duration": 12,
    "start_time": "2024-03-26T20:17:36.096Z"
   },
   {
    "duration": 2,
    "start_time": "2024-03-26T20:17:36.110Z"
   },
   {
    "duration": 11,
    "start_time": "2024-03-26T20:17:36.113Z"
   },
   {
    "duration": 6,
    "start_time": "2024-03-26T20:17:36.126Z"
   },
   {
    "duration": 5,
    "start_time": "2024-03-26T20:17:36.133Z"
   },
   {
    "duration": 33,
    "start_time": "2024-03-26T20:17:36.139Z"
   },
   {
    "duration": 12,
    "start_time": "2024-03-26T20:17:36.173Z"
   },
   {
    "duration": 41,
    "start_time": "2024-03-26T20:17:36.188Z"
   },
   {
    "duration": 11,
    "start_time": "2024-03-26T20:17:36.231Z"
   },
   {
    "duration": 10,
    "start_time": "2024-03-26T20:17:36.243Z"
   },
   {
    "duration": 6,
    "start_time": "2024-03-26T20:17:36.254Z"
   },
   {
    "duration": 13,
    "start_time": "2024-03-26T20:17:36.262Z"
   },
   {
    "duration": 5,
    "start_time": "2024-03-26T20:17:36.276Z"
   },
   {
    "duration": 19,
    "start_time": "2024-03-26T20:17:36.282Z"
   },
   {
    "duration": 7,
    "start_time": "2024-03-26T20:17:36.302Z"
   },
   {
    "duration": 11,
    "start_time": "2024-03-26T20:17:36.310Z"
   },
   {
    "duration": 9,
    "start_time": "2024-03-26T20:17:36.322Z"
   },
   {
    "duration": 6,
    "start_time": "2024-03-26T20:17:36.332Z"
   },
   {
    "duration": 27,
    "start_time": "2024-03-26T20:17:36.339Z"
   },
   {
    "duration": 14,
    "start_time": "2024-03-26T20:17:36.368Z"
   },
   {
    "duration": 27,
    "start_time": "2024-03-26T20:17:36.384Z"
   },
   {
    "duration": 10,
    "start_time": "2024-03-26T20:17:36.412Z"
   },
   {
    "duration": 540,
    "start_time": "2024-03-26T20:17:36.423Z"
   },
   {
    "duration": 226,
    "start_time": "2024-03-26T20:17:36.966Z"
   },
   {
    "duration": 310,
    "start_time": "2024-03-26T20:17:37.194Z"
   },
   {
    "duration": 221,
    "start_time": "2024-03-26T20:17:37.507Z"
   },
   {
    "duration": 368,
    "start_time": "2024-03-26T20:17:37.729Z"
   },
   {
    "duration": 6,
    "start_time": "2024-03-26T20:17:38.098Z"
   },
   {
    "duration": 131,
    "start_time": "2024-03-26T20:17:38.106Z"
   },
   {
    "duration": 5,
    "start_time": "2024-03-26T20:17:38.238Z"
   },
   {
    "duration": 28,
    "start_time": "2024-03-26T20:17:38.244Z"
   },
   {
    "duration": 136,
    "start_time": "2024-03-26T20:17:38.273Z"
   },
   {
    "duration": 179,
    "start_time": "2024-03-26T20:17:38.411Z"
   },
   {
    "duration": 4,
    "start_time": "2024-03-26T20:17:38.592Z"
   },
   {
    "duration": 416,
    "start_time": "2024-03-26T20:17:38.598Z"
   },
   {
    "duration": 23,
    "start_time": "2024-03-26T20:17:39.016Z"
   },
   {
    "duration": 27,
    "start_time": "2024-03-26T20:17:39.041Z"
   },
   {
    "duration": 9,
    "start_time": "2024-03-26T20:17:39.070Z"
   },
   {
    "duration": 12,
    "start_time": "2024-03-26T20:17:39.081Z"
   },
   {
    "duration": 25,
    "start_time": "2024-03-26T20:17:39.094Z"
   },
   {
    "duration": 14,
    "start_time": "2024-03-26T20:17:39.120Z"
   },
   {
    "duration": 1153,
    "start_time": "2024-03-26T20:25:22.036Z"
   },
   {
    "duration": 28,
    "start_time": "2024-03-26T20:25:23.190Z"
   },
   {
    "duration": 13,
    "start_time": "2024-03-26T20:25:23.219Z"
   },
   {
    "duration": 2,
    "start_time": "2024-03-26T20:25:23.234Z"
   },
   {
    "duration": 11,
    "start_time": "2024-03-26T20:25:23.238Z"
   },
   {
    "duration": 16,
    "start_time": "2024-03-26T20:25:23.251Z"
   },
   {
    "duration": 5,
    "start_time": "2024-03-26T20:25:23.268Z"
   },
   {
    "duration": 16,
    "start_time": "2024-03-26T20:25:23.275Z"
   },
   {
    "duration": 15,
    "start_time": "2024-03-26T20:25:23.292Z"
   },
   {
    "duration": 38,
    "start_time": "2024-03-26T20:25:23.311Z"
   },
   {
    "duration": 8,
    "start_time": "2024-03-26T20:25:23.351Z"
   },
   {
    "duration": 18,
    "start_time": "2024-03-26T20:25:23.361Z"
   },
   {
    "duration": 7,
    "start_time": "2024-03-26T20:25:23.380Z"
   },
   {
    "duration": 7,
    "start_time": "2024-03-26T20:25:23.388Z"
   },
   {
    "duration": 5,
    "start_time": "2024-03-26T20:25:23.396Z"
   },
   {
    "duration": 16,
    "start_time": "2024-03-26T20:25:23.402Z"
   },
   {
    "duration": 7,
    "start_time": "2024-03-26T20:25:23.419Z"
   },
   {
    "duration": 14,
    "start_time": "2024-03-26T20:25:23.428Z"
   },
   {
    "duration": 36,
    "start_time": "2024-03-26T20:25:23.443Z"
   },
   {
    "duration": 5,
    "start_time": "2024-03-26T20:25:23.480Z"
   },
   {
    "duration": 4,
    "start_time": "2024-03-26T20:25:23.487Z"
   },
   {
    "duration": 9,
    "start_time": "2024-03-26T20:25:23.493Z"
   },
   {
    "duration": 10,
    "start_time": "2024-03-26T20:25:23.503Z"
   },
   {
    "duration": 11,
    "start_time": "2024-03-26T20:25:23.515Z"
   },
   {
    "duration": 607,
    "start_time": "2024-03-26T20:25:23.527Z"
   },
   {
    "duration": 227,
    "start_time": "2024-03-26T20:25:24.135Z"
   },
   {
    "duration": 362,
    "start_time": "2024-03-26T20:25:24.367Z"
   },
   {
    "duration": 249,
    "start_time": "2024-03-26T20:25:24.733Z"
   },
   {
    "duration": 350,
    "start_time": "2024-03-26T20:25:24.983Z"
   },
   {
    "duration": 7,
    "start_time": "2024-03-26T20:25:25.334Z"
   },
   {
    "duration": 149,
    "start_time": "2024-03-26T20:25:25.342Z"
   },
   {
    "duration": 5,
    "start_time": "2024-03-26T20:25:25.492Z"
   },
   {
    "duration": 13,
    "start_time": "2024-03-26T20:25:25.498Z"
   },
   {
    "duration": 169,
    "start_time": "2024-03-26T20:25:25.512Z"
   },
   {
    "duration": 167,
    "start_time": "2024-03-26T20:25:25.683Z"
   },
   {
    "duration": 22,
    "start_time": "2024-03-26T20:25:25.851Z"
   },
   {
    "duration": 449,
    "start_time": "2024-03-26T20:25:25.880Z"
   },
   {
    "duration": 25,
    "start_time": "2024-03-26T20:25:26.330Z"
   },
   {
    "duration": 13,
    "start_time": "2024-03-26T20:25:26.367Z"
   },
   {
    "duration": 9,
    "start_time": "2024-03-26T20:25:26.381Z"
   },
   {
    "duration": 7,
    "start_time": "2024-03-26T20:25:26.392Z"
   },
   {
    "duration": 28,
    "start_time": "2024-03-26T20:25:26.400Z"
   },
   {
    "duration": 51,
    "start_time": "2024-03-26T20:25:26.430Z"
   },
   {
    "duration": 1069,
    "start_time": "2024-03-26T20:31:43.656Z"
   },
   {
    "duration": 28,
    "start_time": "2024-03-26T20:31:44.727Z"
   },
   {
    "duration": 12,
    "start_time": "2024-03-26T20:31:44.757Z"
   },
   {
    "duration": 3,
    "start_time": "2024-03-26T20:31:44.771Z"
   },
   {
    "duration": 18,
    "start_time": "2024-03-26T20:31:44.775Z"
   },
   {
    "duration": 7,
    "start_time": "2024-03-26T20:31:44.795Z"
   },
   {
    "duration": 15,
    "start_time": "2024-03-26T20:31:44.804Z"
   },
   {
    "duration": 46,
    "start_time": "2024-03-26T20:31:44.821Z"
   },
   {
    "duration": 17,
    "start_time": "2024-03-26T20:31:44.868Z"
   },
   {
    "duration": 89,
    "start_time": "2024-03-26T20:31:44.888Z"
   },
   {
    "duration": 12,
    "start_time": "2024-03-26T20:31:44.979Z"
   },
   {
    "duration": 43,
    "start_time": "2024-03-26T20:31:44.992Z"
   },
   {
    "duration": 39,
    "start_time": "2024-03-26T20:31:45.036Z"
   },
   {
    "duration": 35,
    "start_time": "2024-03-26T20:31:45.077Z"
   },
   {
    "duration": 16,
    "start_time": "2024-03-26T20:31:45.114Z"
   },
   {
    "duration": 53,
    "start_time": "2024-03-26T20:31:45.132Z"
   },
   {
    "duration": 19,
    "start_time": "2024-03-26T20:31:45.187Z"
   },
   {
    "duration": 31,
    "start_time": "2024-03-26T20:31:45.208Z"
   },
   {
    "duration": 43,
    "start_time": "2024-03-26T20:31:45.241Z"
   },
   {
    "duration": 23,
    "start_time": "2024-03-26T20:31:45.285Z"
   },
   {
    "duration": 24,
    "start_time": "2024-03-26T20:31:45.310Z"
   },
   {
    "duration": 26,
    "start_time": "2024-03-26T20:31:45.336Z"
   },
   {
    "duration": 44,
    "start_time": "2024-03-26T20:31:45.364Z"
   },
   {
    "duration": 45,
    "start_time": "2024-03-26T20:31:45.409Z"
   },
   {
    "duration": 604,
    "start_time": "2024-03-26T20:31:45.455Z"
   },
   {
    "duration": 240,
    "start_time": "2024-03-26T20:31:46.060Z"
   },
   {
    "duration": 314,
    "start_time": "2024-03-26T20:31:46.302Z"
   },
   {
    "duration": 235,
    "start_time": "2024-03-26T20:31:46.619Z"
   },
   {
    "duration": 351,
    "start_time": "2024-03-26T20:31:46.856Z"
   },
   {
    "duration": 8,
    "start_time": "2024-03-26T20:31:47.209Z"
   },
   {
    "duration": 136,
    "start_time": "2024-03-26T20:31:47.219Z"
   },
   {
    "duration": 5,
    "start_time": "2024-03-26T20:31:47.356Z"
   },
   {
    "duration": 25,
    "start_time": "2024-03-26T20:31:47.365Z"
   },
   {
    "duration": 155,
    "start_time": "2024-03-26T20:31:47.392Z"
   },
   {
    "duration": 171,
    "start_time": "2024-03-26T20:31:47.549Z"
   },
   {
    "duration": 6,
    "start_time": "2024-03-26T20:31:47.721Z"
   },
   {
    "duration": 439,
    "start_time": "2024-03-26T20:31:47.729Z"
   },
   {
    "duration": 25,
    "start_time": "2024-03-26T20:31:48.169Z"
   },
   {
    "duration": 22,
    "start_time": "2024-03-26T20:31:48.195Z"
   },
   {
    "duration": 24,
    "start_time": "2024-03-26T20:31:48.218Z"
   },
   {
    "duration": 9,
    "start_time": "2024-03-26T20:31:48.244Z"
   },
   {
    "duration": 44,
    "start_time": "2024-03-26T20:31:48.254Z"
   },
   {
    "duration": 17,
    "start_time": "2024-03-26T20:31:48.300Z"
   },
   {
    "duration": 10,
    "start_time": "2024-03-26T20:35:04.223Z"
   },
   {
    "duration": 9,
    "start_time": "2024-03-26T20:35:14.427Z"
   },
   {
    "duration": 1098,
    "start_time": "2024-03-26T20:36:38.178Z"
   },
   {
    "duration": 29,
    "start_time": "2024-03-26T20:36:39.279Z"
   },
   {
    "duration": 14,
    "start_time": "2024-03-26T20:36:39.310Z"
   },
   {
    "duration": 4,
    "start_time": "2024-03-26T20:36:39.326Z"
   },
   {
    "duration": 11,
    "start_time": "2024-03-26T20:36:39.331Z"
   },
   {
    "duration": 19,
    "start_time": "2024-03-26T20:36:39.343Z"
   },
   {
    "duration": 11,
    "start_time": "2024-03-26T20:36:39.363Z"
   },
   {
    "duration": 16,
    "start_time": "2024-03-26T20:36:39.376Z"
   },
   {
    "duration": 15,
    "start_time": "2024-03-26T20:36:39.394Z"
   },
   {
    "duration": 39,
    "start_time": "2024-03-26T20:36:39.412Z"
   },
   {
    "duration": 8,
    "start_time": "2024-03-26T20:36:39.452Z"
   },
   {
    "duration": 17,
    "start_time": "2024-03-26T20:36:39.462Z"
   },
   {
    "duration": 10,
    "start_time": "2024-03-26T20:36:39.481Z"
   },
   {
    "duration": 7,
    "start_time": "2024-03-26T20:36:39.493Z"
   },
   {
    "duration": 4,
    "start_time": "2024-03-26T20:36:39.501Z"
   },
   {
    "duration": 16,
    "start_time": "2024-03-26T20:36:39.506Z"
   },
   {
    "duration": 7,
    "start_time": "2024-03-26T20:36:39.523Z"
   },
   {
    "duration": 34,
    "start_time": "2024-03-26T20:36:39.532Z"
   },
   {
    "duration": 8,
    "start_time": "2024-03-26T20:36:39.569Z"
   },
   {
    "duration": 32,
    "start_time": "2024-03-26T20:36:39.579Z"
   },
   {
    "duration": 4,
    "start_time": "2024-03-26T20:36:39.612Z"
   },
   {
    "duration": 7,
    "start_time": "2024-03-26T20:36:39.618Z"
   },
   {
    "duration": 28,
    "start_time": "2024-03-26T20:36:39.626Z"
   },
   {
    "duration": 7,
    "start_time": "2024-03-26T20:36:39.656Z"
   },
   {
    "duration": 610,
    "start_time": "2024-03-26T20:36:39.667Z"
   },
   {
    "duration": 229,
    "start_time": "2024-03-26T20:36:40.279Z"
   },
   {
    "duration": 326,
    "start_time": "2024-03-26T20:36:40.510Z"
   },
   {
    "duration": 254,
    "start_time": "2024-03-26T20:36:40.840Z"
   },
   {
    "duration": 345,
    "start_time": "2024-03-26T20:36:41.095Z"
   },
   {
    "duration": 6,
    "start_time": "2024-03-26T20:36:41.442Z"
   },
   {
    "duration": 146,
    "start_time": "2024-03-26T20:36:41.449Z"
   },
   {
    "duration": 5,
    "start_time": "2024-03-26T20:36:41.596Z"
   },
   {
    "duration": 8,
    "start_time": "2024-03-26T20:36:41.603Z"
   },
   {
    "duration": 155,
    "start_time": "2024-03-26T20:36:41.613Z"
   },
   {
    "duration": 178,
    "start_time": "2024-03-26T20:36:41.772Z"
   },
   {
    "duration": 4,
    "start_time": "2024-03-26T20:36:41.952Z"
   },
   {
    "duration": 427,
    "start_time": "2024-03-26T20:36:41.969Z"
   },
   {
    "duration": 25,
    "start_time": "2024-03-26T20:36:42.398Z"
   },
   {
    "duration": 15,
    "start_time": "2024-03-26T20:36:42.425Z"
   },
   {
    "duration": 38,
    "start_time": "2024-03-26T20:36:42.442Z"
   },
   {
    "duration": 19,
    "start_time": "2024-03-26T20:36:42.482Z"
   },
   {
    "duration": 45,
    "start_time": "2024-03-26T20:36:42.503Z"
   },
   {
    "duration": 21,
    "start_time": "2024-03-26T20:36:42.550Z"
   },
   {
    "duration": 1035,
    "start_time": "2024-03-27T11:17:48.515Z"
   },
   {
    "duration": 70,
    "start_time": "2024-03-27T11:17:49.551Z"
   },
   {
    "duration": 11,
    "start_time": "2024-03-27T11:17:49.622Z"
   },
   {
    "duration": 3,
    "start_time": "2024-03-27T11:17:49.635Z"
   },
   {
    "duration": 15,
    "start_time": "2024-03-27T11:17:49.639Z"
   },
   {
    "duration": 4,
    "start_time": "2024-03-27T11:17:49.656Z"
   },
   {
    "duration": 5,
    "start_time": "2024-03-27T11:17:49.661Z"
   },
   {
    "duration": 14,
    "start_time": "2024-03-27T11:17:49.667Z"
   },
   {
    "duration": 10,
    "start_time": "2024-03-27T11:17:49.682Z"
   },
   {
    "duration": 89,
    "start_time": "2024-03-27T11:17:49.694Z"
   },
   {
    "duration": 7,
    "start_time": "2024-03-27T11:17:49.785Z"
   },
   {
    "duration": 18,
    "start_time": "2024-03-27T11:17:49.793Z"
   },
   {
    "duration": 8,
    "start_time": "2024-03-27T11:17:49.813Z"
   },
   {
    "duration": 7,
    "start_time": "2024-03-27T11:17:49.823Z"
   },
   {
    "duration": 6,
    "start_time": "2024-03-27T11:17:49.831Z"
   },
   {
    "duration": 67,
    "start_time": "2024-03-27T11:17:49.839Z"
   },
   {
    "duration": 7,
    "start_time": "2024-03-27T11:17:49.908Z"
   },
   {
    "duration": 11,
    "start_time": "2024-03-27T11:17:49.916Z"
   },
   {
    "duration": 5,
    "start_time": "2024-03-27T11:17:49.928Z"
   },
   {
    "duration": 5,
    "start_time": "2024-03-27T11:17:49.934Z"
   },
   {
    "duration": 3,
    "start_time": "2024-03-27T11:17:49.941Z"
   },
   {
    "duration": 20,
    "start_time": "2024-03-27T11:17:49.945Z"
   },
   {
    "duration": 8,
    "start_time": "2024-03-27T11:17:49.966Z"
   },
   {
    "duration": 14,
    "start_time": "2024-03-27T11:17:49.975Z"
   },
   {
    "duration": 522,
    "start_time": "2024-03-27T11:17:49.990Z"
   },
   {
    "duration": 209,
    "start_time": "2024-03-27T11:17:50.514Z"
   },
   {
    "duration": 325,
    "start_time": "2024-03-27T11:17:50.725Z"
   },
   {
    "duration": 233,
    "start_time": "2024-03-27T11:17:51.053Z"
   },
   {
    "duration": 310,
    "start_time": "2024-03-27T11:17:51.287Z"
   },
   {
    "duration": 8,
    "start_time": "2024-03-27T11:17:51.598Z"
   },
   {
    "duration": 125,
    "start_time": "2024-03-27T11:17:51.607Z"
   },
   {
    "duration": 14,
    "start_time": "2024-03-27T11:17:51.734Z"
   },
   {
    "duration": 25,
    "start_time": "2024-03-27T11:17:51.749Z"
   },
   {
    "duration": 125,
    "start_time": "2024-03-27T11:17:51.776Z"
   },
   {
    "duration": 158,
    "start_time": "2024-03-27T11:17:51.902Z"
   },
   {
    "duration": 4,
    "start_time": "2024-03-27T11:17:52.061Z"
   },
   {
    "duration": 385,
    "start_time": "2024-03-27T11:17:52.067Z"
   },
   {
    "duration": 22,
    "start_time": "2024-03-27T11:17:52.453Z"
   },
   {
    "duration": 9,
    "start_time": "2024-03-27T11:17:52.477Z"
   },
   {
    "duration": 9,
    "start_time": "2024-03-27T11:17:52.487Z"
   },
   {
    "duration": 8,
    "start_time": "2024-03-27T11:17:52.498Z"
   },
   {
    "duration": 43,
    "start_time": "2024-03-27T11:17:52.507Z"
   },
   {
    "duration": 12,
    "start_time": "2024-03-27T11:17:52.551Z"
   },
   {
    "duration": 955,
    "start_time": "2024-03-27T11:26:49.504Z"
   },
   {
    "duration": 25,
    "start_time": "2024-03-27T11:26:50.461Z"
   },
   {
    "duration": 10,
    "start_time": "2024-03-27T11:26:50.488Z"
   },
   {
    "duration": 2,
    "start_time": "2024-03-27T11:26:50.499Z"
   },
   {
    "duration": 10,
    "start_time": "2024-03-27T11:26:50.503Z"
   },
   {
    "duration": 28,
    "start_time": "2024-03-27T11:26:50.514Z"
   },
   {
    "duration": 15,
    "start_time": "2024-03-27T11:26:50.543Z"
   },
   {
    "duration": 11,
    "start_time": "2024-03-27T11:26:50.664Z"
   },
   {
    "duration": 11,
    "start_time": "2024-03-27T11:26:50.677Z"
   },
   {
    "duration": 42,
    "start_time": "2024-03-27T11:26:50.689Z"
   },
   {
    "duration": 7,
    "start_time": "2024-03-27T11:26:50.732Z"
   },
   {
    "duration": 14,
    "start_time": "2024-03-27T11:26:50.741Z"
   },
   {
    "duration": 7,
    "start_time": "2024-03-27T11:26:50.756Z"
   },
   {
    "duration": 5,
    "start_time": "2024-03-27T11:26:50.764Z"
   },
   {
    "duration": 4,
    "start_time": "2024-03-27T11:26:50.770Z"
   },
   {
    "duration": 23,
    "start_time": "2024-03-27T11:26:50.775Z"
   },
   {
    "duration": 6,
    "start_time": "2024-03-27T11:26:50.799Z"
   },
   {
    "duration": 13,
    "start_time": "2024-03-27T11:26:50.806Z"
   },
   {
    "duration": 18,
    "start_time": "2024-03-27T11:26:50.820Z"
   },
   {
    "duration": 10,
    "start_time": "2024-03-27T11:26:50.839Z"
   },
   {
    "duration": 11,
    "start_time": "2024-03-27T11:26:50.851Z"
   },
   {
    "duration": 15,
    "start_time": "2024-03-27T11:26:50.863Z"
   },
   {
    "duration": 11,
    "start_time": "2024-03-27T11:26:50.879Z"
   },
   {
    "duration": 16,
    "start_time": "2024-03-27T11:26:50.891Z"
   },
   {
    "duration": 496,
    "start_time": "2024-03-27T11:26:50.908Z"
   },
   {
    "duration": 192,
    "start_time": "2024-03-27T11:26:51.405Z"
   },
   {
    "duration": 267,
    "start_time": "2024-03-27T11:26:51.598Z"
   },
   {
    "duration": 207,
    "start_time": "2024-03-27T11:26:51.867Z"
   },
   {
    "duration": 336,
    "start_time": "2024-03-27T11:26:52.075Z"
   },
   {
    "duration": 5,
    "start_time": "2024-03-27T11:26:52.412Z"
   },
   {
    "duration": 115,
    "start_time": "2024-03-27T11:26:52.418Z"
   },
   {
    "duration": 4,
    "start_time": "2024-03-27T11:26:52.534Z"
   },
   {
    "duration": 13,
    "start_time": "2024-03-27T11:26:52.539Z"
   },
   {
    "duration": 121,
    "start_time": "2024-03-27T11:26:52.553Z"
   },
   {
    "duration": 142,
    "start_time": "2024-03-27T11:26:52.676Z"
   },
   {
    "duration": 4,
    "start_time": "2024-03-27T11:26:52.820Z"
   },
   {
    "duration": 352,
    "start_time": "2024-03-27T11:26:52.825Z"
   },
   {
    "duration": 23,
    "start_time": "2024-03-27T11:26:53.179Z"
   },
   {
    "duration": 11,
    "start_time": "2024-03-27T11:26:53.203Z"
   },
   {
    "duration": 20,
    "start_time": "2024-03-27T11:26:53.215Z"
   },
   {
    "duration": 17,
    "start_time": "2024-03-27T11:26:53.236Z"
   },
   {
    "duration": 38,
    "start_time": "2024-03-27T11:26:53.254Z"
   },
   {
    "duration": 12,
    "start_time": "2024-03-27T11:26:53.293Z"
   },
   {
    "duration": 1352,
    "start_time": "2024-03-27T12:12:27.701Z"
   },
   {
    "duration": 79,
    "start_time": "2024-03-27T12:12:29.055Z"
   },
   {
    "duration": 14,
    "start_time": "2024-03-27T12:12:29.135Z"
   },
   {
    "duration": 32,
    "start_time": "2024-03-27T12:12:29.151Z"
   },
   {
    "duration": 16,
    "start_time": "2024-03-27T12:12:29.185Z"
   },
   {
    "duration": 17,
    "start_time": "2024-03-27T12:12:29.203Z"
   },
   {
    "duration": 16,
    "start_time": "2024-03-27T12:12:29.221Z"
   },
   {
    "duration": 14,
    "start_time": "2024-03-27T12:12:29.238Z"
   },
   {
    "duration": 13,
    "start_time": "2024-03-27T12:12:29.254Z"
   },
   {
    "duration": 114,
    "start_time": "2024-03-27T12:12:29.269Z"
   },
   {
    "duration": 9,
    "start_time": "2024-03-27T12:12:29.384Z"
   },
   {
    "duration": 19,
    "start_time": "2024-03-27T12:12:29.394Z"
   },
   {
    "duration": 7,
    "start_time": "2024-03-27T12:12:29.415Z"
   },
   {
    "duration": 6,
    "start_time": "2024-03-27T12:12:29.423Z"
   },
   {
    "duration": 5,
    "start_time": "2024-03-27T12:12:29.430Z"
   },
   {
    "duration": 58,
    "start_time": "2024-03-27T12:12:29.436Z"
   },
   {
    "duration": 7,
    "start_time": "2024-03-27T12:12:29.496Z"
   },
   {
    "duration": 17,
    "start_time": "2024-03-27T12:12:29.505Z"
   },
   {
    "duration": 5,
    "start_time": "2024-03-27T12:12:29.524Z"
   },
   {
    "duration": 5,
    "start_time": "2024-03-27T12:12:29.530Z"
   },
   {
    "duration": 7,
    "start_time": "2024-03-27T12:12:29.536Z"
   },
   {
    "duration": 6,
    "start_time": "2024-03-27T12:12:29.544Z"
   },
   {
    "duration": 10,
    "start_time": "2024-03-27T12:12:29.552Z"
   },
   {
    "duration": 17,
    "start_time": "2024-03-27T12:12:29.564Z"
   },
   {
    "duration": 599,
    "start_time": "2024-03-27T12:12:29.583Z"
   },
   {
    "duration": 228,
    "start_time": "2024-03-27T12:12:30.183Z"
   },
   {
    "duration": 382,
    "start_time": "2024-03-27T12:12:30.412Z"
   },
   {
    "duration": 255,
    "start_time": "2024-03-27T12:12:30.797Z"
   },
   {
    "duration": 388,
    "start_time": "2024-03-27T12:12:31.053Z"
   },
   {
    "duration": 6,
    "start_time": "2024-03-27T12:12:31.443Z"
   },
   {
    "duration": 177,
    "start_time": "2024-03-27T12:12:31.450Z"
   },
   {
    "duration": 6,
    "start_time": "2024-03-27T12:12:31.629Z"
   },
   {
    "duration": 43,
    "start_time": "2024-03-27T12:12:31.636Z"
   },
   {
    "duration": 187,
    "start_time": "2024-03-27T12:12:31.681Z"
   },
   {
    "duration": 167,
    "start_time": "2024-03-27T12:12:31.870Z"
   },
   {
    "duration": 6,
    "start_time": "2024-03-27T12:12:32.039Z"
   },
   {
    "duration": 429,
    "start_time": "2024-03-27T12:12:32.046Z"
   },
   {
    "duration": 27,
    "start_time": "2024-03-27T12:12:32.476Z"
   },
   {
    "duration": 24,
    "start_time": "2024-03-27T12:12:32.505Z"
   },
   {
    "duration": 25,
    "start_time": "2024-03-27T12:12:32.530Z"
   },
   {
    "duration": 18,
    "start_time": "2024-03-27T12:12:32.556Z"
   },
   {
    "duration": 29,
    "start_time": "2024-03-27T12:12:32.575Z"
   },
   {
    "duration": 21,
    "start_time": "2024-03-27T12:12:32.606Z"
   },
   {
    "duration": 1200,
    "start_time": "2024-03-27T12:15:14.284Z"
   },
   {
    "duration": 28,
    "start_time": "2024-03-27T12:15:15.486Z"
   },
   {
    "duration": 79,
    "start_time": "2024-03-27T12:15:15.516Z"
   },
   {
    "duration": 27,
    "start_time": "2024-03-27T12:15:15.598Z"
   },
   {
    "duration": 36,
    "start_time": "2024-03-27T12:15:15.627Z"
   },
   {
    "duration": 35,
    "start_time": "2024-03-27T12:15:15.665Z"
   },
   {
    "duration": 58,
    "start_time": "2024-03-27T12:15:15.702Z"
   },
   {
    "duration": 44,
    "start_time": "2024-03-27T12:15:15.762Z"
   },
   {
    "duration": 27,
    "start_time": "2024-03-27T12:15:15.808Z"
   },
   {
    "duration": 55,
    "start_time": "2024-03-27T12:15:15.838Z"
   },
   {
    "duration": 9,
    "start_time": "2024-03-27T12:15:15.895Z"
   },
   {
    "duration": 33,
    "start_time": "2024-03-27T12:15:15.905Z"
   },
   {
    "duration": 14,
    "start_time": "2024-03-27T12:15:15.939Z"
   },
   {
    "duration": 44,
    "start_time": "2024-03-27T12:15:15.955Z"
   },
   {
    "duration": 22,
    "start_time": "2024-03-27T12:15:16.001Z"
   },
   {
    "duration": 48,
    "start_time": "2024-03-27T12:15:16.025Z"
   },
   {
    "duration": 15,
    "start_time": "2024-03-27T12:15:16.074Z"
   },
   {
    "duration": 32,
    "start_time": "2024-03-27T12:15:16.090Z"
   },
   {
    "duration": 13,
    "start_time": "2024-03-27T12:15:16.124Z"
   },
   {
    "duration": 38,
    "start_time": "2024-03-27T12:15:16.138Z"
   },
   {
    "duration": 21,
    "start_time": "2024-03-27T12:15:16.177Z"
   },
   {
    "duration": 23,
    "start_time": "2024-03-27T12:15:16.200Z"
   },
   {
    "duration": 31,
    "start_time": "2024-03-27T12:15:16.224Z"
   },
   {
    "duration": 31,
    "start_time": "2024-03-27T12:15:16.257Z"
   },
   {
    "duration": 593,
    "start_time": "2024-03-27T12:15:16.289Z"
   },
   {
    "duration": 220,
    "start_time": "2024-03-27T12:15:16.884Z"
   },
   {
    "duration": 338,
    "start_time": "2024-03-27T12:15:17.105Z"
   },
   {
    "duration": 241,
    "start_time": "2024-03-27T12:15:17.446Z"
   },
   {
    "duration": 358,
    "start_time": "2024-03-27T12:15:17.689Z"
   },
   {
    "duration": 7,
    "start_time": "2024-03-27T12:15:18.048Z"
   },
   {
    "duration": 143,
    "start_time": "2024-03-27T12:15:18.057Z"
   },
   {
    "duration": 4,
    "start_time": "2024-03-27T12:15:18.202Z"
   },
   {
    "duration": 26,
    "start_time": "2024-03-27T12:15:18.208Z"
   },
   {
    "duration": 152,
    "start_time": "2024-03-27T12:15:18.235Z"
   },
   {
    "duration": 175,
    "start_time": "2024-03-27T12:15:18.390Z"
   },
   {
    "duration": 4,
    "start_time": "2024-03-27T12:15:18.567Z"
   },
   {
    "duration": 411,
    "start_time": "2024-03-27T12:15:18.581Z"
   },
   {
    "duration": 24,
    "start_time": "2024-03-27T12:15:18.993Z"
   },
   {
    "duration": 26,
    "start_time": "2024-03-27T12:15:19.019Z"
   },
   {
    "duration": 23,
    "start_time": "2024-03-27T12:15:19.046Z"
   },
   {
    "duration": 39,
    "start_time": "2024-03-27T12:15:19.071Z"
   },
   {
    "duration": 72,
    "start_time": "2024-03-27T12:15:19.111Z"
   },
   {
    "duration": 24,
    "start_time": "2024-03-27T12:15:19.184Z"
   },
   {
    "duration": 1165,
    "start_time": "2024-03-27T12:18:12.479Z"
   },
   {
    "duration": 26,
    "start_time": "2024-03-27T12:18:13.646Z"
   },
   {
    "duration": 12,
    "start_time": "2024-03-27T12:18:13.674Z"
   },
   {
    "duration": 7,
    "start_time": "2024-03-27T12:18:13.688Z"
   },
   {
    "duration": 24,
    "start_time": "2024-03-27T12:18:13.697Z"
   },
   {
    "duration": 16,
    "start_time": "2024-03-27T12:18:13.722Z"
   },
   {
    "duration": 8,
    "start_time": "2024-03-27T12:18:13.739Z"
   },
   {
    "duration": 24,
    "start_time": "2024-03-27T12:18:13.749Z"
   },
   {
    "duration": 14,
    "start_time": "2024-03-27T12:18:13.775Z"
   },
   {
    "duration": 67,
    "start_time": "2024-03-27T12:18:13.792Z"
   },
   {
    "duration": 8,
    "start_time": "2024-03-27T12:18:13.860Z"
   },
   {
    "duration": 28,
    "start_time": "2024-03-27T12:18:13.870Z"
   },
   {
    "duration": 16,
    "start_time": "2024-03-27T12:18:13.900Z"
   },
   {
    "duration": 35,
    "start_time": "2024-03-27T12:18:13.918Z"
   },
   {
    "duration": 15,
    "start_time": "2024-03-27T12:18:13.954Z"
   },
   {
    "duration": 45,
    "start_time": "2024-03-27T12:18:13.971Z"
   },
   {
    "duration": 7,
    "start_time": "2024-03-27T12:18:14.018Z"
   },
   {
    "duration": 37,
    "start_time": "2024-03-27T12:18:14.027Z"
   },
   {
    "duration": 32,
    "start_time": "2024-03-27T12:18:14.066Z"
   },
   {
    "duration": 42,
    "start_time": "2024-03-27T12:18:14.099Z"
   },
   {
    "duration": 29,
    "start_time": "2024-03-27T12:18:14.143Z"
   },
   {
    "duration": 27,
    "start_time": "2024-03-27T12:18:14.174Z"
   },
   {
    "duration": 22,
    "start_time": "2024-03-27T12:18:14.202Z"
   },
   {
    "duration": 20,
    "start_time": "2024-03-27T12:18:14.226Z"
   },
   {
    "duration": 563,
    "start_time": "2024-03-27T12:18:14.247Z"
   },
   {
    "duration": 217,
    "start_time": "2024-03-27T12:18:14.812Z"
   },
   {
    "duration": 328,
    "start_time": "2024-03-27T12:18:15.031Z"
   },
   {
    "duration": 278,
    "start_time": "2024-03-27T12:18:15.363Z"
   },
   {
    "duration": 352,
    "start_time": "2024-03-27T12:18:15.642Z"
   },
   {
    "duration": 6,
    "start_time": "2024-03-27T12:18:15.995Z"
   },
   {
    "duration": 208,
    "start_time": "2024-03-27T12:18:16.002Z"
   },
   {
    "duration": 5,
    "start_time": "2024-03-27T12:18:16.212Z"
   },
   {
    "duration": 65,
    "start_time": "2024-03-27T12:18:16.219Z"
   },
   {
    "duration": 147,
    "start_time": "2024-03-27T12:18:16.286Z"
   },
   {
    "duration": 161,
    "start_time": "2024-03-27T12:18:16.435Z"
   },
   {
    "duration": 5,
    "start_time": "2024-03-27T12:18:16.597Z"
   },
   {
    "duration": 407,
    "start_time": "2024-03-27T12:18:16.603Z"
   },
   {
    "duration": 24,
    "start_time": "2024-03-27T12:18:17.012Z"
   },
   {
    "duration": 10,
    "start_time": "2024-03-27T12:18:17.038Z"
   },
   {
    "duration": 24,
    "start_time": "2024-03-27T12:18:17.050Z"
   },
   {
    "duration": 19,
    "start_time": "2024-03-27T12:18:17.081Z"
   },
   {
    "duration": 24,
    "start_time": "2024-03-27T12:18:17.101Z"
   },
   {
    "duration": 13,
    "start_time": "2024-03-27T12:18:17.127Z"
   },
   {
    "duration": 975,
    "start_time": "2024-03-27T13:55:06.799Z"
   },
   {
    "duration": 26,
    "start_time": "2024-03-27T13:55:07.775Z"
   },
   {
    "duration": 10,
    "start_time": "2024-03-27T13:55:07.803Z"
   },
   {
    "duration": 2,
    "start_time": "2024-03-27T13:55:07.815Z"
   },
   {
    "duration": 12,
    "start_time": "2024-03-27T13:55:07.819Z"
   },
   {
    "duration": 9,
    "start_time": "2024-03-27T13:55:07.832Z"
   },
   {
    "duration": 8,
    "start_time": "2024-03-27T13:55:07.842Z"
   },
   {
    "duration": 23,
    "start_time": "2024-03-27T13:55:07.851Z"
   },
   {
    "duration": 11,
    "start_time": "2024-03-27T13:55:07.875Z"
   },
   {
    "duration": 36,
    "start_time": "2024-03-27T13:55:07.888Z"
   },
   {
    "duration": 7,
    "start_time": "2024-03-27T13:55:07.926Z"
   },
   {
    "duration": 14,
    "start_time": "2024-03-27T13:55:07.934Z"
   },
   {
    "duration": 16,
    "start_time": "2024-03-27T13:55:07.949Z"
   },
   {
    "duration": 6,
    "start_time": "2024-03-27T13:55:07.967Z"
   },
   {
    "duration": 5,
    "start_time": "2024-03-27T13:55:07.974Z"
   },
   {
    "duration": 19,
    "start_time": "2024-03-27T13:55:07.981Z"
   },
   {
    "duration": 7,
    "start_time": "2024-03-27T13:55:08.001Z"
   },
   {
    "duration": 25,
    "start_time": "2024-03-27T13:55:08.009Z"
   },
   {
    "duration": 13,
    "start_time": "2024-03-27T13:55:08.035Z"
   },
   {
    "duration": 23,
    "start_time": "2024-03-27T13:55:08.050Z"
   },
   {
    "duration": 10,
    "start_time": "2024-03-27T13:55:08.075Z"
   },
   {
    "duration": 6,
    "start_time": "2024-03-27T13:55:08.087Z"
   },
   {
    "duration": 10,
    "start_time": "2024-03-27T13:55:08.094Z"
   },
   {
    "duration": 6,
    "start_time": "2024-03-27T13:55:08.106Z"
   },
   {
    "duration": 491,
    "start_time": "2024-03-27T13:55:08.113Z"
   },
   {
    "duration": 194,
    "start_time": "2024-03-27T13:55:08.605Z"
   },
   {
    "duration": 265,
    "start_time": "2024-03-27T13:55:08.800Z"
   },
   {
    "duration": 204,
    "start_time": "2024-03-27T13:55:09.068Z"
   },
   {
    "duration": 307,
    "start_time": "2024-03-27T13:55:09.273Z"
   },
   {
    "duration": 6,
    "start_time": "2024-03-27T13:55:09.581Z"
   },
   {
    "duration": 121,
    "start_time": "2024-03-27T13:55:09.588Z"
   },
   {
    "duration": 4,
    "start_time": "2024-03-27T13:55:09.710Z"
   },
   {
    "duration": 8,
    "start_time": "2024-03-27T13:55:09.714Z"
   },
   {
    "duration": 130,
    "start_time": "2024-03-27T13:55:09.723Z"
   },
   {
    "duration": 141,
    "start_time": "2024-03-27T13:55:09.855Z"
   },
   {
    "duration": 5,
    "start_time": "2024-03-27T13:55:09.997Z"
   },
   {
    "duration": 376,
    "start_time": "2024-03-27T13:55:10.003Z"
   },
   {
    "duration": 22,
    "start_time": "2024-03-27T13:55:10.380Z"
   },
   {
    "duration": 8,
    "start_time": "2024-03-27T13:55:10.404Z"
   },
   {
    "duration": 8,
    "start_time": "2024-03-27T13:55:10.413Z"
   },
   {
    "duration": 26,
    "start_time": "2024-03-27T13:55:10.422Z"
   },
   {
    "duration": 21,
    "start_time": "2024-03-27T13:55:10.449Z"
   },
   {
    "duration": 12,
    "start_time": "2024-03-27T13:55:10.471Z"
   },
   {
    "duration": 1044,
    "start_time": "2024-03-27T13:56:23.469Z"
   },
   {
    "duration": 26,
    "start_time": "2024-03-27T13:56:24.515Z"
   },
   {
    "duration": 11,
    "start_time": "2024-03-27T13:56:24.543Z"
   },
   {
    "duration": 11,
    "start_time": "2024-03-27T13:56:24.555Z"
   },
   {
    "duration": 18,
    "start_time": "2024-03-27T13:56:24.568Z"
   },
   {
    "duration": 11,
    "start_time": "2024-03-27T13:56:24.587Z"
   },
   {
    "duration": 26,
    "start_time": "2024-03-27T13:56:24.599Z"
   },
   {
    "duration": 16,
    "start_time": "2024-03-27T13:56:24.627Z"
   },
   {
    "duration": 12,
    "start_time": "2024-03-27T13:56:24.645Z"
   },
   {
    "duration": 46,
    "start_time": "2024-03-27T13:56:24.658Z"
   },
   {
    "duration": 8,
    "start_time": "2024-03-27T13:56:24.705Z"
   },
   {
    "duration": 25,
    "start_time": "2024-03-27T13:56:24.714Z"
   },
   {
    "duration": 7,
    "start_time": "2024-03-27T13:56:24.740Z"
   },
   {
    "duration": 4,
    "start_time": "2024-03-27T13:56:24.750Z"
   },
   {
    "duration": 4,
    "start_time": "2024-03-27T13:56:24.756Z"
   },
   {
    "duration": 37,
    "start_time": "2024-03-27T13:56:24.761Z"
   },
   {
    "duration": 17,
    "start_time": "2024-03-27T13:56:24.799Z"
   },
   {
    "duration": 11,
    "start_time": "2024-03-27T13:56:24.818Z"
   },
   {
    "duration": 7,
    "start_time": "2024-03-27T13:56:24.831Z"
   },
   {
    "duration": 7,
    "start_time": "2024-03-27T13:56:24.839Z"
   },
   {
    "duration": 5,
    "start_time": "2024-03-27T13:56:24.848Z"
   },
   {
    "duration": 7,
    "start_time": "2024-03-27T13:56:24.854Z"
   },
   {
    "duration": 9,
    "start_time": "2024-03-27T13:56:24.863Z"
   },
   {
    "duration": 8,
    "start_time": "2024-03-27T13:56:24.873Z"
   },
   {
    "duration": 528,
    "start_time": "2024-03-27T13:56:24.883Z"
   },
   {
    "duration": 211,
    "start_time": "2024-03-27T13:56:25.412Z"
   },
   {
    "duration": 330,
    "start_time": "2024-03-27T13:56:25.624Z"
   },
   {
    "duration": 218,
    "start_time": "2024-03-27T13:56:25.956Z"
   },
   {
    "duration": 341,
    "start_time": "2024-03-27T13:56:26.176Z"
   },
   {
    "duration": 7,
    "start_time": "2024-03-27T13:56:26.518Z"
   },
   {
    "duration": 131,
    "start_time": "2024-03-27T13:56:26.527Z"
   },
   {
    "duration": 5,
    "start_time": "2024-03-27T13:56:26.659Z"
   },
   {
    "duration": 13,
    "start_time": "2024-03-27T13:56:26.665Z"
   },
   {
    "duration": 131,
    "start_time": "2024-03-27T13:56:26.680Z"
   },
   {
    "duration": 164,
    "start_time": "2024-03-27T13:56:26.812Z"
   },
   {
    "duration": 5,
    "start_time": "2024-03-27T13:56:26.977Z"
   },
   {
    "duration": 394,
    "start_time": "2024-03-27T13:56:26.983Z"
   },
   {
    "duration": 24,
    "start_time": "2024-03-27T13:56:27.378Z"
   },
   {
    "duration": 9,
    "start_time": "2024-03-27T13:56:27.404Z"
   },
   {
    "duration": 10,
    "start_time": "2024-03-27T13:56:27.414Z"
   },
   {
    "duration": 8,
    "start_time": "2024-03-27T13:56:27.447Z"
   },
   {
    "duration": 30,
    "start_time": "2024-03-27T13:56:27.456Z"
   },
   {
    "duration": 13,
    "start_time": "2024-03-27T13:56:27.487Z"
   },
   {
    "duration": 44,
    "start_time": "2024-03-28T11:59:34.104Z"
   },
   {
    "duration": 1126,
    "start_time": "2024-03-28T11:59:46.649Z"
   },
   {
    "duration": 66,
    "start_time": "2024-03-28T11:59:47.777Z"
   },
   {
    "duration": 11,
    "start_time": "2024-03-28T11:59:47.845Z"
   },
   {
    "duration": 8,
    "start_time": "2024-03-28T11:59:47.858Z"
   },
   {
    "duration": 14,
    "start_time": "2024-03-28T11:59:47.868Z"
   },
   {
    "duration": 15,
    "start_time": "2024-03-28T11:59:47.884Z"
   },
   {
    "duration": 15,
    "start_time": "2024-03-28T11:59:47.901Z"
   },
   {
    "duration": 34,
    "start_time": "2024-03-28T11:59:47.917Z"
   },
   {
    "duration": 10,
    "start_time": "2024-03-28T11:59:47.953Z"
   },
   {
    "duration": 85,
    "start_time": "2024-03-28T11:59:47.965Z"
   },
   {
    "duration": 7,
    "start_time": "2024-03-28T11:59:48.052Z"
   },
   {
    "duration": 12,
    "start_time": "2024-03-28T11:59:48.060Z"
   },
   {
    "duration": 5,
    "start_time": "2024-03-28T11:59:48.073Z"
   },
   {
    "duration": 22,
    "start_time": "2024-03-28T11:59:48.079Z"
   },
   {
    "duration": 4,
    "start_time": "2024-03-28T11:59:48.102Z"
   },
   {
    "duration": 82,
    "start_time": "2024-03-28T11:59:48.108Z"
   },
   {
    "duration": 7,
    "start_time": "2024-03-28T11:59:48.192Z"
   },
   {
    "duration": 10,
    "start_time": "2024-03-28T11:59:48.200Z"
   },
   {
    "duration": 11,
    "start_time": "2024-03-28T11:59:48.211Z"
   },
   {
    "duration": 6,
    "start_time": "2024-03-28T11:59:48.224Z"
   },
   {
    "duration": 7,
    "start_time": "2024-03-28T11:59:48.231Z"
   },
   {
    "duration": 8,
    "start_time": "2024-03-28T11:59:48.240Z"
   },
   {
    "duration": 7,
    "start_time": "2024-03-28T11:59:48.249Z"
   },
   {
    "duration": 13,
    "start_time": "2024-03-28T11:59:48.257Z"
   },
   {
    "duration": 504,
    "start_time": "2024-03-28T11:59:48.271Z"
   },
   {
    "duration": 186,
    "start_time": "2024-03-28T11:59:48.777Z"
   },
   {
    "duration": 322,
    "start_time": "2024-03-28T11:59:48.965Z"
   },
   {
    "duration": 206,
    "start_time": "2024-03-28T11:59:49.290Z"
   },
   {
    "duration": 295,
    "start_time": "2024-03-28T11:59:49.498Z"
   },
   {
    "duration": 6,
    "start_time": "2024-03-28T11:59:49.795Z"
   },
   {
    "duration": 127,
    "start_time": "2024-03-28T11:59:49.802Z"
   },
   {
    "duration": 5,
    "start_time": "2024-03-28T11:59:49.930Z"
   },
   {
    "duration": 14,
    "start_time": "2024-03-28T11:59:49.936Z"
   },
   {
    "duration": 131,
    "start_time": "2024-03-28T11:59:49.952Z"
   },
   {
    "duration": 156,
    "start_time": "2024-03-28T11:59:50.084Z"
   },
   {
    "duration": 7,
    "start_time": "2024-03-28T11:59:50.241Z"
   },
   {
    "duration": 374,
    "start_time": "2024-03-28T11:59:50.249Z"
   },
   {
    "duration": 28,
    "start_time": "2024-03-28T11:59:50.624Z"
   },
   {
    "duration": 10,
    "start_time": "2024-03-28T11:59:50.654Z"
   },
   {
    "duration": 9,
    "start_time": "2024-03-28T11:59:50.665Z"
   },
   {
    "duration": 9,
    "start_time": "2024-03-28T11:59:50.675Z"
   },
   {
    "duration": 30,
    "start_time": "2024-03-28T11:59:50.685Z"
   },
   {
    "duration": 32,
    "start_time": "2024-03-28T11:59:50.716Z"
   }
  ],
  "kernelspec": {
   "display_name": "Python 3 (ipykernel)",
   "language": "python",
   "name": "python3"
  },
  "language_info": {
   "codemirror_mode": {
    "name": "ipython",
    "version": 3
   },
   "file_extension": ".py",
   "mimetype": "text/x-python",
   "name": "python",
   "nbconvert_exporter": "python",
   "pygments_lexer": "ipython3",
   "version": "3.9.19"
  },
  "toc": {
   "base_numbering": 1,
   "nav_menu": {},
   "number_sections": true,
   "sideBar": true,
   "skip_h1_title": true,
   "title_cell": "Table of Contents",
   "title_sidebar": "Contents",
   "toc_cell": false,
   "toc_position": {},
   "toc_section_display": true,
   "toc_window_display": false
  }
 },
 "nbformat": 4,
 "nbformat_minor": 4
}
