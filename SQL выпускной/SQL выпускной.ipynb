{
 "cells": [
  {
   "cell_type": "markdown",
   "metadata": {},
   "source": [
    "<h1>Описание данных и задание SQL<span class=\"tocSkip\"></span></h1>"
   ]
  },
  {
   "cell_type": "markdown",
   "metadata": {},
   "source": [
    "**Цели исследования:**\n",
    "\n",
    "1. Исследовать таблицы, посчитать количество строк в каждой таблице \n",
    "\n",
    "2. Посчитать, сколько книг вышло после 1 января 2000 года. \n",
    "\n",
    "3. Для каждой книги посчитать количество обзоров и среднюю оценку. \n",
    "\n",
    "4. Определить издательство, которое выпустило наибольшее число книг толще 50 страниц — так вы исключите из анализа брошюр. \n",
    "\n",
    "5. Определить автора с самой высокой средней оценкой книг — учитывайте только книги с 50 и более оценкам. \n",
    "\n",
    "6. Посчитать среднее количество обзоров от пользователей, которые поставили больше 48 оценок.\n",
    "\n",
    "7. Вывод"
   ]
  },
  {
   "cell_type": "code",
   "execution_count": 1,
   "metadata": {},
   "outputs": [],
   "source": [
    "# импортируем библиотеки\n",
    "import pandas as pd\n",
    "from sqlalchemy import text, create_engine"
   ]
  },
  {
   "cell_type": "code",
   "execution_count": 2,
   "metadata": {},
   "outputs": [],
   "source": [
    "# устанавливаем параметры\n",
    "db_config = {'user': 'praktikum_student', # имя пользователя\n",
    "'pwd': 'Sdf4$2;d-d30pp', # пароль\n",
    "'host': 'rc1b-wcoijxj3yxfsf3fs.mdb.yandexcloud.net',\n",
    "'port': 6432, # порт подключения\n",
    "'db': 'data-analyst-final-project-db'} # название базы данных\n",
    "connection_string = 'postgresql://{user}:{pwd}@{host}:{port}/{db}'.format(**db_config)\n",
    "# сохраняем коннектор\n",
    "engine = create_engine(connection_string, connect_args={'sslmode':'require'})\n",
    "# чтобы выполнить SQL-запрос, используем Pandas\n",
    "\n"
   ]
  },
  {
   "cell_type": "markdown",
   "metadata": {},
   "source": [
    "Изучим таблицы."
   ]
  },
  {
   "cell_type": "markdown",
   "metadata": {},
   "source": [
    "Таблица books"
   ]
  },
  {
   "cell_type": "code",
   "execution_count": 3,
   "metadata": {
    "scrolled": true
   },
   "outputs": [
    {
     "data": {
      "text/html": [
       "<div>\n",
       "<style scoped>\n",
       "    .dataframe tbody tr th:only-of-type {\n",
       "        vertical-align: middle;\n",
       "    }\n",
       "\n",
       "    .dataframe tbody tr th {\n",
       "        vertical-align: top;\n",
       "    }\n",
       "\n",
       "    .dataframe thead th {\n",
       "        text-align: right;\n",
       "    }\n",
       "</style>\n",
       "<table border=\"1\" class=\"dataframe\">\n",
       "  <thead>\n",
       "    <tr style=\"text-align: right;\">\n",
       "      <th></th>\n",
       "      <th>book_id</th>\n",
       "      <th>author_id</th>\n",
       "      <th>title</th>\n",
       "      <th>num_pages</th>\n",
       "      <th>publication_date</th>\n",
       "      <th>publisher_id</th>\n",
       "    </tr>\n",
       "  </thead>\n",
       "  <tbody>\n",
       "    <tr>\n",
       "      <th>0</th>\n",
       "      <td>1</td>\n",
       "      <td>546</td>\n",
       "      <td>'Salem's Lot</td>\n",
       "      <td>594</td>\n",
       "      <td>2005-11-01</td>\n",
       "      <td>93</td>\n",
       "    </tr>\n",
       "    <tr>\n",
       "      <th>1</th>\n",
       "      <td>2</td>\n",
       "      <td>465</td>\n",
       "      <td>1 000 Places to See Before You Die</td>\n",
       "      <td>992</td>\n",
       "      <td>2003-05-22</td>\n",
       "      <td>336</td>\n",
       "    </tr>\n",
       "    <tr>\n",
       "      <th>2</th>\n",
       "      <td>3</td>\n",
       "      <td>407</td>\n",
       "      <td>13 Little Blue Envelopes (Little Blue Envelope...</td>\n",
       "      <td>322</td>\n",
       "      <td>2010-12-21</td>\n",
       "      <td>135</td>\n",
       "    </tr>\n",
       "    <tr>\n",
       "      <th>3</th>\n",
       "      <td>4</td>\n",
       "      <td>82</td>\n",
       "      <td>1491: New Revelations of the Americas Before C...</td>\n",
       "      <td>541</td>\n",
       "      <td>2006-10-10</td>\n",
       "      <td>309</td>\n",
       "    </tr>\n",
       "    <tr>\n",
       "      <th>4</th>\n",
       "      <td>5</td>\n",
       "      <td>125</td>\n",
       "      <td>1776</td>\n",
       "      <td>386</td>\n",
       "      <td>2006-07-04</td>\n",
       "      <td>268</td>\n",
       "    </tr>\n",
       "  </tbody>\n",
       "</table>\n",
       "</div>"
      ],
      "text/plain": [
       "   book_id  author_id                                              title  \\\n",
       "0        1        546                                       'Salem's Lot   \n",
       "1        2        465                 1 000 Places to See Before You Die   \n",
       "2        3        407  13 Little Blue Envelopes (Little Blue Envelope...   \n",
       "3        4         82  1491: New Revelations of the Americas Before C...   \n",
       "4        5        125                                               1776   \n",
       "\n",
       "   num_pages publication_date  publisher_id  \n",
       "0        594       2005-11-01            93  \n",
       "1        992       2003-05-22           336  \n",
       "2        322       2010-12-21           135  \n",
       "3        541       2006-10-10           309  \n",
       "4        386       2006-07-04           268  "
      ]
     },
     "execution_count": 3,
     "metadata": {},
     "output_type": "execute_result"
    }
   ],
   "source": [
    "query = '''\n",
    "SELECT * \n",
    "FROM books \n",
    "LIMIT 5\n",
    "\n",
    "'''\n",
    "con=engine.connect()\n",
    "pd.io.sql.read_sql(sql=text(query), con = con)\n"
   ]
  },
  {
   "cell_type": "code",
   "execution_count": 4,
   "metadata": {},
   "outputs": [
    {
     "data": {
      "text/html": [
       "<div>\n",
       "<style scoped>\n",
       "    .dataframe tbody tr th:only-of-type {\n",
       "        vertical-align: middle;\n",
       "    }\n",
       "\n",
       "    .dataframe tbody tr th {\n",
       "        vertical-align: top;\n",
       "    }\n",
       "\n",
       "    .dataframe thead th {\n",
       "        text-align: right;\n",
       "    }\n",
       "</style>\n",
       "<table border=\"1\" class=\"dataframe\">\n",
       "  <thead>\n",
       "    <tr style=\"text-align: right;\">\n",
       "      <th></th>\n",
       "      <th>count</th>\n",
       "    </tr>\n",
       "  </thead>\n",
       "  <tbody>\n",
       "    <tr>\n",
       "      <th>0</th>\n",
       "      <td>1000</td>\n",
       "    </tr>\n",
       "  </tbody>\n",
       "</table>\n",
       "</div>"
      ],
      "text/plain": [
       "   count\n",
       "0   1000"
      ]
     },
     "execution_count": 4,
     "metadata": {},
     "output_type": "execute_result"
    }
   ],
   "source": [
    "query = '''\n",
    "SELECT COUNT(*)\n",
    "FROM books \n",
    "LIMIT 5\n",
    "\n",
    "'''\n",
    "con=engine.connect()\n",
    "pd.io.sql.read_sql(sql=text(query), con = con)\n"
   ]
  },
  {
   "cell_type": "markdown",
   "metadata": {},
   "source": [
    "В первой таблице books 1000 строк"
   ]
  },
  {
   "cell_type": "markdown",
   "metadata": {},
   "source": [
    " Таблица authors"
   ]
  },
  {
   "cell_type": "code",
   "execution_count": 5,
   "metadata": {},
   "outputs": [
    {
     "data": {
      "text/html": [
       "<div>\n",
       "<style scoped>\n",
       "    .dataframe tbody tr th:only-of-type {\n",
       "        vertical-align: middle;\n",
       "    }\n",
       "\n",
       "    .dataframe tbody tr th {\n",
       "        vertical-align: top;\n",
       "    }\n",
       "\n",
       "    .dataframe thead th {\n",
       "        text-align: right;\n",
       "    }\n",
       "</style>\n",
       "<table border=\"1\" class=\"dataframe\">\n",
       "  <thead>\n",
       "    <tr style=\"text-align: right;\">\n",
       "      <th></th>\n",
       "      <th>author_id</th>\n",
       "      <th>author</th>\n",
       "    </tr>\n",
       "  </thead>\n",
       "  <tbody>\n",
       "    <tr>\n",
       "      <th>0</th>\n",
       "      <td>1</td>\n",
       "      <td>A.S. Byatt</td>\n",
       "    </tr>\n",
       "    <tr>\n",
       "      <th>1</th>\n",
       "      <td>2</td>\n",
       "      <td>Aesop/Laura Harris/Laura Gibbs</td>\n",
       "    </tr>\n",
       "    <tr>\n",
       "      <th>2</th>\n",
       "      <td>3</td>\n",
       "      <td>Agatha Christie</td>\n",
       "    </tr>\n",
       "    <tr>\n",
       "      <th>3</th>\n",
       "      <td>4</td>\n",
       "      <td>Alan Brennert</td>\n",
       "    </tr>\n",
       "    <tr>\n",
       "      <th>4</th>\n",
       "      <td>5</td>\n",
       "      <td>Alan Moore/David   Lloyd</td>\n",
       "    </tr>\n",
       "  </tbody>\n",
       "</table>\n",
       "</div>"
      ],
      "text/plain": [
       "   author_id                          author\n",
       "0          1                      A.S. Byatt\n",
       "1          2  Aesop/Laura Harris/Laura Gibbs\n",
       "2          3                 Agatha Christie\n",
       "3          4                   Alan Brennert\n",
       "4          5        Alan Moore/David   Lloyd"
      ]
     },
     "execution_count": 5,
     "metadata": {},
     "output_type": "execute_result"
    }
   ],
   "source": [
    "query = '''\n",
    "SELECT *\n",
    "FROM authors\n",
    "LIMIT 5\n",
    "'''\n",
    "con=engine.connect()\n",
    "pd.io.sql.read_sql(sql=text(query), con = con)\n"
   ]
  },
  {
   "cell_type": "code",
   "execution_count": 6,
   "metadata": {},
   "outputs": [
    {
     "data": {
      "text/html": [
       "<div>\n",
       "<style scoped>\n",
       "    .dataframe tbody tr th:only-of-type {\n",
       "        vertical-align: middle;\n",
       "    }\n",
       "\n",
       "    .dataframe tbody tr th {\n",
       "        vertical-align: top;\n",
       "    }\n",
       "\n",
       "    .dataframe thead th {\n",
       "        text-align: right;\n",
       "    }\n",
       "</style>\n",
       "<table border=\"1\" class=\"dataframe\">\n",
       "  <thead>\n",
       "    <tr style=\"text-align: right;\">\n",
       "      <th></th>\n",
       "      <th>count</th>\n",
       "    </tr>\n",
       "  </thead>\n",
       "  <tbody>\n",
       "    <tr>\n",
       "      <th>0</th>\n",
       "      <td>636</td>\n",
       "    </tr>\n",
       "  </tbody>\n",
       "</table>\n",
       "</div>"
      ],
      "text/plain": [
       "   count\n",
       "0    636"
      ]
     },
     "execution_count": 6,
     "metadata": {},
     "output_type": "execute_result"
    }
   ],
   "source": [
    "query = '''\n",
    "SELECT COUNT(*)\n",
    "FROM authors\n",
    "LIMIT 5\n",
    "'''\n",
    "con=engine.connect()\n",
    "pd.io.sql.read_sql(sql=text(query), con = con)\n"
   ]
  },
  {
   "cell_type": "markdown",
   "metadata": {},
   "source": [
    "Во второй таблице authors 636 строк"
   ]
  },
  {
   "cell_type": "markdown",
   "metadata": {},
   "source": [
    "Таблица reviews"
   ]
  },
  {
   "cell_type": "code",
   "execution_count": 7,
   "metadata": {},
   "outputs": [
    {
     "data": {
      "text/html": [
       "<div>\n",
       "<style scoped>\n",
       "    .dataframe tbody tr th:only-of-type {\n",
       "        vertical-align: middle;\n",
       "    }\n",
       "\n",
       "    .dataframe tbody tr th {\n",
       "        vertical-align: top;\n",
       "    }\n",
       "\n",
       "    .dataframe thead th {\n",
       "        text-align: right;\n",
       "    }\n",
       "</style>\n",
       "<table border=\"1\" class=\"dataframe\">\n",
       "  <thead>\n",
       "    <tr style=\"text-align: right;\">\n",
       "      <th></th>\n",
       "      <th>review_id</th>\n",
       "      <th>book_id</th>\n",
       "      <th>username</th>\n",
       "      <th>text</th>\n",
       "    </tr>\n",
       "  </thead>\n",
       "  <tbody>\n",
       "    <tr>\n",
       "      <th>0</th>\n",
       "      <td>1</td>\n",
       "      <td>1</td>\n",
       "      <td>brandtandrea</td>\n",
       "      <td>Mention society tell send professor analysis. ...</td>\n",
       "    </tr>\n",
       "    <tr>\n",
       "      <th>1</th>\n",
       "      <td>2</td>\n",
       "      <td>1</td>\n",
       "      <td>ryanfranco</td>\n",
       "      <td>Foot glass pretty audience hit themselves. Amo...</td>\n",
       "    </tr>\n",
       "    <tr>\n",
       "      <th>2</th>\n",
       "      <td>3</td>\n",
       "      <td>2</td>\n",
       "      <td>lorichen</td>\n",
       "      <td>Listen treat keep worry. Miss husband tax but ...</td>\n",
       "    </tr>\n",
       "    <tr>\n",
       "      <th>3</th>\n",
       "      <td>4</td>\n",
       "      <td>3</td>\n",
       "      <td>johnsonamanda</td>\n",
       "      <td>Finally month interesting blue could nature cu...</td>\n",
       "    </tr>\n",
       "    <tr>\n",
       "      <th>4</th>\n",
       "      <td>5</td>\n",
       "      <td>3</td>\n",
       "      <td>scotttamara</td>\n",
       "      <td>Nation purpose heavy give wait song will. List...</td>\n",
       "    </tr>\n",
       "  </tbody>\n",
       "</table>\n",
       "</div>"
      ],
      "text/plain": [
       "   review_id  book_id       username  \\\n",
       "0          1        1   brandtandrea   \n",
       "1          2        1     ryanfranco   \n",
       "2          3        2       lorichen   \n",
       "3          4        3  johnsonamanda   \n",
       "4          5        3    scotttamara   \n",
       "\n",
       "                                                text  \n",
       "0  Mention society tell send professor analysis. ...  \n",
       "1  Foot glass pretty audience hit themselves. Amo...  \n",
       "2  Listen treat keep worry. Miss husband tax but ...  \n",
       "3  Finally month interesting blue could nature cu...  \n",
       "4  Nation purpose heavy give wait song will. List...  "
      ]
     },
     "execution_count": 7,
     "metadata": {},
     "output_type": "execute_result"
    }
   ],
   "source": [
    "query = '''\n",
    "SELECT *\n",
    "FROM reviews\n",
    "LIMIT 5\n",
    "'''\n",
    "con=engine.connect()\n",
    "pd.io.sql.read_sql(sql=text(query), con = con)"
   ]
  },
  {
   "cell_type": "code",
   "execution_count": 8,
   "metadata": {},
   "outputs": [
    {
     "data": {
      "text/html": [
       "<div>\n",
       "<style scoped>\n",
       "    .dataframe tbody tr th:only-of-type {\n",
       "        vertical-align: middle;\n",
       "    }\n",
       "\n",
       "    .dataframe tbody tr th {\n",
       "        vertical-align: top;\n",
       "    }\n",
       "\n",
       "    .dataframe thead th {\n",
       "        text-align: right;\n",
       "    }\n",
       "</style>\n",
       "<table border=\"1\" class=\"dataframe\">\n",
       "  <thead>\n",
       "    <tr style=\"text-align: right;\">\n",
       "      <th></th>\n",
       "      <th>count</th>\n",
       "    </tr>\n",
       "  </thead>\n",
       "  <tbody>\n",
       "    <tr>\n",
       "      <th>0</th>\n",
       "      <td>2793</td>\n",
       "    </tr>\n",
       "  </tbody>\n",
       "</table>\n",
       "</div>"
      ],
      "text/plain": [
       "   count\n",
       "0   2793"
      ]
     },
     "execution_count": 8,
     "metadata": {},
     "output_type": "execute_result"
    }
   ],
   "source": [
    "query = '''\n",
    "SELECT COUNT(*)\n",
    "FROM reviews\n",
    "LIMIT 5\n",
    "'''\n",
    "con=engine.connect()\n",
    "pd.io.sql.read_sql(sql=text(query), con = con)"
   ]
  },
  {
   "cell_type": "markdown",
   "metadata": {},
   "source": [
    "В третьей таблице reviews 2793 строк"
   ]
  },
  {
   "cell_type": "markdown",
   "metadata": {},
   "source": [
    "Таблица ratings"
   ]
  },
  {
   "cell_type": "code",
   "execution_count": 9,
   "metadata": {},
   "outputs": [
    {
     "data": {
      "text/html": [
       "<div>\n",
       "<style scoped>\n",
       "    .dataframe tbody tr th:only-of-type {\n",
       "        vertical-align: middle;\n",
       "    }\n",
       "\n",
       "    .dataframe tbody tr th {\n",
       "        vertical-align: top;\n",
       "    }\n",
       "\n",
       "    .dataframe thead th {\n",
       "        text-align: right;\n",
       "    }\n",
       "</style>\n",
       "<table border=\"1\" class=\"dataframe\">\n",
       "  <thead>\n",
       "    <tr style=\"text-align: right;\">\n",
       "      <th></th>\n",
       "      <th>rating_id</th>\n",
       "      <th>book_id</th>\n",
       "      <th>username</th>\n",
       "      <th>rating</th>\n",
       "    </tr>\n",
       "  </thead>\n",
       "  <tbody>\n",
       "    <tr>\n",
       "      <th>0</th>\n",
       "      <td>1</td>\n",
       "      <td>1</td>\n",
       "      <td>ryanfranco</td>\n",
       "      <td>4</td>\n",
       "    </tr>\n",
       "    <tr>\n",
       "      <th>1</th>\n",
       "      <td>2</td>\n",
       "      <td>1</td>\n",
       "      <td>grantpatricia</td>\n",
       "      <td>2</td>\n",
       "    </tr>\n",
       "    <tr>\n",
       "      <th>2</th>\n",
       "      <td>3</td>\n",
       "      <td>1</td>\n",
       "      <td>brandtandrea</td>\n",
       "      <td>5</td>\n",
       "    </tr>\n",
       "    <tr>\n",
       "      <th>3</th>\n",
       "      <td>4</td>\n",
       "      <td>2</td>\n",
       "      <td>lorichen</td>\n",
       "      <td>3</td>\n",
       "    </tr>\n",
       "    <tr>\n",
       "      <th>4</th>\n",
       "      <td>5</td>\n",
       "      <td>2</td>\n",
       "      <td>mariokeller</td>\n",
       "      <td>2</td>\n",
       "    </tr>\n",
       "  </tbody>\n",
       "</table>\n",
       "</div>"
      ],
      "text/plain": [
       "   rating_id  book_id       username  rating\n",
       "0          1        1     ryanfranco       4\n",
       "1          2        1  grantpatricia       2\n",
       "2          3        1   brandtandrea       5\n",
       "3          4        2       lorichen       3\n",
       "4          5        2    mariokeller       2"
      ]
     },
     "execution_count": 9,
     "metadata": {},
     "output_type": "execute_result"
    }
   ],
   "source": [
    "query = '''\n",
    "SELECT *\n",
    "FROM ratings\n",
    "LIMIT 5\n",
    "'''\n",
    "con=engine.connect()\n",
    "pd.io.sql.read_sql(sql=text(query), con = con)"
   ]
  },
  {
   "cell_type": "code",
   "execution_count": 10,
   "metadata": {},
   "outputs": [
    {
     "data": {
      "text/html": [
       "<div>\n",
       "<style scoped>\n",
       "    .dataframe tbody tr th:only-of-type {\n",
       "        vertical-align: middle;\n",
       "    }\n",
       "\n",
       "    .dataframe tbody tr th {\n",
       "        vertical-align: top;\n",
       "    }\n",
       "\n",
       "    .dataframe thead th {\n",
       "        text-align: right;\n",
       "    }\n",
       "</style>\n",
       "<table border=\"1\" class=\"dataframe\">\n",
       "  <thead>\n",
       "    <tr style=\"text-align: right;\">\n",
       "      <th></th>\n",
       "      <th>count</th>\n",
       "    </tr>\n",
       "  </thead>\n",
       "  <tbody>\n",
       "    <tr>\n",
       "      <th>0</th>\n",
       "      <td>6456</td>\n",
       "    </tr>\n",
       "  </tbody>\n",
       "</table>\n",
       "</div>"
      ],
      "text/plain": [
       "   count\n",
       "0   6456"
      ]
     },
     "execution_count": 10,
     "metadata": {},
     "output_type": "execute_result"
    }
   ],
   "source": [
    "query = '''\n",
    "SELECT COUNT(*)\n",
    "FROM ratings\n",
    "LIMIT 5\n",
    "'''\n",
    "con=engine.connect()\n",
    "pd.io.sql.read_sql(sql=text(query), con = con)"
   ]
  },
  {
   "cell_type": "markdown",
   "metadata": {},
   "source": [
    "В четвертой таблице ratings 6456 строк"
   ]
  },
  {
   "cell_type": "markdown",
   "metadata": {},
   "source": [
    "Таблица publishers"
   ]
  },
  {
   "cell_type": "code",
   "execution_count": 11,
   "metadata": {},
   "outputs": [
    {
     "data": {
      "text/html": [
       "<div>\n",
       "<style scoped>\n",
       "    .dataframe tbody tr th:only-of-type {\n",
       "        vertical-align: middle;\n",
       "    }\n",
       "\n",
       "    .dataframe tbody tr th {\n",
       "        vertical-align: top;\n",
       "    }\n",
       "\n",
       "    .dataframe thead th {\n",
       "        text-align: right;\n",
       "    }\n",
       "</style>\n",
       "<table border=\"1\" class=\"dataframe\">\n",
       "  <thead>\n",
       "    <tr style=\"text-align: right;\">\n",
       "      <th></th>\n",
       "      <th>publisher_id</th>\n",
       "      <th>publisher</th>\n",
       "    </tr>\n",
       "  </thead>\n",
       "  <tbody>\n",
       "    <tr>\n",
       "      <th>0</th>\n",
       "      <td>1</td>\n",
       "      <td>Ace</td>\n",
       "    </tr>\n",
       "    <tr>\n",
       "      <th>1</th>\n",
       "      <td>2</td>\n",
       "      <td>Ace Book</td>\n",
       "    </tr>\n",
       "    <tr>\n",
       "      <th>2</th>\n",
       "      <td>3</td>\n",
       "      <td>Ace Books</td>\n",
       "    </tr>\n",
       "    <tr>\n",
       "      <th>3</th>\n",
       "      <td>4</td>\n",
       "      <td>Ace Hardcover</td>\n",
       "    </tr>\n",
       "    <tr>\n",
       "      <th>4</th>\n",
       "      <td>5</td>\n",
       "      <td>Addison Wesley Publishing Company</td>\n",
       "    </tr>\n",
       "  </tbody>\n",
       "</table>\n",
       "</div>"
      ],
      "text/plain": [
       "   publisher_id                          publisher\n",
       "0             1                                Ace\n",
       "1             2                           Ace Book\n",
       "2             3                          Ace Books\n",
       "3             4                      Ace Hardcover\n",
       "4             5  Addison Wesley Publishing Company"
      ]
     },
     "execution_count": 11,
     "metadata": {},
     "output_type": "execute_result"
    }
   ],
   "source": [
    "query = '''\n",
    "SELECT *\n",
    "FROM publishers\n",
    "LIMIT 5\n",
    "'''\n",
    "con=engine.connect()\n",
    "pd.io.sql.read_sql(sql=text(query), con = con)"
   ]
  },
  {
   "cell_type": "code",
   "execution_count": 12,
   "metadata": {
    "scrolled": true
   },
   "outputs": [
    {
     "data": {
      "text/html": [
       "<div>\n",
       "<style scoped>\n",
       "    .dataframe tbody tr th:only-of-type {\n",
       "        vertical-align: middle;\n",
       "    }\n",
       "\n",
       "    .dataframe tbody tr th {\n",
       "        vertical-align: top;\n",
       "    }\n",
       "\n",
       "    .dataframe thead th {\n",
       "        text-align: right;\n",
       "    }\n",
       "</style>\n",
       "<table border=\"1\" class=\"dataframe\">\n",
       "  <thead>\n",
       "    <tr style=\"text-align: right;\">\n",
       "      <th></th>\n",
       "      <th>count</th>\n",
       "    </tr>\n",
       "  </thead>\n",
       "  <tbody>\n",
       "    <tr>\n",
       "      <th>0</th>\n",
       "      <td>340</td>\n",
       "    </tr>\n",
       "  </tbody>\n",
       "</table>\n",
       "</div>"
      ],
      "text/plain": [
       "   count\n",
       "0    340"
      ]
     },
     "execution_count": 12,
     "metadata": {},
     "output_type": "execute_result"
    }
   ],
   "source": [
    "query = '''\n",
    "SELECT COUNT(*)\n",
    "FROM publishers\n",
    "LIMIT 5\n",
    "'''\n",
    "con=engine.connect()\n",
    "pd.io.sql.read_sql(sql=text(query), con = con)"
   ]
  },
  {
   "cell_type": "markdown",
   "metadata": {},
   "source": [
    "В таблице publishers 340 строк"
   ]
  },
  {
   "cell_type": "markdown",
   "metadata": {},
   "source": [
    "Данные таблиц полностью соответствуют обозначенной структуре и техническому заданию."
   ]
  },
  {
   "cell_type": "markdown",
   "metadata": {},
   "source": [
    "Задача 1 Посчитать, сколько книг вышло после 1 января 2000 года."
   ]
  },
  {
   "cell_type": "code",
   "execution_count": 13,
   "metadata": {},
   "outputs": [
    {
     "data": {
      "text/html": [
       "<div>\n",
       "<style scoped>\n",
       "    .dataframe tbody tr th:only-of-type {\n",
       "        vertical-align: middle;\n",
       "    }\n",
       "\n",
       "    .dataframe tbody tr th {\n",
       "        vertical-align: top;\n",
       "    }\n",
       "\n",
       "    .dataframe thead th {\n",
       "        text-align: right;\n",
       "    }\n",
       "</style>\n",
       "<table border=\"1\" class=\"dataframe\">\n",
       "  <thead>\n",
       "    <tr style=\"text-align: right;\">\n",
       "      <th></th>\n",
       "      <th>count</th>\n",
       "    </tr>\n",
       "  </thead>\n",
       "  <tbody>\n",
       "    <tr>\n",
       "      <th>0</th>\n",
       "      <td>819</td>\n",
       "    </tr>\n",
       "  </tbody>\n",
       "</table>\n",
       "</div>"
      ],
      "text/plain": [
       "   count\n",
       "0    819"
      ]
     },
     "execution_count": 13,
     "metadata": {},
     "output_type": "execute_result"
    }
   ],
   "source": [
    "query = '''\n",
    "SELECT COUNT(book_id)\n",
    "FROM books\n",
    "WHERE publication_date > '2000-01-01'\n",
    "\n",
    "'''\n",
    "con=engine.connect()\n",
    "pd.io.sql.read_sql(sql=text(query), con = con)"
   ]
  },
  {
   "cell_type": "markdown",
   "metadata": {},
   "source": [
    "819 книг вышло после 01.01.2000г."
   ]
  },
  {
   "cell_type": "markdown",
   "metadata": {},
   "source": [
    "Задача 2 Для каждой книги посчитать количество обзоров и среднюю оценку."
   ]
  },
  {
   "cell_type": "code",
   "execution_count": 14,
   "metadata": {},
   "outputs": [
    {
     "data": {
      "text/html": [
       "<div>\n",
       "<style scoped>\n",
       "    .dataframe tbody tr th:only-of-type {\n",
       "        vertical-align: middle;\n",
       "    }\n",
       "\n",
       "    .dataframe tbody tr th {\n",
       "        vertical-align: top;\n",
       "    }\n",
       "\n",
       "    .dataframe thead th {\n",
       "        text-align: right;\n",
       "    }\n",
       "</style>\n",
       "<table border=\"1\" class=\"dataframe\">\n",
       "  <thead>\n",
       "    <tr style=\"text-align: right;\">\n",
       "      <th></th>\n",
       "      <th>book_id</th>\n",
       "      <th>title</th>\n",
       "      <th>count</th>\n",
       "      <th>avg</th>\n",
       "    </tr>\n",
       "  </thead>\n",
       "  <tbody>\n",
       "    <tr>\n",
       "      <th>0</th>\n",
       "      <td>17</td>\n",
       "      <td>A Dirty Job (Grim Reaper  #1)</td>\n",
       "      <td>4</td>\n",
       "      <td>5.00</td>\n",
       "    </tr>\n",
       "    <tr>\n",
       "      <th>1</th>\n",
       "      <td>553</td>\n",
       "      <td>School's Out—Forever (Maximum Ride  #2)</td>\n",
       "      <td>3</td>\n",
       "      <td>5.00</td>\n",
       "    </tr>\n",
       "    <tr>\n",
       "      <th>2</th>\n",
       "      <td>444</td>\n",
       "      <td>Moneyball: The Art of Winning an Unfair Game</td>\n",
       "      <td>3</td>\n",
       "      <td>5.00</td>\n",
       "    </tr>\n",
       "    <tr>\n",
       "      <th>3</th>\n",
       "      <td>86</td>\n",
       "      <td>Arrows of the Queen (Heralds of Valdemar  #1)</td>\n",
       "      <td>2</td>\n",
       "      <td>5.00</td>\n",
       "    </tr>\n",
       "    <tr>\n",
       "      <th>4</th>\n",
       "      <td>972</td>\n",
       "      <td>Wherever You Go  There You Are: Mindfulness Me...</td>\n",
       "      <td>2</td>\n",
       "      <td>5.00</td>\n",
       "    </tr>\n",
       "    <tr>\n",
       "      <th>...</th>\n",
       "      <td>...</td>\n",
       "      <td>...</td>\n",
       "      <td>...</td>\n",
       "      <td>...</td>\n",
       "    </tr>\n",
       "    <tr>\n",
       "      <th>995</th>\n",
       "      <td>915</td>\n",
       "      <td>The World Is Flat: A Brief History of the Twen...</td>\n",
       "      <td>3</td>\n",
       "      <td>2.25</td>\n",
       "    </tr>\n",
       "    <tr>\n",
       "      <th>996</th>\n",
       "      <td>202</td>\n",
       "      <td>Drowning Ruth</td>\n",
       "      <td>3</td>\n",
       "      <td>2.00</td>\n",
       "    </tr>\n",
       "    <tr>\n",
       "      <th>997</th>\n",
       "      <td>316</td>\n",
       "      <td>His Excellency: George Washington</td>\n",
       "      <td>2</td>\n",
       "      <td>2.00</td>\n",
       "    </tr>\n",
       "    <tr>\n",
       "      <th>998</th>\n",
       "      <td>371</td>\n",
       "      <td>Junky</td>\n",
       "      <td>2</td>\n",
       "      <td>2.00</td>\n",
       "    </tr>\n",
       "    <tr>\n",
       "      <th>999</th>\n",
       "      <td>303</td>\n",
       "      <td>Harvesting the Heart</td>\n",
       "      <td>2</td>\n",
       "      <td>1.50</td>\n",
       "    </tr>\n",
       "  </tbody>\n",
       "</table>\n",
       "<p>1000 rows × 4 columns</p>\n",
       "</div>"
      ],
      "text/plain": [
       "     book_id                                              title  count   avg\n",
       "0         17                      A Dirty Job (Grim Reaper  #1)      4  5.00\n",
       "1        553            School's Out—Forever (Maximum Ride  #2)      3  5.00\n",
       "2        444       Moneyball: The Art of Winning an Unfair Game      3  5.00\n",
       "3         86      Arrows of the Queen (Heralds of Valdemar  #1)      2  5.00\n",
       "4        972  Wherever You Go  There You Are: Mindfulness Me...      2  5.00\n",
       "..       ...                                                ...    ...   ...\n",
       "995      915  The World Is Flat: A Brief History of the Twen...      3  2.25\n",
       "996      202                                      Drowning Ruth      3  2.00\n",
       "997      316                  His Excellency: George Washington      2  2.00\n",
       "998      371                                              Junky      2  2.00\n",
       "999      303                               Harvesting the Heart      2  1.50\n",
       "\n",
       "[1000 rows x 4 columns]"
      ]
     },
     "execution_count": 14,
     "metadata": {},
     "output_type": "execute_result"
    }
   ],
   "source": [
    "query = '''\n",
    "SELECT  b.book_id,\n",
    "       b.title,\n",
    "       COUNT(DISTINCT r.review_id) AS count,\n",
    "       AVG(ra.rating)\n",
    "FROM books AS b\n",
    "LEFT JOIN reviews AS r ON b.book_id=r.book_id\n",
    "LEFT JOIN ratings AS ra ON b.book_id=ra.book_id\n",
    "GROUP BY  b.book_id, b.title\n",
    "ORDER BY  AVG(ra.rating) DESC, count DESC\n",
    "\n",
    "'''\n",
    "con=engine.connect()\n",
    "pd.io.sql.read_sql(sql=text(query), con = con)"
   ]
  },
  {
   "cell_type": "markdown",
   "metadata": {},
   "source": [
    "Максимальная оценка 5 и обзоров 4 у книги A Dirty Job (Grim Reaper #1)\t, минимальная оценка 1,5 и обзоров 2 у книги Harvesting the Heart."
   ]
  },
  {
   "cell_type": "markdown",
   "metadata": {},
   "source": [
    "Задача 3 Определить издательство, которое выпустило наибольшее число книг толще 50 страниц — так вы исключите из анализа брошюры."
   ]
  },
  {
   "cell_type": "code",
   "execution_count": 15,
   "metadata": {},
   "outputs": [
    {
     "data": {
      "text/html": [
       "<div>\n",
       "<style scoped>\n",
       "    .dataframe tbody tr th:only-of-type {\n",
       "        vertical-align: middle;\n",
       "    }\n",
       "\n",
       "    .dataframe tbody tr th {\n",
       "        vertical-align: top;\n",
       "    }\n",
       "\n",
       "    .dataframe thead th {\n",
       "        text-align: right;\n",
       "    }\n",
       "</style>\n",
       "<table border=\"1\" class=\"dataframe\">\n",
       "  <thead>\n",
       "    <tr style=\"text-align: right;\">\n",
       "      <th></th>\n",
       "      <th>publisher</th>\n",
       "      <th>total</th>\n",
       "    </tr>\n",
       "  </thead>\n",
       "  <tbody>\n",
       "    <tr>\n",
       "      <th>0</th>\n",
       "      <td>Penguin Books</td>\n",
       "      <td>42</td>\n",
       "    </tr>\n",
       "  </tbody>\n",
       "</table>\n",
       "</div>"
      ],
      "text/plain": [
       "       publisher  total\n",
       "0  Penguin Books     42"
      ]
     },
     "execution_count": 15,
     "metadata": {},
     "output_type": "execute_result"
    }
   ],
   "source": [
    "query = '''\n",
    "SELECT DISTINCT p.publisher AS publisher,\n",
    "       COUNT(b.book_id) AS total\n",
    "FROM books AS b\n",
    "JOIN publishers AS p ON b.publisher_id=p.publisher_id\n",
    "WHERE num_pages >50\n",
    "GROUP BY p.publisher\n",
    "ORDER BY total DESC\n",
    "LIMIT 1\n",
    "'''\n",
    "con=engine.connect()\n",
    "pd.io.sql.read_sql(sql=text(query), con = con)"
   ]
  },
  {
   "cell_type": "markdown",
   "metadata": {},
   "source": [
    "Издательство Penguin Books выпустило больше всего книг толще 50 страниц - 42 книги."
   ]
  },
  {
   "cell_type": "markdown",
   "metadata": {},
   "source": [
    "Задача 4 Определить автора с самой высокой средней оценкой книг — учитывайте только книги с 50 и более оценками."
   ]
  },
  {
   "cell_type": "code",
   "execution_count": 19,
   "metadata": {},
   "outputs": [
    {
     "data": {
      "text/html": [
       "<div>\n",
       "<style scoped>\n",
       "    .dataframe tbody tr th:only-of-type {\n",
       "        vertical-align: middle;\n",
       "    }\n",
       "\n",
       "    .dataframe tbody tr th {\n",
       "        vertical-align: top;\n",
       "    }\n",
       "\n",
       "    .dataframe thead th {\n",
       "        text-align: right;\n",
       "    }\n",
       "</style>\n",
       "<table border=\"1\" class=\"dataframe\">\n",
       "  <thead>\n",
       "    <tr style=\"text-align: right;\">\n",
       "      <th></th>\n",
       "      <th>author</th>\n",
       "      <th>round</th>\n",
       "    </tr>\n",
       "  </thead>\n",
       "  <tbody>\n",
       "    <tr>\n",
       "      <th>0</th>\n",
       "      <td>J.K. Rowling/Mary GrandPré</td>\n",
       "      <td>4.29</td>\n",
       "    </tr>\n",
       "  </tbody>\n",
       "</table>\n",
       "</div>"
      ],
      "text/plain": [
       "                       author  round\n",
       "0  J.K. Rowling/Mary GrandPré   4.29"
      ]
     },
     "execution_count": 19,
     "metadata": {},
     "output_type": "execute_result"
    }
   ],
   "source": [
    "query = '''\n",
    "SELECT a.author,\n",
    "     ROUND(AVG(r.rating),2)\n",
    "FROM   authors AS a\n",
    "JOIN books AS b ON a.author_id=b.author_id\n",
    "JOIN ratings AS r on r.book_id=b.book_id\n",
    "WHERE b.book_id IN \n",
    "                   (SELECT book_id\n",
    "                    FROM ratings\n",
    "                    GROUP BY book_id\n",
    "                    HAVING COUNT(rating)>= 50) \n",
    "GROUP BY  a.author \n",
    "ORDER BY round DESC\n",
    "LIMIT 1\n",
    "\n",
    "\n",
    "'''\n",
    "con=engine.connect()\n",
    "pd.io.sql.read_sql(sql=text(query), con = con)"
   ]
  },
  {
   "cell_type": "markdown",
   "metadata": {},
   "source": [
    "Автор с самой высокой средней оценкой книг(только книги с 50 и более оценками) J.K. Rowling/Mary GrandPré, средний рейтинг 4,29"
   ]
  },
  {
   "cell_type": "markdown",
   "metadata": {},
   "source": [
    "Задача 5 Посчитать среднее количество обзоров от пользователей, которые поставили больше 48 оценок"
   ]
  },
  {
   "cell_type": "code",
   "execution_count": 17,
   "metadata": {},
   "outputs": [
    {
     "data": {
      "text/html": [
       "<div>\n",
       "<style scoped>\n",
       "    .dataframe tbody tr th:only-of-type {\n",
       "        vertical-align: middle;\n",
       "    }\n",
       "\n",
       "    .dataframe tbody tr th {\n",
       "        vertical-align: top;\n",
       "    }\n",
       "\n",
       "    .dataframe thead th {\n",
       "        text-align: right;\n",
       "    }\n",
       "</style>\n",
       "<table border=\"1\" class=\"dataframe\">\n",
       "  <thead>\n",
       "    <tr style=\"text-align: right;\">\n",
       "      <th></th>\n",
       "      <th>avg</th>\n",
       "    </tr>\n",
       "  </thead>\n",
       "  <tbody>\n",
       "    <tr>\n",
       "      <th>0</th>\n",
       "      <td>24.0</td>\n",
       "    </tr>\n",
       "  </tbody>\n",
       "</table>\n",
       "</div>"
      ],
      "text/plain": [
       "    avg\n",
       "0  24.0"
      ]
     },
     "execution_count": 17,
     "metadata": {},
     "output_type": "execute_result"
    }
   ],
   "source": [
    "query = '''\n",
    "WITH t AS(SELECT username,\n",
    "       COUNT(review_id)\n",
    "FROM reviews \n",
    "WHERE username IN \n",
    "                (SELECT username\n",
    "                 FROM ratings\n",
    "                 GROUP BY username\n",
    "                 HAVING COUNT(rating) > 48)\n",
    "GROUP BY username)\n",
    "SELECT AVG(count)\n",
    "FROM t\n",
    "'''\n",
    "con=engine.connect()\n",
    "pd.io.sql.read_sql(sql=text(query), con = con)"
   ]
  },
  {
   "cell_type": "markdown",
   "metadata": {},
   "source": [
    "Среднее количество обзоров от пользователей, которые поставили больше 48 оценок -24 обзора."
   ]
  },
  {
   "cell_type": "markdown",
   "metadata": {},
   "source": [
    "**ВЫВОД** \n",
    "\n",
    "1. Данные соотвествуют техническому заданию. \n",
    "\n",
    "2. 819 книг вышло после 01.01.2000г.\n",
    "\n",
    "3. Максимальная оценка 5 и обзоров 4 у книги A Dirty Job (Grim Reaper #1)\t, минимальная оценка 1,5 и обзоров 2 у книги Harvesting the Heart. Возможно стоит обратить внимание на книги с высоким рейтингом и сделать выводы по книгам с низким рейтингом.\n",
    "\n",
    "4. Издательство Penguin Books выпустило больше всего книг толще 50 страниц - 42 книги. Возможно стоит делать упор на это издательство.\n",
    "\n",
    "4. Автор с самой высокой средней оценкой книг(только книги с 50 и более оценками) J.K. Rowling/Mary GrandPré, средний рейтинг 4,29. Возможно, есть необходимость повысить тиражи этой книги.\n",
    "\n",
    "5. Среднее количество обзоров от пользователей, которые поставили больше 48 оценок -24 обзора. Необхоимо поощрять таких пользователей бонусами. В своих рекомендациях они дают возможность улучшать качество продуктов."
   ]
  }
 ],
 "metadata": {
  "ExecuteTimeLog": [
   {
    "duration": 8258,
    "start_time": "2024-05-26T06:20:19.376Z"
   },
   {
    "duration": 40,
    "start_time": "2024-05-26T06:24:52.975Z"
   },
   {
    "duration": 10,
    "start_time": "2024-05-26T06:25:24.158Z"
   },
   {
    "duration": 17,
    "start_time": "2024-05-26T06:25:51.095Z"
   },
   {
    "duration": 17,
    "start_time": "2024-05-26T06:26:17.482Z"
   },
   {
    "duration": 13,
    "start_time": "2024-05-26T06:26:47.210Z"
   },
   {
    "duration": 16,
    "start_time": "2024-05-26T06:27:32.887Z"
   },
   {
    "duration": 31,
    "start_time": "2024-05-26T06:28:52.530Z"
   },
   {
    "duration": 14,
    "start_time": "2024-05-26T06:30:01.173Z"
   },
   {
    "duration": 17,
    "start_time": "2024-05-26T06:31:08.704Z"
   },
   {
    "duration": 18,
    "start_time": "2024-05-26T06:31:54.329Z"
   },
   {
    "duration": 19,
    "start_time": "2024-05-26T06:33:10.644Z"
   },
   {
    "duration": 92,
    "start_time": "2024-05-26T06:40:23.570Z"
   },
   {
    "duration": 19,
    "start_time": "2024-05-26T06:41:09.691Z"
   },
   {
    "duration": 51,
    "start_time": "2024-05-26T06:52:22.709Z"
   },
   {
    "duration": 28,
    "start_time": "2024-05-26T06:52:57.080Z"
   },
   {
    "duration": 57,
    "start_time": "2024-05-26T06:53:43.469Z"
   },
   {
    "duration": 4,
    "start_time": "2024-05-26T06:54:10.316Z"
   },
   {
    "duration": 8002,
    "start_time": "2024-05-26T06:54:39.449Z"
   },
   {
    "duration": 43,
    "start_time": "2024-05-26T06:54:47.453Z"
   },
   {
    "duration": 36,
    "start_time": "2024-05-26T06:54:47.498Z"
   },
   {
    "duration": 11,
    "start_time": "2024-05-26T06:54:47.536Z"
   },
   {
    "duration": 11,
    "start_time": "2024-05-26T06:54:47.549Z"
   },
   {
    "duration": 13,
    "start_time": "2024-05-26T06:54:47.561Z"
   },
   {
    "duration": 12,
    "start_time": "2024-05-26T06:54:47.576Z"
   },
   {
    "duration": 40,
    "start_time": "2024-05-26T06:54:47.590Z"
   },
   {
    "duration": 11,
    "start_time": "2024-05-26T06:54:47.631Z"
   },
   {
    "duration": 21,
    "start_time": "2024-05-26T06:54:47.644Z"
   },
   {
    "duration": 23,
    "start_time": "2024-05-26T06:54:47.667Z"
   },
   {
    "duration": 88,
    "start_time": "2024-05-26T06:58:40.205Z"
   },
   {
    "duration": 31,
    "start_time": "2024-05-26T06:59:06.312Z"
   },
   {
    "duration": 62,
    "start_time": "2024-05-26T06:59:47.521Z"
   },
   {
    "duration": 29,
    "start_time": "2024-05-26T07:00:06.124Z"
   },
   {
    "duration": 30,
    "start_time": "2024-05-26T07:00:19.204Z"
   },
   {
    "duration": 32,
    "start_time": "2024-05-26T07:00:51.881Z"
   },
   {
    "duration": 26,
    "start_time": "2024-05-26T07:01:32.443Z"
   },
   {
    "duration": 28,
    "start_time": "2024-05-26T07:01:40.514Z"
   },
   {
    "duration": 30,
    "start_time": "2024-05-26T07:01:54.644Z"
   },
   {
    "duration": 38,
    "start_time": "2024-05-26T07:02:04.579Z"
   },
   {
    "duration": 21,
    "start_time": "2024-05-26T07:03:28.217Z"
   },
   {
    "duration": 35,
    "start_time": "2024-05-26T07:03:35.132Z"
   },
   {
    "duration": 61,
    "start_time": "2024-05-26T09:59:40.239Z"
   },
   {
    "duration": 18,
    "start_time": "2024-05-26T10:01:00.970Z"
   },
   {
    "duration": 42,
    "start_time": "2024-05-26T10:02:18.396Z"
   },
   {
    "duration": 17,
    "start_time": "2024-05-26T10:02:23.235Z"
   },
   {
    "duration": 16,
    "start_time": "2024-05-26T10:19:48.912Z"
   },
   {
    "duration": 12,
    "start_time": "2024-05-26T10:24:29.857Z"
   },
   {
    "duration": 11,
    "start_time": "2024-05-26T10:25:27.233Z"
   },
   {
    "duration": 11,
    "start_time": "2024-05-26T10:25:50.330Z"
   },
   {
    "duration": 14,
    "start_time": "2024-05-26T10:29:43.460Z"
   },
   {
    "duration": 10,
    "start_time": "2024-05-26T10:30:53.927Z"
   },
   {
    "duration": 48,
    "start_time": "2024-05-27T06:44:30.664Z"
   },
   {
    "duration": 5723,
    "start_time": "2024-05-27T06:44:40.564Z"
   },
   {
    "duration": 243,
    "start_time": "2024-05-27T06:44:46.291Z"
   },
   {
    "duration": 134,
    "start_time": "2024-05-27T06:44:46.536Z"
   },
   {
    "duration": 55,
    "start_time": "2024-05-27T06:44:46.672Z"
   },
   {
    "duration": 56,
    "start_time": "2024-05-27T06:44:46.728Z"
   },
   {
    "duration": 55,
    "start_time": "2024-05-27T06:44:46.787Z"
   },
   {
    "duration": 54,
    "start_time": "2024-05-27T06:44:46.844Z"
   },
   {
    "duration": 56,
    "start_time": "2024-05-27T06:44:46.899Z"
   },
   {
    "duration": 54,
    "start_time": "2024-05-27T06:44:46.957Z"
   },
   {
    "duration": 55,
    "start_time": "2024-05-27T06:44:47.015Z"
   },
   {
    "duration": 54,
    "start_time": "2024-05-27T06:44:47.072Z"
   },
   {
    "duration": 55,
    "start_time": "2024-05-27T06:44:47.128Z"
   },
   {
    "duration": 148,
    "start_time": "2024-05-27T06:44:47.185Z"
   },
   {
    "duration": 0,
    "start_time": "2024-05-27T06:44:47.334Z"
   },
   {
    "duration": 0,
    "start_time": "2024-05-27T06:44:47.335Z"
   },
   {
    "duration": 0,
    "start_time": "2024-05-27T06:44:47.337Z"
   },
   {
    "duration": 63,
    "start_time": "2024-05-27T06:45:36.945Z"
   },
   {
    "duration": 161,
    "start_time": "2024-05-27T06:45:54.924Z"
   },
   {
    "duration": 171,
    "start_time": "2024-05-27T06:46:16.341Z"
   },
   {
    "duration": 94,
    "start_time": "2024-05-27T06:46:33.014Z"
   },
   {
    "duration": 71,
    "start_time": "2024-05-27T06:46:54.994Z"
   },
   {
    "duration": 67,
    "start_time": "2024-05-27T06:47:21.105Z"
   },
   {
    "duration": 93,
    "start_time": "2024-05-27T06:47:45.372Z"
   },
   {
    "duration": 94,
    "start_time": "2024-05-27T06:48:14.895Z"
   },
   {
    "duration": 69,
    "start_time": "2024-05-27T06:48:35.626Z"
   },
   {
    "duration": 94,
    "start_time": "2024-05-27T06:49:12.591Z"
   },
   {
    "duration": 94,
    "start_time": "2024-05-27T08:11:23.721Z"
   },
   {
    "duration": 89,
    "start_time": "2024-05-27T08:12:39.062Z"
   },
   {
    "duration": 97,
    "start_time": "2024-05-27T08:19:46.920Z"
   },
   {
    "duration": 79,
    "start_time": "2024-05-27T08:21:37.724Z"
   },
   {
    "duration": 79,
    "start_time": "2024-05-27T08:22:02.140Z"
   },
   {
    "duration": 92,
    "start_time": "2024-05-27T08:22:31.344Z"
   },
   {
    "duration": 90,
    "start_time": "2024-05-27T08:22:57.519Z"
   },
   {
    "duration": 92,
    "start_time": "2024-05-27T08:23:39.435Z"
   },
   {
    "duration": 74,
    "start_time": "2024-05-27T08:24:09.608Z"
   },
   {
    "duration": 81,
    "start_time": "2024-05-27T08:24:25.997Z"
   },
   {
    "duration": 91,
    "start_time": "2024-05-27T08:25:43.177Z"
   },
   {
    "duration": 53,
    "start_time": "2024-05-27T08:26:48.985Z"
   },
   {
    "duration": 58,
    "start_time": "2024-05-27T08:26:54.254Z"
   },
   {
    "duration": 61,
    "start_time": "2024-05-27T08:27:03.572Z"
   },
   {
    "duration": 78,
    "start_time": "2024-05-27T09:22:45.744Z"
   },
   {
    "duration": 55,
    "start_time": "2024-05-27T09:23:44.853Z"
   },
   {
    "duration": 140,
    "start_time": "2024-05-27T09:24:24.280Z"
   },
   {
    "duration": 59,
    "start_time": "2024-05-27T09:24:44.254Z"
   },
   {
    "duration": 58,
    "start_time": "2024-05-27T09:25:14.081Z"
   },
   {
    "duration": 58,
    "start_time": "2024-05-27T09:25:25.644Z"
   },
   {
    "duration": 62,
    "start_time": "2024-05-27T09:33:30.027Z"
   },
   {
    "duration": 62,
    "start_time": "2024-05-27T09:34:08.582Z"
   },
   {
    "duration": 63,
    "start_time": "2024-05-27T09:34:45.844Z"
   },
   {
    "duration": 62,
    "start_time": "2024-05-27T09:34:52.035Z"
   },
   {
    "duration": 60,
    "start_time": "2024-05-27T09:36:03.425Z"
   },
   {
    "duration": 59,
    "start_time": "2024-05-27T09:36:16.354Z"
   },
   {
    "duration": 62,
    "start_time": "2024-05-27T09:36:31.149Z"
   },
   {
    "duration": 57,
    "start_time": "2024-05-27T09:37:28.305Z"
   },
   {
    "duration": 57,
    "start_time": "2024-05-27T09:37:46.665Z"
   },
   {
    "duration": 59,
    "start_time": "2024-05-27T09:38:45.509Z"
   },
   {
    "duration": 7133,
    "start_time": "2024-05-28T04:43:37.606Z"
   },
   {
    "duration": 217,
    "start_time": "2024-05-28T04:43:44.740Z"
   },
   {
    "duration": 128,
    "start_time": "2024-05-28T04:43:44.958Z"
   },
   {
    "duration": 51,
    "start_time": "2024-05-28T04:43:45.089Z"
   },
   {
    "duration": 51,
    "start_time": "2024-05-28T04:43:45.141Z"
   },
   {
    "duration": 53,
    "start_time": "2024-05-28T04:43:45.194Z"
   },
   {
    "duration": 50,
    "start_time": "2024-05-28T04:43:45.249Z"
   },
   {
    "duration": 51,
    "start_time": "2024-05-28T04:43:45.301Z"
   },
   {
    "duration": 51,
    "start_time": "2024-05-28T04:43:45.354Z"
   },
   {
    "duration": 52,
    "start_time": "2024-05-28T04:43:45.407Z"
   },
   {
    "duration": 51,
    "start_time": "2024-05-28T04:43:45.461Z"
   },
   {
    "duration": 50,
    "start_time": "2024-05-28T04:43:45.513Z"
   },
   {
    "duration": 91,
    "start_time": "2024-05-28T04:43:45.564Z"
   },
   {
    "duration": 52,
    "start_time": "2024-05-28T04:43:45.656Z"
   },
   {
    "duration": 56,
    "start_time": "2024-05-28T04:43:45.709Z"
   },
   {
    "duration": 58,
    "start_time": "2024-05-28T04:43:45.766Z"
   },
   {
    "duration": 57,
    "start_time": "2024-05-28T04:45:02.923Z"
   },
   {
    "duration": 59,
    "start_time": "2024-05-28T04:45:06.246Z"
   },
   {
    "duration": 50,
    "start_time": "2024-05-28T05:17:05.788Z"
   },
   {
    "duration": 8349,
    "start_time": "2024-05-28T05:17:15.705Z"
   },
   {
    "duration": 54,
    "start_time": "2024-05-28T05:17:24.056Z"
   },
   {
    "duration": 32,
    "start_time": "2024-05-28T05:17:24.112Z"
   },
   {
    "duration": 11,
    "start_time": "2024-05-28T05:17:24.146Z"
   },
   {
    "duration": 26,
    "start_time": "2024-05-28T05:17:24.159Z"
   },
   {
    "duration": 19,
    "start_time": "2024-05-28T05:17:24.188Z"
   },
   {
    "duration": 40,
    "start_time": "2024-05-28T05:17:24.208Z"
   },
   {
    "duration": 21,
    "start_time": "2024-05-28T05:17:24.249Z"
   },
   {
    "duration": 29,
    "start_time": "2024-05-28T05:17:24.271Z"
   },
   {
    "duration": 35,
    "start_time": "2024-05-28T05:17:24.302Z"
   },
   {
    "duration": 28,
    "start_time": "2024-05-28T05:17:24.339Z"
   },
   {
    "duration": 11,
    "start_time": "2024-05-28T05:17:24.369Z"
   },
   {
    "duration": 46,
    "start_time": "2024-05-28T05:17:24.382Z"
   },
   {
    "duration": 19,
    "start_time": "2024-05-28T05:17:24.429Z"
   },
   {
    "duration": 43,
    "start_time": "2024-05-28T05:17:24.449Z"
   },
   {
    "duration": 34,
    "start_time": "2024-05-28T05:17:24.494Z"
   },
   {
    "duration": 17,
    "start_time": "2024-05-28T05:17:37.034Z"
   },
   {
    "duration": 13,
    "start_time": "2024-05-28T05:19:03.950Z"
   },
   {
    "duration": 27,
    "start_time": "2024-05-28T05:20:20.386Z"
   },
   {
    "duration": 29,
    "start_time": "2024-05-28T05:21:01.517Z"
   },
   {
    "duration": 495,
    "start_time": "2024-05-28T06:23:36.060Z"
   },
   {
    "duration": 7474,
    "start_time": "2024-05-28T06:23:36.557Z"
   },
   {
    "duration": 68,
    "start_time": "2024-05-28T06:23:44.033Z"
   },
   {
    "duration": 43,
    "start_time": "2024-05-28T06:23:44.103Z"
   },
   {
    "duration": 12,
    "start_time": "2024-05-28T06:23:44.148Z"
   },
   {
    "duration": 28,
    "start_time": "2024-05-28T06:23:44.162Z"
   },
   {
    "duration": 17,
    "start_time": "2024-05-28T06:23:44.192Z"
   },
   {
    "duration": 27,
    "start_time": "2024-05-28T06:23:44.211Z"
   },
   {
    "duration": 26,
    "start_time": "2024-05-28T06:23:44.240Z"
   },
   {
    "duration": 18,
    "start_time": "2024-05-28T06:23:44.268Z"
   },
   {
    "duration": 23,
    "start_time": "2024-05-28T06:23:44.288Z"
   },
   {
    "duration": 11,
    "start_time": "2024-05-28T06:23:44.313Z"
   },
   {
    "duration": 12,
    "start_time": "2024-05-28T06:23:44.326Z"
   },
   {
    "duration": 46,
    "start_time": "2024-05-28T06:23:44.339Z"
   },
   {
    "duration": 12,
    "start_time": "2024-05-28T06:23:44.387Z"
   },
   {
    "duration": 26,
    "start_time": "2024-05-28T06:23:44.401Z"
   },
   {
    "duration": 18,
    "start_time": "2024-05-28T06:23:44.429Z"
   },
   {
    "duration": 32,
    "start_time": "2024-05-28T06:28:07.575Z"
   },
   {
    "duration": 94,
    "start_time": "2024-05-28T06:31:13.477Z"
   },
   {
    "duration": 20,
    "start_time": "2024-05-28T06:31:29.263Z"
   },
   {
    "duration": 56,
    "start_time": "2024-05-28T06:31:59.170Z"
   },
   {
    "duration": 21,
    "start_time": "2024-05-28T06:33:26.049Z"
   },
   {
    "duration": 22,
    "start_time": "2024-05-28T06:34:03.527Z"
   },
   {
    "duration": 42,
    "start_time": "2024-05-28T06:34:24.792Z"
   },
   {
    "duration": 21,
    "start_time": "2024-05-28T06:34:29.910Z"
   },
   {
    "duration": 21,
    "start_time": "2024-05-28T06:37:30.125Z"
   },
   {
    "duration": 20,
    "start_time": "2024-05-28T06:37:46.743Z"
   },
   {
    "duration": 48,
    "start_time": "2024-05-28T06:38:28.466Z"
   },
   {
    "duration": 33,
    "start_time": "2024-05-28T06:40:14.843Z"
   },
   {
    "duration": 18,
    "start_time": "2024-05-28T06:40:52.533Z"
   },
   {
    "duration": 31,
    "start_time": "2024-05-28T06:42:20.494Z"
   },
   {
    "duration": 28,
    "start_time": "2024-05-28T06:42:50.613Z"
   },
   {
    "duration": 29,
    "start_time": "2024-05-28T06:42:58.832Z"
   },
   {
    "duration": 20,
    "start_time": "2024-05-28T06:43:31.724Z"
   },
   {
    "duration": 24,
    "start_time": "2024-05-28T06:43:41.933Z"
   },
   {
    "duration": 27,
    "start_time": "2024-05-28T06:43:54.706Z"
   },
   {
    "duration": 29,
    "start_time": "2024-05-28T06:44:03.279Z"
   },
   {
    "duration": 28,
    "start_time": "2024-05-28T06:44:37.485Z"
   },
   {
    "duration": 21,
    "start_time": "2024-05-28T06:47:36.924Z"
   },
   {
    "duration": 29,
    "start_time": "2024-05-28T06:47:47.372Z"
   },
   {
    "duration": 15,
    "start_time": "2024-05-28T06:48:46.978Z"
   },
   {
    "duration": 20,
    "start_time": "2024-05-28T06:51:36.235Z"
   },
   {
    "duration": 15,
    "start_time": "2024-05-28T06:51:52.414Z"
   },
   {
    "duration": 16,
    "start_time": "2024-05-28T06:52:52.393Z"
   },
   {
    "duration": 29,
    "start_time": "2024-05-28T06:53:27.014Z"
   },
   {
    "duration": 28,
    "start_time": "2024-05-28T06:53:41.406Z"
   },
   {
    "duration": 35,
    "start_time": "2024-05-28T06:54:05.532Z"
   },
   {
    "duration": 21,
    "start_time": "2024-05-28T07:01:17.767Z"
   },
   {
    "duration": 19,
    "start_time": "2024-05-28T07:01:43.782Z"
   },
   {
    "duration": 74,
    "start_time": "2024-05-28T07:02:20.585Z"
   },
   {
    "duration": 41,
    "start_time": "2024-05-28T07:03:18.294Z"
   },
   {
    "duration": 43,
    "start_time": "2024-05-28T07:03:55.188Z"
   },
   {
    "duration": 22,
    "start_time": "2024-05-28T07:04:05.419Z"
   },
   {
    "duration": 15,
    "start_time": "2024-05-28T07:04:14.772Z"
   },
   {
    "duration": 15,
    "start_time": "2024-05-28T07:05:31.865Z"
   },
   {
    "duration": 15,
    "start_time": "2024-05-28T07:05:51.368Z"
   },
   {
    "duration": 31,
    "start_time": "2024-05-28T07:09:13.975Z"
   },
   {
    "duration": 23,
    "start_time": "2024-05-28T07:34:28.346Z"
   },
   {
    "duration": 29,
    "start_time": "2024-05-28T07:34:48.147Z"
   },
   {
    "duration": 27,
    "start_time": "2024-05-28T07:34:53.288Z"
   },
   {
    "duration": 20,
    "start_time": "2024-05-28T07:35:40.532Z"
   },
   {
    "duration": 14,
    "start_time": "2024-05-28T07:36:06.144Z"
   },
   {
    "duration": 40,
    "start_time": "2024-05-28T07:36:46.899Z"
   },
   {
    "duration": 14,
    "start_time": "2024-05-28T07:37:03.465Z"
   },
   {
    "duration": 14,
    "start_time": "2024-05-28T07:38:34.184Z"
   },
   {
    "duration": 504,
    "start_time": "2024-05-28T07:57:02.030Z"
   },
   {
    "duration": 10053,
    "start_time": "2024-05-28T07:57:02.535Z"
   },
   {
    "duration": 45,
    "start_time": "2024-05-28T07:57:12.589Z"
   },
   {
    "duration": 27,
    "start_time": "2024-05-28T07:57:12.636Z"
   },
   {
    "duration": 9,
    "start_time": "2024-05-28T07:57:12.665Z"
   },
   {
    "duration": 27,
    "start_time": "2024-05-28T07:57:12.676Z"
   },
   {
    "duration": 35,
    "start_time": "2024-05-28T07:57:12.704Z"
   },
   {
    "duration": 27,
    "start_time": "2024-05-28T07:57:12.741Z"
   },
   {
    "duration": 38,
    "start_time": "2024-05-28T07:57:12.769Z"
   },
   {
    "duration": 22,
    "start_time": "2024-05-28T07:57:12.809Z"
   },
   {
    "duration": 20,
    "start_time": "2024-05-28T07:57:12.833Z"
   },
   {
    "duration": 12,
    "start_time": "2024-05-28T07:57:12.855Z"
   },
   {
    "duration": 52,
    "start_time": "2024-05-28T07:57:12.869Z"
   },
   {
    "duration": 70,
    "start_time": "2024-05-28T07:57:12.924Z"
   },
   {
    "duration": 12,
    "start_time": "2024-05-28T07:57:12.996Z"
   },
   {
    "duration": 26,
    "start_time": "2024-05-28T07:57:13.009Z"
   },
   {
    "duration": 35,
    "start_time": "2024-05-28T07:57:13.037Z"
   },
   {
    "duration": 29,
    "start_time": "2024-05-28T07:59:48.826Z"
   },
   {
    "duration": 30,
    "start_time": "2024-05-28T07:59:59.913Z"
   },
   {
    "duration": 32,
    "start_time": "2024-05-28T08:01:42.039Z"
   },
   {
    "duration": 14,
    "start_time": "2024-05-28T08:07:25.945Z"
   },
   {
    "duration": 509,
    "start_time": "2024-05-28T08:09:22.527Z"
   },
   {
    "duration": 8088,
    "start_time": "2024-05-28T08:09:23.038Z"
   },
   {
    "duration": 52,
    "start_time": "2024-05-28T08:09:31.127Z"
   },
   {
    "duration": 54,
    "start_time": "2024-05-28T08:09:31.181Z"
   },
   {
    "duration": 93,
    "start_time": "2024-05-28T08:09:31.237Z"
   },
   {
    "duration": 78,
    "start_time": "2024-05-28T08:09:31.332Z"
   },
   {
    "duration": 38,
    "start_time": "2024-05-28T08:09:31.412Z"
   },
   {
    "duration": 63,
    "start_time": "2024-05-28T08:09:31.451Z"
   },
   {
    "duration": 40,
    "start_time": "2024-05-28T08:09:31.516Z"
   },
   {
    "duration": 20,
    "start_time": "2024-05-28T08:09:31.559Z"
   },
   {
    "duration": 31,
    "start_time": "2024-05-28T08:09:31.580Z"
   },
   {
    "duration": 28,
    "start_time": "2024-05-28T08:09:31.612Z"
   },
   {
    "duration": 26,
    "start_time": "2024-05-28T08:09:31.642Z"
   },
   {
    "duration": 43,
    "start_time": "2024-05-28T08:09:31.670Z"
   },
   {
    "duration": 25,
    "start_time": "2024-05-28T08:09:31.714Z"
   },
   {
    "duration": 55,
    "start_time": "2024-05-28T08:09:31.741Z"
   },
   {
    "duration": 13,
    "start_time": "2024-05-28T08:09:31.797Z"
   },
   {
    "duration": 530,
    "start_time": "2024-05-29T03:28:08.118Z"
   },
   {
    "duration": 4700,
    "start_time": "2024-05-29T03:28:08.650Z"
   },
   {
    "duration": 56,
    "start_time": "2024-05-29T03:28:13.352Z"
   },
   {
    "duration": 34,
    "start_time": "2024-05-29T03:28:13.410Z"
   },
   {
    "duration": 11,
    "start_time": "2024-05-29T03:28:13.446Z"
   },
   {
    "duration": 13,
    "start_time": "2024-05-29T03:28:13.459Z"
   },
   {
    "duration": 12,
    "start_time": "2024-05-29T03:28:13.474Z"
   },
   {
    "duration": 10,
    "start_time": "2024-05-29T03:28:13.488Z"
   },
   {
    "duration": 24,
    "start_time": "2024-05-29T03:28:13.500Z"
   },
   {
    "duration": 13,
    "start_time": "2024-05-29T03:28:13.527Z"
   },
   {
    "duration": 22,
    "start_time": "2024-05-29T03:28:13.542Z"
   },
   {
    "duration": 29,
    "start_time": "2024-05-29T03:28:13.566Z"
   },
   {
    "duration": 10,
    "start_time": "2024-05-29T03:28:13.597Z"
   },
   {
    "duration": 32,
    "start_time": "2024-05-29T03:28:13.609Z"
   },
   {
    "duration": 13,
    "start_time": "2024-05-29T03:28:13.642Z"
   },
   {
    "duration": 16,
    "start_time": "2024-05-29T03:28:13.657Z"
   },
   {
    "duration": 13,
    "start_time": "2024-05-29T03:28:13.675Z"
   },
   {
    "duration": 20,
    "start_time": "2024-05-29T03:29:21.139Z"
   },
   {
    "duration": 15,
    "start_time": "2024-05-29T03:29:23.312Z"
   }
  ],
  "kernelspec": {
   "display_name": "Python 3 (ipykernel)",
   "language": "python",
   "name": "python3"
  },
  "language_info": {
   "codemirror_mode": {
    "name": "ipython",
    "version": 3
   },
   "file_extension": ".py",
   "mimetype": "text/x-python",
   "name": "python",
   "nbconvert_exporter": "python",
   "pygments_lexer": "ipython3",
   "version": "3.9.19"
  },
  "toc": {
   "base_numbering": 1,
   "nav_menu": {},
   "number_sections": true,
   "sideBar": true,
   "skip_h1_title": true,
   "title_cell": "Table of Contents",
   "title_sidebar": "Contents",
   "toc_cell": false,
   "toc_position": {},
   "toc_section_display": true,
   "toc_window_display": false
  }
 },
 "nbformat": 4,
 "nbformat_minor": 4
}
