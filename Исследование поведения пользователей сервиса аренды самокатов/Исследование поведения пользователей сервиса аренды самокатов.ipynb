{
 "cells": [
  {
   "cell_type": "markdown",
   "id": "fa39b20c",
   "metadata": {},
   "source": [
    "   **Статистический анализ данных сервиса аренды самокатов GoFast**\n",
    "   \n",
    "**Цель исследования**\n",
    "\n",
    "-описать и визуализировать общую информацию о пользователях и поездках\n",
    "-найти суммарное расстояние, количество поездок и суммарное время для каждого пользователя за каждый месяц.\n",
    "-определить помесячную выручку, которую принёс каждый пользователь\n",
    "-определить тратят ли пользователи с подпиской больше времени на поездки\n",
    "-определить среднее расстояние, которое проезжают пользователи с подпиской за одну поездку, не превышает ли она 3130м\n",
    "-будет ли помесячная выручка от пользователей с подпиской по месяцам выше, чем выручка от пользователей без подписки. \n",
    "\n",
    "**План исследования**\n",
    "\n",
    "-прочитать и изучитб общую информацию о каждом датафрейме.\n",
    "-привести столбец date к типу даты pandas.\n",
    "-создать новый столбец с номером месяца на основе столбца date.\n",
    "-проверить наличие пропущенных значений и дубликатов в датафреймах. Обработать их, если такие значения присутствуют.\n",
    "-описать и визуализировать общую информацию о пользователях и поездках:\n",
    "  а)частота встречаемости городов;\n",
    "  б) соотношение пользователей с подпиской и без подписки;\n",
    "  в) возраст пользователей;\n",
    "  г) расстояние, которое пользователь преодолел за одну поездку;\n",
    "  д) продолжительность поездок.\n",
    "-объединить данные о пользователях, поездках и подписках в один датафрейм.\n",
    "-создать ещё два датафрейма из датафрейма:\n",
    "  а)c данными о пользователях без подписки;\n",
    "  б)с данными о пользователях с подпиской.\n",
    "-визуализировать информацию о расстоянии и времени поездок для пользователей обеих категорий.  \n",
    "-создать датафрейм с агрегированными данными о поездках \n",
    "-добавить столбец с помесячной выручкой, которую принёс каждый пользователь.\n",
    "-проверить гипотезы:\n",
    "  а)тратят ли пользователи с подпиской больше времени на поездки\n",
    "  б)что среднее расстояние, которое проезжают пользователи с подпиской за одну поездку, не превышает 3130м\n",
    "  в)будет ли помесячная выручка от пользователей с подпиской по месяцам выше, чем выручка от пользователей без подписки.  "
   ]
  },
  {
   "cell_type": "code",
   "execution_count": 1,
   "id": "c3b7a12c",
   "metadata": {},
   "outputs": [],
   "source": [
    "import pandas as pd\n",
    "import matplotlib.pyplot as plt\n",
    "import seaborn as sns\n",
    "import plotly.express as px\n",
    "import numpy as np\n",
    "from scipy import stats as st\n",
    "from math import factorial"
   ]
  },
  {
   "cell_type": "markdown",
   "id": "c42cbe00",
   "metadata": {},
   "source": [
    "#### Шаг 1. Загрузка данных"
   ]
  },
  {
   "cell_type": "code",
   "execution_count": 2,
   "id": "eff9f206",
   "metadata": {},
   "outputs": [
    {
     "name": "stdout",
     "output_type": "stream",
     "text": [
      "<class 'pandas.core.frame.DataFrame'>\n",
      "RangeIndex: 1565 entries, 0 to 1564\n",
      "Data columns (total 5 columns):\n",
      " #   Column             Non-Null Count  Dtype \n",
      "---  ------             --------------  ----- \n",
      " 0   user_id            1565 non-null   int64 \n",
      " 1   name               1565 non-null   object\n",
      " 2   age                1565 non-null   int64 \n",
      " 3   city               1565 non-null   object\n",
      " 4   subscription_type  1565 non-null   object\n",
      "dtypes: int64(2), object(3)\n",
      "memory usage: 61.3+ KB\n"
     ]
    },
    {
     "data": {
      "text/html": [
       "<div>\n",
       "<style scoped>\n",
       "    .dataframe tbody tr th:only-of-type {\n",
       "        vertical-align: middle;\n",
       "    }\n",
       "\n",
       "    .dataframe tbody tr th {\n",
       "        vertical-align: top;\n",
       "    }\n",
       "\n",
       "    .dataframe thead th {\n",
       "        text-align: right;\n",
       "    }\n",
       "</style>\n",
       "<table border=\"1\" class=\"dataframe\">\n",
       "  <thead>\n",
       "    <tr style=\"text-align: right;\">\n",
       "      <th></th>\n",
       "      <th>user_id</th>\n",
       "      <th>name</th>\n",
       "      <th>age</th>\n",
       "      <th>city</th>\n",
       "      <th>subscription_type</th>\n",
       "    </tr>\n",
       "  </thead>\n",
       "  <tbody>\n",
       "    <tr>\n",
       "      <th>0</th>\n",
       "      <td>1</td>\n",
       "      <td>Кира</td>\n",
       "      <td>22</td>\n",
       "      <td>Тюмень</td>\n",
       "      <td>ultra</td>\n",
       "    </tr>\n",
       "    <tr>\n",
       "      <th>1</th>\n",
       "      <td>2</td>\n",
       "      <td>Станислав</td>\n",
       "      <td>31</td>\n",
       "      <td>Омск</td>\n",
       "      <td>ultra</td>\n",
       "    </tr>\n",
       "    <tr>\n",
       "      <th>2</th>\n",
       "      <td>3</td>\n",
       "      <td>Алексей</td>\n",
       "      <td>20</td>\n",
       "      <td>Москва</td>\n",
       "      <td>ultra</td>\n",
       "    </tr>\n",
       "    <tr>\n",
       "      <th>3</th>\n",
       "      <td>4</td>\n",
       "      <td>Константин</td>\n",
       "      <td>26</td>\n",
       "      <td>Ростов-на-Дону</td>\n",
       "      <td>ultra</td>\n",
       "    </tr>\n",
       "    <tr>\n",
       "      <th>4</th>\n",
       "      <td>5</td>\n",
       "      <td>Адель</td>\n",
       "      <td>28</td>\n",
       "      <td>Омск</td>\n",
       "      <td>ultra</td>\n",
       "    </tr>\n",
       "    <tr>\n",
       "      <th>5</th>\n",
       "      <td>6</td>\n",
       "      <td>Регина</td>\n",
       "      <td>25</td>\n",
       "      <td>Краснодар</td>\n",
       "      <td>ultra</td>\n",
       "    </tr>\n",
       "    <tr>\n",
       "      <th>6</th>\n",
       "      <td>7</td>\n",
       "      <td>Игорь</td>\n",
       "      <td>23</td>\n",
       "      <td>Омск</td>\n",
       "      <td>ultra</td>\n",
       "    </tr>\n",
       "    <tr>\n",
       "      <th>7</th>\n",
       "      <td>8</td>\n",
       "      <td>Юрий</td>\n",
       "      <td>23</td>\n",
       "      <td>Краснодар</td>\n",
       "      <td>ultra</td>\n",
       "    </tr>\n",
       "    <tr>\n",
       "      <th>8</th>\n",
       "      <td>9</td>\n",
       "      <td>Ян</td>\n",
       "      <td>21</td>\n",
       "      <td>Пятигорск</td>\n",
       "      <td>ultra</td>\n",
       "    </tr>\n",
       "    <tr>\n",
       "      <th>9</th>\n",
       "      <td>10</td>\n",
       "      <td>Валерий</td>\n",
       "      <td>18</td>\n",
       "      <td>Екатеринбург</td>\n",
       "      <td>ultra</td>\n",
       "    </tr>\n",
       "  </tbody>\n",
       "</table>\n",
       "</div>"
      ],
      "text/plain": [
       "   user_id        name  age            city subscription_type\n",
       "0        1        Кира   22          Тюмень             ultra\n",
       "1        2   Станислав   31            Омск             ultra\n",
       "2        3     Алексей   20          Москва             ultra\n",
       "3        4  Константин   26  Ростов-на-Дону             ultra\n",
       "4        5       Адель   28            Омск             ultra\n",
       "5        6      Регина   25       Краснодар             ultra\n",
       "6        7       Игорь   23            Омск             ultra\n",
       "7        8        Юрий   23       Краснодар             ultra\n",
       "8        9          Ян   21       Пятигорск             ultra\n",
       "9       10     Валерий   18    Екатеринбург             ultra"
      ]
     },
     "execution_count": 2,
     "metadata": {},
     "output_type": "execute_result"
    }
   ],
   "source": [
    "data_users = pd.read_csv('/datasets/users_go.csv')\n",
    "data_users.info()\n",
    "data_users.head(10)"
   ]
  },
  {
   "cell_type": "code",
   "execution_count": 3,
   "id": "0841ab8f",
   "metadata": {},
   "outputs": [
    {
     "data": {
      "image/png": "[encoded data removed]",
      "text/plain": [
       "<Figure size 720x360 with 2 Axes>"
      ]
     },
     "metadata": {
      "needs_background": "light"
     },
     "output_type": "display_data"
    }
   ],
   "source": [
    "data_users.hist(figsize=(10, 5));\n"
   ]
  },
  {
   "cell_type": "code",
   "execution_count": 4,
   "id": "306d3f9d",
   "metadata": {},
   "outputs": [
    {
     "name": "stdout",
     "output_type": "stream",
     "text": [
      "<class 'pandas.core.frame.DataFrame'>\n",
      "RangeIndex: 18068 entries, 0 to 18067\n",
      "Data columns (total 4 columns):\n",
      " #   Column    Non-Null Count  Dtype         \n",
      "---  ------    --------------  -----         \n",
      " 0   user_id   18068 non-null  int64         \n",
      " 1   distance  18068 non-null  float64       \n",
      " 2   duration  18068 non-null  float64       \n",
      " 3   date      18068 non-null  datetime64[ns]\n",
      "dtypes: datetime64[ns](1), float64(2), int64(1)\n",
      "memory usage: 564.8 KB\n"
     ]
    },
    {
     "data": {
      "text/html": [
       "<div>\n",
       "<style scoped>\n",
       "    .dataframe tbody tr th:only-of-type {\n",
       "        vertical-align: middle;\n",
       "    }\n",
       "\n",
       "    .dataframe tbody tr th {\n",
       "        vertical-align: top;\n",
       "    }\n",
       "\n",
       "    .dataframe thead th {\n",
       "        text-align: right;\n",
       "    }\n",
       "</style>\n",
       "<table border=\"1\" class=\"dataframe\">\n",
       "  <thead>\n",
       "    <tr style=\"text-align: right;\">\n",
       "      <th></th>\n",
       "      <th>user_id</th>\n",
       "      <th>distance</th>\n",
       "      <th>duration</th>\n",
       "      <th>date</th>\n",
       "    </tr>\n",
       "  </thead>\n",
       "  <tbody>\n",
       "    <tr>\n",
       "      <th>0</th>\n",
       "      <td>1</td>\n",
       "      <td>4409.919140</td>\n",
       "      <td>25.599769</td>\n",
       "      <td>2021-01-01</td>\n",
       "    </tr>\n",
       "    <tr>\n",
       "      <th>1</th>\n",
       "      <td>1</td>\n",
       "      <td>2617.592153</td>\n",
       "      <td>15.816871</td>\n",
       "      <td>2021-01-18</td>\n",
       "    </tr>\n",
       "    <tr>\n",
       "      <th>2</th>\n",
       "      <td>1</td>\n",
       "      <td>754.159807</td>\n",
       "      <td>6.232113</td>\n",
       "      <td>2021-04-20</td>\n",
       "    </tr>\n",
       "    <tr>\n",
       "      <th>3</th>\n",
       "      <td>1</td>\n",
       "      <td>2694.783254</td>\n",
       "      <td>18.511000</td>\n",
       "      <td>2021-08-11</td>\n",
       "    </tr>\n",
       "    <tr>\n",
       "      <th>4</th>\n",
       "      <td>1</td>\n",
       "      <td>4028.687306</td>\n",
       "      <td>26.265803</td>\n",
       "      <td>2021-08-28</td>\n",
       "    </tr>\n",
       "    <tr>\n",
       "      <th>5</th>\n",
       "      <td>1</td>\n",
       "      <td>2770.890808</td>\n",
       "      <td>16.650138</td>\n",
       "      <td>2021-10-09</td>\n",
       "    </tr>\n",
       "    <tr>\n",
       "      <th>6</th>\n",
       "      <td>1</td>\n",
       "      <td>3039.020292</td>\n",
       "      <td>14.927879</td>\n",
       "      <td>2021-10-19</td>\n",
       "    </tr>\n",
       "    <tr>\n",
       "      <th>7</th>\n",
       "      <td>1</td>\n",
       "      <td>2842.118050</td>\n",
       "      <td>23.117468</td>\n",
       "      <td>2021-11-06</td>\n",
       "    </tr>\n",
       "    <tr>\n",
       "      <th>8</th>\n",
       "      <td>1</td>\n",
       "      <td>3412.690668</td>\n",
       "      <td>15.238072</td>\n",
       "      <td>2021-11-14</td>\n",
       "    </tr>\n",
       "    <tr>\n",
       "      <th>9</th>\n",
       "      <td>1</td>\n",
       "      <td>748.690645</td>\n",
       "      <td>15.041884</td>\n",
       "      <td>2021-11-22</td>\n",
       "    </tr>\n",
       "  </tbody>\n",
       "</table>\n",
       "</div>"
      ],
      "text/plain": [
       "   user_id     distance   duration       date\n",
       "0        1  4409.919140  25.599769 2021-01-01\n",
       "1        1  2617.592153  15.816871 2021-01-18\n",
       "2        1   754.159807   6.232113 2021-04-20\n",
       "3        1  2694.783254  18.511000 2021-08-11\n",
       "4        1  4028.687306  26.265803 2021-08-28\n",
       "5        1  2770.890808  16.650138 2021-10-09\n",
       "6        1  3039.020292  14.927879 2021-10-19\n",
       "7        1  2842.118050  23.117468 2021-11-06\n",
       "8        1  3412.690668  15.238072 2021-11-14\n",
       "9        1   748.690645  15.041884 2021-11-22"
      ]
     },
     "execution_count": 4,
     "metadata": {},
     "output_type": "execute_result"
    }
   ],
   "source": [
    "data_rides = pd.read_csv('/datasets/rides_go.csv',parse_dates=['date'])\n",
    "data_rides.info()\n",
    "data_rides.head(10)"
   ]
  },
  {
   "cell_type": "code",
   "execution_count": 5,
   "id": "42668ed5",
   "metadata": {},
   "outputs": [
    {
     "data": {
      "image/png": "[encoded data removed]",
      "text/plain": [
       "<Figure size 720x720 with 4 Axes>"
      ]
     },
     "metadata": {
      "needs_background": "light"
     },
     "output_type": "display_data"
    }
   ],
   "source": [
    "data_rides.hist(figsize=(10, 10));"
   ]
  },
  {
   "cell_type": "code",
   "execution_count": 6,
   "id": "be7916b0",
   "metadata": {},
   "outputs": [
    {
     "name": "stdout",
     "output_type": "stream",
     "text": [
      "<class 'pandas.core.frame.DataFrame'>\n",
      "RangeIndex: 2 entries, 0 to 1\n",
      "Data columns (total 4 columns):\n",
      " #   Column             Non-Null Count  Dtype \n",
      "---  ------             --------------  ----- \n",
      " 0   subscription_type  2 non-null      object\n",
      " 1   minute_price       2 non-null      int64 \n",
      " 2   start_ride_price   2 non-null      int64 \n",
      " 3   subscription_fee   2 non-null      int64 \n",
      "dtypes: int64(3), object(1)\n",
      "memory usage: 192.0+ bytes\n"
     ]
    },
    {
     "data": {
      "text/html": [
       "<div>\n",
       "<style scoped>\n",
       "    .dataframe tbody tr th:only-of-type {\n",
       "        vertical-align: middle;\n",
       "    }\n",
       "\n",
       "    .dataframe tbody tr th {\n",
       "        vertical-align: top;\n",
       "    }\n",
       "\n",
       "    .dataframe thead th {\n",
       "        text-align: right;\n",
       "    }\n",
       "</style>\n",
       "<table border=\"1\" class=\"dataframe\">\n",
       "  <thead>\n",
       "    <tr style=\"text-align: right;\">\n",
       "      <th></th>\n",
       "      <th>subscription_type</th>\n",
       "      <th>minute_price</th>\n",
       "      <th>start_ride_price</th>\n",
       "      <th>subscription_fee</th>\n",
       "    </tr>\n",
       "  </thead>\n",
       "  <tbody>\n",
       "    <tr>\n",
       "      <th>0</th>\n",
       "      <td>free</td>\n",
       "      <td>8</td>\n",
       "      <td>50</td>\n",
       "      <td>0</td>\n",
       "    </tr>\n",
       "    <tr>\n",
       "      <th>1</th>\n",
       "      <td>ultra</td>\n",
       "      <td>6</td>\n",
       "      <td>0</td>\n",
       "      <td>199</td>\n",
       "    </tr>\n",
       "  </tbody>\n",
       "</table>\n",
       "</div>"
      ],
      "text/plain": [
       "  subscription_type  minute_price  start_ride_price  subscription_fee\n",
       "0              free             8                50                 0\n",
       "1             ultra             6                 0               199"
      ]
     },
     "execution_count": 6,
     "metadata": {},
     "output_type": "execute_result"
    }
   ],
   "source": [
    "data_subscriptions = pd.read_csv('/datasets/subscriptions_go.csv')\n",
    "data_subscriptions.info()\n",
    "data_subscriptions.head(10)"
   ]
  },
  {
   "cell_type": "markdown",
   "id": "9a181f07",
   "metadata": {},
   "source": [
    "**Вывод** \n",
    "В основном услугами пользуются люди до 40 лет, количество используемых минут до 34, расстояние до 6.5км\n",
    "Пропусков нет.\n",
    "Более подробно рассмотрим далее."
   ]
  },
  {
   "cell_type": "markdown",
   "id": "e95ebca7",
   "metadata": {},
   "source": [
    "#### Шаг 2. Предобработка данных"
   ]
  },
  {
   "cell_type": "code",
   "execution_count": 7,
   "id": "af6d202c",
   "metadata": {},
   "outputs": [
    {
     "data": {
      "text/plain": [
       "0   2021-01-01\n",
       "1   2021-01-18\n",
       "2   2021-04-20\n",
       "3   2021-08-11\n",
       "4   2021-08-28\n",
       "5   2021-10-09\n",
       "6   2021-10-19\n",
       "7   2021-11-06\n",
       "8   2021-11-14\n",
       "9   2021-11-22\n",
       "Name: date, dtype: datetime64[ns]"
      ]
     },
     "execution_count": 7,
     "metadata": {},
     "output_type": "execute_result"
    }
   ],
   "source": [
    "data_rides['date'] = pd.to_datetime(data_rides['date'], format='%Y-%m-%d')\n",
    "data_rides['date'].head(10)"
   ]
  },
  {
   "cell_type": "code",
   "execution_count": 8,
   "id": "44debfd1",
   "metadata": {},
   "outputs": [],
   "source": [
    "data_rides['month'] = pd.DatetimeIndex(data_rides['date']).month"
   ]
  },
  {
   "cell_type": "code",
   "execution_count": 9,
   "id": "6a73f4da",
   "metadata": {
    "scrolled": true
   },
   "outputs": [
    {
     "name": "stdout",
     "output_type": "stream",
     "text": [
      "Минимальная дата : 2021-01-01 00:00:00\n",
      "Максимальная дата: 2021-12-30 00:00:00\n"
     ]
    }
   ],
   "source": [
    "print('Минимальная дата :', data_rides['date'].min())\n",
    "print('Максимальная дата:', data_rides['date'].max())"
   ]
  },
  {
   "cell_type": "markdown",
   "id": "3b329ef2",
   "metadata": {},
   "source": [
    "В исследовании использован только 2021год"
   ]
  },
  {
   "cell_type": "code",
   "execution_count": 10,
   "id": "77f5c7c4",
   "metadata": {
    "scrolled": true
   },
   "outputs": [
    {
     "name": "stdout",
     "output_type": "stream",
     "text": [
      "user_id     0\n",
      "distance    0\n",
      "duration    0\n",
      "date        0\n",
      "month       0\n",
      "dtype: int64\n",
      "subscription_type    0\n",
      "minute_price         0\n",
      "start_ride_price     0\n",
      "subscription_fee     0\n",
      "dtype: int64\n",
      "user_id              0\n",
      "name                 0\n",
      "age                  0\n",
      "city                 0\n",
      "subscription_type    0\n",
      "dtype: int64\n"
     ]
    }
   ],
   "source": [
    "print(data_rides.isna().sum())\n",
    "print(data_subscriptions.isna().sum())\n",
    "print(data_users.isna().sum())"
   ]
  },
  {
   "cell_type": "code",
   "execution_count": 11,
   "id": "9dd649d7",
   "metadata": {},
   "outputs": [
    {
     "data": {
      "text/plain": [
       "31"
      ]
     },
     "execution_count": 11,
     "metadata": {},
     "output_type": "execute_result"
    }
   ],
   "source": [
    "data_users.duplicated().sum()"
   ]
  },
  {
   "cell_type": "code",
   "execution_count": 12,
   "id": "3aa1571f",
   "metadata": {
    "scrolled": true
   },
   "outputs": [
    {
     "data": {
      "text/plain": [
       "0"
      ]
     },
     "execution_count": 12,
     "metadata": {},
     "output_type": "execute_result"
    }
   ],
   "source": [
    "data_users.drop_duplicates(inplace=True)\n",
    "data_users.duplicated().sum()"
   ]
  },
  {
   "cell_type": "code",
   "execution_count": 13,
   "id": "f6b69e07",
   "metadata": {
    "scrolled": true
   },
   "outputs": [
    {
     "data": {
      "text/plain": [
       "0"
      ]
     },
     "execution_count": 13,
     "metadata": {},
     "output_type": "execute_result"
    }
   ],
   "source": [
    "data_rides.duplicated().sum()"
   ]
  },
  {
   "cell_type": "code",
   "execution_count": 14,
   "id": "d2fe0e8b",
   "metadata": {},
   "outputs": [
    {
     "data": {
      "text/plain": [
       "0"
      ]
     },
     "execution_count": 14,
     "metadata": {},
     "output_type": "execute_result"
    }
   ],
   "source": [
    "data_subscriptions.duplicated().sum()"
   ]
  },
  {
   "cell_type": "code",
   "execution_count": 15,
   "id": "7e9eff10",
   "metadata": {
    "scrolled": true
   },
   "outputs": [
    {
     "data": {
      "text/plain": [
       "array([   1,    2,    3, ..., 1532, 1533, 1534])"
      ]
     },
     "execution_count": 15,
     "metadata": {},
     "output_type": "execute_result"
    }
   ],
   "source": [
    "data_rides['user_id'].unique()"
   ]
  },
  {
   "cell_type": "code",
   "execution_count": 16,
   "id": "b95a3b51",
   "metadata": {
    "scrolled": true
   },
   "outputs": [
    {
     "data": {
      "text/plain": [
       "array(['Тюмень', 'Омск', 'Москва', 'Ростов-на-Дону', 'Краснодар',\n",
       "       'Пятигорск', 'Екатеринбург', 'Сочи'], dtype=object)"
      ]
     },
     "execution_count": 16,
     "metadata": {},
     "output_type": "execute_result"
    }
   ],
   "source": [
    "data_users['city'].unique()"
   ]
  },
  {
   "cell_type": "code",
   "execution_count": 17,
   "id": "f4914e81",
   "metadata": {},
   "outputs": [
    {
     "data": {
      "text/plain": [
       "array(['ultra', 'free'], dtype=object)"
      ]
     },
     "execution_count": 17,
     "metadata": {},
     "output_type": "execute_result"
    }
   ],
   "source": [
    "data_users['subscription_type'].unique()"
   ]
  },
  {
   "cell_type": "markdown",
   "id": "4e37ba23",
   "metadata": {},
   "source": [
    "**Вывод** \n",
    "Привели столбец date к типу даты pandas\n",
    "Создали новый столбец с номером месяца на основе столбца date\n",
    "Проверили пропуски- их нет.\n",
    "В столбцах 'city' и  'subscription_type' ошибок нет\n"
   ]
  },
  {
   "cell_type": "markdown",
   "id": "212593c7",
   "metadata": {},
   "source": [
    "#### Шаг 3. Исследовательский анализ данных"
   ]
  },
  {
   "cell_type": "code",
   "execution_count": 18,
   "id": "e3a4274c",
   "metadata": {
    "scrolled": true
   },
   "outputs": [
    {
     "name": "stdout",
     "output_type": "stream",
     "text": [
      "Пятигорск         219\n",
      "Екатеринбург      204\n",
      "Ростов-на-Дону    198\n",
      "Краснодар         193\n",
      "Сочи              189\n",
      "Омск              183\n",
      "Тюмень            180\n",
      "Москва            168\n",
      "Name: city, dtype: int64\n"
     ]
    }
   ],
   "source": [
    "count_users_by_city = data_users['city'].value_counts()\n",
    "print(count_users_by_city)"
   ]
  },
  {
   "cell_type": "code",
   "execution_count": 19,
   "id": "a010d8af",
   "metadata": {
    "scrolled": true
   },
   "outputs": [
    {
     "data": {
      "image/png": "[encoded data removed]",
      "text/plain": [
       "<Figure size 432x288 with 1 Axes>"
      ]
     },
     "metadata": {
      "needs_background": "light"
     },
     "output_type": "display_data"
    }
   ],
   "source": [
    "ax = data_users['city'].value_counts().plot.barh()\n",
    "plt.title('Распределение пользователей по городам')\n",
    "plt.xlabel('Количество пользователей')\n",
    "plt.ylabel('Город')\n",
    "plt.show()"
   ]
  },
  {
   "cell_type": "markdown",
   "id": "0df121bd",
   "metadata": {},
   "source": [
    "В Пятигорске больше всего поездок, в Москве меньше всего. Возможно такое распределение связано с тем, что сезон самокатов в теплых городах(Пятигорск, Краснодар, Сочи и т.д.) дольше, поэтому поездое больше."
   ]
  },
  {
   "cell_type": "code",
   "execution_count": 20,
   "id": "b4c4f47c",
   "metadata": {
    "scrolled": true
   },
   "outputs": [
    {
     "data": {
      "image/png": "[encoded data removed]",
      "text/plain": [
       "<Figure size 504x504 with 1 Axes>"
      ]
     },
     "metadata": {},
     "output_type": "display_data"
    }
   ],
   "source": [
    "count_users_by_city.plot(\n",
    "    kind = 'pie', \n",
    "    y = count_users_by_city,\n",
    "    autopct = '%1.0f%%',\n",
    "    figsize=(7,7), \n",
    "    title = 'Распределение пользователей по городам');"
   ]
  },
  {
   "cell_type": "markdown",
   "id": "7304003d",
   "metadata": {},
   "source": [
    "По круговой диаграмме видно, что распределение примерно одинаковое, несильно отличается. От 11 до 14%"
   ]
  },
  {
   "cell_type": "code",
   "execution_count": 21,
   "id": "8a23dad6",
   "metadata": {},
   "outputs": [
    {
     "data": {
      "image/png": "[encoded data removed]",
      "text/plain": [
       "<Figure size 360x360 with 1 Axes>"
      ]
     },
     "metadata": {},
     "output_type": "display_data"
    }
   ],
   "source": [
    "count_sub = data_users['subscription_type'].value_counts()\n",
    "data_users['subscription_type'].value_counts().plot(\n",
    "    kind = 'pie', \n",
    "   y = count_sub, \n",
    "    autopct = '%1.0f%%',  \n",
    "    figsize=(5,5),\n",
    "    title = 'Процентное соотношение пользователей в зависимости от тарифа');\n",
    "#ax = data_subscriptions['subscription_type'].value_counts().plot.bar()\n",
    "#plt.show()"
   ]
  },
  {
   "cell_type": "markdown",
   "id": "41f4148d",
   "metadata": {},
   "source": [
    "Без подписки пользователей на 8% больше, чем без нее. Возможно, люди, которые редко пользуются самокатами не хотят платить абонентскую плату каждый месяц и их количество больше."
   ]
  },
  {
   "cell_type": "code",
   "execution_count": 22,
   "id": "ec63ab08",
   "metadata": {
    "scrolled": true
   },
   "outputs": [
    {
     "data": {
      "image/png": "[encoded data removed]",
      "text/plain": [
       "<Figure size 432x288 with 1 Axes>"
      ]
     },
     "metadata": {
      "needs_background": "light"
     },
     "output_type": "display_data"
    }
   ],
   "source": [
    "data_users['age'].sort_values(ascending=False)\n",
    "sns.boxplot(x=data_users['age'])\n",
    "plt.title('Возраст пользователей')\n",
    "plt.xlabel('Возраст, г')\n",
    "plt.ylabel('Количество пользователей')\n",
    "_ = plt.xlim(0, 50)"
   ]
  },
  {
   "cell_type": "code",
   "execution_count": 23,
   "id": "b6d1bfc8",
   "metadata": {
    "scrolled": true
   },
   "outputs": [
    {
     "data": {
      "text/html": [
       "<div>\n",
       "<style scoped>\n",
       "    .dataframe tbody tr th:only-of-type {\n",
       "        vertical-align: middle;\n",
       "    }\n",
       "\n",
       "    .dataframe tbody tr th {\n",
       "        vertical-align: top;\n",
       "    }\n",
       "\n",
       "    .dataframe thead th {\n",
       "        text-align: right;\n",
       "    }\n",
       "</style>\n",
       "<table border=\"1\" class=\"dataframe\">\n",
       "  <thead>\n",
       "    <tr style=\"text-align: right;\">\n",
       "      <th></th>\n",
       "      <th>user_id</th>\n",
       "      <th>name</th>\n",
       "      <th>age</th>\n",
       "      <th>city</th>\n",
       "      <th>subscription_type</th>\n",
       "    </tr>\n",
       "  </thead>\n",
       "  <tbody>\n",
       "    <tr>\n",
       "      <th>34</th>\n",
       "      <td>35</td>\n",
       "      <td>Руслан</td>\n",
       "      <td>12</td>\n",
       "      <td>Пятигорск</td>\n",
       "      <td>ultra</td>\n",
       "    </tr>\n",
       "    <tr>\n",
       "      <th>66</th>\n",
       "      <td>67</td>\n",
       "      <td>Анастасия</td>\n",
       "      <td>12</td>\n",
       "      <td>Ростов-на-Дону</td>\n",
       "      <td>ultra</td>\n",
       "    </tr>\n",
       "    <tr>\n",
       "      <th>664</th>\n",
       "      <td>665</td>\n",
       "      <td>Герман</td>\n",
       "      <td>12</td>\n",
       "      <td>Сочи</td>\n",
       "      <td>ultra</td>\n",
       "    </tr>\n",
       "    <tr>\n",
       "      <th>727</th>\n",
       "      <td>728</td>\n",
       "      <td>Вячеслав</td>\n",
       "      <td>12</td>\n",
       "      <td>Пятигорск</td>\n",
       "      <td>free</td>\n",
       "    </tr>\n",
       "  </tbody>\n",
       "</table>\n",
       "</div>"
      ],
      "text/plain": [
       "     user_id       name  age            city subscription_type\n",
       "34        35     Руслан   12       Пятигорск             ultra\n",
       "66        67  Анастасия   12  Ростов-на-Дону             ultra\n",
       "664      665     Герман   12            Сочи             ultra\n",
       "727      728   Вячеслав   12       Пятигорск              free"
      ]
     },
     "execution_count": 23,
     "metadata": {},
     "output_type": "execute_result"
    }
   ],
   "source": [
    "data_users.query('age<13')"
   ]
  },
  {
   "cell_type": "markdown",
   "id": "11aee3c3",
   "metadata": {},
   "source": [
    " Возможно дети катались на отдыхе(\"теплые\" города) "
   ]
  },
  {
   "cell_type": "code",
   "execution_count": 24,
   "id": "232bc0aa",
   "metadata": {
    "scrolled": true
   },
   "outputs": [
    {
     "name": "stdout",
     "output_type": "stream",
     "text": [
      "      user_id      name  age       city subscription_type\n",
      "383       384    Виктор   38       Омск             ultra\n",
      "453       454  Вероника   38  Краснодар             ultra\n",
      "804       805      Петр   38     Тюмень              free\n",
      "961       962   Дмитрий   39     Москва              free\n",
      "1201     1202  Ангелина   43     Москва              free\n"
     ]
    }
   ],
   "source": [
    "print(data_users.query('age>37'))"
   ]
  },
  {
   "cell_type": "markdown",
   "id": "0b86b8ff",
   "metadata": {},
   "source": [
    "взрослых пользователей очень мало. Видимо, решили попробовать и не понравилось"
   ]
  },
  {
   "cell_type": "markdown",
   "id": "5722a542",
   "metadata": {},
   "source": [
    " Межквартильный размах в пределах 22-28 лет, это самые активные молодые люди. Менее 12 лет(им не разрешают родители) и более 38 лет(возраст и физически не такие выносливые) - это выбросы "
   ]
  },
  {
   "cell_type": "code",
   "execution_count": 25,
   "id": "bbf0444d",
   "metadata": {},
   "outputs": [
    {
     "data": {
      "image/png": "[encoded data removed]",
      "text/plain": [
       "<Figure size 432x288 with 1 Axes>"
      ]
     },
     "metadata": {
      "needs_background": "light"
     },
     "output_type": "display_data"
    }
   ],
   "source": [
    "data_users['age'].sort_values\n",
    "plt.hist(data_users['age'], bins = 30)\n",
    "plt.title('Возраст пользователей')\n",
    "plt.xlabel('Возраст')\n",
    "plt.ylabel('Количество пользователей')\n",
    "plt.grid()\n",
    "plt.show()"
   ]
  },
  {
   "cell_type": "markdown",
   "id": "886ae4a1",
   "metadata": {},
   "source": [
    "Возраст пользователей до 37 лет. Люди старше вряд ли пользуются самокатами, возможно, из-за возраста(физически сложнее). Большинству пользователей от 18 до 31 года. "
   ]
  },
  {
   "cell_type": "code",
   "execution_count": 26,
   "id": "be35ce3f",
   "metadata": {},
   "outputs": [
    {
     "data": {
      "image/png": "[encoded data removed]",
      "text/plain": [
       "<Figure size 432x288 with 1 Axes>"
      ]
     },
     "metadata": {
      "needs_background": "light"
     },
     "output_type": "display_data"
    }
   ],
   "source": [
    "round(data_rides['distance'].sort_values(ascending=False), 2)\n",
    "sns.boxplot(x=data_rides['distance'])\n",
    "plt.title('Расстояние за одну поездку')\n",
    "plt.xlabel('Расстояние, м')\n",
    "_ = plt.xlim(0, 8000)"
   ]
  },
  {
   "cell_type": "markdown",
   "id": "8aed298b",
   "metadata": {},
   "source": [
    " Межквартильный размах здесь в пределах от 2,5км до 3,8км. Среднее расстояние от дома до общественного транспорта, от метро до работы и т.д. Менее 800м (можно дойти пешком) и более 5,5км (далеко, можно уже ехать на общественном транспорте) - это выбросы </div>"
   ]
  },
  {
   "cell_type": "code",
   "execution_count": 27,
   "id": "b3605fac",
   "metadata": {},
   "outputs": [
    {
     "data": {
      "image/png": "[encoded data removed]",
      "text/plain": [
       "<Figure size 432x288 with 1 Axes>"
      ]
     },
     "metadata": {
      "needs_background": "light"
     },
     "output_type": "display_data"
    },
    {
     "data": {
      "text/plain": [
       "<Figure size 1440x1440 with 0 Axes>"
      ]
     },
     "metadata": {},
     "output_type": "display_data"
    }
   ],
   "source": [
    "plt.hist(data_rides['distance'], bins=40, range = (0, 7000))\n",
    "plt.title('Расстояние за одну поездку')\n",
    "plt.xlabel('Расстояние, м')\n",
    "plt.ylabel('Количество поездок')\n",
    "plt.figure(figsize=(20,20))\n",
    "plt.show()"
   ]
  },
  {
   "cell_type": "markdown",
   "id": "94c9c421",
   "metadata": {},
   "source": [
    "Расстояние, которое проезжают клиенты  максимально до 7,5км, в основном от 1км до 5,5км, остальное выбросы. Мы видим пики в 700м и 3100м, возможно короткие поездки связаны с тем, что клиентам нужно добраться от машины до общественного транспорта быстрее, опаздывают, либо первый раз арендуют самокат и не смогли пользоваться, может быть была неисправность или разрядка самоката. Основной пик в 3100м (это среднее время), связан с тем, что клиентам нужно добраться от метро до работы быстрее и без пробок, многие доставщики пользуются для уменьшения времени доставки. Думаю это примерное расстояние от метро до работы, от дома до общественного транспорта и т.д."
   ]
  },
  {
   "cell_type": "code",
   "execution_count": 28,
   "id": "1f619cd9",
   "metadata": {
    "scrolled": true
   },
   "outputs": [
    {
     "data": {
      "image/png": "[encoded data removed]",
      "text/plain": [
       "<Figure size 432x288 with 1 Axes>"
      ]
     },
     "metadata": {
      "needs_background": "light"
     },
     "output_type": "display_data"
    }
   ],
   "source": [
    "data_rides['duration'].sort_values(ascending=False)\n",
    "sns.boxplot(x = data_rides['duration'])\n",
    "plt.title('Время поездки')\n",
    "plt.xlabel('Время, минуты')\n",
    "_ = plt.xlim(0, 45)\n"
   ]
  },
  {
   "cell_type": "markdown",
   "id": "57a42e7e",
   "metadata": {},
   "source": [
    " Межквартильный размах в пределах от 13 до 22 минут, среднее время для средней пездки в 3км. при скорости 10-15 км/ч, быстрее не разгонишься в черте города. Менее 2минут и более 33минут(за это время уже устанешь ехать) - это выбросы "
   ]
  },
  {
   "cell_type": "code",
   "execution_count": 29,
   "id": "0e87f16b",
   "metadata": {},
   "outputs": [
    {
     "data": {
      "image/png": "[encoded data removed]",
      "text/plain": [
       "<Figure size 432x288 with 1 Axes>"
      ]
     },
     "metadata": {
      "needs_background": "light"
     },
     "output_type": "display_data"
    },
    {
     "data": {
      "text/plain": [
       "<Figure size 1440x1440 with 0 Axes>"
      ]
     },
     "metadata": {},
     "output_type": "display_data"
    }
   ],
   "source": [
    "plt.hist(data_rides['duration'], bins=40, range = (0, 40))\n",
    "plt.title('Время в поездке')\n",
    "plt.xlabel('Время, мин')\n",
    "plt.ylabel('Количество поездок')\n",
    "plt.figure(figsize=(20,20))\n",
    "plt.show()"
   ]
  },
  {
   "cell_type": "markdown",
   "id": "c1330938",
   "metadata": {},
   "source": [
    "Время, которое проводят в поездке, составляет до 42 минут. В основном от 2мин до 34мин, остальное выбросы. Распределение нормальное."
   ]
  },
  {
   "cell_type": "markdown",
   "id": "4ef51331",
   "metadata": {},
   "source": [
    "#### Шаг 4. Объединение данных"
   ]
  },
  {
   "cell_type": "code",
   "execution_count": 30,
   "id": "6bf288b5",
   "metadata": {
    "scrolled": true
   },
   "outputs": [
    {
     "data": {
      "text/html": [
       "<div>\n",
       "<style scoped>\n",
       "    .dataframe tbody tr th:only-of-type {\n",
       "        vertical-align: middle;\n",
       "    }\n",
       "\n",
       "    .dataframe tbody tr th {\n",
       "        vertical-align: top;\n",
       "    }\n",
       "\n",
       "    .dataframe thead th {\n",
       "        text-align: right;\n",
       "    }\n",
       "</style>\n",
       "<table border=\"1\" class=\"dataframe\">\n",
       "  <thead>\n",
       "    <tr style=\"text-align: right;\">\n",
       "      <th></th>\n",
       "      <th>user_id</th>\n",
       "      <th>name</th>\n",
       "      <th>age</th>\n",
       "      <th>city</th>\n",
       "      <th>subscription_type</th>\n",
       "      <th>distance</th>\n",
       "      <th>duration</th>\n",
       "      <th>date</th>\n",
       "      <th>month</th>\n",
       "      <th>minute_price</th>\n",
       "      <th>start_ride_price</th>\n",
       "      <th>subscription_fee</th>\n",
       "    </tr>\n",
       "  </thead>\n",
       "  <tbody>\n",
       "    <tr>\n",
       "      <th>0</th>\n",
       "      <td>1</td>\n",
       "      <td>Кира</td>\n",
       "      <td>22</td>\n",
       "      <td>Тюмень</td>\n",
       "      <td>ultra</td>\n",
       "      <td>4409.919140</td>\n",
       "      <td>25.599769</td>\n",
       "      <td>2021-01-01</td>\n",
       "      <td>1</td>\n",
       "      <td>6</td>\n",
       "      <td>0</td>\n",
       "      <td>199</td>\n",
       "    </tr>\n",
       "    <tr>\n",
       "      <th>1</th>\n",
       "      <td>1</td>\n",
       "      <td>Кира</td>\n",
       "      <td>22</td>\n",
       "      <td>Тюмень</td>\n",
       "      <td>ultra</td>\n",
       "      <td>2617.592153</td>\n",
       "      <td>15.816871</td>\n",
       "      <td>2021-01-18</td>\n",
       "      <td>1</td>\n",
       "      <td>6</td>\n",
       "      <td>0</td>\n",
       "      <td>199</td>\n",
       "    </tr>\n",
       "    <tr>\n",
       "      <th>2</th>\n",
       "      <td>1</td>\n",
       "      <td>Кира</td>\n",
       "      <td>22</td>\n",
       "      <td>Тюмень</td>\n",
       "      <td>ultra</td>\n",
       "      <td>754.159807</td>\n",
       "      <td>6.232113</td>\n",
       "      <td>2021-04-20</td>\n",
       "      <td>4</td>\n",
       "      <td>6</td>\n",
       "      <td>0</td>\n",
       "      <td>199</td>\n",
       "    </tr>\n",
       "    <tr>\n",
       "      <th>3</th>\n",
       "      <td>1</td>\n",
       "      <td>Кира</td>\n",
       "      <td>22</td>\n",
       "      <td>Тюмень</td>\n",
       "      <td>ultra</td>\n",
       "      <td>2694.783254</td>\n",
       "      <td>18.511000</td>\n",
       "      <td>2021-08-11</td>\n",
       "      <td>8</td>\n",
       "      <td>6</td>\n",
       "      <td>0</td>\n",
       "      <td>199</td>\n",
       "    </tr>\n",
       "    <tr>\n",
       "      <th>4</th>\n",
       "      <td>1</td>\n",
       "      <td>Кира</td>\n",
       "      <td>22</td>\n",
       "      <td>Тюмень</td>\n",
       "      <td>ultra</td>\n",
       "      <td>4028.687306</td>\n",
       "      <td>26.265803</td>\n",
       "      <td>2021-08-28</td>\n",
       "      <td>8</td>\n",
       "      <td>6</td>\n",
       "      <td>0</td>\n",
       "      <td>199</td>\n",
       "    </tr>\n",
       "  </tbody>\n",
       "</table>\n",
       "</div>"
      ],
      "text/plain": [
       "   user_id  name  age    city subscription_type     distance   duration  \\\n",
       "0        1  Кира   22  Тюмень             ultra  4409.919140  25.599769   \n",
       "1        1  Кира   22  Тюмень             ultra  2617.592153  15.816871   \n",
       "2        1  Кира   22  Тюмень             ultra   754.159807   6.232113   \n",
       "3        1  Кира   22  Тюмень             ultra  2694.783254  18.511000   \n",
       "4        1  Кира   22  Тюмень             ultra  4028.687306  26.265803   \n",
       "\n",
       "        date  month  minute_price  start_ride_price  subscription_fee  \n",
       "0 2021-01-01      1             6                 0               199  \n",
       "1 2021-01-18      1             6                 0               199  \n",
       "2 2021-04-20      4             6                 0               199  \n",
       "3 2021-08-11      8             6                 0               199  \n",
       "4 2021-08-28      8             6                 0               199  "
      ]
     },
     "execution_count": 30,
     "metadata": {},
     "output_type": "execute_result"
    }
   ],
   "source": [
    "data1 = data_users.merge(data_rides)\n",
    "data1 = data1.merge(data_subscriptions)\n",
    "data1.head()"
   ]
  },
  {
   "cell_type": "code",
   "execution_count": 31,
   "id": "6e3ae445",
   "metadata": {
    "scrolled": true
   },
   "outputs": [
    {
     "name": "stdout",
     "output_type": "stream",
     "text": [
      "<class 'pandas.core.frame.DataFrame'>\n",
      "Int64Index: 18068 entries, 0 to 18067\n",
      "Data columns (total 12 columns):\n",
      " #   Column             Non-Null Count  Dtype         \n",
      "---  ------             --------------  -----         \n",
      " 0   user_id            18068 non-null  int64         \n",
      " 1   name               18068 non-null  object        \n",
      " 2   age                18068 non-null  int64         \n",
      " 3   city               18068 non-null  object        \n",
      " 4   subscription_type  18068 non-null  object        \n",
      " 5   distance           18068 non-null  float64       \n",
      " 6   duration           18068 non-null  float64       \n",
      " 7   date               18068 non-null  datetime64[ns]\n",
      " 8   month              18068 non-null  int64         \n",
      " 9   minute_price       18068 non-null  int64         \n",
      " 10  start_ride_price   18068 non-null  int64         \n",
      " 11  subscription_fee   18068 non-null  int64         \n",
      "dtypes: datetime64[ns](1), float64(2), int64(6), object(3)\n",
      "memory usage: 1.8+ MB\n"
     ]
    }
   ],
   "source": [
    "data1.info()"
   ]
  },
  {
   "cell_type": "code",
   "execution_count": 32,
   "id": "c491beb1",
   "metadata": {},
   "outputs": [
    {
     "data": {
      "text/plain": [
       "user_id              0\n",
       "name                 0\n",
       "age                  0\n",
       "city                 0\n",
       "subscription_type    0\n",
       "distance             0\n",
       "duration             0\n",
       "date                 0\n",
       "month                0\n",
       "minute_price         0\n",
       "start_ride_price     0\n",
       "subscription_fee     0\n",
       "dtype: int64"
      ]
     },
     "execution_count": 32,
     "metadata": {},
     "output_type": "execute_result"
    }
   ],
   "source": [
    "data1.isna().sum()"
   ]
  },
  {
   "cell_type": "markdown",
   "id": "52c2b09e",
   "metadata": {},
   "source": [
    "Объединили три датафрейма в один. Количество строк совпадает с исходным датафреймом, пропусков также нет."
   ]
  },
  {
   "cell_type": "code",
   "execution_count": 33,
   "id": "3c8fd2a1",
   "metadata": {
    "scrolled": true
   },
   "outputs": [
    {
     "data": {
      "text/html": [
       "<div>\n",
       "<style scoped>\n",
       "    .dataframe tbody tr th:only-of-type {\n",
       "        vertical-align: middle;\n",
       "    }\n",
       "\n",
       "    .dataframe tbody tr th {\n",
       "        vertical-align: top;\n",
       "    }\n",
       "\n",
       "    .dataframe thead th {\n",
       "        text-align: right;\n",
       "    }\n",
       "</style>\n",
       "<table border=\"1\" class=\"dataframe\">\n",
       "  <thead>\n",
       "    <tr style=\"text-align: right;\">\n",
       "      <th></th>\n",
       "      <th>user_id</th>\n",
       "      <th>name</th>\n",
       "      <th>age</th>\n",
       "      <th>city</th>\n",
       "      <th>subscription_type</th>\n",
       "      <th>distance</th>\n",
       "      <th>duration</th>\n",
       "      <th>date</th>\n",
       "      <th>month</th>\n",
       "      <th>minute_price</th>\n",
       "      <th>start_ride_price</th>\n",
       "      <th>subscription_fee</th>\n",
       "    </tr>\n",
       "  </thead>\n",
       "  <tbody>\n",
       "    <tr>\n",
       "      <th>6500</th>\n",
       "      <td>700</td>\n",
       "      <td>Айдар</td>\n",
       "      <td>22</td>\n",
       "      <td>Омск</td>\n",
       "      <td>free</td>\n",
       "      <td>2515.690719</td>\n",
       "      <td>14.944286</td>\n",
       "      <td>2021-01-02</td>\n",
       "      <td>1</td>\n",
       "      <td>8</td>\n",
       "      <td>50</td>\n",
       "      <td>0</td>\n",
       "    </tr>\n",
       "    <tr>\n",
       "      <th>6501</th>\n",
       "      <td>700</td>\n",
       "      <td>Айдар</td>\n",
       "      <td>22</td>\n",
       "      <td>Омск</td>\n",
       "      <td>free</td>\n",
       "      <td>846.932642</td>\n",
       "      <td>16.234663</td>\n",
       "      <td>2021-02-01</td>\n",
       "      <td>2</td>\n",
       "      <td>8</td>\n",
       "      <td>50</td>\n",
       "      <td>0</td>\n",
       "    </tr>\n",
       "    <tr>\n",
       "      <th>6502</th>\n",
       "      <td>700</td>\n",
       "      <td>Айдар</td>\n",
       "      <td>22</td>\n",
       "      <td>Омск</td>\n",
       "      <td>free</td>\n",
       "      <td>4004.434142</td>\n",
       "      <td>20.016628</td>\n",
       "      <td>2021-02-04</td>\n",
       "      <td>2</td>\n",
       "      <td>8</td>\n",
       "      <td>50</td>\n",
       "      <td>0</td>\n",
       "    </tr>\n",
       "    <tr>\n",
       "      <th>6503</th>\n",
       "      <td>700</td>\n",
       "      <td>Айдар</td>\n",
       "      <td>22</td>\n",
       "      <td>Омск</td>\n",
       "      <td>free</td>\n",
       "      <td>1205.911290</td>\n",
       "      <td>9.782872</td>\n",
       "      <td>2021-02-10</td>\n",
       "      <td>2</td>\n",
       "      <td>8</td>\n",
       "      <td>50</td>\n",
       "      <td>0</td>\n",
       "    </tr>\n",
       "    <tr>\n",
       "      <th>6504</th>\n",
       "      <td>700</td>\n",
       "      <td>Айдар</td>\n",
       "      <td>22</td>\n",
       "      <td>Омск</td>\n",
       "      <td>free</td>\n",
       "      <td>3047.379435</td>\n",
       "      <td>17.427673</td>\n",
       "      <td>2021-02-14</td>\n",
       "      <td>2</td>\n",
       "      <td>8</td>\n",
       "      <td>50</td>\n",
       "      <td>0</td>\n",
       "    </tr>\n",
       "  </tbody>\n",
       "</table>\n",
       "</div>"
      ],
      "text/plain": [
       "      user_id   name  age  city subscription_type     distance   duration  \\\n",
       "6500      700  Айдар   22  Омск              free  2515.690719  14.944286   \n",
       "6501      700  Айдар   22  Омск              free   846.932642  16.234663   \n",
       "6502      700  Айдар   22  Омск              free  4004.434142  20.016628   \n",
       "6503      700  Айдар   22  Омск              free  1205.911290   9.782872   \n",
       "6504      700  Айдар   22  Омск              free  3047.379435  17.427673   \n",
       "\n",
       "           date  month  minute_price  start_ride_price  subscription_fee  \n",
       "6500 2021-01-02      1             8                50                 0  \n",
       "6501 2021-02-01      2             8                50                 0  \n",
       "6502 2021-02-04      2             8                50                 0  \n",
       "6503 2021-02-10      2             8                50                 0  \n",
       "6504 2021-02-14      2             8                50                 0  "
      ]
     },
     "execution_count": 33,
     "metadata": {},
     "output_type": "execute_result"
    }
   ],
   "source": [
    "free_data1 = data1.query(\"`subscription_type` == 'free'\")\n",
    "free_data1.head()"
   ]
  },
  {
   "cell_type": "code",
   "execution_count": 34,
   "id": "ed6d2824",
   "metadata": {
    "scrolled": true
   },
   "outputs": [
    {
     "name": "stdout",
     "output_type": "stream",
     "text": [
      "<class 'pandas.core.frame.DataFrame'>\n",
      "Int64Index: 11568 entries, 6500 to 18067\n",
      "Data columns (total 12 columns):\n",
      " #   Column             Non-Null Count  Dtype         \n",
      "---  ------             --------------  -----         \n",
      " 0   user_id            11568 non-null  int64         \n",
      " 1   name               11568 non-null  object        \n",
      " 2   age                11568 non-null  int64         \n",
      " 3   city               11568 non-null  object        \n",
      " 4   subscription_type  11568 non-null  object        \n",
      " 5   distance           11568 non-null  float64       \n",
      " 6   duration           11568 non-null  float64       \n",
      " 7   date               11568 non-null  datetime64[ns]\n",
      " 8   month              11568 non-null  int64         \n",
      " 9   minute_price       11568 non-null  int64         \n",
      " 10  start_ride_price   11568 non-null  int64         \n",
      " 11  subscription_fee   11568 non-null  int64         \n",
      "dtypes: datetime64[ns](1), float64(2), int64(6), object(3)\n",
      "memory usage: 1.1+ MB\n"
     ]
    }
   ],
   "source": [
    "free_data1.info()"
   ]
  },
  {
   "cell_type": "code",
   "execution_count": 35,
   "id": "cb82cab8",
   "metadata": {},
   "outputs": [
    {
     "data": {
      "text/plain": [
       "user_id              0\n",
       "name                 0\n",
       "age                  0\n",
       "city                 0\n",
       "subscription_type    0\n",
       "distance             0\n",
       "duration             0\n",
       "date                 0\n",
       "month                0\n",
       "minute_price         0\n",
       "start_ride_price     0\n",
       "subscription_fee     0\n",
       "dtype: int64"
      ]
     },
     "execution_count": 35,
     "metadata": {},
     "output_type": "execute_result"
    }
   ],
   "source": [
    "free_data1.isna().sum()"
   ]
  },
  {
   "cell_type": "code",
   "execution_count": 36,
   "id": "2c9326d6",
   "metadata": {
    "scrolled": true
   },
   "outputs": [
    {
     "data": {
      "text/plain": [
       "3114.648464847295"
      ]
     },
     "execution_count": 36,
     "metadata": {},
     "output_type": "execute_result"
    }
   ],
   "source": [
    "free_data1['distance'].median()"
   ]
  },
  {
   "cell_type": "code",
   "execution_count": 37,
   "id": "ac67f7be",
   "metadata": {},
   "outputs": [
    {
     "data": {
      "text/plain": [
       "count    11568.000000\n",
       "mean      3045.495282\n",
       "std       1246.173806\n",
       "min          0.855683\n",
       "25%       2366.562689\n",
       "50%       3114.648465\n",
       "75%       3905.697894\n",
       "max       7211.007745\n",
       "Name: distance, dtype: float64"
      ]
     },
     "execution_count": 37,
     "metadata": {},
     "output_type": "execute_result"
    }
   ],
   "source": [
    "free_data1['distance'].describe()"
   ]
  },
  {
   "cell_type": "code",
   "execution_count": 38,
   "id": "3d61ae78",
   "metadata": {},
   "outputs": [
    {
     "data": {
      "image/png": "[encoded data removed]",
      "text/plain": [
       "<Figure size 432x288 with 1 Axes>"
      ]
     },
     "metadata": {
      "needs_background": "light"
     },
     "output_type": "display_data"
    },
    {
     "data": {
      "text/plain": [
       "<Figure size 1440x1440 with 0 Axes>"
      ]
     },
     "metadata": {},
     "output_type": "display_data"
    }
   ],
   "source": [
    "plt.hist(free_data1['distance'], bins=40, range = (0, 7000))\n",
    "plt.title('Расстояние, тариф без подписки')\n",
    "plt.xlabel('Расстояние, м')\n",
    "plt.ylabel('Количество поездок')\n",
    "plt.figure(figsize=(20,20))\n",
    "plt.show()"
   ]
  },
  {
   "cell_type": "markdown",
   "id": "23b9577b",
   "metadata": {},
   "source": [
    "Пользователи без подписки проезжают до 6,8км, в основном от 2х до 5км. В среднем 3045, медианное значение 3114(разница небольшая), значит распределение нормальное. Длительные поездки, возможно, связаны с тем, что люди  катаются на отдыхе, делают перерыв, потом опять катаются."
   ]
  },
  {
   "cell_type": "code",
   "execution_count": 39,
   "id": "9de09d39",
   "metadata": {},
   "outputs": [
    {
     "data": {
      "text/plain": [
       "17.326890226082043"
      ]
     },
     "execution_count": 39,
     "metadata": {},
     "output_type": "execute_result"
    }
   ],
   "source": [
    "free_data1['duration'].median()"
   ]
  },
  {
   "cell_type": "code",
   "execution_count": 40,
   "id": "9ca5f672",
   "metadata": {},
   "outputs": [
    {
     "data": {
      "text/plain": [
       "count    11568.000000\n",
       "mean        17.390909\n",
       "std          6.326803\n",
       "min          0.500000\n",
       "25%         12.958437\n",
       "50%         17.326890\n",
       "75%         21.594071\n",
       "max         34.948498\n",
       "Name: duration, dtype: float64"
      ]
     },
     "execution_count": 40,
     "metadata": {},
     "output_type": "execute_result"
    }
   ],
   "source": [
    "free_data1['duration'].describe()"
   ]
  },
  {
   "cell_type": "code",
   "execution_count": 41,
   "id": "baf74b1a",
   "metadata": {
    "scrolled": true
   },
   "outputs": [
    {
     "data": {
      "image/png": "[encoded data removed]",
      "text/plain": [
       "<Figure size 432x288 with 1 Axes>"
      ]
     },
     "metadata": {
      "needs_background": "light"
     },
     "output_type": "display_data"
    },
    {
     "data": {
      "text/plain": [
       "<Figure size 1440x1440 with 0 Axes>"
      ]
     },
     "metadata": {},
     "output_type": "display_data"
    }
   ],
   "source": [
    "plt.hist(free_data1['duration'], bins=30, range = (0, 35))\n",
    "plt.title('Время,тариф без подписки')\n",
    "plt.xlabel('Время поездки, мин')\n",
    "plt.ylabel('Количество поездок')\n",
    "plt.figure(figsize=(20,20))\n",
    "plt.show()"
   ]
  },
  {
   "cell_type": "markdown",
   "id": "962238c4",
   "metadata": {},
   "source": [
    "Время, которое используют на тарифе без подписки до 35мин, в основном от 10 до 25  мин. Среднее и медиана почти равны(17.39 и 17.32), значит распределение тоже нормальное."
   ]
  },
  {
   "cell_type": "code",
   "execution_count": 42,
   "id": "88d5ff3e",
   "metadata": {
    "scrolled": true
   },
   "outputs": [
    {
     "data": {
      "text/html": [
       "<div>\n",
       "<style scoped>\n",
       "    .dataframe tbody tr th:only-of-type {\n",
       "        vertical-align: middle;\n",
       "    }\n",
       "\n",
       "    .dataframe tbody tr th {\n",
       "        vertical-align: top;\n",
       "    }\n",
       "\n",
       "    .dataframe thead th {\n",
       "        text-align: right;\n",
       "    }\n",
       "</style>\n",
       "<table border=\"1\" class=\"dataframe\">\n",
       "  <thead>\n",
       "    <tr style=\"text-align: right;\">\n",
       "      <th></th>\n",
       "      <th>user_id</th>\n",
       "      <th>name</th>\n",
       "      <th>age</th>\n",
       "      <th>city</th>\n",
       "      <th>subscription_type</th>\n",
       "      <th>distance</th>\n",
       "      <th>duration</th>\n",
       "      <th>date</th>\n",
       "      <th>month</th>\n",
       "      <th>minute_price</th>\n",
       "      <th>start_ride_price</th>\n",
       "      <th>subscription_fee</th>\n",
       "    </tr>\n",
       "  </thead>\n",
       "  <tbody>\n",
       "    <tr>\n",
       "      <th>0</th>\n",
       "      <td>1</td>\n",
       "      <td>Кира</td>\n",
       "      <td>22</td>\n",
       "      <td>Тюмень</td>\n",
       "      <td>ultra</td>\n",
       "      <td>4409.919140</td>\n",
       "      <td>25.599769</td>\n",
       "      <td>2021-01-01</td>\n",
       "      <td>1</td>\n",
       "      <td>6</td>\n",
       "      <td>0</td>\n",
       "      <td>199</td>\n",
       "    </tr>\n",
       "    <tr>\n",
       "      <th>1</th>\n",
       "      <td>1</td>\n",
       "      <td>Кира</td>\n",
       "      <td>22</td>\n",
       "      <td>Тюмень</td>\n",
       "      <td>ultra</td>\n",
       "      <td>2617.592153</td>\n",
       "      <td>15.816871</td>\n",
       "      <td>2021-01-18</td>\n",
       "      <td>1</td>\n",
       "      <td>6</td>\n",
       "      <td>0</td>\n",
       "      <td>199</td>\n",
       "    </tr>\n",
       "    <tr>\n",
       "      <th>2</th>\n",
       "      <td>1</td>\n",
       "      <td>Кира</td>\n",
       "      <td>22</td>\n",
       "      <td>Тюмень</td>\n",
       "      <td>ultra</td>\n",
       "      <td>754.159807</td>\n",
       "      <td>6.232113</td>\n",
       "      <td>2021-04-20</td>\n",
       "      <td>4</td>\n",
       "      <td>6</td>\n",
       "      <td>0</td>\n",
       "      <td>199</td>\n",
       "    </tr>\n",
       "    <tr>\n",
       "      <th>3</th>\n",
       "      <td>1</td>\n",
       "      <td>Кира</td>\n",
       "      <td>22</td>\n",
       "      <td>Тюмень</td>\n",
       "      <td>ultra</td>\n",
       "      <td>2694.783254</td>\n",
       "      <td>18.511000</td>\n",
       "      <td>2021-08-11</td>\n",
       "      <td>8</td>\n",
       "      <td>6</td>\n",
       "      <td>0</td>\n",
       "      <td>199</td>\n",
       "    </tr>\n",
       "    <tr>\n",
       "      <th>4</th>\n",
       "      <td>1</td>\n",
       "      <td>Кира</td>\n",
       "      <td>22</td>\n",
       "      <td>Тюмень</td>\n",
       "      <td>ultra</td>\n",
       "      <td>4028.687306</td>\n",
       "      <td>26.265803</td>\n",
       "      <td>2021-08-28</td>\n",
       "      <td>8</td>\n",
       "      <td>6</td>\n",
       "      <td>0</td>\n",
       "      <td>199</td>\n",
       "    </tr>\n",
       "  </tbody>\n",
       "</table>\n",
       "</div>"
      ],
      "text/plain": [
       "   user_id  name  age    city subscription_type     distance   duration  \\\n",
       "0        1  Кира   22  Тюмень             ultra  4409.919140  25.599769   \n",
       "1        1  Кира   22  Тюмень             ultra  2617.592153  15.816871   \n",
       "2        1  Кира   22  Тюмень             ultra   754.159807   6.232113   \n",
       "3        1  Кира   22  Тюмень             ultra  2694.783254  18.511000   \n",
       "4        1  Кира   22  Тюмень             ultra  4028.687306  26.265803   \n",
       "\n",
       "        date  month  minute_price  start_ride_price  subscription_fee  \n",
       "0 2021-01-01      1             6                 0               199  \n",
       "1 2021-01-18      1             6                 0               199  \n",
       "2 2021-04-20      4             6                 0               199  \n",
       "3 2021-08-11      8             6                 0               199  \n",
       "4 2021-08-28      8             6                 0               199  "
      ]
     },
     "execution_count": 42,
     "metadata": {},
     "output_type": "execute_result"
    }
   ],
   "source": [
    "ultra_data1 = data1.query(\"`subscription_type` == 'ultra'\")\n",
    "ultra_data1.head()"
   ]
  },
  {
   "cell_type": "code",
   "execution_count": 43,
   "id": "ee59b7ca",
   "metadata": {},
   "outputs": [
    {
     "name": "stdout",
     "output_type": "stream",
     "text": [
      "<class 'pandas.core.frame.DataFrame'>\n",
      "Int64Index: 6500 entries, 0 to 6499\n",
      "Data columns (total 12 columns):\n",
      " #   Column             Non-Null Count  Dtype         \n",
      "---  ------             --------------  -----         \n",
      " 0   user_id            6500 non-null   int64         \n",
      " 1   name               6500 non-null   object        \n",
      " 2   age                6500 non-null   int64         \n",
      " 3   city               6500 non-null   object        \n",
      " 4   subscription_type  6500 non-null   object        \n",
      " 5   distance           6500 non-null   float64       \n",
      " 6   duration           6500 non-null   float64       \n",
      " 7   date               6500 non-null   datetime64[ns]\n",
      " 8   month              6500 non-null   int64         \n",
      " 9   minute_price       6500 non-null   int64         \n",
      " 10  start_ride_price   6500 non-null   int64         \n",
      " 11  subscription_fee   6500 non-null   int64         \n",
      "dtypes: datetime64[ns](1), float64(2), int64(6), object(3)\n",
      "memory usage: 660.2+ KB\n"
     ]
    }
   ],
   "source": [
    "ultra_data1.info()"
   ]
  },
  {
   "cell_type": "code",
   "execution_count": 44,
   "id": "2a42196a",
   "metadata": {},
   "outputs": [
    {
     "data": {
      "text/plain": [
       "user_id              0\n",
       "name                 0\n",
       "age                  0\n",
       "city                 0\n",
       "subscription_type    0\n",
       "distance             0\n",
       "duration             0\n",
       "date                 0\n",
       "month                0\n",
       "minute_price         0\n",
       "start_ride_price     0\n",
       "subscription_fee     0\n",
       "dtype: int64"
      ]
     },
     "execution_count": 44,
     "metadata": {},
     "output_type": "execute_result"
    }
   ],
   "source": [
    "ultra_data1.isna().sum()"
   ]
  },
  {
   "cell_type": "code",
   "execution_count": 45,
   "id": "d1b6be06",
   "metadata": {
    "scrolled": true
   },
   "outputs": [
    {
     "data": {
      "text/plain": [
       "3148.6372291760854"
      ]
     },
     "execution_count": 45,
     "metadata": {},
     "output_type": "execute_result"
    }
   ],
   "source": [
    "ultra_data1['distance'].median()"
   ]
  },
  {
   "cell_type": "code",
   "execution_count": 46,
   "id": "9c4ed020",
   "metadata": {},
   "outputs": [
    {
     "data": {
      "text/plain": [
       "count    6500.000000\n",
       "mean     3115.445388\n",
       "std       836.895330\n",
       "min       244.210438\n",
       "25%      2785.444017\n",
       "50%      3148.637229\n",
       "75%      3560.574425\n",
       "max      5699.769662\n",
       "Name: distance, dtype: float64"
      ]
     },
     "execution_count": 46,
     "metadata": {},
     "output_type": "execute_result"
    }
   ],
   "source": [
    "ultra_data1['distance'].describe()"
   ]
  },
  {
   "cell_type": "code",
   "execution_count": 47,
   "id": "32176d62",
   "metadata": {
    "scrolled": true
   },
   "outputs": [
    {
     "data": {
      "image/png": "[encoded data removed]",
      "text/plain": [
       "<Figure size 432x288 with 1 Axes>"
      ]
     },
     "metadata": {
      "needs_background": "light"
     },
     "output_type": "display_data"
    },
    {
     "data": {
      "text/plain": [
       "<Figure size 1440x1440 with 0 Axes>"
      ]
     },
     "metadata": {},
     "output_type": "display_data"
    }
   ],
   "source": [
    "plt.hist(ultra_data1['distance'], bins=40, range = (0, 7000))\n",
    "plt.title('Расстояние,тариф Ультра')\n",
    "plt.xlabel('Расстояние, м')\n",
    "plt.ylabel('Количество поездок')\n",
    "plt.figure(figsize=(20,20))\n",
    "plt.show()"
   ]
  },
  {
   "cell_type": "markdown",
   "id": "fe79dc18",
   "metadata": {},
   "source": [
    "Расстояние абонентов тарифа Ультра до 5 км, в основном от 2,5км до 4км. В среднем 3115м"
   ]
  },
  {
   "cell_type": "code",
   "execution_count": 48,
   "id": "9bf4a877",
   "metadata": {
    "scrolled": true
   },
   "outputs": [
    {
     "data": {
      "text/plain": [
       "18.17815320055055"
      ]
     },
     "execution_count": 48,
     "metadata": {},
     "output_type": "execute_result"
    }
   ],
   "source": [
    "ultra_data1['duration'].median()"
   ]
  },
  {
   "cell_type": "code",
   "execution_count": 49,
   "id": "1facc130",
   "metadata": {},
   "outputs": [
    {
     "data": {
      "text/plain": [
       "count    6500.000000\n",
       "mean       18.541985\n",
       "std         5.572048\n",
       "min         3.760353\n",
       "25%        14.524654\n",
       "50%        18.178153\n",
       "75%        21.884129\n",
       "max        40.823963\n",
       "Name: duration, dtype: float64"
      ]
     },
     "execution_count": 49,
     "metadata": {},
     "output_type": "execute_result"
    }
   ],
   "source": [
    "ultra_data1['duration'].describe()"
   ]
  },
  {
   "cell_type": "code",
   "execution_count": 50,
   "id": "72b89d3d",
   "metadata": {
    "scrolled": true
   },
   "outputs": [
    {
     "data": {
      "image/png": "[encoded data removed]",
      "text/plain": [
       "<Figure size 432x288 with 1 Axes>"
      ]
     },
     "metadata": {
      "needs_background": "light"
     },
     "output_type": "display_data"
    },
    {
     "data": {
      "text/plain": [
       "<Figure size 648x360 with 0 Axes>"
      ]
     },
     "metadata": {},
     "output_type": "display_data"
    }
   ],
   "source": [
    "plt.hist(ultra_data1['duration'], bins=50, range = (0, 50))\n",
    "plt.title('Время,тариф Ультра')\n",
    "plt.xlabel('Время поездки, мин')\n",
    "plt.ylabel('Количество поездок')\n",
    "plt.figure(figsize=(9,5))\n",
    "plt.show()"
   ]
  },
  {
   "cell_type": "markdown",
   "id": "a91c9f3b",
   "metadata": {},
   "source": [
    "Время, используемое подписчиками тарифа Ультра, до 35 мин, в основном от 12 до 25 мин. В среднем 18.54мин"
   ]
  },
  {
   "cell_type": "markdown",
   "id": "ca0487b3",
   "metadata": {},
   "source": [
    "**Вывод** \n",
    "Медианное расстояние больше у пользователей тарифа Ультра больше на 34 метра(3114м и 3148м), разброс большинства значений по расстоянию больше у тарифа без подписки(от 2-4.5км, у тарифа Ультра от 2.5-4км). Медианное потраченное время больше у подписчиков на тарифе Ультра(8мин), чем без подписки(7мин). В основном в тарифе ультра количество потраченных минут 12-25, у тарифа без подписки от 10-25мин. Можно сделать вывод, что с клиенты с подпиской тратят больше времени на поездку и расстояние у них больше."
   ]
  },
  {
   "cell_type": "markdown",
   "id": "402d620f",
   "metadata": {},
   "source": [
    "#### Шаг 5. Подсчёт выручки"
   ]
  },
  {
   "cell_type": "code",
   "execution_count": 51,
   "id": "87015417",
   "metadata": {
    "scrolled": true
   },
   "outputs": [
    {
     "data": {
      "text/plain": [
       "0    26.0\n",
       "1    16.0\n",
       "2     7.0\n",
       "3    19.0\n",
       "4    27.0\n",
       "Name: duration, dtype: float64"
      ]
     },
     "execution_count": 51,
     "metadata": {},
     "output_type": "execute_result"
    }
   ],
   "source": [
    "data1['duration'] = np.ceil(data_rides['duration']) \n",
    "data1['duration'].head()"
   ]
  },
  {
   "cell_type": "markdown",
   "id": "3544d282",
   "metadata": {},
   "source": [
    "Округлила минуты в большую сторону"
   ]
  },
  {
   "cell_type": "code",
   "execution_count": 52,
   "id": "53049e0a",
   "metadata": {},
   "outputs": [
    {
     "data": {
      "text/html": [
       "<div>\n",
       "<style scoped>\n",
       "    .dataframe tbody tr th:only-of-type {\n",
       "        vertical-align: middle;\n",
       "    }\n",
       "\n",
       "    .dataframe tbody tr th {\n",
       "        vertical-align: top;\n",
       "    }\n",
       "\n",
       "    .dataframe thead th {\n",
       "        text-align: right;\n",
       "    }\n",
       "</style>\n",
       "<table border=\"1\" class=\"dataframe\">\n",
       "  <thead>\n",
       "    <tr style=\"text-align: right;\">\n",
       "      <th></th>\n",
       "      <th></th>\n",
       "      <th>distance</th>\n",
       "      <th>duration</th>\n",
       "      <th>minute_price</th>\n",
       "      <th>count_trip</th>\n",
       "      <th>start_ride_price</th>\n",
       "      <th>subscription_fee</th>\n",
       "      <th>subscription_type</th>\n",
       "    </tr>\n",
       "    <tr>\n",
       "      <th>month</th>\n",
       "      <th>user_id</th>\n",
       "      <th></th>\n",
       "      <th></th>\n",
       "      <th></th>\n",
       "      <th></th>\n",
       "      <th></th>\n",
       "      <th></th>\n",
       "      <th></th>\n",
       "    </tr>\n",
       "  </thead>\n",
       "  <tbody>\n",
       "    <tr>\n",
       "      <th rowspan=\"10\" valign=\"top\">1</th>\n",
       "      <th>1</th>\n",
       "      <td>7027.511294</td>\n",
       "      <td>42.0</td>\n",
       "      <td>6</td>\n",
       "      <td>2</td>\n",
       "      <td>0</td>\n",
       "      <td>199</td>\n",
       "      <td>ultra</td>\n",
       "    </tr>\n",
       "    <tr>\n",
       "      <th>1061</th>\n",
       "      <td>12637.249630</td>\n",
       "      <td>43.0</td>\n",
       "      <td>8</td>\n",
       "      <td>3</td>\n",
       "      <td>50</td>\n",
       "      <td>0</td>\n",
       "      <td>free</td>\n",
       "    </tr>\n",
       "    <tr>\n",
       "      <th>1063</th>\n",
       "      <td>3276.362299</td>\n",
       "      <td>10.0</td>\n",
       "      <td>8</td>\n",
       "      <td>1</td>\n",
       "      <td>50</td>\n",
       "      <td>0</td>\n",
       "      <td>free</td>\n",
       "    </tr>\n",
       "    <tr>\n",
       "      <th>1064</th>\n",
       "      <td>5297.324649</td>\n",
       "      <td>15.0</td>\n",
       "      <td>8</td>\n",
       "      <td>1</td>\n",
       "      <td>50</td>\n",
       "      <td>0</td>\n",
       "      <td>free</td>\n",
       "    </tr>\n",
       "    <tr>\n",
       "      <th>1065</th>\n",
       "      <td>14547.099333</td>\n",
       "      <td>99.0</td>\n",
       "      <td>8</td>\n",
       "      <td>4</td>\n",
       "      <td>50</td>\n",
       "      <td>0</td>\n",
       "      <td>free</td>\n",
       "    </tr>\n",
       "    <tr>\n",
       "      <th>1066</th>\n",
       "      <td>2809.064949</td>\n",
       "      <td>19.0</td>\n",
       "      <td>8</td>\n",
       "      <td>1</td>\n",
       "      <td>50</td>\n",
       "      <td>0</td>\n",
       "      <td>free</td>\n",
       "    </tr>\n",
       "    <tr>\n",
       "      <th>1067</th>\n",
       "      <td>3864.900780</td>\n",
       "      <td>22.0</td>\n",
       "      <td>8</td>\n",
       "      <td>1</td>\n",
       "      <td>50</td>\n",
       "      <td>0</td>\n",
       "      <td>free</td>\n",
       "    </tr>\n",
       "    <tr>\n",
       "      <th>1069</th>\n",
       "      <td>7007.076943</td>\n",
       "      <td>53.0</td>\n",
       "      <td>8</td>\n",
       "      <td>3</td>\n",
       "      <td>50</td>\n",
       "      <td>0</td>\n",
       "      <td>free</td>\n",
       "    </tr>\n",
       "    <tr>\n",
       "      <th>1071</th>\n",
       "      <td>3635.094136</td>\n",
       "      <td>15.0</td>\n",
       "      <td>8</td>\n",
       "      <td>1</td>\n",
       "      <td>50</td>\n",
       "      <td>0</td>\n",
       "      <td>free</td>\n",
       "    </tr>\n",
       "    <tr>\n",
       "      <th>1072</th>\n",
       "      <td>2498.615999</td>\n",
       "      <td>11.0</td>\n",
       "      <td>8</td>\n",
       "      <td>1</td>\n",
       "      <td>50</td>\n",
       "      <td>0</td>\n",
       "      <td>free</td>\n",
       "    </tr>\n",
       "  </tbody>\n",
       "</table>\n",
       "</div>"
      ],
      "text/plain": [
       "                   distance  duration  minute_price  count_trip  \\\n",
       "month user_id                                                     \n",
       "1     1         7027.511294      42.0             6           2   \n",
       "      1061     12637.249630      43.0             8           3   \n",
       "      1063      3276.362299      10.0             8           1   \n",
       "      1064      5297.324649      15.0             8           1   \n",
       "      1065     14547.099333      99.0             8           4   \n",
       "      1066      2809.064949      19.0             8           1   \n",
       "      1067      3864.900780      22.0             8           1   \n",
       "      1069      7007.076943      53.0             8           3   \n",
       "      1071      3635.094136      15.0             8           1   \n",
       "      1072      2498.615999      11.0             8           1   \n",
       "\n",
       "               start_ride_price  subscription_fee subscription_type  \n",
       "month user_id                                                        \n",
       "1     1                       0               199             ultra  \n",
       "      1061                   50                 0              free  \n",
       "      1063                   50                 0              free  \n",
       "      1064                   50                 0              free  \n",
       "      1065                   50                 0              free  \n",
       "      1066                   50                 0              free  \n",
       "      1067                   50                 0              free  \n",
       "      1069                   50                 0              free  \n",
       "      1071                   50                 0              free  \n",
       "      1072                   50                 0              free  "
      ]
     },
     "execution_count": 52,
     "metadata": {},
     "output_type": "execute_result"
    }
   ],
   "source": [
    "total = pd.pivot_table(data1,\n",
    "                           index=['month', 'user_id'],\n",
    "                           values = ['distance', 'duration','start_ride_price', 'minute_price', 'name','subscription_fee', 'subscription_type'],\n",
    "                           aggfunc = {'distance': sum, \n",
    "                                      'duration' : sum,\n",
    "                                      'start_ride_price':sum, \n",
    "                                      'subscription_fee':min,\n",
    "                                      'minute_price':min,\n",
    "                                      'start_ride_price':min,\n",
    "                                      'name' : len, \n",
    "                                      'subscription_type' : min})\n",
    "total.rename(columns = {'name' : 'count_trip'}, inplace = True)\n",
    "total['duration'] = np.ceil(total['duration'])\n",
    "total.sort_values(by='month').head(10)"
   ]
  },
  {
   "cell_type": "code",
   "execution_count": 53,
   "id": "08add7d3",
   "metadata": {
    "scrolled": true
   },
   "outputs": [
    {
     "data": {
      "text/html": [
       "<div>\n",
       "<style scoped>\n",
       "    .dataframe tbody tr th:only-of-type {\n",
       "        vertical-align: middle;\n",
       "    }\n",
       "\n",
       "    .dataframe tbody tr th {\n",
       "        vertical-align: top;\n",
       "    }\n",
       "\n",
       "    .dataframe thead th {\n",
       "        text-align: right;\n",
       "    }\n",
       "</style>\n",
       "<table border=\"1\" class=\"dataframe\">\n",
       "  <thead>\n",
       "    <tr style=\"text-align: right;\">\n",
       "      <th></th>\n",
       "      <th></th>\n",
       "      <th>distance</th>\n",
       "      <th>duration</th>\n",
       "      <th>minute_price</th>\n",
       "      <th>count_trip</th>\n",
       "      <th>start_ride_price</th>\n",
       "      <th>subscription_fee</th>\n",
       "      <th>subscription_type</th>\n",
       "    </tr>\n",
       "    <tr>\n",
       "      <th>month</th>\n",
       "      <th>user_id</th>\n",
       "      <th></th>\n",
       "      <th></th>\n",
       "      <th></th>\n",
       "      <th></th>\n",
       "      <th></th>\n",
       "      <th></th>\n",
       "      <th></th>\n",
       "    </tr>\n",
       "  </thead>\n",
       "  <tbody>\n",
       "    <tr>\n",
       "      <th>1</th>\n",
       "      <th>5</th>\n",
       "      <td>3914.646990</td>\n",
       "      <td>13.0</td>\n",
       "      <td>6</td>\n",
       "      <td>1</td>\n",
       "      <td>0</td>\n",
       "      <td>199</td>\n",
       "      <td>ultra</td>\n",
       "    </tr>\n",
       "    <tr>\n",
       "      <th>2</th>\n",
       "      <th>5</th>\n",
       "      <td>2561.108241</td>\n",
       "      <td>12.0</td>\n",
       "      <td>6</td>\n",
       "      <td>1</td>\n",
       "      <td>0</td>\n",
       "      <td>199</td>\n",
       "      <td>ultra</td>\n",
       "    </tr>\n",
       "    <tr>\n",
       "      <th>3</th>\n",
       "      <th>5</th>\n",
       "      <td>10633.732186</td>\n",
       "      <td>57.0</td>\n",
       "      <td>6</td>\n",
       "      <td>3</td>\n",
       "      <td>0</td>\n",
       "      <td>199</td>\n",
       "      <td>ultra</td>\n",
       "    </tr>\n",
       "    <tr>\n",
       "      <th>4</th>\n",
       "      <th>5</th>\n",
       "      <td>3373.080412</td>\n",
       "      <td>15.0</td>\n",
       "      <td>6</td>\n",
       "      <td>1</td>\n",
       "      <td>0</td>\n",
       "      <td>199</td>\n",
       "      <td>ultra</td>\n",
       "    </tr>\n",
       "    <tr>\n",
       "      <th>5</th>\n",
       "      <th>5</th>\n",
       "      <td>5823.074031</td>\n",
       "      <td>33.0</td>\n",
       "      <td>6</td>\n",
       "      <td>2</td>\n",
       "      <td>0</td>\n",
       "      <td>199</td>\n",
       "      <td>ultra</td>\n",
       "    </tr>\n",
       "    <tr>\n",
       "      <th>7</th>\n",
       "      <th>5</th>\n",
       "      <td>3311.974724</td>\n",
       "      <td>12.0</td>\n",
       "      <td>6</td>\n",
       "      <td>1</td>\n",
       "      <td>0</td>\n",
       "      <td>199</td>\n",
       "      <td>ultra</td>\n",
       "    </tr>\n",
       "    <tr>\n",
       "      <th>8</th>\n",
       "      <th>5</th>\n",
       "      <td>2720.817111</td>\n",
       "      <td>18.0</td>\n",
       "      <td>6</td>\n",
       "      <td>1</td>\n",
       "      <td>0</td>\n",
       "      <td>199</td>\n",
       "      <td>ultra</td>\n",
       "    </tr>\n",
       "    <tr>\n",
       "      <th>10</th>\n",
       "      <th>5</th>\n",
       "      <td>3218.515955</td>\n",
       "      <td>20.0</td>\n",
       "      <td>6</td>\n",
       "      <td>1</td>\n",
       "      <td>0</td>\n",
       "      <td>199</td>\n",
       "      <td>ultra</td>\n",
       "    </tr>\n",
       "  </tbody>\n",
       "</table>\n",
       "</div>"
      ],
      "text/plain": [
       "                   distance  duration  minute_price  count_trip  \\\n",
       "month user_id                                                     \n",
       "1     5         3914.646990      13.0             6           1   \n",
       "2     5         2561.108241      12.0             6           1   \n",
       "3     5        10633.732186      57.0             6           3   \n",
       "4     5         3373.080412      15.0             6           1   \n",
       "5     5         5823.074031      33.0             6           2   \n",
       "7     5         3311.974724      12.0             6           1   \n",
       "8     5         2720.817111      18.0             6           1   \n",
       "10    5         3218.515955      20.0             6           1   \n",
       "\n",
       "               start_ride_price  subscription_fee subscription_type  \n",
       "month user_id                                                        \n",
       "1     5                       0               199             ultra  \n",
       "2     5                       0               199             ultra  \n",
       "3     5                       0               199             ultra  \n",
       "4     5                       0               199             ultra  \n",
       "5     5                       0               199             ultra  \n",
       "7     5                       0               199             ultra  \n",
       "8     5                       0               199             ultra  \n",
       "10    5                       0               199             ultra  "
      ]
     },
     "execution_count": 53,
     "metadata": {},
     "output_type": "execute_result"
    }
   ],
   "source": [
    "total.query('user_id == 5')"
   ]
  },
  {
   "cell_type": "code",
   "execution_count": 54,
   "id": "3a6481bf",
   "metadata": {},
   "outputs": [
    {
     "data": {
      "text/plain": [
       "distance             0\n",
       "duration             0\n",
       "minute_price         0\n",
       "count_trip           0\n",
       "start_ride_price     0\n",
       "subscription_fee     0\n",
       "subscription_type    0\n",
       "dtype: int64"
      ]
     },
     "execution_count": 54,
     "metadata": {},
     "output_type": "execute_result"
    }
   ],
   "source": [
    "total.isna().sum()"
   ]
  },
  {
   "cell_type": "code",
   "execution_count": 55,
   "id": "68159477",
   "metadata": {
    "scrolled": true
   },
   "outputs": [
    {
     "data": {
      "text/plain": [
       "month  user_id\n",
       "1      1          451.0\n",
       "       3          277.0\n",
       "       5          277.0\n",
       "       7          367.0\n",
       "       12         397.0\n",
       "       13         451.0\n",
       "       14         409.0\n",
       "       15         433.0\n",
       "       20         373.0\n",
       "       22         277.0\n",
       "Name: income_per_month, dtype: float64"
      ]
     },
     "execution_count": 55,
     "metadata": {},
     "output_type": "execute_result"
    }
   ],
   "source": [
    "#def income(row):\n",
    "  #  if row['subscription_type'] == 'ultra':\n",
    "  #      return 6 * row['duration'] + 199\n",
    "  ##      return 8 * row['duration'] + 50 * row['count_trip']\n",
    "#total['income_per_month'] = total.apply(income, axis=1)\n",
    "#total['income_per_month'].head(10)\n",
    "total['income_per_month']= (total['start_ride_price']*total['count_trip'])+(total['minute_price']*total['duration'])+total['subscription_fee']\n",
    "total['income_per_month'].head(10)"
   ]
  },
  {
   "cell_type": "code",
   "execution_count": 56,
   "id": "5bdabec6",
   "metadata": {
    "scrolled": true
   },
   "outputs": [
    {
     "data": {
      "text/html": [
       "<div>\n",
       "<style scoped>\n",
       "    .dataframe tbody tr th:only-of-type {\n",
       "        vertical-align: middle;\n",
       "    }\n",
       "\n",
       "    .dataframe tbody tr th {\n",
       "        vertical-align: top;\n",
       "    }\n",
       "\n",
       "    .dataframe thead th {\n",
       "        text-align: right;\n",
       "    }\n",
       "</style>\n",
       "<table border=\"1\" class=\"dataframe\">\n",
       "  <thead>\n",
       "    <tr style=\"text-align: right;\">\n",
       "      <th></th>\n",
       "      <th></th>\n",
       "      <th>distance</th>\n",
       "      <th>duration</th>\n",
       "      <th>minute_price</th>\n",
       "      <th>count_trip</th>\n",
       "      <th>start_ride_price</th>\n",
       "      <th>subscription_fee</th>\n",
       "      <th>subscription_type</th>\n",
       "      <th>income_per_month</th>\n",
       "    </tr>\n",
       "    <tr>\n",
       "      <th>month</th>\n",
       "      <th>user_id</th>\n",
       "      <th></th>\n",
       "      <th></th>\n",
       "      <th></th>\n",
       "      <th></th>\n",
       "      <th></th>\n",
       "      <th></th>\n",
       "      <th></th>\n",
       "      <th></th>\n",
       "    </tr>\n",
       "  </thead>\n",
       "  <tbody>\n",
       "    <tr>\n",
       "      <th>1</th>\n",
       "      <th>51</th>\n",
       "      <td>7285.366019</td>\n",
       "      <td>55.0</td>\n",
       "      <td>6</td>\n",
       "      <td>2</td>\n",
       "      <td>0</td>\n",
       "      <td>199</td>\n",
       "      <td>ultra</td>\n",
       "      <td>529.0</td>\n",
       "    </tr>\n",
       "    <tr>\n",
       "      <th>2</th>\n",
       "      <th>51</th>\n",
       "      <td>2960.759182</td>\n",
       "      <td>31.0</td>\n",
       "      <td>6</td>\n",
       "      <td>1</td>\n",
       "      <td>0</td>\n",
       "      <td>199</td>\n",
       "      <td>ultra</td>\n",
       "      <td>385.0</td>\n",
       "    </tr>\n",
       "    <tr>\n",
       "      <th>4</th>\n",
       "      <th>51</th>\n",
       "      <td>6055.645485</td>\n",
       "      <td>43.0</td>\n",
       "      <td>6</td>\n",
       "      <td>2</td>\n",
       "      <td>0</td>\n",
       "      <td>199</td>\n",
       "      <td>ultra</td>\n",
       "      <td>457.0</td>\n",
       "    </tr>\n",
       "    <tr>\n",
       "      <th>6</th>\n",
       "      <th>51</th>\n",
       "      <td>6569.357344</td>\n",
       "      <td>31.0</td>\n",
       "      <td>6</td>\n",
       "      <td>2</td>\n",
       "      <td>0</td>\n",
       "      <td>199</td>\n",
       "      <td>ultra</td>\n",
       "      <td>385.0</td>\n",
       "    </tr>\n",
       "    <tr>\n",
       "      <th>7</th>\n",
       "      <th>51</th>\n",
       "      <td>2539.243697</td>\n",
       "      <td>20.0</td>\n",
       "      <td>6</td>\n",
       "      <td>1</td>\n",
       "      <td>0</td>\n",
       "      <td>199</td>\n",
       "      <td>ultra</td>\n",
       "      <td>319.0</td>\n",
       "    </tr>\n",
       "    <tr>\n",
       "      <th>11</th>\n",
       "      <th>51</th>\n",
       "      <td>3825.988269</td>\n",
       "      <td>23.0</td>\n",
       "      <td>6</td>\n",
       "      <td>1</td>\n",
       "      <td>0</td>\n",
       "      <td>199</td>\n",
       "      <td>ultra</td>\n",
       "      <td>337.0</td>\n",
       "    </tr>\n",
       "  </tbody>\n",
       "</table>\n",
       "</div>"
      ],
      "text/plain": [
       "                  distance  duration  minute_price  count_trip  \\\n",
       "month user_id                                                    \n",
       "1     51       7285.366019      55.0             6           2   \n",
       "2     51       2960.759182      31.0             6           1   \n",
       "4     51       6055.645485      43.0             6           2   \n",
       "6     51       6569.357344      31.0             6           2   \n",
       "7     51       2539.243697      20.0             6           1   \n",
       "11    51       3825.988269      23.0             6           1   \n",
       "\n",
       "               start_ride_price  subscription_fee subscription_type  \\\n",
       "month user_id                                                         \n",
       "1     51                      0               199             ultra   \n",
       "2     51                      0               199             ultra   \n",
       "4     51                      0               199             ultra   \n",
       "6     51                      0               199             ultra   \n",
       "7     51                      0               199             ultra   \n",
       "11    51                      0               199             ultra   \n",
       "\n",
       "               income_per_month  \n",
       "month user_id                    \n",
       "1     51                  529.0  \n",
       "2     51                  385.0  \n",
       "4     51                  457.0  \n",
       "6     51                  385.0  \n",
       "7     51                  319.0  \n",
       "11    51                  337.0  "
      ]
     },
     "execution_count": 56,
     "metadata": {},
     "output_type": "execute_result"
    }
   ],
   "source": [
    "total.query('user_id == 51')"
   ]
  },
  {
   "cell_type": "markdown",
   "id": "0c3f82d7",
   "metadata": {},
   "source": [
    "**Вывод** \n",
    "Создали датафрейм с агрегированными данными о поездках и нашли суммарное расстояние, количество поездок и суммарное время для каждого пользователя за каждый месяц. Добавили столбец с помесячной выручкой, которую принёс каждый пользователь."
   ]
  },
  {
   "cell_type": "code",
   "execution_count": 57,
   "id": "a7fbd40c",
   "metadata": {
    "scrolled": true
   },
   "outputs": [
    {
     "data": {
      "text/plain": [
       "3878641.0"
      ]
     },
     "execution_count": 57,
     "metadata": {},
     "output_type": "execute_result"
    }
   ],
   "source": [
    "total['income_per_month'].sum()"
   ]
  },
  {
   "cell_type": "code",
   "execution_count": 58,
   "id": "57156524",
   "metadata": {},
   "outputs": [
    {
     "name": "stdout",
     "output_type": "stream",
     "text": [
      "Медианная выручка на тарифе Ультра 337.0\n",
      "Медианная выручка на тарифе Free 274.0\n"
     ]
    }
   ],
   "source": [
    "total1=total.query(\"`subscription_type` == 'ultra'\")\n",
    "total2=total.query(\"`subscription_type` == 'free'\")\n",
    "print('Медианная выручка на тарифе Ультра', total1['income_per_month'].median())\n",
    "print('Медианная выручка на тарифе Free', total2['income_per_month'].median())"
   ]
  },
  {
   "cell_type": "markdown",
   "id": "ccffd32b",
   "metadata": {},
   "source": [
    " Медианное значение выручки за месяц больше у клиентов с подпиской."
   ]
  },
  {
   "cell_type": "markdown",
   "id": "41545ac0",
   "metadata": {},
   "source": [
    "#### Шаг 6. Проверка гипотез"
   ]
  },
  {
   "cell_type": "markdown",
   "id": "ffc09763",
   "metadata": {},
   "source": [
    "Нулевая гипотеза- продолжительность поездок с подпиской ‘ultra’ и ‘free’ равна.\n",
    "Правостороняя гипотеза- продолжительность поездок с подпиской ‘ultra’ больше, чем без подписки."
   ]
  },
  {
   "cell_type": "code",
   "execution_count": 59,
   "id": "23ea867b",
   "metadata": {},
   "outputs": [
    {
     "name": "stdout",
     "output_type": "stream",
     "text": [
      "1.2804098316645618e-34\n",
      "Отвергаем нулевую гипотезу\n"
     ]
    }
   ],
   "source": [
    "ultra = ultra_data1['duration'] \n",
    "\n",
    "free = free_data1['duration']\n",
    "\n",
    "results = st.ttest_ind(ultra, \n",
    "                       free,\n",
    "                       alternative = 'greater')\n",
    "\n",
    "alpha =0.05\n",
    "\n",
    "print(results.pvalue)\n",
    "if results.pvalue < 0.05:\n",
    "    print('Отвергаем нулевую гипотезу')\n",
    "else:\n",
    "    print('Не получилось отвергнуть нулевую гипотезу')"
   ]
  },
  {
   "cell_type": "code",
   "execution_count": 60,
   "id": "c27ba768",
   "metadata": {},
   "outputs": [
    {
     "name": "stdout",
     "output_type": "stream",
     "text": [
      "p-значение: 0.1912450522572209\n",
      "Не получилось отвергнуть нулевую гипотезу\n"
     ]
    }
   ],
   "source": [
    "# Приведены два датасета: сумма покупок, совершённых за месяц посетителями ...\n",
    "\n",
    "sample_1 = [3071, 3636, 3454, 3151, 2185, 3259, 1727, 2263, 2015,\n",
    "2582, 4815, 633, 3186, 887, 2028, 3589, 2564, 1422, 1785,\n",
    "3180, 1770, 2716, 2546, 1848, 4644, 3134, 475, 2686,\n",
    "1838, 3352]\n",
    "sample_2 = [1211, 1228, 2157, 3699, 600, 1898, 1688, 1420, 5048, 3007,\n",
    "509, 3777, 5583, 3949, 121, 1674, 4300, 1338, 3066,\n",
    "3562, 1010, 2311, 462, 863, 2021, 528, 1849, 255,\n",
    "1740, 2596]\n",
    "alpha = .05 # критический уровень статистической значимости\n",
    "# если p-value окажется меньше него - отвергнем гипотезу\n",
    "results = st.ttest_ind(\n",
    "sample_1,\n",
    "sample_2)\n",
    "print('p-значение:', results.pvalue)\n",
    "if (results.pvalue < alpha):\n",
    "    print(\"Отвергаем нулевую гипотезу\")\n",
    "else:\n",
    "    print(\"Не получилось отвергнуть нулевую гипотезу\")"
   ]
  },
  {
   "cell_type": "markdown",
   "id": "7ab93179",
   "metadata": {},
   "source": [
    " Нулевая гипотеза отвергнута, значит клиенты с подпиской больше времени используют, клиенты с подпиской выгоднее бизнесу, т.к. они платят абонентскую плату каждый месяц. Плюс если они платят абонентскую плату, значит они чаще пользуются услугами, чтобы \"отбить\" разницу в стоимсоти минут."
   ]
  },
  {
   "cell_type": "markdown",
   "id": "0d2fb1b6",
   "metadata": {},
   "source": [
    "Нулевая гипотеза - среднее расстояние, которое проезжают пользователи с подпиской за одну поездку равна 3130 метров\n",
    "Правосторонняя гипотеза - среднее расстояние, которое проезжают пользователи с подпиской за одну поездку больше 3130 метров"
   ]
  },
  {
   "cell_type": "code",
   "execution_count": 61,
   "id": "72db99ae",
   "metadata": {
    "scrolled": true
   },
   "outputs": [
    {
     "name": "stdout",
     "output_type": "stream",
     "text": [
      "0.9195368847849785\n",
      "Не удалось отвергнуть нулевую гипотезу\n"
     ]
    }
   ],
   "source": [
    "ultra_dist = ultra_data1['distance']\n",
    "\n",
    "optimal_value = 3130.0\n",
    "\n",
    "alpha =0.05\n",
    "\n",
    "results = st.ttest_1samp(\n",
    "    ultra_dist, \n",
    "    optimal_value,\n",
    "    alternative='greater')\n",
    "    \n",
    "print(results.pvalue)\n",
    "\n",
    "if (results.pvalue < alpha):\n",
    "    print('Отвергаем нулевую гипотезу')\n",
    "else:\n",
    "    print('Не удалось отвергнуть нулевую гипотезу')"
   ]
  },
  {
   "cell_type": "markdown",
   "id": "16a29c0a",
   "metadata": {},
   "source": [
    "Нулевая гипотеза- помесячная выручка от пользователей с подпиской по месяцам равна выручке от пользователей без подписки. \n",
    "Правостороняя гипотеза- помесячная выручка от пользователей с подпиской  ‘ultra’ по месяцам больше, чем без подписки."
   ]
  },
  {
   "cell_type": "code",
   "execution_count": 62,
   "id": "7e1bd199",
   "metadata": {},
   "outputs": [
    {
     "name": "stdout",
     "output_type": "stream",
     "text": [
      "1.8850394384715216e-31\n",
      "Отвергаем нулевую гипотезу\n"
     ]
    }
   ],
   "source": [
    "ultra_per_mnth = total.loc[total.subscription_type == 'ultra', 'income_per_month'] \n",
    "\n",
    "free_per_mnth = total.loc[total.subscription_type == 'free', 'income_per_month'] \n",
    "\n",
    "\n",
    "results = st.ttest_ind(ultra_per_mnth, \n",
    "                       free_per_mnth,\n",
    "                       alternative = 'greater')\n",
    "\n",
    "alpha =0.05\n",
    "\n",
    "print(results.pvalue)\n",
    "\n",
    "if results.pvalue < alpha:\n",
    "    print('Отвергаем нулевую гипотезу')\n",
    "else:\n",
    "    print('Не удалось отвергнуть нулевую гипотезу')"
   ]
  },
  {
   "cell_type": "markdown",
   "id": "0932507f",
   "metadata": {},
   "source": [
    "**Вывод**\n",
    "При проверке гипотез выявлено, что клиенты с подпиской тратят больше времени и приносят больше выручки (нулевые гипотезы были отвергнуты).Это выгодно для бизнеса, т.к. клиенты, которые платят абонентскую плату больше \"привязаны\" к компании. Они склонны пользоваться чаще услугами и вряд ли будут переходить в другие фирмы.\n",
    "А вот среднее расстояние, которое проезжают пользователи с подпиской за одну поездку, около 3130м(т.к. не удалось отвергнуть нулевую гипотезу),что оптимально с точки зрения износа самоката и выгодно для бизнеса."
   ]
  },
  {
   "cell_type": "markdown",
   "id": "e10fa966",
   "metadata": {},
   "source": [
    "**Общий вывод**\n",
    "\n",
    "-Загрузили 3 датафрейма: с пользователями, информацией о поездках, информацией о подписках.\n",
    "\n",
    "-проверили данные на пропуски, их нет.\n",
    "-поменяли тип данных у столбца date из датафрейма data_riders к типу даты.\n",
    "-добавили столбец month с номером месяца.\n",
    "-удалили дубликаты.\n",
    "\n",
    "Провели исследовательский анализ данных:\n",
    "\n",
    "Выявилм, что количество пользователей по городам примерно одинаково. В Пятигорске больше всего поездок(219), в Москве меньше всего(168).\n",
    "Пользователей без подписки больше - 54% от общего числа пользователей. Пользователей с подпиской 46%.\n",
    "Большинству пользователей от 18 до 31 года. \n",
    "В основном пользователи проезжают от 2 км до 4 км.\n",
    "Чаще всего длительность поездки состовляет 10 - 25 минут\n",
    "-объединили данные о пользователях, поездках и подписках в один датафрейм.\n",
    "-создали ещё два датафрейма:\n",
    "  а)c данными о пользователях без подписки;\n",
    "  б)с данными о пользователях с подпиской.\n",
    "\n",
    "-визуализировали информацию о расстоянии и времени поездки для пользоватей каждого тарифа.\n",
    "\n",
    " Разброс большинства значений по расстоянию больше у тарифа без подписки(от 2-5км, у тарифа Ультра от 2.5-4км).  В основном в тарифе ультра количество потраченных минут 12-25, у тарифа без подписки от 10-25мин. Можно сделать вывод, что клиенты с подпиской тратят больше времени на поездку и расстояние у них больше.\n",
    "-добавили столбец с помесячной выручкой, которую принёс каждый пользователь.\n",
    "\n",
    "\n",
    " При проверке гипотез выявлено, что клиенты с подпиской тратят больше времени и приносят больше выручки (нулевые гипотезы были отвергнуты). Клиенты с подпиской больше времени рользуются самокатами. Плюс если они платят абонентскую плату, значит они чаще пользуются услугами, чтобы \"отбить\" разницу в стоимсоти минут.Клиенты, которые платят абонентскую плату больше \"привязаны\" к компании. Они склонны пользоваться услугами чаще и вряд ли будут переходить в другие фирмы. Медианы  помесячной выручки, которую принёс каждый пользовательу клиента с подпиской 337р.  и 274р. без подписки). Исходя из этих выводов- подписчики выгоднее бизнесу.\n",
    " \n",
    " А вот среднее расстояние, которое проезжают пользователи с подпиской за одну поездку, около 3130м(т.к. не удалось отвергнуть нулевую гипотезу),что оптимально с точки зрения износа самоката и выгодно для бизнеса."
   ]
  }
 ],
 "metadata": {
  "ExecuteTimeLog": [
   {
    "duration": 1551,
    "start_time": "2023-12-23T10:43:53.501Z"
   },
   {
    "duration": 105,
    "start_time": "2023-12-23T10:43:55.055Z"
   },
   {
    "duration": 102,
    "start_time": "2023-12-23T10:45:48.260Z"
   },
   {
    "duration": 79,
    "start_time": "2023-12-23T10:47:02.081Z"
   },
   {
    "duration": 1387,
    "start_time": "2023-12-23T20:06:44.226Z"
   },
   {
    "duration": 100,
    "start_time": "2023-12-23T20:06:45.614Z"
   },
   {
    "duration": 364,
    "start_time": "2023-12-23T20:06:45.717Z"
   },
   {
    "duration": 77,
    "start_time": "2023-12-23T20:06:46.083Z"
   },
   {
    "duration": 59,
    "start_time": "2023-12-23T20:06:46.161Z"
   },
   {
    "duration": 1425,
    "start_time": "2023-12-23T20:07:14.563Z"
   },
   {
    "duration": 368,
    "start_time": "2023-12-23T20:07:26.400Z"
   },
   {
    "duration": 1427,
    "start_time": "2023-12-23T20:07:32.355Z"
   },
   {
    "duration": 443,
    "start_time": "2023-12-23T20:07:45.814Z"
   },
   {
    "duration": 291,
    "start_time": "2023-12-23T20:08:22.261Z"
   },
   {
    "duration": 265,
    "start_time": "2023-12-23T20:08:40.085Z"
   },
   {
    "duration": 326,
    "start_time": "2023-12-23T20:09:22.166Z"
   },
   {
    "duration": 383,
    "start_time": "2023-12-23T20:10:04.574Z"
   },
   {
    "duration": 411,
    "start_time": "2023-12-23T20:10:24.077Z"
   },
   {
    "duration": 1177,
    "start_time": "2023-12-23T20:16:35.461Z"
   },
   {
    "duration": 43,
    "start_time": "2023-12-23T20:16:36.640Z"
   },
   {
    "duration": 283,
    "start_time": "2023-12-23T20:16:36.685Z"
   },
   {
    "duration": 53,
    "start_time": "2023-12-23T20:16:36.971Z"
   },
   {
    "duration": 371,
    "start_time": "2023-12-23T20:16:37.026Z"
   },
   {
    "duration": 25,
    "start_time": "2023-12-23T20:16:37.399Z"
   },
   {
    "duration": 369,
    "start_time": "2023-12-23T20:16:37.426Z"
   },
   {
    "duration": 125,
    "start_time": "2023-12-23T20:16:37.797Z"
   },
   {
    "duration": 0,
    "start_time": "2023-12-23T20:16:37.923Z"
   },
   {
    "duration": 0,
    "start_time": "2023-12-23T20:16:37.924Z"
   },
   {
    "duration": 17,
    "start_time": "2023-12-23T20:17:18.738Z"
   },
   {
    "duration": 75,
    "start_time": "2023-12-23T20:17:48.916Z"
   },
   {
    "duration": 5,
    "start_time": "2023-12-23T20:17:53.583Z"
   },
   {
    "duration": 8,
    "start_time": "2023-12-23T20:17:56.109Z"
   },
   {
    "duration": 8,
    "start_time": "2023-12-23T20:18:31.536Z"
   },
   {
    "duration": 6,
    "start_time": "2023-12-23T20:25:01.665Z"
   },
   {
    "duration": 9,
    "start_time": "2023-12-23T20:25:24.385Z"
   },
   {
    "duration": 10,
    "start_time": "2023-12-23T20:25:28.035Z"
   },
   {
    "duration": 8,
    "start_time": "2023-12-23T20:26:55.233Z"
   },
   {
    "duration": 7,
    "start_time": "2023-12-23T20:27:33.722Z"
   },
   {
    "duration": 4,
    "start_time": "2023-12-23T20:30:40.885Z"
   },
   {
    "duration": 8,
    "start_time": "2023-12-23T20:33:46.978Z"
   },
   {
    "duration": 4,
    "start_time": "2023-12-23T20:34:27.172Z"
   },
   {
    "duration": 4,
    "start_time": "2023-12-23T20:34:59.843Z"
   },
   {
    "duration": 12,
    "start_time": "2023-12-23T20:36:14.642Z"
   },
   {
    "duration": 5,
    "start_time": "2023-12-23T20:36:39.188Z"
   },
   {
    "duration": 8,
    "start_time": "2023-12-23T20:37:20.493Z"
   },
   {
    "duration": 8,
    "start_time": "2023-12-23T20:37:30.200Z"
   },
   {
    "duration": 9,
    "start_time": "2023-12-23T20:43:18.538Z"
   },
   {
    "duration": 5,
    "start_time": "2023-12-23T20:43:29.203Z"
   },
   {
    "duration": 7,
    "start_time": "2023-12-23T20:43:49.136Z"
   },
   {
    "duration": 14,
    "start_time": "2023-12-23T21:17:37.844Z"
   },
   {
    "duration": 11,
    "start_time": "2023-12-23T21:18:47.257Z"
   },
   {
    "duration": 1202,
    "start_time": "2023-12-23T21:19:37.723Z"
   },
   {
    "duration": 43,
    "start_time": "2023-12-23T21:19:38.927Z"
   },
   {
    "duration": 271,
    "start_time": "2023-12-23T21:19:38.971Z"
   },
   {
    "duration": 39,
    "start_time": "2023-12-23T21:19:39.244Z"
   },
   {
    "duration": 368,
    "start_time": "2023-12-23T21:19:39.285Z"
   },
   {
    "duration": 24,
    "start_time": "2023-12-23T21:19:39.654Z"
   },
   {
    "duration": 358,
    "start_time": "2023-12-23T21:19:39.680Z"
   },
   {
    "duration": 9,
    "start_time": "2023-12-23T21:19:40.039Z"
   },
   {
    "duration": 5,
    "start_time": "2023-12-23T21:19:40.049Z"
   },
   {
    "duration": 17,
    "start_time": "2023-12-23T21:19:40.056Z"
   },
   {
    "duration": 5,
    "start_time": "2023-12-23T21:19:40.075Z"
   },
   {
    "duration": 18,
    "start_time": "2023-12-23T21:19:40.081Z"
   },
   {
    "duration": 27,
    "start_time": "2023-12-23T21:19:40.100Z"
   },
   {
    "duration": 5,
    "start_time": "2023-12-23T21:19:40.129Z"
   },
   {
    "duration": 5,
    "start_time": "2023-12-23T21:19:40.136Z"
   },
   {
    "duration": 5,
    "start_time": "2023-12-23T21:19:40.143Z"
   },
   {
    "duration": 14,
    "start_time": "2023-12-23T21:19:40.149Z"
   },
   {
    "duration": 2,
    "start_time": "2023-12-23T21:19:40.165Z"
   },
   {
    "duration": 53,
    "start_time": "2023-12-23T21:19:40.169Z"
   },
   {
    "duration": 8,
    "start_time": "2023-12-23T21:19:40.224Z"
   },
   {
    "duration": 4,
    "start_time": "2023-12-23T21:19:40.234Z"
   },
   {
    "duration": 164,
    "start_time": "2023-12-23T21:19:40.240Z"
   },
   {
    "duration": 214,
    "start_time": "2023-12-23T21:19:51.268Z"
   },
   {
    "duration": 206,
    "start_time": "2023-12-23T21:20:12.157Z"
   },
   {
    "duration": 97,
    "start_time": "2023-12-23T21:22:12.218Z"
   },
   {
    "duration": 9,
    "start_time": "2023-12-23T21:24:15.954Z"
   },
   {
    "duration": 108,
    "start_time": "2023-12-23T21:24:45.413Z"
   },
   {
    "duration": 102,
    "start_time": "2023-12-23T21:24:54.414Z"
   },
   {
    "duration": 100,
    "start_time": "2023-12-23T21:26:24.511Z"
   },
   {
    "duration": 109,
    "start_time": "2023-12-23T21:26:32.391Z"
   },
   {
    "duration": 25,
    "start_time": "2023-12-23T21:30:51.698Z"
   },
   {
    "duration": 17,
    "start_time": "2023-12-23T21:31:59.134Z"
   },
   {
    "duration": 16,
    "start_time": "2023-12-23T21:33:38.847Z"
   },
   {
    "duration": 13,
    "start_time": "2023-12-23T21:34:45.023Z"
   },
   {
    "duration": 185,
    "start_time": "2023-12-23T21:34:56.074Z"
   },
   {
    "duration": 172,
    "start_time": "2023-12-23T21:35:23.850Z"
   },
   {
    "duration": 42,
    "start_time": "2023-12-24T15:15:39.751Z"
   },
   {
    "duration": 1293,
    "start_time": "2023-12-24T15:15:49.867Z"
   },
   {
    "duration": 104,
    "start_time": "2023-12-24T15:15:51.161Z"
   },
   {
    "duration": 235,
    "start_time": "2023-12-24T15:15:51.266Z"
   },
   {
    "duration": 172,
    "start_time": "2023-12-24T15:15:51.503Z"
   },
   {
    "duration": 317,
    "start_time": "2023-12-24T15:15:51.676Z"
   },
   {
    "duration": 68,
    "start_time": "2023-12-24T15:15:51.995Z"
   },
   {
    "duration": 306,
    "start_time": "2023-12-24T15:15:52.064Z"
   },
   {
    "duration": 9,
    "start_time": "2023-12-24T15:15:52.371Z"
   },
   {
    "duration": 6,
    "start_time": "2023-12-24T15:15:52.381Z"
   },
   {
    "duration": 7,
    "start_time": "2023-12-24T15:15:52.398Z"
   },
   {
    "duration": 5,
    "start_time": "2023-12-24T15:15:52.406Z"
   },
   {
    "duration": 7,
    "start_time": "2023-12-24T15:15:52.412Z"
   },
   {
    "duration": 7,
    "start_time": "2023-12-24T15:15:52.420Z"
   },
   {
    "duration": 4,
    "start_time": "2023-12-24T15:15:52.428Z"
   },
   {
    "duration": 7,
    "start_time": "2023-12-24T15:15:52.433Z"
   },
   {
    "duration": 5,
    "start_time": "2023-12-24T15:15:52.442Z"
   },
   {
    "duration": 8,
    "start_time": "2023-12-24T15:15:52.448Z"
   },
   {
    "duration": 3,
    "start_time": "2023-12-24T15:15:52.457Z"
   },
   {
    "duration": 5,
    "start_time": "2023-12-24T15:15:52.461Z"
   },
   {
    "duration": 36,
    "start_time": "2023-12-24T15:15:52.467Z"
   },
   {
    "duration": 3,
    "start_time": "2023-12-24T15:15:52.504Z"
   },
   {
    "duration": 139,
    "start_time": "2023-12-24T15:15:52.508Z"
   },
   {
    "duration": 83,
    "start_time": "2023-12-24T15:15:52.649Z"
   },
   {
    "duration": 193,
    "start_time": "2023-12-24T15:15:52.733Z"
   },
   {
    "duration": 97,
    "start_time": "2023-12-24T15:15:52.927Z"
   },
   {
    "duration": 96,
    "start_time": "2023-12-24T15:15:53.025Z"
   },
   {
    "duration": 24,
    "start_time": "2023-12-24T15:15:53.123Z"
   },
   {
    "duration": 15,
    "start_time": "2023-12-24T15:15:53.149Z"
   },
   {
    "duration": 179,
    "start_time": "2023-12-24T15:15:53.166Z"
   },
   {
    "duration": 13,
    "start_time": "2023-12-24T15:15:53.347Z"
   },
   {
    "duration": 156,
    "start_time": "2023-12-24T15:15:53.362Z"
   },
   {
    "duration": 868,
    "start_time": "2023-12-24T15:15:53.520Z"
   },
   {
    "duration": 763,
    "start_time": "2023-12-24T15:16:11.786Z"
   },
   {
    "duration": 817,
    "start_time": "2023-12-24T15:16:21.195Z"
   },
   {
    "duration": 130,
    "start_time": "2023-12-24T15:17:47.184Z"
   },
   {
    "duration": 8,
    "start_time": "2023-12-24T15:18:19.494Z"
   },
   {
    "duration": 13,
    "start_time": "2023-12-24T15:18:25.694Z"
   },
   {
    "duration": 1392,
    "start_time": "2023-12-24T21:42:02.484Z"
   },
   {
    "duration": 93,
    "start_time": "2023-12-24T21:42:03.878Z"
   },
   {
    "duration": 267,
    "start_time": "2023-12-24T21:42:03.972Z"
   },
   {
    "duration": 81,
    "start_time": "2023-12-24T21:42:04.240Z"
   },
   {
    "duration": 333,
    "start_time": "2023-12-24T21:42:04.323Z"
   },
   {
    "duration": 64,
    "start_time": "2023-12-24T21:42:04.657Z"
   },
   {
    "duration": 355,
    "start_time": "2023-12-24T21:42:04.722Z"
   },
   {
    "duration": 9,
    "start_time": "2023-12-24T21:42:05.079Z"
   },
   {
    "duration": 15,
    "start_time": "2023-12-24T21:42:05.090Z"
   },
   {
    "duration": 22,
    "start_time": "2023-12-24T21:42:05.106Z"
   },
   {
    "duration": 22,
    "start_time": "2023-12-24T21:42:05.130Z"
   },
   {
    "duration": 23,
    "start_time": "2023-12-24T21:42:05.154Z"
   },
   {
    "duration": 25,
    "start_time": "2023-12-24T21:42:05.178Z"
   },
   {
    "duration": 18,
    "start_time": "2023-12-24T21:42:05.206Z"
   },
   {
    "duration": 31,
    "start_time": "2023-12-24T21:42:05.225Z"
   },
   {
    "duration": 11,
    "start_time": "2023-12-24T21:42:05.257Z"
   },
   {
    "duration": 24,
    "start_time": "2023-12-24T21:42:05.269Z"
   },
   {
    "duration": 25,
    "start_time": "2023-12-24T21:42:05.294Z"
   },
   {
    "duration": 24,
    "start_time": "2023-12-24T21:42:05.320Z"
   },
   {
    "duration": 24,
    "start_time": "2023-12-24T21:42:05.346Z"
   },
   {
    "duration": 7,
    "start_time": "2023-12-24T21:42:05.371Z"
   },
   {
    "duration": 150,
    "start_time": "2023-12-24T21:42:05.380Z"
   },
   {
    "duration": 84,
    "start_time": "2023-12-24T21:42:05.532Z"
   },
   {
    "duration": 215,
    "start_time": "2023-12-24T21:42:05.618Z"
   },
   {
    "duration": 138,
    "start_time": "2023-12-24T21:42:05.835Z"
   },
   {
    "duration": 122,
    "start_time": "2023-12-24T21:42:05.974Z"
   },
   {
    "duration": 25,
    "start_time": "2023-12-24T21:42:06.098Z"
   },
   {
    "duration": 16,
    "start_time": "2023-12-24T21:42:06.125Z"
   },
   {
    "duration": 203,
    "start_time": "2023-12-24T21:42:06.143Z"
   },
   {
    "duration": 21,
    "start_time": "2023-12-24T21:42:06.348Z"
   },
   {
    "duration": 161,
    "start_time": "2023-12-24T21:42:06.371Z"
   },
   {
    "duration": 847,
    "start_time": "2023-12-24T21:42:06.534Z"
   },
   {
    "duration": 103,
    "start_time": "2023-12-24T21:42:07.382Z"
   },
   {
    "duration": 0,
    "start_time": "2023-12-24T21:42:07.486Z"
   },
   {
    "duration": 0,
    "start_time": "2023-12-24T21:42:07.487Z"
   },
   {
    "duration": 0,
    "start_time": "2023-12-24T21:42:07.488Z"
   },
   {
    "duration": 0,
    "start_time": "2023-12-24T21:42:07.489Z"
   },
   {
    "duration": 11,
    "start_time": "2023-12-24T21:42:34.770Z"
   },
   {
    "duration": 136,
    "start_time": "2023-12-24T21:42:39.382Z"
   },
   {
    "duration": 12,
    "start_time": "2023-12-24T21:42:45.714Z"
   },
   {
    "duration": 6,
    "start_time": "2023-12-24T21:42:54.115Z"
   },
   {
    "duration": 5,
    "start_time": "2023-12-24T21:43:15.499Z"
   },
   {
    "duration": 9,
    "start_time": "2023-12-24T21:46:44.109Z"
   },
   {
    "duration": 52,
    "start_time": "2023-12-26T10:03:19.428Z"
   },
   {
    "duration": 1589,
    "start_time": "2023-12-26T10:03:39.714Z"
   },
   {
    "duration": 106,
    "start_time": "2023-12-26T10:03:41.306Z"
   },
   {
    "duration": 347,
    "start_time": "2023-12-26T10:03:41.414Z"
   },
   {
    "duration": 170,
    "start_time": "2023-12-26T10:03:41.763Z"
   },
   {
    "duration": 431,
    "start_time": "2023-12-26T10:03:41.935Z"
   },
   {
    "duration": 82,
    "start_time": "2023-12-26T10:03:42.367Z"
   },
   {
    "duration": 460,
    "start_time": "2023-12-26T10:03:42.451Z"
   },
   {
    "duration": 19,
    "start_time": "2023-12-26T10:03:42.913Z"
   },
   {
    "duration": 6,
    "start_time": "2023-12-26T10:03:42.935Z"
   },
   {
    "duration": 12,
    "start_time": "2023-12-26T10:03:42.945Z"
   },
   {
    "duration": 7,
    "start_time": "2023-12-26T10:03:42.960Z"
   },
   {
    "duration": 11,
    "start_time": "2023-12-26T10:03:42.969Z"
   },
   {
    "duration": 59,
    "start_time": "2023-12-26T10:03:42.981Z"
   },
   {
    "duration": 16,
    "start_time": "2023-12-26T10:03:43.042Z"
   },
   {
    "duration": 8,
    "start_time": "2023-12-26T10:03:43.060Z"
   },
   {
    "duration": 15,
    "start_time": "2023-12-26T10:03:43.070Z"
   },
   {
    "duration": 15,
    "start_time": "2023-12-26T10:03:43.086Z"
   },
   {
    "duration": 29,
    "start_time": "2023-12-26T10:03:43.103Z"
   },
   {
    "duration": 21,
    "start_time": "2023-12-26T10:03:43.133Z"
   },
   {
    "duration": 11,
    "start_time": "2023-12-26T10:03:43.156Z"
   },
   {
    "duration": 6,
    "start_time": "2023-12-26T10:03:43.169Z"
   },
   {
    "duration": 164,
    "start_time": "2023-12-26T10:03:43.177Z"
   },
   {
    "duration": 107,
    "start_time": "2023-12-26T10:03:43.343Z"
   },
   {
    "duration": 255,
    "start_time": "2023-12-26T10:03:43.452Z"
   },
   {
    "duration": 123,
    "start_time": "2023-12-26T10:03:43.709Z"
   },
   {
    "duration": 127,
    "start_time": "2023-12-26T10:03:43.834Z"
   },
   {
    "duration": 31,
    "start_time": "2023-12-26T10:03:43.962Z"
   },
   {
    "duration": 46,
    "start_time": "2023-12-26T10:03:43.997Z"
   },
   {
    "duration": 222,
    "start_time": "2023-12-26T10:03:44.045Z"
   },
   {
    "duration": 15,
    "start_time": "2023-12-26T10:03:44.270Z"
   },
   {
    "duration": 200,
    "start_time": "2023-12-26T10:03:44.287Z"
   },
   {
    "duration": 878,
    "start_time": "2023-12-26T10:03:44.490Z"
   },
   {
    "duration": 16,
    "start_time": "2023-12-26T10:03:45.370Z"
   },
   {
    "duration": 193,
    "start_time": "2023-12-26T10:03:45.388Z"
   },
   {
    "duration": 14,
    "start_time": "2023-12-26T10:03:45.583Z"
   },
   {
    "duration": 32,
    "start_time": "2023-12-26T10:03:45.599Z"
   },
   {
    "duration": 26,
    "start_time": "2023-12-26T10:03:45.633Z"
   },
   {
    "duration": 28,
    "start_time": "2023-12-26T10:03:45.661Z"
   },
   {
    "duration": 109,
    "start_time": "2023-12-26T10:13:51.992Z"
   },
   {
    "duration": 104,
    "start_time": "2023-12-26T10:14:07.260Z"
   },
   {
    "duration": 20,
    "start_time": "2023-12-26T10:21:37.530Z"
   },
   {
    "duration": 210,
    "start_time": "2023-12-26T10:22:38.125Z"
   },
   {
    "duration": 188,
    "start_time": "2023-12-26T10:25:02.005Z"
   },
   {
    "duration": 198,
    "start_time": "2023-12-26T10:26:41.099Z"
   },
   {
    "duration": 183,
    "start_time": "2023-12-26T10:27:22.000Z"
   },
   {
    "duration": 7,
    "start_time": "2023-12-26T11:55:29.613Z"
   },
   {
    "duration": 6,
    "start_time": "2023-12-26T11:55:45.285Z"
   },
   {
    "duration": 11,
    "start_time": "2023-12-26T11:56:11.123Z"
   },
   {
    "duration": 5,
    "start_time": "2023-12-26T11:57:17.608Z"
   },
   {
    "duration": 13,
    "start_time": "2023-12-26T11:57:34.271Z"
   },
   {
    "duration": 6,
    "start_time": "2023-12-26T11:58:07.195Z"
   },
   {
    "duration": 54,
    "start_time": "2023-12-26T11:58:19.912Z"
   },
   {
    "duration": 11,
    "start_time": "2023-12-26T11:58:29.673Z"
   },
   {
    "duration": 5,
    "start_time": "2023-12-26T11:58:55.204Z"
   },
   {
    "duration": 9,
    "start_time": "2023-12-26T11:59:20.315Z"
   },
   {
    "duration": 207,
    "start_time": "2023-12-26T12:16:32.024Z"
   },
   {
    "duration": 189,
    "start_time": "2023-12-26T12:18:53.741Z"
   },
   {
    "duration": 222,
    "start_time": "2023-12-26T12:19:39.966Z"
   },
   {
    "duration": 200,
    "start_time": "2023-12-26T12:19:51.867Z"
   },
   {
    "duration": 172,
    "start_time": "2023-12-26T12:19:59.186Z"
   },
   {
    "duration": 189,
    "start_time": "2023-12-26T12:20:08.077Z"
   },
   {
    "duration": 342,
    "start_time": "2023-12-26T12:20:49.267Z"
   },
   {
    "duration": 763,
    "start_time": "2023-12-26T12:21:00.668Z"
   },
   {
    "duration": 443,
    "start_time": "2023-12-26T12:21:17.739Z"
   },
   {
    "duration": 570,
    "start_time": "2023-12-26T12:21:29.632Z"
   },
   {
    "duration": 455,
    "start_time": "2023-12-26T12:21:43.486Z"
   },
   {
    "duration": 235,
    "start_time": "2023-12-26T12:24:17.761Z"
   },
   {
    "duration": 13,
    "start_time": "2023-12-26T12:25:22.962Z"
   },
   {
    "duration": 13,
    "start_time": "2023-12-26T12:26:31.482Z"
   },
   {
    "duration": 19,
    "start_time": "2023-12-26T12:26:39.004Z"
   },
   {
    "duration": 50,
    "start_time": "2023-12-26T12:29:56.100Z"
   },
   {
    "duration": 22,
    "start_time": "2023-12-26T12:30:44.682Z"
   },
   {
    "duration": 840,
    "start_time": "2023-12-26T12:47:40.970Z"
   },
   {
    "duration": 13,
    "start_time": "2023-12-26T12:48:50.016Z"
   },
   {
    "duration": 12,
    "start_time": "2023-12-26T12:50:47.995Z"
   },
   {
    "duration": 1578,
    "start_time": "2023-12-26T12:51:11.146Z"
   },
   {
    "duration": 64,
    "start_time": "2023-12-26T12:51:12.726Z"
   },
   {
    "duration": 464,
    "start_time": "2023-12-26T12:51:12.792Z"
   },
   {
    "duration": 44,
    "start_time": "2023-12-26T12:51:13.260Z"
   },
   {
    "duration": 486,
    "start_time": "2023-12-26T12:51:13.306Z"
   },
   {
    "duration": 39,
    "start_time": "2023-12-26T12:51:13.794Z"
   },
   {
    "duration": 527,
    "start_time": "2023-12-26T12:51:13.835Z"
   },
   {
    "duration": 11,
    "start_time": "2023-12-26T12:51:14.365Z"
   },
   {
    "duration": 11,
    "start_time": "2023-12-26T12:51:14.379Z"
   },
   {
    "duration": 41,
    "start_time": "2023-12-26T12:51:14.394Z"
   },
   {
    "duration": 17,
    "start_time": "2023-12-26T12:51:14.439Z"
   },
   {
    "duration": 9,
    "start_time": "2023-12-26T12:51:14.459Z"
   },
   {
    "duration": 10,
    "start_time": "2023-12-26T12:51:14.470Z"
   },
   {
    "duration": 17,
    "start_time": "2023-12-26T12:51:14.482Z"
   },
   {
    "duration": 10,
    "start_time": "2023-12-26T12:51:14.532Z"
   },
   {
    "duration": 8,
    "start_time": "2023-12-26T12:51:14.544Z"
   },
   {
    "duration": 6,
    "start_time": "2023-12-26T12:51:14.555Z"
   },
   {
    "duration": 4,
    "start_time": "2023-12-26T12:51:14.563Z"
   },
   {
    "duration": 9,
    "start_time": "2023-12-26T12:51:14.569Z"
   },
   {
    "duration": 57,
    "start_time": "2023-12-26T12:51:14.580Z"
   },
   {
    "duration": 5,
    "start_time": "2023-12-26T12:51:14.639Z"
   },
   {
    "duration": 145,
    "start_time": "2023-12-26T12:51:14.646Z"
   },
   {
    "duration": 0,
    "start_time": "2023-12-26T12:51:14.793Z"
   },
   {
    "duration": 0,
    "start_time": "2023-12-26T12:51:14.794Z"
   },
   {
    "duration": 0,
    "start_time": "2023-12-26T12:51:14.795Z"
   },
   {
    "duration": 0,
    "start_time": "2023-12-26T12:51:14.796Z"
   },
   {
    "duration": 0,
    "start_time": "2023-12-26T12:51:14.797Z"
   },
   {
    "duration": 0,
    "start_time": "2023-12-26T12:51:14.798Z"
   },
   {
    "duration": 0,
    "start_time": "2023-12-26T12:51:14.799Z"
   },
   {
    "duration": 0,
    "start_time": "2023-12-26T12:51:14.800Z"
   },
   {
    "duration": 0,
    "start_time": "2023-12-26T12:51:14.801Z"
   },
   {
    "duration": 0,
    "start_time": "2023-12-26T12:51:14.802Z"
   },
   {
    "duration": 0,
    "start_time": "2023-12-26T12:51:14.803Z"
   },
   {
    "duration": 0,
    "start_time": "2023-12-26T12:51:14.804Z"
   },
   {
    "duration": 0,
    "start_time": "2023-12-26T12:51:14.805Z"
   },
   {
    "duration": 0,
    "start_time": "2023-12-26T12:51:14.806Z"
   },
   {
    "duration": 0,
    "start_time": "2023-12-26T12:51:14.831Z"
   },
   {
    "duration": 0,
    "start_time": "2023-12-26T12:51:14.832Z"
   },
   {
    "duration": 0,
    "start_time": "2023-12-26T12:51:14.833Z"
   },
   {
    "duration": 0,
    "start_time": "2023-12-26T12:51:14.834Z"
   },
   {
    "duration": 0,
    "start_time": "2023-12-26T12:51:14.835Z"
   },
   {
    "duration": 0,
    "start_time": "2023-12-26T12:51:14.837Z"
   },
   {
    "duration": 0,
    "start_time": "2023-12-26T12:51:14.838Z"
   },
   {
    "duration": 0,
    "start_time": "2023-12-26T12:51:14.839Z"
   },
   {
    "duration": 0,
    "start_time": "2023-12-26T12:51:14.840Z"
   },
   {
    "duration": 0,
    "start_time": "2023-12-26T12:51:14.841Z"
   },
   {
    "duration": 0,
    "start_time": "2023-12-26T12:51:14.842Z"
   },
   {
    "duration": 0,
    "start_time": "2023-12-26T12:51:14.846Z"
   },
   {
    "duration": 0,
    "start_time": "2023-12-26T12:51:14.847Z"
   },
   {
    "duration": 0,
    "start_time": "2023-12-26T12:51:14.848Z"
   },
   {
    "duration": 18,
    "start_time": "2023-12-26T12:51:47.168Z"
   },
   {
    "duration": 18,
    "start_time": "2023-12-26T12:52:35.949Z"
   },
   {
    "duration": 65,
    "start_time": "2023-12-26T12:59:49.727Z"
   },
   {
    "duration": 48,
    "start_time": "2023-12-26T12:59:56.246Z"
   },
   {
    "duration": 45,
    "start_time": "2023-12-26T13:01:12.045Z"
   },
   {
    "duration": 52,
    "start_time": "2023-12-26T13:01:20.837Z"
   },
   {
    "duration": 5,
    "start_time": "2023-12-26T13:02:17.831Z"
   },
   {
    "duration": 67,
    "start_time": "2023-12-26T17:30:25.266Z"
   },
   {
    "duration": 53,
    "start_time": "2023-12-26T17:31:20.197Z"
   },
   {
    "duration": 55,
    "start_time": "2023-12-26T17:39:43.708Z"
   },
   {
    "duration": 45,
    "start_time": "2023-12-26T17:41:14.861Z"
   },
   {
    "duration": 1480,
    "start_time": "2023-12-26T17:41:29.151Z"
   },
   {
    "duration": 107,
    "start_time": "2023-12-26T17:41:30.633Z"
   },
   {
    "duration": 312,
    "start_time": "2023-12-26T17:41:30.743Z"
   },
   {
    "duration": 173,
    "start_time": "2023-12-26T17:41:31.057Z"
   },
   {
    "duration": 418,
    "start_time": "2023-12-26T17:41:31.232Z"
   },
   {
    "duration": 78,
    "start_time": "2023-12-26T17:41:31.652Z"
   },
   {
    "duration": 453,
    "start_time": "2023-12-26T17:41:31.732Z"
   },
   {
    "duration": 10,
    "start_time": "2023-12-26T17:41:32.186Z"
   },
   {
    "duration": 31,
    "start_time": "2023-12-26T17:41:32.198Z"
   },
   {
    "duration": 38,
    "start_time": "2023-12-26T17:41:32.231Z"
   },
   {
    "duration": 17,
    "start_time": "2023-12-26T17:41:32.271Z"
   },
   {
    "duration": 23,
    "start_time": "2023-12-26T17:41:32.290Z"
   },
   {
    "duration": 18,
    "start_time": "2023-12-26T17:41:32.314Z"
   },
   {
    "duration": 27,
    "start_time": "2023-12-26T17:41:32.333Z"
   },
   {
    "duration": 16,
    "start_time": "2023-12-26T17:41:32.362Z"
   },
   {
    "duration": 22,
    "start_time": "2023-12-26T17:41:32.380Z"
   },
   {
    "duration": 17,
    "start_time": "2023-12-26T17:41:32.403Z"
   },
   {
    "duration": 32,
    "start_time": "2023-12-26T17:41:32.421Z"
   },
   {
    "duration": 41,
    "start_time": "2023-12-26T17:41:32.455Z"
   },
   {
    "duration": 52,
    "start_time": "2023-12-26T17:41:32.498Z"
   },
   {
    "duration": 12,
    "start_time": "2023-12-26T17:41:32.552Z"
   },
   {
    "duration": 35530,
    "start_time": "2023-12-26T17:41:32.566Z"
   },
   {
    "duration": 106,
    "start_time": "2023-12-26T17:42:08.098Z"
   },
   {
    "duration": 170,
    "start_time": "2023-12-26T17:42:08.206Z"
   },
   {
    "duration": 120,
    "start_time": "2023-12-26T17:42:08.378Z"
   },
   {
    "duration": 200,
    "start_time": "2023-12-26T17:42:08.500Z"
   },
   {
    "duration": 129,
    "start_time": "2023-12-26T17:42:08.702Z"
   },
   {
    "duration": 202,
    "start_time": "2023-12-26T17:42:08.835Z"
   },
   {
    "duration": 28,
    "start_time": "2023-12-26T17:42:09.039Z"
   },
   {
    "duration": 19,
    "start_time": "2023-12-26T17:42:09.068Z"
   },
   {
    "duration": 6,
    "start_time": "2023-12-26T17:42:09.089Z"
   },
   {
    "duration": 40,
    "start_time": "2023-12-26T17:42:09.097Z"
   },
   {
    "duration": 376,
    "start_time": "2023-12-26T17:42:09.139Z"
   },
   {
    "duration": 13,
    "start_time": "2023-12-26T17:42:09.517Z"
   },
   {
    "duration": 14,
    "start_time": "2023-12-26T17:42:09.532Z"
   },
   {
    "duration": 190,
    "start_time": "2023-12-26T17:42:09.547Z"
   },
   {
    "duration": 15,
    "start_time": "2023-12-26T17:42:09.739Z"
   },
   {
    "duration": 5,
    "start_time": "2023-12-26T17:42:09.756Z"
   },
   {
    "duration": 15,
    "start_time": "2023-12-26T17:42:09.762Z"
   },
   {
    "duration": 216,
    "start_time": "2023-12-26T17:42:09.779Z"
   },
   {
    "duration": 5,
    "start_time": "2023-12-26T17:42:09.997Z"
   },
   {
    "duration": 56,
    "start_time": "2023-12-26T17:42:10.003Z"
   },
   {
    "duration": 173,
    "start_time": "2023-12-26T17:42:10.061Z"
   },
   {
    "duration": 837,
    "start_time": "2023-12-26T17:42:10.236Z"
   },
   {
    "duration": 13,
    "start_time": "2023-12-26T17:42:11.075Z"
   },
   {
    "duration": 167,
    "start_time": "2023-12-26T17:42:11.090Z"
   },
   {
    "duration": 13,
    "start_time": "2023-12-26T17:42:11.258Z"
   },
   {
    "duration": 5,
    "start_time": "2023-12-26T17:42:11.272Z"
   },
   {
    "duration": 17,
    "start_time": "2023-12-26T17:42:11.279Z"
   },
   {
    "duration": 22,
    "start_time": "2023-12-26T17:42:11.297Z"
   },
   {
    "duration": 145,
    "start_time": "2023-12-26T17:42:47.027Z"
   },
   {
    "duration": 124,
    "start_time": "2023-12-26T17:46:53.030Z"
   },
   {
    "duration": 100,
    "start_time": "2023-12-26T17:47:26.488Z"
   },
   {
    "duration": 91,
    "start_time": "2023-12-26T17:49:19.906Z"
   },
   {
    "duration": 93,
    "start_time": "2023-12-26T17:49:29.375Z"
   },
   {
    "duration": 909,
    "start_time": "2023-12-26T21:48:55.022Z"
   },
   {
    "duration": 852,
    "start_time": "2023-12-26T21:53:54.446Z"
   },
   {
    "duration": 14,
    "start_time": "2023-12-26T21:57:09.800Z"
   },
   {
    "duration": 868,
    "start_time": "2023-12-26T21:57:40.014Z"
   },
   {
    "duration": 13,
    "start_time": "2023-12-26T21:57:48.130Z"
   },
   {
    "duration": 834,
    "start_time": "2023-12-26T21:59:02.757Z"
   },
   {
    "duration": 12,
    "start_time": "2023-12-26T21:59:12.524Z"
   },
   {
    "duration": 11,
    "start_time": "2023-12-26T22:00:24.456Z"
   },
   {
    "duration": 809,
    "start_time": "2023-12-26T22:01:58.693Z"
   },
   {
    "duration": 142,
    "start_time": "2023-12-26T22:02:57.046Z"
   },
   {
    "duration": 136,
    "start_time": "2023-12-26T22:04:33.011Z"
   },
   {
    "duration": 157,
    "start_time": "2023-12-26T22:05:20.706Z"
   },
   {
    "duration": 6,
    "start_time": "2023-12-26T22:37:13.272Z"
   },
   {
    "duration": 1273,
    "start_time": "2023-12-26T23:17:04.501Z"
   },
   {
    "duration": 45,
    "start_time": "2023-12-26T23:17:05.778Z"
   },
   {
    "duration": 287,
    "start_time": "2023-12-26T23:17:05.825Z"
   },
   {
    "duration": 41,
    "start_time": "2023-12-26T23:17:06.114Z"
   },
   {
    "duration": 395,
    "start_time": "2023-12-26T23:17:06.157Z"
   },
   {
    "duration": 27,
    "start_time": "2023-12-26T23:17:06.554Z"
   },
   {
    "duration": 12,
    "start_time": "2023-12-26T23:17:06.583Z"
   },
   {
    "duration": 5,
    "start_time": "2023-12-26T23:17:06.597Z"
   },
   {
    "duration": 35,
    "start_time": "2023-12-26T23:17:06.604Z"
   },
   {
    "duration": 23,
    "start_time": "2023-12-26T23:17:06.642Z"
   },
   {
    "duration": 9,
    "start_time": "2023-12-26T23:17:06.666Z"
   },
   {
    "duration": 9,
    "start_time": "2023-12-26T23:17:06.676Z"
   },
   {
    "duration": 6,
    "start_time": "2023-12-26T23:17:06.687Z"
   },
   {
    "duration": 6,
    "start_time": "2023-12-26T23:17:06.694Z"
   },
   {
    "duration": 33,
    "start_time": "2023-12-26T23:17:06.701Z"
   },
   {
    "duration": 14,
    "start_time": "2023-12-26T23:17:06.736Z"
   },
   {
    "duration": 19,
    "start_time": "2023-12-26T23:17:06.751Z"
   },
   {
    "duration": 138,
    "start_time": "2023-12-26T23:17:06.771Z"
   },
   {
    "duration": 102,
    "start_time": "2023-12-26T23:17:06.910Z"
   },
   {
    "duration": 162,
    "start_time": "2023-12-26T23:17:07.013Z"
   },
   {
    "duration": 130,
    "start_time": "2023-12-26T23:17:07.177Z"
   },
   {
    "duration": 286,
    "start_time": "2023-12-26T23:17:07.309Z"
   },
   {
    "duration": 128,
    "start_time": "2023-12-26T23:17:07.597Z"
   },
   {
    "duration": 208,
    "start_time": "2023-12-26T23:17:07.731Z"
   },
   {
    "duration": 31,
    "start_time": "2023-12-26T23:17:07.940Z"
   },
   {
    "duration": 19,
    "start_time": "2023-12-26T23:17:07.972Z"
   },
   {
    "duration": 37,
    "start_time": "2023-12-26T23:17:07.994Z"
   },
   {
    "duration": 10,
    "start_time": "2023-12-26T23:17:08.032Z"
   },
   {
    "duration": 201,
    "start_time": "2023-12-26T23:17:08.043Z"
   },
   {
    "duration": 6,
    "start_time": "2023-12-26T23:17:08.246Z"
   },
   {
    "duration": 17,
    "start_time": "2023-12-26T23:17:08.253Z"
   },
   {
    "duration": 190,
    "start_time": "2023-12-26T23:17:08.272Z"
   },
   {
    "duration": 16,
    "start_time": "2023-12-26T23:17:08.464Z"
   },
   {
    "duration": 6,
    "start_time": "2023-12-26T23:17:08.482Z"
   },
   {
    "duration": 41,
    "start_time": "2023-12-26T23:17:08.490Z"
   },
   {
    "duration": 204,
    "start_time": "2023-12-26T23:17:08.533Z"
   },
   {
    "duration": 6,
    "start_time": "2023-12-26T23:17:08.739Z"
   },
   {
    "duration": 15,
    "start_time": "2023-12-26T23:17:08.747Z"
   },
   {
    "duration": 198,
    "start_time": "2023-12-26T23:17:08.764Z"
   },
   {
    "duration": 872,
    "start_time": "2023-12-26T23:17:08.964Z"
   },
   {
    "duration": 12,
    "start_time": "2023-12-26T23:17:09.837Z"
   },
   {
    "duration": 164,
    "start_time": "2023-12-26T23:17:09.851Z"
   },
   {
    "duration": 22,
    "start_time": "2023-12-26T23:17:10.016Z"
   },
   {
    "duration": 6,
    "start_time": "2023-12-26T23:17:10.039Z"
   },
   {
    "duration": 12,
    "start_time": "2023-12-26T23:17:10.046Z"
   },
   {
    "duration": 29,
    "start_time": "2023-12-26T23:17:10.060Z"
   },
   {
    "duration": 1058,
    "start_time": "2023-12-26T23:19:19.950Z"
   },
   {
    "duration": 49,
    "start_time": "2023-12-26T23:19:21.010Z"
   },
   {
    "duration": 323,
    "start_time": "2023-12-26T23:19:21.061Z"
   },
   {
    "duration": 40,
    "start_time": "2023-12-26T23:19:21.386Z"
   },
   {
    "duration": 391,
    "start_time": "2023-12-26T23:19:21.430Z"
   },
   {
    "duration": 26,
    "start_time": "2023-12-26T23:19:21.823Z"
   },
   {
    "duration": 9,
    "start_time": "2023-12-26T23:19:21.851Z"
   },
   {
    "duration": 14,
    "start_time": "2023-12-26T23:19:21.861Z"
   },
   {
    "duration": 29,
    "start_time": "2023-12-26T23:19:21.877Z"
   },
   {
    "duration": 6,
    "start_time": "2023-12-26T23:19:21.909Z"
   },
   {
    "duration": 17,
    "start_time": "2023-12-26T23:19:21.916Z"
   },
   {
    "duration": 8,
    "start_time": "2023-12-26T23:19:21.935Z"
   },
   {
    "duration": 6,
    "start_time": "2023-12-26T23:19:21.944Z"
   },
   {
    "duration": 11,
    "start_time": "2023-12-26T23:19:21.952Z"
   },
   {
    "duration": 7,
    "start_time": "2023-12-26T23:19:21.964Z"
   },
   {
    "duration": 49,
    "start_time": "2023-12-26T23:19:21.972Z"
   },
   {
    "duration": 67,
    "start_time": "2023-12-26T23:19:22.022Z"
   },
   {
    "duration": 179,
    "start_time": "2023-12-26T23:19:22.091Z"
   },
   {
    "duration": 107,
    "start_time": "2023-12-26T23:19:22.272Z"
   },
   {
    "duration": 165,
    "start_time": "2023-12-26T23:19:22.381Z"
   },
   {
    "duration": 115,
    "start_time": "2023-12-26T23:19:22.548Z"
   },
   {
    "duration": 0,
    "start_time": "2023-12-26T23:19:22.666Z"
   },
   {
    "duration": 0,
    "start_time": "2023-12-26T23:19:22.668Z"
   },
   {
    "duration": 0,
    "start_time": "2023-12-26T23:19:22.670Z"
   },
   {
    "duration": 0,
    "start_time": "2023-12-26T23:19:22.671Z"
   },
   {
    "duration": 0,
    "start_time": "2023-12-26T23:19:22.673Z"
   },
   {
    "duration": 0,
    "start_time": "2023-12-26T23:19:22.674Z"
   },
   {
    "duration": 0,
    "start_time": "2023-12-26T23:19:22.676Z"
   },
   {
    "duration": 0,
    "start_time": "2023-12-26T23:19:22.677Z"
   },
   {
    "duration": 0,
    "start_time": "2023-12-26T23:19:22.679Z"
   },
   {
    "duration": 0,
    "start_time": "2023-12-26T23:19:22.681Z"
   },
   {
    "duration": 0,
    "start_time": "2023-12-26T23:19:22.683Z"
   },
   {
    "duration": 0,
    "start_time": "2023-12-26T23:19:22.684Z"
   },
   {
    "duration": 0,
    "start_time": "2023-12-26T23:19:22.686Z"
   },
   {
    "duration": 0,
    "start_time": "2023-12-26T23:19:22.687Z"
   },
   {
    "duration": 0,
    "start_time": "2023-12-26T23:19:22.689Z"
   },
   {
    "duration": 0,
    "start_time": "2023-12-26T23:19:22.690Z"
   },
   {
    "duration": 0,
    "start_time": "2023-12-26T23:19:22.731Z"
   },
   {
    "duration": 0,
    "start_time": "2023-12-26T23:19:22.733Z"
   },
   {
    "duration": 0,
    "start_time": "2023-12-26T23:19:22.734Z"
   },
   {
    "duration": 0,
    "start_time": "2023-12-26T23:19:22.736Z"
   },
   {
    "duration": 0,
    "start_time": "2023-12-26T23:19:22.737Z"
   },
   {
    "duration": 0,
    "start_time": "2023-12-26T23:19:22.739Z"
   },
   {
    "duration": 0,
    "start_time": "2023-12-26T23:19:22.740Z"
   },
   {
    "duration": 0,
    "start_time": "2023-12-26T23:19:22.742Z"
   },
   {
    "duration": 0,
    "start_time": "2023-12-26T23:19:22.744Z"
   },
   {
    "duration": 1319,
    "start_time": "2023-12-26T23:20:56.711Z"
   },
   {
    "duration": 47,
    "start_time": "2023-12-26T23:20:58.032Z"
   },
   {
    "duration": 286,
    "start_time": "2023-12-26T23:20:58.080Z"
   },
   {
    "duration": 41,
    "start_time": "2023-12-26T23:20:58.368Z"
   },
   {
    "duration": 411,
    "start_time": "2023-12-26T23:20:58.410Z"
   },
   {
    "duration": 27,
    "start_time": "2023-12-26T23:20:58.822Z"
   },
   {
    "duration": 10,
    "start_time": "2023-12-26T23:20:58.850Z"
   },
   {
    "duration": 6,
    "start_time": "2023-12-26T23:20:58.862Z"
   },
   {
    "duration": 8,
    "start_time": "2023-12-26T23:20:58.870Z"
   },
   {
    "duration": 6,
    "start_time": "2023-12-26T23:20:58.881Z"
   },
   {
    "duration": 46,
    "start_time": "2023-12-26T23:20:58.889Z"
   },
   {
    "duration": 9,
    "start_time": "2023-12-26T23:20:58.936Z"
   },
   {
    "duration": 8,
    "start_time": "2023-12-26T23:20:58.946Z"
   },
   {
    "duration": 14,
    "start_time": "2023-12-26T23:20:58.955Z"
   },
   {
    "duration": 6,
    "start_time": "2023-12-26T23:20:58.970Z"
   },
   {
    "duration": 7,
    "start_time": "2023-12-26T23:20:58.977Z"
   },
   {
    "duration": 7,
    "start_time": "2023-12-26T23:20:58.985Z"
   },
   {
    "duration": 179,
    "start_time": "2023-12-26T23:20:58.994Z"
   },
   {
    "duration": 108,
    "start_time": "2023-12-26T23:20:59.174Z"
   },
   {
    "duration": 169,
    "start_time": "2023-12-26T23:20:59.284Z"
   },
   {
    "duration": 112,
    "start_time": "2023-12-26T23:20:59.455Z"
   },
   {
    "duration": 364,
    "start_time": "2023-12-26T23:20:59.569Z"
   },
   {
    "duration": 122,
    "start_time": "2023-12-26T23:20:59.935Z"
   },
   {
    "duration": 199,
    "start_time": "2023-12-26T23:21:00.059Z"
   },
   {
    "duration": 27,
    "start_time": "2023-12-26T23:21:00.259Z"
   },
   {
    "duration": 27,
    "start_time": "2023-12-26T23:21:00.288Z"
   },
   {
    "duration": 8,
    "start_time": "2023-12-26T23:21:00.332Z"
   },
   {
    "duration": 40,
    "start_time": "2023-12-26T23:21:00.344Z"
   },
   {
    "duration": 210,
    "start_time": "2023-12-26T23:21:00.385Z"
   },
   {
    "duration": 6,
    "start_time": "2023-12-26T23:21:00.597Z"
   },
   {
    "duration": 66,
    "start_time": "2023-12-26T23:21:00.605Z"
   },
   {
    "duration": 231,
    "start_time": "2023-12-26T23:21:00.673Z"
   },
   {
    "duration": 28,
    "start_time": "2023-12-26T23:21:00.906Z"
   },
   {
    "duration": 115,
    "start_time": "2023-12-26T23:21:00.936Z"
   },
   {
    "duration": 139,
    "start_time": "2023-12-26T23:21:01.054Z"
   },
   {
    "duration": 253,
    "start_time": "2023-12-26T23:21:01.196Z"
   },
   {
    "duration": 6,
    "start_time": "2023-12-26T23:21:01.451Z"
   },
   {
    "duration": 37,
    "start_time": "2023-12-26T23:21:01.459Z"
   },
   {
    "duration": 219,
    "start_time": "2023-12-26T23:21:01.498Z"
   },
   {
    "duration": 883,
    "start_time": "2023-12-26T23:21:01.719Z"
   },
   {
    "duration": 13,
    "start_time": "2023-12-26T23:21:02.605Z"
   },
   {
    "duration": 151,
    "start_time": "2023-12-26T23:21:02.632Z"
   },
   {
    "duration": 16,
    "start_time": "2023-12-26T23:21:02.784Z"
   },
   {
    "duration": 31,
    "start_time": "2023-12-26T23:21:02.802Z"
   },
   {
    "duration": 8,
    "start_time": "2023-12-26T23:21:02.834Z"
   },
   {
    "duration": 31,
    "start_time": "2023-12-26T23:21:02.843Z"
   },
   {
    "duration": 102,
    "start_time": "2023-12-26T23:26:39.367Z"
   },
   {
    "duration": 183,
    "start_time": "2023-12-26T23:26:50.647Z"
   },
   {
    "duration": 191,
    "start_time": "2023-12-26T23:28:45.646Z"
   },
   {
    "duration": 177,
    "start_time": "2023-12-26T23:29:16.767Z"
   },
   {
    "duration": 168,
    "start_time": "2023-12-26T23:29:48.009Z"
   },
   {
    "duration": 47,
    "start_time": "2023-12-27T10:07:57.678Z"
   },
   {
    "duration": 1251,
    "start_time": "2023-12-27T10:08:03.205Z"
   },
   {
    "duration": 92,
    "start_time": "2023-12-27T10:08:04.458Z"
   },
   {
    "duration": 297,
    "start_time": "2023-12-27T10:08:04.554Z"
   },
   {
    "duration": 81,
    "start_time": "2023-12-27T10:08:04.854Z"
   },
   {
    "duration": 383,
    "start_time": "2023-12-27T10:08:04.936Z"
   },
   {
    "duration": 69,
    "start_time": "2023-12-27T10:08:05.321Z"
   },
   {
    "duration": 13,
    "start_time": "2023-12-27T10:08:05.392Z"
   },
   {
    "duration": 29,
    "start_time": "2023-12-27T10:08:05.407Z"
   },
   {
    "duration": 54,
    "start_time": "2023-12-27T10:08:05.437Z"
   },
   {
    "duration": 30,
    "start_time": "2023-12-27T10:08:05.493Z"
   },
   {
    "duration": 34,
    "start_time": "2023-12-27T10:08:05.525Z"
   },
   {
    "duration": 29,
    "start_time": "2023-12-27T10:08:05.562Z"
   },
   {
    "duration": 17,
    "start_time": "2023-12-27T10:08:05.594Z"
   },
   {
    "duration": 34,
    "start_time": "2023-12-27T10:08:05.613Z"
   },
   {
    "duration": 22,
    "start_time": "2023-12-27T10:08:05.649Z"
   },
   {
    "duration": 15,
    "start_time": "2023-12-27T10:08:05.673Z"
   },
   {
    "duration": 24,
    "start_time": "2023-12-27T10:08:05.689Z"
   },
   {
    "duration": 163,
    "start_time": "2023-12-27T10:08:05.715Z"
   },
   {
    "duration": 206,
    "start_time": "2023-12-27T10:08:05.880Z"
   },
   {
    "duration": 356,
    "start_time": "2023-12-27T10:08:06.088Z"
   },
   {
    "duration": 214,
    "start_time": "2023-12-27T10:08:06.446Z"
   },
   {
    "duration": 512,
    "start_time": "2023-12-27T10:08:06.661Z"
   },
   {
    "duration": 183,
    "start_time": "2023-12-27T10:08:07.175Z"
   },
   {
    "duration": 200,
    "start_time": "2023-12-27T10:08:07.359Z"
   },
   {
    "duration": 27,
    "start_time": "2023-12-27T10:08:07.560Z"
   },
   {
    "duration": 76,
    "start_time": "2023-12-27T10:08:07.588Z"
   },
   {
    "duration": 58,
    "start_time": "2023-12-27T10:08:07.666Z"
   },
   {
    "duration": 15,
    "start_time": "2023-12-27T10:08:07.726Z"
   },
   {
    "duration": 217,
    "start_time": "2023-12-27T10:08:07.743Z"
   },
   {
    "duration": 4,
    "start_time": "2023-12-27T10:08:07.962Z"
   },
   {
    "duration": 25,
    "start_time": "2023-12-27T10:08:07.968Z"
   },
   {
    "duration": 193,
    "start_time": "2023-12-27T10:08:07.995Z"
   },
   {
    "duration": 21,
    "start_time": "2023-12-27T10:08:08.190Z"
   },
   {
    "duration": 45,
    "start_time": "2023-12-27T10:08:08.212Z"
   },
   {
    "duration": 38,
    "start_time": "2023-12-27T10:08:08.258Z"
   },
   {
    "duration": 197,
    "start_time": "2023-12-27T10:08:08.297Z"
   },
   {
    "duration": 5,
    "start_time": "2023-12-27T10:08:08.495Z"
   },
   {
    "duration": 31,
    "start_time": "2023-12-27T10:08:08.501Z"
   },
   {
    "duration": 183,
    "start_time": "2023-12-27T10:08:08.533Z"
   },
   {
    "duration": 881,
    "start_time": "2023-12-27T10:08:08.719Z"
   },
   {
    "duration": 11,
    "start_time": "2023-12-27T10:08:09.602Z"
   },
   {
    "duration": 150,
    "start_time": "2023-12-27T10:08:09.615Z"
   },
   {
    "duration": 13,
    "start_time": "2023-12-27T10:08:09.766Z"
   },
   {
    "duration": 10,
    "start_time": "2023-12-27T10:08:09.781Z"
   },
   {
    "duration": 9,
    "start_time": "2023-12-27T10:08:09.792Z"
   },
   {
    "duration": 10,
    "start_time": "2023-12-27T10:08:09.803Z"
   },
   {
    "duration": 28,
    "start_time": "2023-12-27T10:08:09.814Z"
   },
   {
    "duration": 11,
    "start_time": "2023-12-27T10:09:23.028Z"
   },
   {
    "duration": 1333,
    "start_time": "2023-12-27T10:11:37.218Z"
   },
   {
    "duration": 45,
    "start_time": "2023-12-27T10:11:38.553Z"
   },
   {
    "duration": 289,
    "start_time": "2023-12-27T10:11:38.600Z"
   },
   {
    "duration": 39,
    "start_time": "2023-12-27T10:11:38.890Z"
   },
   {
    "duration": 367,
    "start_time": "2023-12-27T10:11:38.932Z"
   },
   {
    "duration": 26,
    "start_time": "2023-12-27T10:11:39.301Z"
   },
   {
    "duration": 15,
    "start_time": "2023-12-27T10:11:39.328Z"
   },
   {
    "duration": 5,
    "start_time": "2023-12-27T10:11:39.344Z"
   },
   {
    "duration": 8,
    "start_time": "2023-12-27T10:11:39.350Z"
   },
   {
    "duration": 7,
    "start_time": "2023-12-27T10:11:39.360Z"
   },
   {
    "duration": 16,
    "start_time": "2023-12-27T10:11:39.368Z"
   },
   {
    "duration": 14,
    "start_time": "2023-12-27T10:11:39.385Z"
   },
   {
    "duration": 5,
    "start_time": "2023-12-27T10:11:39.401Z"
   },
   {
    "duration": 4,
    "start_time": "2023-12-27T10:11:39.409Z"
   },
   {
    "duration": 30,
    "start_time": "2023-12-27T10:11:39.414Z"
   },
   {
    "duration": 19,
    "start_time": "2023-12-27T10:11:39.446Z"
   },
   {
    "duration": 6,
    "start_time": "2023-12-27T10:11:39.467Z"
   },
   {
    "duration": 143,
    "start_time": "2023-12-27T10:11:39.475Z"
   },
   {
    "duration": 99,
    "start_time": "2023-12-27T10:11:39.620Z"
   },
   {
    "duration": 163,
    "start_time": "2023-12-27T10:11:39.721Z"
   },
   {
    "duration": 115,
    "start_time": "2023-12-27T10:11:39.885Z"
   },
   {
    "duration": 256,
    "start_time": "2023-12-27T10:11:40.002Z"
   },
   {
    "duration": 114,
    "start_time": "2023-12-27T10:11:40.260Z"
   },
   {
    "duration": 191,
    "start_time": "2023-12-27T10:11:40.375Z"
   },
   {
    "duration": 26,
    "start_time": "2023-12-27T10:11:40.568Z"
   },
   {
    "duration": 17,
    "start_time": "2023-12-27T10:11:40.596Z"
   },
   {
    "duration": 5,
    "start_time": "2023-12-27T10:11:40.614Z"
   },
   {
    "duration": 18,
    "start_time": "2023-12-27T10:11:40.643Z"
   },
   {
    "duration": 214,
    "start_time": "2023-12-27T10:11:40.662Z"
   },
   {
    "duration": 5,
    "start_time": "2023-12-27T10:11:40.878Z"
   },
   {
    "duration": 22,
    "start_time": "2023-12-27T10:11:40.884Z"
   },
   {
    "duration": 186,
    "start_time": "2023-12-27T10:11:40.907Z"
   },
   {
    "duration": 17,
    "start_time": "2023-12-27T10:11:41.095Z"
   },
   {
    "duration": 13,
    "start_time": "2023-12-27T10:11:41.114Z"
   },
   {
    "duration": 19,
    "start_time": "2023-12-27T10:11:41.128Z"
   },
   {
    "duration": 199,
    "start_time": "2023-12-27T10:11:41.149Z"
   },
   {
    "duration": 5,
    "start_time": "2023-12-27T10:11:41.350Z"
   },
   {
    "duration": 28,
    "start_time": "2023-12-27T10:11:41.356Z"
   },
   {
    "duration": 173,
    "start_time": "2023-12-27T10:11:41.386Z"
   },
   {
    "duration": 864,
    "start_time": "2023-12-27T10:11:41.560Z"
   },
   {
    "duration": 16,
    "start_time": "2023-12-27T10:11:42.428Z"
   },
   {
    "duration": 160,
    "start_time": "2023-12-27T10:11:42.446Z"
   },
   {
    "duration": 12,
    "start_time": "2023-12-27T10:11:42.607Z"
   },
   {
    "duration": 15,
    "start_time": "2023-12-27T10:11:42.621Z"
   },
   {
    "duration": 18,
    "start_time": "2023-12-27T10:11:42.637Z"
   },
   {
    "duration": 14,
    "start_time": "2023-12-27T10:11:42.656Z"
   },
   {
    "duration": 22,
    "start_time": "2023-12-27T10:11:42.671Z"
   },
   {
    "duration": 50,
    "start_time": "2023-12-27T10:36:37.339Z"
   },
   {
    "duration": 1383,
    "start_time": "2023-12-27T10:36:48.528Z"
   },
   {
    "duration": 95,
    "start_time": "2023-12-27T10:36:49.913Z"
   },
   {
    "duration": 292,
    "start_time": "2023-12-27T10:36:50.009Z"
   },
   {
    "duration": 84,
    "start_time": "2023-12-27T10:36:50.303Z"
   },
   {
    "duration": 377,
    "start_time": "2023-12-27T10:36:50.388Z"
   },
   {
    "duration": 64,
    "start_time": "2023-12-27T10:36:50.767Z"
   },
   {
    "duration": 9,
    "start_time": "2023-12-27T10:36:50.833Z"
   },
   {
    "duration": 13,
    "start_time": "2023-12-27T10:36:50.844Z"
   },
   {
    "duration": 13,
    "start_time": "2023-12-27T10:36:50.858Z"
   },
   {
    "duration": 6,
    "start_time": "2023-12-27T10:36:50.873Z"
   },
   {
    "duration": 9,
    "start_time": "2023-12-27T10:36:50.880Z"
   },
   {
    "duration": 34,
    "start_time": "2023-12-27T10:36:50.890Z"
   },
   {
    "duration": 7,
    "start_time": "2023-12-27T10:36:50.925Z"
   },
   {
    "duration": 6,
    "start_time": "2023-12-27T10:36:50.934Z"
   },
   {
    "duration": 4,
    "start_time": "2023-12-27T10:36:50.942Z"
   },
   {
    "duration": 16,
    "start_time": "2023-12-27T10:36:50.948Z"
   },
   {
    "duration": 40,
    "start_time": "2023-12-27T10:36:50.965Z"
   },
   {
    "duration": 124,
    "start_time": "2023-12-27T10:36:51.007Z"
   },
   {
    "duration": 92,
    "start_time": "2023-12-27T10:36:51.132Z"
   },
   {
    "duration": 151,
    "start_time": "2023-12-27T10:36:51.225Z"
   },
   {
    "duration": 115,
    "start_time": "2023-12-27T10:36:51.378Z"
   },
   {
    "duration": 278,
    "start_time": "2023-12-27T10:36:51.495Z"
   },
   {
    "duration": 109,
    "start_time": "2023-12-27T10:36:51.775Z"
   },
   {
    "duration": 203,
    "start_time": "2023-12-27T10:36:51.888Z"
   },
   {
    "duration": 25,
    "start_time": "2023-12-27T10:36:52.092Z"
   },
   {
    "duration": 31,
    "start_time": "2023-12-27T10:36:52.118Z"
   },
   {
    "duration": 7,
    "start_time": "2023-12-27T10:36:52.150Z"
   },
   {
    "duration": 43,
    "start_time": "2023-12-27T10:36:52.160Z"
   },
   {
    "duration": 201,
    "start_time": "2023-12-27T10:36:52.204Z"
   },
   {
    "duration": 5,
    "start_time": "2023-12-27T10:36:52.406Z"
   },
   {
    "duration": 19,
    "start_time": "2023-12-27T10:36:52.412Z"
   },
   {
    "duration": 192,
    "start_time": "2023-12-27T10:36:52.432Z"
   },
   {
    "duration": 15,
    "start_time": "2023-12-27T10:36:52.625Z"
   },
   {
    "duration": 15,
    "start_time": "2023-12-27T10:36:52.641Z"
   },
   {
    "duration": 12,
    "start_time": "2023-12-27T10:36:52.658Z"
   },
   {
    "duration": 208,
    "start_time": "2023-12-27T10:36:52.672Z"
   },
   {
    "duration": 10,
    "start_time": "2023-12-27T10:36:52.881Z"
   },
   {
    "duration": 23,
    "start_time": "2023-12-27T10:36:52.892Z"
   },
   {
    "duration": 188,
    "start_time": "2023-12-27T10:36:52.917Z"
   },
   {
    "duration": 887,
    "start_time": "2023-12-27T10:36:53.107Z"
   },
   {
    "duration": 11,
    "start_time": "2023-12-27T10:36:53.995Z"
   },
   {
    "duration": 161,
    "start_time": "2023-12-27T10:36:54.008Z"
   },
   {
    "duration": 19,
    "start_time": "2023-12-27T10:36:54.170Z"
   },
   {
    "duration": 12,
    "start_time": "2023-12-27T10:36:54.191Z"
   },
   {
    "duration": 13,
    "start_time": "2023-12-27T10:36:54.204Z"
   },
   {
    "duration": 25,
    "start_time": "2023-12-27T10:36:54.219Z"
   },
   {
    "duration": 11,
    "start_time": "2023-12-27T10:36:54.246Z"
   },
   {
    "duration": 173,
    "start_time": "2023-12-27T10:37:41.742Z"
   },
   {
    "duration": 174,
    "start_time": "2023-12-27T10:37:50.523Z"
   },
   {
    "duration": 144,
    "start_time": "2023-12-27T10:37:56.602Z"
   },
   {
    "duration": 60,
    "start_time": "2023-12-27T12:37:23.859Z"
   },
   {
    "duration": 109,
    "start_time": "2023-12-27T12:48:06.916Z"
   },
   {
    "duration": 6,
    "start_time": "2023-12-27T12:48:43.352Z"
   },
   {
    "duration": 126,
    "start_time": "2023-12-27T12:50:04.867Z"
   },
   {
    "duration": 210,
    "start_time": "2023-12-27T12:50:23.170Z"
   },
   {
    "duration": 143,
    "start_time": "2023-12-27T12:51:07.370Z"
   },
   {
    "duration": 155,
    "start_time": "2023-12-27T12:53:33.392Z"
   },
   {
    "duration": 123,
    "start_time": "2023-12-27T12:58:39.326Z"
   },
   {
    "duration": 131,
    "start_time": "2023-12-27T13:00:44.369Z"
   },
   {
    "duration": 121,
    "start_time": "2023-12-27T13:01:26.183Z"
   },
   {
    "duration": 132,
    "start_time": "2023-12-27T13:01:40.944Z"
   },
   {
    "duration": 147,
    "start_time": "2023-12-27T13:03:11.731Z"
   },
   {
    "duration": 88,
    "start_time": "2023-12-27T13:04:08.631Z"
   },
   {
    "duration": 118,
    "start_time": "2023-12-27T13:04:17.743Z"
   },
   {
    "duration": 143,
    "start_time": "2023-12-27T13:06:06.756Z"
   },
   {
    "duration": 11,
    "start_time": "2023-12-27T13:17:17.412Z"
   },
   {
    "duration": 92,
    "start_time": "2023-12-27T13:17:31.105Z"
   },
   {
    "duration": 181,
    "start_time": "2023-12-27T13:17:54.287Z"
   },
   {
    "duration": 112,
    "start_time": "2023-12-27T13:18:59.545Z"
   },
   {
    "duration": 91,
    "start_time": "2023-12-27T13:19:09.457Z"
   },
   {
    "duration": 155,
    "start_time": "2023-12-27T13:19:24.811Z"
   },
   {
    "duration": 172,
    "start_time": "2023-12-27T13:20:52.215Z"
   },
   {
    "duration": 136,
    "start_time": "2023-12-27T13:22:38.693Z"
   },
   {
    "duration": 118,
    "start_time": "2023-12-27T13:23:18.333Z"
   },
   {
    "duration": 93,
    "start_time": "2023-12-27T13:23:26.198Z"
   },
   {
    "duration": 96,
    "start_time": "2023-12-27T13:34:57.403Z"
   },
   {
    "duration": 115,
    "start_time": "2023-12-27T13:36:10.888Z"
   },
   {
    "duration": 103,
    "start_time": "2023-12-27T13:36:22.347Z"
   },
   {
    "duration": 108,
    "start_time": "2023-12-27T13:36:31.455Z"
   },
   {
    "duration": 12,
    "start_time": "2023-12-27T13:47:10.905Z"
   },
   {
    "duration": 7,
    "start_time": "2023-12-27T13:47:25.591Z"
   },
   {
    "duration": 6,
    "start_time": "2023-12-27T13:47:39.230Z"
   },
   {
    "duration": 6,
    "start_time": "2023-12-27T13:47:50.529Z"
   },
   {
    "duration": 9,
    "start_time": "2023-12-27T13:47:59.775Z"
   },
   {
    "duration": 7,
    "start_time": "2023-12-27T13:48:37.079Z"
   },
   {
    "duration": 10,
    "start_time": "2023-12-27T13:50:34.540Z"
   },
   {
    "duration": 7,
    "start_time": "2023-12-27T13:50:47.898Z"
   },
   {
    "duration": 13,
    "start_time": "2023-12-27T13:54:15.986Z"
   },
   {
    "duration": 9,
    "start_time": "2023-12-27T13:54:32.331Z"
   },
   {
    "duration": 14,
    "start_time": "2023-12-27T13:55:10.731Z"
   },
   {
    "duration": 12,
    "start_time": "2023-12-27T13:55:34.440Z"
   },
   {
    "duration": 13,
    "start_time": "2023-12-27T13:55:40.599Z"
   },
   {
    "duration": 13,
    "start_time": "2023-12-27T13:55:58.986Z"
   },
   {
    "duration": 15,
    "start_time": "2023-12-27T13:56:14.912Z"
   },
   {
    "duration": 12,
    "start_time": "2023-12-27T13:58:09.567Z"
   },
   {
    "duration": 10,
    "start_time": "2023-12-27T13:58:53.064Z"
   },
   {
    "duration": 16,
    "start_time": "2023-12-27T14:01:45.750Z"
   },
   {
    "duration": 9,
    "start_time": "2023-12-27T14:02:27.815Z"
   },
   {
    "duration": 12,
    "start_time": "2023-12-27T14:03:10.914Z"
   },
   {
    "duration": 7,
    "start_time": "2023-12-27T14:06:55.494Z"
   },
   {
    "duration": 7,
    "start_time": "2023-12-27T14:08:53.376Z"
   },
   {
    "duration": 3,
    "start_time": "2023-12-27T14:12:05.117Z"
   },
   {
    "duration": 8,
    "start_time": "2023-12-27T14:12:21.984Z"
   },
   {
    "duration": 1292,
    "start_time": "2023-12-27T14:15:44.925Z"
   },
   {
    "duration": 46,
    "start_time": "2023-12-27T14:15:46.219Z"
   },
   {
    "duration": 294,
    "start_time": "2023-12-27T14:15:46.267Z"
   },
   {
    "duration": 47,
    "start_time": "2023-12-27T14:15:46.563Z"
   },
   {
    "duration": 576,
    "start_time": "2023-12-27T14:15:46.612Z"
   },
   {
    "duration": 27,
    "start_time": "2023-12-27T14:15:47.190Z"
   },
   {
    "duration": 15,
    "start_time": "2023-12-27T14:15:47.219Z"
   },
   {
    "duration": 14,
    "start_time": "2023-12-27T14:15:47.236Z"
   },
   {
    "duration": 27,
    "start_time": "2023-12-27T14:15:47.252Z"
   },
   {
    "duration": 21,
    "start_time": "2023-12-27T14:15:47.282Z"
   },
   {
    "duration": 21,
    "start_time": "2023-12-27T14:15:47.305Z"
   },
   {
    "duration": 15,
    "start_time": "2023-12-27T14:15:47.328Z"
   },
   {
    "duration": 13,
    "start_time": "2023-12-27T14:15:47.345Z"
   },
   {
    "duration": 6,
    "start_time": "2023-12-27T14:15:47.360Z"
   },
   {
    "duration": 10,
    "start_time": "2023-12-27T14:15:47.367Z"
   },
   {
    "duration": 9,
    "start_time": "2023-12-27T14:15:47.379Z"
   },
   {
    "duration": 5,
    "start_time": "2023-12-27T14:15:47.389Z"
   },
   {
    "duration": 6,
    "start_time": "2023-12-27T14:15:47.395Z"
   },
   {
    "duration": 161,
    "start_time": "2023-12-27T14:15:47.403Z"
   },
   {
    "duration": 156,
    "start_time": "2023-12-27T14:15:47.566Z"
   },
   {
    "duration": 179,
    "start_time": "2023-12-27T14:15:47.724Z"
   },
   {
    "duration": 113,
    "start_time": "2023-12-27T14:15:47.905Z"
   },
   {
    "duration": 10,
    "start_time": "2023-12-27T14:15:48.020Z"
   },
   {
    "duration": 20,
    "start_time": "2023-12-27T14:15:48.031Z"
   },
   {
    "duration": 158,
    "start_time": "2023-12-27T14:15:48.053Z"
   },
   {
    "duration": 114,
    "start_time": "2023-12-27T14:15:48.212Z"
   },
   {
    "duration": 199,
    "start_time": "2023-12-27T14:15:48.327Z"
   },
   {
    "duration": 120,
    "start_time": "2023-12-27T14:15:48.531Z"
   },
   {
    "duration": 207,
    "start_time": "2023-12-27T14:15:48.653Z"
   },
   {
    "duration": 33,
    "start_time": "2023-12-27T14:15:48.861Z"
   },
   {
    "duration": 14,
    "start_time": "2023-12-27T14:15:48.895Z"
   },
   {
    "duration": 22,
    "start_time": "2023-12-27T14:15:48.911Z"
   },
   {
    "duration": 26,
    "start_time": "2023-12-27T14:15:48.935Z"
   },
   {
    "duration": 18,
    "start_time": "2023-12-27T14:15:48.963Z"
   },
   {
    "duration": 15,
    "start_time": "2023-12-27T14:15:48.983Z"
   },
   {
    "duration": 15,
    "start_time": "2023-12-27T14:15:49.000Z"
   },
   {
    "duration": 20,
    "start_time": "2023-12-27T14:15:49.017Z"
   },
   {
    "duration": 200,
    "start_time": "2023-12-27T14:15:49.038Z"
   },
   {
    "duration": 4,
    "start_time": "2023-12-27T14:15:49.240Z"
   },
   {
    "duration": 39,
    "start_time": "2023-12-27T14:15:49.246Z"
   },
   {
    "duration": 198,
    "start_time": "2023-12-27T14:15:49.286Z"
   },
   {
    "duration": 15,
    "start_time": "2023-12-27T14:15:49.488Z"
   },
   {
    "duration": 17,
    "start_time": "2023-12-27T14:15:49.504Z"
   },
   {
    "duration": 7,
    "start_time": "2023-12-27T14:15:49.523Z"
   },
   {
    "duration": 11,
    "start_time": "2023-12-27T14:15:49.531Z"
   },
   {
    "duration": 21,
    "start_time": "2023-12-27T14:15:49.543Z"
   },
   {
    "duration": 222,
    "start_time": "2023-12-27T14:15:49.566Z"
   },
   {
    "duration": 4,
    "start_time": "2023-12-27T14:15:49.790Z"
   },
   {
    "duration": 28,
    "start_time": "2023-12-27T14:15:49.796Z"
   },
   {
    "duration": 178,
    "start_time": "2023-12-27T14:15:49.825Z"
   },
   {
    "duration": 882,
    "start_time": "2023-12-27T14:15:50.004Z"
   },
   {
    "duration": 6,
    "start_time": "2023-12-27T14:15:50.887Z"
   },
   {
    "duration": 23,
    "start_time": "2023-12-27T14:15:50.894Z"
   },
   {
    "duration": 5,
    "start_time": "2023-12-27T14:15:50.919Z"
   },
   {
    "duration": 154,
    "start_time": "2023-12-27T14:15:50.926Z"
   },
   {
    "duration": 18,
    "start_time": "2023-12-27T14:15:51.081Z"
   },
   {
    "duration": 28,
    "start_time": "2023-12-27T14:15:51.100Z"
   },
   {
    "duration": 16,
    "start_time": "2023-12-27T14:15:51.129Z"
   },
   {
    "duration": 31,
    "start_time": "2023-12-27T14:15:51.147Z"
   },
   {
    "duration": 21,
    "start_time": "2023-12-27T14:15:51.179Z"
   },
   {
    "duration": 6,
    "start_time": "2023-12-27T14:17:00.182Z"
   },
   {
    "duration": 1321,
    "start_time": "2023-12-27T14:17:24.362Z"
   },
   {
    "duration": 47,
    "start_time": "2023-12-27T14:17:25.685Z"
   },
   {
    "duration": 278,
    "start_time": "2023-12-27T14:17:25.734Z"
   },
   {
    "duration": 45,
    "start_time": "2023-12-27T14:17:26.015Z"
   },
   {
    "duration": 576,
    "start_time": "2023-12-27T14:17:26.062Z"
   },
   {
    "duration": 26,
    "start_time": "2023-12-27T14:17:26.640Z"
   },
   {
    "duration": 15,
    "start_time": "2023-12-27T14:17:26.667Z"
   },
   {
    "duration": 5,
    "start_time": "2023-12-27T14:17:26.688Z"
   },
   {
    "duration": 15,
    "start_time": "2023-12-27T14:17:26.694Z"
   },
   {
    "duration": 10,
    "start_time": "2023-12-27T14:17:26.711Z"
   },
   {
    "duration": 40,
    "start_time": "2023-12-27T14:17:26.733Z"
   },
   {
    "duration": 32,
    "start_time": "2023-12-27T14:17:26.775Z"
   },
   {
    "duration": 20,
    "start_time": "2023-12-27T14:17:26.808Z"
   },
   {
    "duration": 17,
    "start_time": "2023-12-27T14:17:26.829Z"
   },
   {
    "duration": 17,
    "start_time": "2023-12-27T14:17:26.847Z"
   },
   {
    "duration": 13,
    "start_time": "2023-12-27T14:17:26.865Z"
   },
   {
    "duration": 36,
    "start_time": "2023-12-27T14:17:26.880Z"
   },
   {
    "duration": 49,
    "start_time": "2023-12-27T14:17:26.918Z"
   },
   {
    "duration": 182,
    "start_time": "2023-12-27T14:17:26.968Z"
   },
   {
    "duration": 149,
    "start_time": "2023-12-27T14:17:27.151Z"
   },
   {
    "duration": 167,
    "start_time": "2023-12-27T14:17:27.301Z"
   },
   {
    "duration": 103,
    "start_time": "2023-12-27T14:17:27.469Z"
   },
   {
    "duration": 20,
    "start_time": "2023-12-27T14:17:27.574Z"
   },
   {
    "duration": 26,
    "start_time": "2023-12-27T14:17:27.596Z"
   },
   {
    "duration": 178,
    "start_time": "2023-12-27T14:17:27.624Z"
   },
   {
    "duration": 116,
    "start_time": "2023-12-27T14:17:27.804Z"
   },
   {
    "duration": 201,
    "start_time": "2023-12-27T14:17:27.922Z"
   },
   {
    "duration": 118,
    "start_time": "2023-12-27T14:17:28.127Z"
   },
   {
    "duration": 201,
    "start_time": "2023-12-27T14:17:28.247Z"
   },
   {
    "duration": 27,
    "start_time": "2023-12-27T14:17:28.449Z"
   },
   {
    "duration": 15,
    "start_time": "2023-12-27T14:17:28.488Z"
   },
   {
    "duration": 42,
    "start_time": "2023-12-27T14:17:28.504Z"
   },
   {
    "duration": 63,
    "start_time": "2023-12-27T14:17:28.547Z"
   },
   {
    "duration": 54,
    "start_time": "2023-12-27T14:17:28.612Z"
   },
   {
    "duration": 59,
    "start_time": "2023-12-27T14:17:28.668Z"
   },
   {
    "duration": 116,
    "start_time": "2023-12-27T14:17:28.729Z"
   },
   {
    "duration": 92,
    "start_time": "2023-12-27T14:17:28.846Z"
   },
   {
    "duration": 218,
    "start_time": "2023-12-27T14:17:28.940Z"
   },
   {
    "duration": 5,
    "start_time": "2023-12-27T14:17:29.159Z"
   },
   {
    "duration": 42,
    "start_time": "2023-12-27T14:17:29.165Z"
   },
   {
    "duration": 189,
    "start_time": "2023-12-27T14:17:29.208Z"
   },
   {
    "duration": 15,
    "start_time": "2023-12-27T14:17:29.399Z"
   },
   {
    "duration": 57,
    "start_time": "2023-12-27T14:17:29.415Z"
   },
   {
    "duration": 25,
    "start_time": "2023-12-27T14:17:29.473Z"
   },
   {
    "duration": 17,
    "start_time": "2023-12-27T14:17:29.499Z"
   },
   {
    "duration": 25,
    "start_time": "2023-12-27T14:17:29.517Z"
   },
   {
    "duration": 208,
    "start_time": "2023-12-27T14:17:29.544Z"
   },
   {
    "duration": 5,
    "start_time": "2023-12-27T14:17:29.754Z"
   },
   {
    "duration": 123,
    "start_time": "2023-12-27T14:17:29.761Z"
   },
   {
    "duration": 181,
    "start_time": "2023-12-27T14:17:29.886Z"
   },
   {
    "duration": 5,
    "start_time": "2023-12-27T14:17:30.069Z"
   },
   {
    "duration": 1018,
    "start_time": "2023-12-27T14:17:30.076Z"
   },
   {
    "duration": 12,
    "start_time": "2023-12-27T14:17:31.096Z"
   },
   {
    "duration": 254,
    "start_time": "2023-12-27T14:17:31.109Z"
   },
   {
    "duration": 375,
    "start_time": "2023-12-27T14:17:31.365Z"
   },
   {
    "duration": 205,
    "start_time": "2023-12-27T14:17:31.742Z"
   },
   {
    "duration": 80,
    "start_time": "2023-12-27T14:17:31.949Z"
   },
   {
    "duration": 36,
    "start_time": "2023-12-27T14:17:32.031Z"
   },
   {
    "duration": 44,
    "start_time": "2023-12-27T14:17:32.068Z"
   },
   {
    "duration": 37,
    "start_time": "2023-12-27T14:17:32.114Z"
   },
   {
    "duration": 6,
    "start_time": "2023-12-27T14:18:51.351Z"
   },
   {
    "duration": 1275,
    "start_time": "2023-12-27T14:19:02.225Z"
   },
   {
    "duration": 48,
    "start_time": "2023-12-27T14:19:03.502Z"
   },
   {
    "duration": 297,
    "start_time": "2023-12-27T14:19:03.551Z"
   },
   {
    "duration": 47,
    "start_time": "2023-12-27T14:19:03.850Z"
   },
   {
    "duration": 573,
    "start_time": "2023-12-27T14:19:03.899Z"
   },
   {
    "duration": 26,
    "start_time": "2023-12-27T14:19:04.474Z"
   },
   {
    "duration": 16,
    "start_time": "2023-12-27T14:19:04.502Z"
   },
   {
    "duration": 18,
    "start_time": "2023-12-27T14:19:04.520Z"
   },
   {
    "duration": 47,
    "start_time": "2023-12-27T14:19:04.539Z"
   },
   {
    "duration": 38,
    "start_time": "2023-12-27T14:19:04.588Z"
   },
   {
    "duration": 27,
    "start_time": "2023-12-27T14:19:04.628Z"
   },
   {
    "duration": 44,
    "start_time": "2023-12-27T14:19:04.657Z"
   },
   {
    "duration": 83,
    "start_time": "2023-12-27T14:19:04.703Z"
   },
   {
    "duration": 21,
    "start_time": "2023-12-27T14:19:04.787Z"
   },
   {
    "duration": 33,
    "start_time": "2023-12-27T14:19:04.810Z"
   },
   {
    "duration": 19,
    "start_time": "2023-12-27T14:19:04.846Z"
   },
   {
    "duration": 23,
    "start_time": "2023-12-27T14:19:04.866Z"
   },
   {
    "duration": 13,
    "start_time": "2023-12-27T14:19:04.891Z"
   },
   {
    "duration": 166,
    "start_time": "2023-12-27T14:19:04.906Z"
   },
   {
    "duration": 142,
    "start_time": "2023-12-27T14:19:05.074Z"
   },
   {
    "duration": 161,
    "start_time": "2023-12-27T14:19:05.218Z"
   },
   {
    "duration": 107,
    "start_time": "2023-12-27T14:19:05.381Z"
   },
   {
    "duration": 10,
    "start_time": "2023-12-27T14:19:05.490Z"
   },
   {
    "duration": 81,
    "start_time": "2023-12-27T14:19:05.501Z"
   },
   {
    "duration": 171,
    "start_time": "2023-12-27T14:19:05.584Z"
   },
   {
    "duration": 111,
    "start_time": "2023-12-27T14:19:05.758Z"
   },
   {
    "duration": 200,
    "start_time": "2023-12-27T14:19:05.871Z"
   },
   {
    "duration": 116,
    "start_time": "2023-12-27T14:19:06.075Z"
   },
   {
    "duration": 187,
    "start_time": "2023-12-27T14:19:06.193Z"
   },
   {
    "duration": 28,
    "start_time": "2023-12-27T14:19:06.382Z"
   },
   {
    "duration": 14,
    "start_time": "2023-12-27T14:19:06.412Z"
   },
   {
    "duration": 12,
    "start_time": "2023-12-27T14:19:06.428Z"
   },
   {
    "duration": 25,
    "start_time": "2023-12-27T14:19:06.442Z"
   },
   {
    "duration": 12,
    "start_time": "2023-12-27T14:19:06.488Z"
   },
   {
    "duration": 16,
    "start_time": "2023-12-27T14:19:06.502Z"
   },
   {
    "duration": 8,
    "start_time": "2023-12-27T14:19:06.519Z"
   },
   {
    "duration": 17,
    "start_time": "2023-12-27T14:19:06.529Z"
   },
   {
    "duration": 201,
    "start_time": "2023-12-27T14:19:06.547Z"
   },
   {
    "duration": 4,
    "start_time": "2023-12-27T14:19:06.750Z"
   },
   {
    "duration": 8,
    "start_time": "2023-12-27T14:19:06.756Z"
   },
   {
    "duration": 191,
    "start_time": "2023-12-27T14:19:06.765Z"
   },
   {
    "duration": 14,
    "start_time": "2023-12-27T14:19:06.958Z"
   },
   {
    "duration": 23,
    "start_time": "2023-12-27T14:19:06.974Z"
   },
   {
    "duration": 7,
    "start_time": "2023-12-27T14:19:06.999Z"
   },
   {
    "duration": 10,
    "start_time": "2023-12-27T14:19:07.008Z"
   },
   {
    "duration": 11,
    "start_time": "2023-12-27T14:19:07.020Z"
   },
   {
    "duration": 221,
    "start_time": "2023-12-27T14:19:07.032Z"
   },
   {
    "duration": 5,
    "start_time": "2023-12-27T14:19:07.254Z"
   },
   {
    "duration": 21,
    "start_time": "2023-12-27T14:19:07.261Z"
   },
   {
    "duration": 199,
    "start_time": "2023-12-27T14:19:07.284Z"
   },
   {
    "duration": 7,
    "start_time": "2023-12-27T14:19:07.484Z"
   },
   {
    "duration": 945,
    "start_time": "2023-12-27T14:19:07.492Z"
   },
   {
    "duration": 11,
    "start_time": "2023-12-27T14:19:08.438Z"
   },
   {
    "duration": 72,
    "start_time": "2023-12-27T14:19:08.450Z"
   },
   {
    "duration": 169,
    "start_time": "2023-12-27T14:19:08.523Z"
   },
   {
    "duration": 11,
    "start_time": "2023-12-27T14:19:08.694Z"
   },
   {
    "duration": 8,
    "start_time": "2023-12-27T14:19:08.707Z"
   },
   {
    "duration": 10,
    "start_time": "2023-12-27T14:19:08.716Z"
   },
   {
    "duration": 6,
    "start_time": "2023-12-27T14:19:08.727Z"
   },
   {
    "duration": 15,
    "start_time": "2023-12-27T14:19:08.735Z"
   },
   {
    "duration": 4,
    "start_time": "2023-12-27T14:27:04.924Z"
   },
   {
    "duration": 4,
    "start_time": "2023-12-27T14:27:47.445Z"
   },
   {
    "duration": 1250,
    "start_time": "2023-12-27T14:28:26.299Z"
   },
   {
    "duration": 1180,
    "start_time": "2023-12-27T14:33:19.072Z"
   },
   {
    "duration": 9,
    "start_time": "2023-12-27T14:33:47.673Z"
   },
   {
    "duration": 1224,
    "start_time": "2023-12-27T14:34:25.355Z"
   },
   {
    "duration": 21,
    "start_time": "2023-12-27T14:35:51.014Z"
   },
   {
    "duration": 5,
    "start_time": "2023-12-27T14:48:54.546Z"
   },
   {
    "duration": 8,
    "start_time": "2023-12-27T14:49:52.939Z"
   },
   {
    "duration": 9,
    "start_time": "2023-12-27T14:50:11.452Z"
   },
   {
    "duration": 5,
    "start_time": "2023-12-27T14:50:50.207Z"
   },
   {
    "duration": 5,
    "start_time": "2023-12-27T14:51:01.362Z"
   },
   {
    "duration": 913,
    "start_time": "2023-12-27T14:59:47.238Z"
   },
   {
    "duration": 899,
    "start_time": "2023-12-27T15:00:55.957Z"
   },
   {
    "duration": 82,
    "start_time": "2023-12-27T15:01:47.182Z"
   },
   {
    "duration": 885,
    "start_time": "2023-12-27T15:01:53.051Z"
   },
   {
    "duration": 960,
    "start_time": "2023-12-27T15:02:16.619Z"
   },
   {
    "duration": 874,
    "start_time": "2023-12-27T15:02:52.627Z"
   },
   {
    "duration": 916,
    "start_time": "2023-12-27T15:04:00.888Z"
   },
   {
    "duration": 999,
    "start_time": "2023-12-27T15:04:31.487Z"
   },
   {
    "duration": 10,
    "start_time": "2023-12-27T15:05:13.560Z"
   },
   {
    "duration": 9,
    "start_time": "2023-12-27T15:05:38.819Z"
   },
   {
    "duration": 81,
    "start_time": "2023-12-27T15:53:51.483Z"
   },
   {
    "duration": 0,
    "start_time": "2023-12-27T15:54:08.109Z"
   },
   {
    "duration": 3449,
    "start_time": "2023-12-27T15:54:34.593Z"
   },
   {
    "duration": 10,
    "start_time": "2023-12-27T15:57:00.935Z"
   },
   {
    "duration": 208,
    "start_time": "2023-12-27T15:57:20.217Z"
   },
   {
    "duration": 12,
    "start_time": "2023-12-27T15:57:42.292Z"
   },
   {
    "duration": 201,
    "start_time": "2023-12-27T16:02:59.716Z"
   },
   {
    "duration": 248,
    "start_time": "2023-12-27T16:08:13.640Z"
   },
   {
    "duration": 312,
    "start_time": "2023-12-27T16:08:49.519Z"
   },
   {
    "duration": 18,
    "start_time": "2023-12-27T16:12:23.312Z"
   },
   {
    "duration": 255,
    "start_time": "2023-12-27T16:13:39.215Z"
   },
   {
    "duration": 268,
    "start_time": "2023-12-27T16:15:18.104Z"
   },
   {
    "duration": 277,
    "start_time": "2023-12-27T16:15:44.704Z"
   },
   {
    "duration": 267,
    "start_time": "2023-12-27T16:17:37.510Z"
   },
   {
    "duration": 260,
    "start_time": "2023-12-27T16:18:18.097Z"
   },
   {
    "duration": 377,
    "start_time": "2023-12-27T16:18:43.067Z"
   },
   {
    "duration": 362,
    "start_time": "2023-12-27T16:20:15.236Z"
   },
   {
    "duration": 185,
    "start_time": "2023-12-27T16:23:35.382Z"
   },
   {
    "duration": 179,
    "start_time": "2023-12-27T16:25:09.895Z"
   },
   {
    "duration": 5,
    "start_time": "2023-12-27T16:28:16.395Z"
   },
   {
    "duration": 5,
    "start_time": "2023-12-27T16:28:38.242Z"
   },
   {
    "duration": 5,
    "start_time": "2023-12-27T16:28:52.988Z"
   },
   {
    "duration": 5,
    "start_time": "2023-12-27T16:29:05.429Z"
   },
   {
    "duration": 19,
    "start_time": "2023-12-27T16:36:22.661Z"
   },
   {
    "duration": 32,
    "start_time": "2023-12-27T16:37:51.610Z"
   },
   {
    "duration": 27,
    "start_time": "2023-12-27T16:42:37.642Z"
   },
   {
    "duration": 1282,
    "start_time": "2023-12-27T16:42:56.524Z"
   },
   {
    "duration": 46,
    "start_time": "2023-12-27T16:42:57.808Z"
   },
   {
    "duration": 275,
    "start_time": "2023-12-27T16:42:57.856Z"
   },
   {
    "duration": 44,
    "start_time": "2023-12-27T16:42:58.133Z"
   },
   {
    "duration": 582,
    "start_time": "2023-12-27T16:42:58.179Z"
   },
   {
    "duration": 28,
    "start_time": "2023-12-27T16:42:58.763Z"
   },
   {
    "duration": 15,
    "start_time": "2023-12-27T16:42:58.792Z"
   },
   {
    "duration": 22,
    "start_time": "2023-12-27T16:42:58.808Z"
   },
   {
    "duration": 9,
    "start_time": "2023-12-27T16:42:58.831Z"
   },
   {
    "duration": 10,
    "start_time": "2023-12-27T16:42:58.842Z"
   },
   {
    "duration": 6,
    "start_time": "2023-12-27T16:42:58.853Z"
   },
   {
    "duration": 13,
    "start_time": "2023-12-27T16:42:58.860Z"
   },
   {
    "duration": 8,
    "start_time": "2023-12-27T16:42:58.889Z"
   },
   {
    "duration": 10,
    "start_time": "2023-12-27T16:42:58.899Z"
   },
   {
    "duration": 10,
    "start_time": "2023-12-27T16:42:58.911Z"
   },
   {
    "duration": 4,
    "start_time": "2023-12-27T16:42:58.923Z"
   },
   {
    "duration": 8,
    "start_time": "2023-12-27T16:42:58.928Z"
   },
   {
    "duration": 10,
    "start_time": "2023-12-27T16:42:58.938Z"
   },
   {
    "duration": 158,
    "start_time": "2023-12-27T16:42:58.949Z"
   },
   {
    "duration": 149,
    "start_time": "2023-12-27T16:42:59.108Z"
   },
   {
    "duration": 162,
    "start_time": "2023-12-27T16:42:59.259Z"
   },
   {
    "duration": 112,
    "start_time": "2023-12-27T16:42:59.422Z"
   },
   {
    "duration": 11,
    "start_time": "2023-12-27T16:42:59.535Z"
   },
   {
    "duration": 12,
    "start_time": "2023-12-27T16:42:59.548Z"
   },
   {
    "duration": 163,
    "start_time": "2023-12-27T16:42:59.562Z"
   },
   {
    "duration": 116,
    "start_time": "2023-12-27T16:42:59.727Z"
   },
   {
    "duration": 184,
    "start_time": "2023-12-27T16:42:59.845Z"
   },
   {
    "duration": 115,
    "start_time": "2023-12-27T16:43:00.033Z"
   },
   {
    "duration": 195,
    "start_time": "2023-12-27T16:43:00.149Z"
   },
   {
    "duration": 27,
    "start_time": "2023-12-27T16:43:00.346Z"
   },
   {
    "duration": 15,
    "start_time": "2023-12-27T16:43:00.388Z"
   },
   {
    "duration": 41,
    "start_time": "2023-12-27T16:43:00.405Z"
   },
   {
    "duration": 77,
    "start_time": "2023-12-27T16:43:00.448Z"
   },
   {
    "duration": 143,
    "start_time": "2023-12-27T16:43:00.527Z"
   },
   {
    "duration": 96,
    "start_time": "2023-12-27T16:43:00.671Z"
   },
   {
    "duration": 68,
    "start_time": "2023-12-27T16:43:00.769Z"
   },
   {
    "duration": 51,
    "start_time": "2023-12-27T16:43:00.839Z"
   },
   {
    "duration": 209,
    "start_time": "2023-12-27T16:43:00.892Z"
   },
   {
    "duration": 6,
    "start_time": "2023-12-27T16:43:01.103Z"
   },
   {
    "duration": 46,
    "start_time": "2023-12-27T16:43:01.111Z"
   },
   {
    "duration": 202,
    "start_time": "2023-12-27T16:43:01.159Z"
   },
   {
    "duration": 26,
    "start_time": "2023-12-27T16:43:01.363Z"
   },
   {
    "duration": 13,
    "start_time": "2023-12-27T16:43:01.391Z"
   },
   {
    "duration": 38,
    "start_time": "2023-12-27T16:43:01.406Z"
   },
   {
    "duration": 47,
    "start_time": "2023-12-27T16:43:01.446Z"
   },
   {
    "duration": 53,
    "start_time": "2023-12-27T16:43:01.495Z"
   },
   {
    "duration": 241,
    "start_time": "2023-12-27T16:43:01.549Z"
   },
   {
    "duration": 5,
    "start_time": "2023-12-27T16:43:01.792Z"
   },
   {
    "duration": 72,
    "start_time": "2023-12-27T16:43:01.799Z"
   },
   {
    "duration": 230,
    "start_time": "2023-12-27T16:43:01.873Z"
   },
   {
    "duration": 48,
    "start_time": "2023-12-27T16:43:02.105Z"
   },
   {
    "duration": 985,
    "start_time": "2023-12-27T16:43:02.155Z"
   },
   {
    "duration": 13,
    "start_time": "2023-12-27T16:43:03.142Z"
   },
   {
    "duration": 44,
    "start_time": "2023-12-27T16:43:03.157Z"
   },
   {
    "duration": 29,
    "start_time": "2023-12-27T16:43:03.203Z"
   },
   {
    "duration": 47,
    "start_time": "2023-12-27T16:43:03.233Z"
   },
   {
    "duration": 1314,
    "start_time": "2023-12-27T16:43:03.282Z"
   },
   {
    "duration": 0,
    "start_time": "2023-12-27T16:43:04.597Z"
   },
   {
    "duration": 0,
    "start_time": "2023-12-27T16:43:04.599Z"
   },
   {
    "duration": 0,
    "start_time": "2023-12-27T16:43:04.600Z"
   },
   {
    "duration": 0,
    "start_time": "2023-12-27T16:43:04.601Z"
   },
   {
    "duration": 1218,
    "start_time": "2023-12-27T16:43:37.084Z"
   },
   {
    "duration": 8,
    "start_time": "2023-12-27T16:46:12.960Z"
   },
   {
    "duration": 4,
    "start_time": "2023-12-27T16:46:24.586Z"
   },
   {
    "duration": 28,
    "start_time": "2023-12-27T16:46:29.646Z"
   },
   {
    "duration": 29,
    "start_time": "2023-12-27T16:52:39.759Z"
   },
   {
    "duration": 17,
    "start_time": "2023-12-27T16:52:49.619Z"
   },
   {
    "duration": 18,
    "start_time": "2023-12-27T16:53:51.707Z"
   },
   {
    "duration": 1295,
    "start_time": "2023-12-27T16:54:45.674Z"
   },
   {
    "duration": 46,
    "start_time": "2023-12-27T16:54:46.971Z"
   },
   {
    "duration": 278,
    "start_time": "2023-12-27T16:54:47.019Z"
   },
   {
    "duration": 43,
    "start_time": "2023-12-27T16:54:47.299Z"
   },
   {
    "duration": 572,
    "start_time": "2023-12-27T16:54:47.344Z"
   },
   {
    "duration": 26,
    "start_time": "2023-12-27T16:54:47.918Z"
   },
   {
    "duration": 15,
    "start_time": "2023-12-27T16:54:47.946Z"
   },
   {
    "duration": 10,
    "start_time": "2023-12-27T16:54:47.962Z"
   },
   {
    "duration": 16,
    "start_time": "2023-12-27T16:54:47.974Z"
   },
   {
    "duration": 16,
    "start_time": "2023-12-27T16:54:47.993Z"
   },
   {
    "duration": 7,
    "start_time": "2023-12-27T16:54:48.010Z"
   },
   {
    "duration": 7,
    "start_time": "2023-12-27T16:54:48.019Z"
   },
   {
    "duration": 8,
    "start_time": "2023-12-27T16:54:48.027Z"
   },
   {
    "duration": 19,
    "start_time": "2023-12-27T16:54:48.036Z"
   },
   {
    "duration": 12,
    "start_time": "2023-12-27T16:54:48.057Z"
   },
   {
    "duration": 6,
    "start_time": "2023-12-27T16:54:48.070Z"
   },
   {
    "duration": 3,
    "start_time": "2023-12-27T16:54:48.088Z"
   },
   {
    "duration": 6,
    "start_time": "2023-12-27T16:54:48.092Z"
   },
   {
    "duration": 169,
    "start_time": "2023-12-27T16:54:48.099Z"
   },
   {
    "duration": 151,
    "start_time": "2023-12-27T16:54:48.270Z"
   },
   {
    "duration": 154,
    "start_time": "2023-12-27T16:54:48.423Z"
   },
   {
    "duration": 109,
    "start_time": "2023-12-27T16:54:48.579Z"
   },
   {
    "duration": 11,
    "start_time": "2023-12-27T16:54:48.689Z"
   },
   {
    "duration": 39,
    "start_time": "2023-12-27T16:54:48.702Z"
   },
   {
    "duration": 187,
    "start_time": "2023-12-27T16:54:48.743Z"
   },
   {
    "duration": 135,
    "start_time": "2023-12-27T16:54:48.932Z"
   },
   {
    "duration": 209,
    "start_time": "2023-12-27T16:54:49.068Z"
   },
   {
    "duration": 109,
    "start_time": "2023-12-27T16:54:49.287Z"
   },
   {
    "duration": 198,
    "start_time": "2023-12-27T16:54:49.398Z"
   },
   {
    "duration": 25,
    "start_time": "2023-12-27T16:54:49.598Z"
   },
   {
    "duration": 21,
    "start_time": "2023-12-27T16:54:49.625Z"
   },
   {
    "duration": 18,
    "start_time": "2023-12-27T16:54:49.648Z"
   },
   {
    "duration": 34,
    "start_time": "2023-12-27T16:54:49.667Z"
   },
   {
    "duration": 15,
    "start_time": "2023-12-27T16:54:49.702Z"
   },
   {
    "duration": 9,
    "start_time": "2023-12-27T16:54:49.719Z"
   },
   {
    "duration": 7,
    "start_time": "2023-12-27T16:54:49.730Z"
   },
   {
    "duration": 9,
    "start_time": "2023-12-27T16:54:49.739Z"
   },
   {
    "duration": 235,
    "start_time": "2023-12-27T16:54:49.749Z"
   },
   {
    "duration": 6,
    "start_time": "2023-12-27T16:54:49.987Z"
   },
   {
    "duration": 74,
    "start_time": "2023-12-27T16:54:49.995Z"
   },
   {
    "duration": 210,
    "start_time": "2023-12-27T16:54:50.071Z"
   },
   {
    "duration": 15,
    "start_time": "2023-12-27T16:54:50.287Z"
   },
   {
    "duration": 71,
    "start_time": "2023-12-27T16:54:50.303Z"
   },
   {
    "duration": 73,
    "start_time": "2023-12-27T16:54:50.375Z"
   },
   {
    "duration": 122,
    "start_time": "2023-12-27T16:54:50.449Z"
   },
   {
    "duration": 95,
    "start_time": "2023-12-27T16:54:50.573Z"
   },
   {
    "duration": 301,
    "start_time": "2023-12-27T16:54:50.669Z"
   },
   {
    "duration": 5,
    "start_time": "2023-12-27T16:54:50.971Z"
   },
   {
    "duration": 49,
    "start_time": "2023-12-27T16:54:50.977Z"
   },
   {
    "duration": 234,
    "start_time": "2023-12-27T16:54:51.027Z"
   },
   {
    "duration": 7,
    "start_time": "2023-12-27T16:54:51.262Z"
   },
   {
    "duration": 906,
    "start_time": "2023-12-27T16:54:51.270Z"
   },
   {
    "duration": 20,
    "start_time": "2023-12-27T16:54:52.178Z"
   },
   {
    "duration": 18,
    "start_time": "2023-12-27T16:54:52.200Z"
   },
   {
    "duration": 15,
    "start_time": "2023-12-27T16:54:52.219Z"
   },
   {
    "duration": 14,
    "start_time": "2023-12-27T16:54:52.236Z"
   },
   {
    "duration": 4,
    "start_time": "2023-12-27T16:54:52.251Z"
   },
   {
    "duration": 134,
    "start_time": "2023-12-27T16:54:52.257Z"
   },
   {
    "duration": 0,
    "start_time": "2023-12-27T16:54:52.393Z"
   },
   {
    "duration": 0,
    "start_time": "2023-12-27T16:54:52.394Z"
   },
   {
    "duration": 0,
    "start_time": "2023-12-27T16:54:52.396Z"
   },
   {
    "duration": 1301,
    "start_time": "2023-12-27T17:50:44.385Z"
   },
   {
    "duration": 49,
    "start_time": "2023-12-27T17:50:45.688Z"
   },
   {
    "duration": 281,
    "start_time": "2023-12-27T17:50:45.738Z"
   },
   {
    "duration": 44,
    "start_time": "2023-12-27T17:50:46.021Z"
   },
   {
    "duration": 565,
    "start_time": "2023-12-27T17:50:46.067Z"
   },
   {
    "duration": 26,
    "start_time": "2023-12-27T17:50:46.634Z"
   },
   {
    "duration": 14,
    "start_time": "2023-12-27T17:50:46.662Z"
   },
   {
    "duration": 16,
    "start_time": "2023-12-27T17:50:46.678Z"
   },
   {
    "duration": 6,
    "start_time": "2023-12-27T17:50:46.696Z"
   },
   {
    "duration": 11,
    "start_time": "2023-12-27T17:50:46.705Z"
   },
   {
    "duration": 6,
    "start_time": "2023-12-27T17:50:46.718Z"
   },
   {
    "duration": 28,
    "start_time": "2023-12-27T17:50:46.725Z"
   },
   {
    "duration": 9,
    "start_time": "2023-12-27T17:50:46.755Z"
   },
   {
    "duration": 5,
    "start_time": "2023-12-27T17:50:46.765Z"
   },
   {
    "duration": 18,
    "start_time": "2023-12-27T17:50:46.771Z"
   },
   {
    "duration": 9,
    "start_time": "2023-12-27T17:50:46.790Z"
   },
   {
    "duration": 7,
    "start_time": "2023-12-27T17:50:46.801Z"
   },
   {
    "duration": 7,
    "start_time": "2023-12-27T17:50:46.809Z"
   },
   {
    "duration": 149,
    "start_time": "2023-12-27T17:50:46.817Z"
   },
   {
    "duration": 150,
    "start_time": "2023-12-27T17:50:46.968Z"
   },
   {
    "duration": 168,
    "start_time": "2023-12-27T17:50:47.120Z"
   },
   {
    "duration": 106,
    "start_time": "2023-12-27T17:50:47.290Z"
   },
   {
    "duration": 10,
    "start_time": "2023-12-27T17:50:47.398Z"
   },
   {
    "duration": 14,
    "start_time": "2023-12-27T17:50:47.410Z"
   },
   {
    "duration": 153,
    "start_time": "2023-12-27T17:50:47.426Z"
   },
   {
    "duration": 116,
    "start_time": "2023-12-27T17:50:47.588Z"
   },
   {
    "duration": 210,
    "start_time": "2023-12-27T17:50:47.706Z"
   },
   {
    "duration": 119,
    "start_time": "2023-12-27T17:50:47.919Z"
   },
   {
    "duration": 196,
    "start_time": "2023-12-27T17:50:48.040Z"
   },
   {
    "duration": 28,
    "start_time": "2023-12-27T17:50:48.237Z"
   },
   {
    "duration": 30,
    "start_time": "2023-12-27T17:50:48.267Z"
   },
   {
    "duration": 10,
    "start_time": "2023-12-27T17:50:48.300Z"
   },
   {
    "duration": 22,
    "start_time": "2023-12-27T17:50:48.312Z"
   },
   {
    "duration": 13,
    "start_time": "2023-12-27T17:50:48.335Z"
   },
   {
    "duration": 8,
    "start_time": "2023-12-27T17:50:48.350Z"
   },
   {
    "duration": 6,
    "start_time": "2023-12-27T17:50:48.389Z"
   },
   {
    "duration": 11,
    "start_time": "2023-12-27T17:50:48.397Z"
   },
   {
    "duration": 205,
    "start_time": "2023-12-27T17:50:48.410Z"
   },
   {
    "duration": 6,
    "start_time": "2023-12-27T17:50:48.617Z"
   },
   {
    "duration": 21,
    "start_time": "2023-12-27T17:50:48.625Z"
   },
   {
    "duration": 201,
    "start_time": "2023-12-27T17:50:48.648Z"
   },
   {
    "duration": 17,
    "start_time": "2023-12-27T17:50:48.852Z"
   },
   {
    "duration": 30,
    "start_time": "2023-12-27T17:50:48.870Z"
   },
   {
    "duration": 8,
    "start_time": "2023-12-27T17:50:48.902Z"
   },
   {
    "duration": 8,
    "start_time": "2023-12-27T17:50:48.912Z"
   },
   {
    "duration": 10,
    "start_time": "2023-12-27T17:50:48.922Z"
   },
   {
    "duration": 218,
    "start_time": "2023-12-27T17:50:48.933Z"
   },
   {
    "duration": 5,
    "start_time": "2023-12-27T17:50:49.152Z"
   },
   {
    "duration": 15,
    "start_time": "2023-12-27T17:50:49.158Z"
   },
   {
    "duration": 202,
    "start_time": "2023-12-27T17:50:49.175Z"
   },
   {
    "duration": 10,
    "start_time": "2023-12-27T17:50:49.379Z"
   },
   {
    "duration": 931,
    "start_time": "2023-12-27T17:50:49.390Z"
   },
   {
    "duration": 12,
    "start_time": "2023-12-27T17:50:50.323Z"
   },
   {
    "duration": 6,
    "start_time": "2023-12-27T17:50:50.337Z"
   },
   {
    "duration": 27,
    "start_time": "2023-12-27T17:50:50.344Z"
   },
   {
    "duration": 19,
    "start_time": "2023-12-27T17:50:50.372Z"
   },
   {
    "duration": 10,
    "start_time": "2023-12-27T17:50:50.392Z"
   },
   {
    "duration": 128,
    "start_time": "2023-12-27T17:50:50.404Z"
   },
   {
    "duration": 0,
    "start_time": "2023-12-27T17:50:50.534Z"
   },
   {
    "duration": 0,
    "start_time": "2023-12-27T17:50:50.535Z"
   },
   {
    "duration": 0,
    "start_time": "2023-12-27T17:50:50.536Z"
   },
   {
    "duration": 78,
    "start_time": "2023-12-27T17:51:34.542Z"
   },
   {
    "duration": 90,
    "start_time": "2023-12-27T17:53:16.636Z"
   },
   {
    "duration": 16,
    "start_time": "2023-12-27T17:53:40.880Z"
   },
   {
    "duration": 12,
    "start_time": "2023-12-27T17:56:01.050Z"
   },
   {
    "duration": 11,
    "start_time": "2023-12-27T17:56:12.984Z"
   },
   {
    "duration": 83,
    "start_time": "2023-12-27T17:57:31.541Z"
   },
   {
    "duration": 7,
    "start_time": "2023-12-27T17:58:10.890Z"
   },
   {
    "duration": 9,
    "start_time": "2023-12-27T17:59:31.625Z"
   },
   {
    "duration": 10,
    "start_time": "2023-12-27T17:59:55.407Z"
   },
   {
    "duration": 8,
    "start_time": "2023-12-27T18:06:02.953Z"
   },
   {
    "duration": 8,
    "start_time": "2023-12-27T18:06:31.610Z"
   },
   {
    "duration": 11,
    "start_time": "2023-12-27T18:06:47.405Z"
   },
   {
    "duration": 5,
    "start_time": "2023-12-27T18:07:37.375Z"
   },
   {
    "duration": 5,
    "start_time": "2023-12-27T18:08:51.081Z"
   },
   {
    "duration": 5,
    "start_time": "2023-12-27T18:09:10.749Z"
   },
   {
    "duration": 1291,
    "start_time": "2023-12-27T19:29:30.204Z"
   },
   {
    "duration": 54,
    "start_time": "2023-12-27T19:29:31.497Z"
   },
   {
    "duration": 316,
    "start_time": "2023-12-27T19:29:31.553Z"
   },
   {
    "duration": 43,
    "start_time": "2023-12-27T19:29:31.871Z"
   },
   {
    "duration": 583,
    "start_time": "2023-12-27T19:29:31.916Z"
   },
   {
    "duration": 27,
    "start_time": "2023-12-27T19:29:32.501Z"
   },
   {
    "duration": 15,
    "start_time": "2023-12-27T19:29:32.529Z"
   },
   {
    "duration": 6,
    "start_time": "2023-12-27T19:29:32.546Z"
   },
   {
    "duration": 9,
    "start_time": "2023-12-27T19:29:32.554Z"
   },
   {
    "duration": 22,
    "start_time": "2023-12-27T19:29:32.566Z"
   },
   {
    "duration": 6,
    "start_time": "2023-12-27T19:29:32.590Z"
   },
   {
    "duration": 26,
    "start_time": "2023-12-27T19:29:32.597Z"
   },
   {
    "duration": 9,
    "start_time": "2023-12-27T19:29:32.624Z"
   },
   {
    "duration": 6,
    "start_time": "2023-12-27T19:29:32.634Z"
   },
   {
    "duration": 6,
    "start_time": "2023-12-27T19:29:32.642Z"
   },
   {
    "duration": 5,
    "start_time": "2023-12-27T19:29:32.650Z"
   },
   {
    "duration": 14,
    "start_time": "2023-12-27T19:29:32.657Z"
   },
   {
    "duration": 31,
    "start_time": "2023-12-27T19:29:32.689Z"
   },
   {
    "duration": 156,
    "start_time": "2023-12-27T19:29:32.722Z"
   },
   {
    "duration": 151,
    "start_time": "2023-12-27T19:29:32.879Z"
   },
   {
    "duration": 179,
    "start_time": "2023-12-27T19:29:33.033Z"
   },
   {
    "duration": 114,
    "start_time": "2023-12-27T19:29:33.214Z"
   },
   {
    "duration": 11,
    "start_time": "2023-12-27T19:29:33.330Z"
   },
   {
    "duration": 10,
    "start_time": "2023-12-27T19:29:33.342Z"
   },
   {
    "duration": 180,
    "start_time": "2023-12-27T19:29:33.353Z"
   },
   {
    "duration": 125,
    "start_time": "2023-12-27T19:29:33.535Z"
   },
   {
    "duration": 226,
    "start_time": "2023-12-27T19:29:33.662Z"
   },
   {
    "duration": 113,
    "start_time": "2023-12-27T19:29:33.893Z"
   },
   {
    "duration": 196,
    "start_time": "2023-12-27T19:29:34.008Z"
   },
   {
    "duration": 28,
    "start_time": "2023-12-27T19:29:34.205Z"
   },
   {
    "duration": 17,
    "start_time": "2023-12-27T19:29:34.235Z"
   },
   {
    "duration": 34,
    "start_time": "2023-12-27T19:29:34.254Z"
   },
   {
    "duration": 24,
    "start_time": "2023-12-27T19:29:34.290Z"
   },
   {
    "duration": 14,
    "start_time": "2023-12-27T19:29:34.315Z"
   },
   {
    "duration": 8,
    "start_time": "2023-12-27T19:29:34.331Z"
   },
   {
    "duration": 5,
    "start_time": "2023-12-27T19:29:34.341Z"
   },
   {
    "duration": 47,
    "start_time": "2023-12-27T19:29:34.348Z"
   },
   {
    "duration": 193,
    "start_time": "2023-12-27T19:29:34.397Z"
   },
   {
    "duration": 6,
    "start_time": "2023-12-27T19:29:34.592Z"
   },
   {
    "duration": 8,
    "start_time": "2023-12-27T19:29:34.600Z"
   },
   {
    "duration": 199,
    "start_time": "2023-12-27T19:29:34.610Z"
   },
   {
    "duration": 16,
    "start_time": "2023-12-27T19:29:34.811Z"
   },
   {
    "duration": 12,
    "start_time": "2023-12-27T19:29:34.829Z"
   },
   {
    "duration": 21,
    "start_time": "2023-12-27T19:29:34.842Z"
   },
   {
    "duration": 8,
    "start_time": "2023-12-27T19:29:34.865Z"
   },
   {
    "duration": 9,
    "start_time": "2023-12-27T19:29:34.889Z"
   },
   {
    "duration": 221,
    "start_time": "2023-12-27T19:29:34.899Z"
   },
   {
    "duration": 5,
    "start_time": "2023-12-27T19:29:35.122Z"
   },
   {
    "duration": 8,
    "start_time": "2023-12-27T19:29:35.128Z"
   },
   {
    "duration": 205,
    "start_time": "2023-12-27T19:29:35.137Z"
   },
   {
    "duration": 7,
    "start_time": "2023-12-27T19:29:35.343Z"
   },
   {
    "duration": 924,
    "start_time": "2023-12-27T19:29:35.351Z"
   },
   {
    "duration": 20,
    "start_time": "2023-12-27T19:29:36.276Z"
   },
   {
    "duration": 7,
    "start_time": "2023-12-27T19:29:36.298Z"
   },
   {
    "duration": 14,
    "start_time": "2023-12-27T19:29:36.306Z"
   },
   {
    "duration": 15,
    "start_time": "2023-12-27T19:29:36.322Z"
   },
   {
    "duration": 4,
    "start_time": "2023-12-27T19:29:36.339Z"
   },
   {
    "duration": 15,
    "start_time": "2023-12-27T19:29:36.344Z"
   },
   {
    "duration": 29,
    "start_time": "2023-12-27T19:29:36.361Z"
   },
   {
    "duration": 6,
    "start_time": "2023-12-27T19:29:36.391Z"
   },
   {
    "duration": 6,
    "start_time": "2023-12-27T19:29:36.398Z"
   },
   {
    "duration": 15,
    "start_time": "2023-12-27T19:29:36.405Z"
   },
   {
    "duration": 141,
    "start_time": "2023-12-27T19:30:45.750Z"
   },
   {
    "duration": 220,
    "start_time": "2023-12-27T19:31:24.783Z"
   },
   {
    "duration": 125,
    "start_time": "2023-12-27T19:31:40.675Z"
   },
   {
    "duration": 155,
    "start_time": "2023-12-27T19:31:50.802Z"
   },
   {
    "duration": 119,
    "start_time": "2023-12-27T19:32:49.137Z"
   },
   {
    "duration": 161,
    "start_time": "2023-12-27T19:33:00.781Z"
   },
   {
    "duration": 93,
    "start_time": "2023-12-27T19:33:13.636Z"
   },
   {
    "duration": 260,
    "start_time": "2023-12-27T19:35:14.755Z"
   },
   {
    "duration": 236,
    "start_time": "2023-12-27T19:35:39.270Z"
   },
   {
    "duration": 148,
    "start_time": "2023-12-27T19:35:57.375Z"
   },
   {
    "duration": 138,
    "start_time": "2023-12-27T19:36:37.749Z"
   },
   {
    "duration": 158,
    "start_time": "2023-12-27T19:36:46.713Z"
   },
   {
    "duration": 201,
    "start_time": "2023-12-27T19:37:01.650Z"
   },
   {
    "duration": 198,
    "start_time": "2023-12-27T19:38:19.381Z"
   },
   {
    "duration": 276,
    "start_time": "2023-12-27T19:38:56.105Z"
   },
   {
    "duration": 3,
    "start_time": "2023-12-27T19:40:37.219Z"
   },
   {
    "duration": 3,
    "start_time": "2023-12-27T19:40:41.899Z"
   },
   {
    "duration": 5,
    "start_time": "2023-12-27T19:40:47.125Z"
   },
   {
    "duration": 11,
    "start_time": "2023-12-27T19:44:10.227Z"
   },
   {
    "duration": 17,
    "start_time": "2023-12-27T19:44:22.373Z"
   },
   {
    "duration": 16,
    "start_time": "2023-12-27T19:46:17.790Z"
   },
   {
    "duration": 236,
    "start_time": "2023-12-27T19:52:12.945Z"
   },
   {
    "duration": 8,
    "start_time": "2023-12-27T19:52:44.899Z"
   },
   {
    "duration": 14,
    "start_time": "2023-12-27T19:53:14.884Z"
   },
   {
    "duration": 6,
    "start_time": "2023-12-27T20:14:50.999Z"
   },
   {
    "duration": 4,
    "start_time": "2023-12-27T20:15:07.432Z"
   },
   {
    "duration": 5,
    "start_time": "2023-12-27T20:15:26.135Z"
   },
   {
    "duration": 6,
    "start_time": "2023-12-27T20:16:16.505Z"
   },
   {
    "duration": 5,
    "start_time": "2023-12-27T20:16:45.929Z"
   },
   {
    "duration": 8,
    "start_time": "2023-12-27T20:29:39.421Z"
   },
   {
    "duration": 6,
    "start_time": "2023-12-27T20:30:05.614Z"
   },
   {
    "duration": 4,
    "start_time": "2023-12-27T20:30:56.981Z"
   },
   {
    "duration": 5,
    "start_time": "2023-12-27T20:31:03.938Z"
   },
   {
    "duration": 5,
    "start_time": "2023-12-27T20:41:04.470Z"
   },
   {
    "duration": 5,
    "start_time": "2023-12-27T20:41:11.144Z"
   },
   {
    "duration": 148,
    "start_time": "2023-12-27T20:47:20.808Z"
   },
   {
    "duration": 8,
    "start_time": "2023-12-27T20:52:47.380Z"
   },
   {
    "duration": 8,
    "start_time": "2023-12-27T20:52:54.684Z"
   },
   {
    "duration": 7,
    "start_time": "2023-12-27T20:53:05.878Z"
   },
   {
    "duration": 8,
    "start_time": "2023-12-27T20:53:32.231Z"
   },
   {
    "duration": 7,
    "start_time": "2023-12-27T20:53:43.748Z"
   },
   {
    "duration": 1326,
    "start_time": "2023-12-27T21:02:46.079Z"
   },
   {
    "duration": 45,
    "start_time": "2023-12-27T21:02:47.407Z"
   },
   {
    "duration": 270,
    "start_time": "2023-12-27T21:02:47.454Z"
   },
   {
    "duration": 47,
    "start_time": "2023-12-27T21:02:47.726Z"
   },
   {
    "duration": 569,
    "start_time": "2023-12-27T21:02:47.775Z"
   },
   {
    "duration": 26,
    "start_time": "2023-12-27T21:02:48.347Z"
   },
   {
    "duration": 18,
    "start_time": "2023-12-27T21:02:48.375Z"
   },
   {
    "duration": 6,
    "start_time": "2023-12-27T21:02:48.395Z"
   },
   {
    "duration": 5,
    "start_time": "2023-12-27T21:02:48.403Z"
   },
   {
    "duration": 11,
    "start_time": "2023-12-27T21:02:48.411Z"
   },
   {
    "duration": 8,
    "start_time": "2023-12-27T21:02:48.424Z"
   },
   {
    "duration": 10,
    "start_time": "2023-12-27T21:02:48.434Z"
   },
   {
    "duration": 48,
    "start_time": "2023-12-27T21:02:48.446Z"
   },
   {
    "duration": 6,
    "start_time": "2023-12-27T21:02:48.495Z"
   },
   {
    "duration": 7,
    "start_time": "2023-12-27T21:02:48.502Z"
   },
   {
    "duration": 8,
    "start_time": "2023-12-27T21:02:48.510Z"
   },
   {
    "duration": 4,
    "start_time": "2023-12-27T21:02:48.520Z"
   },
   {
    "duration": 5,
    "start_time": "2023-12-27T21:02:48.526Z"
   },
   {
    "duration": 180,
    "start_time": "2023-12-27T21:02:48.532Z"
   },
   {
    "duration": 170,
    "start_time": "2023-12-27T21:02:48.713Z"
   },
   {
    "duration": 177,
    "start_time": "2023-12-27T21:02:48.887Z"
   },
   {
    "duration": 105,
    "start_time": "2023-12-27T21:02:49.066Z"
   },
   {
    "duration": 15,
    "start_time": "2023-12-27T21:02:49.173Z"
   },
   {
    "duration": 17,
    "start_time": "2023-12-27T21:02:49.190Z"
   },
   {
    "duration": 153,
    "start_time": "2023-12-27T21:02:49.209Z"
   },
   {
    "duration": 115,
    "start_time": "2023-12-27T21:02:49.364Z"
   },
   {
    "duration": 213,
    "start_time": "2023-12-27T21:02:49.480Z"
   },
   {
    "duration": 122,
    "start_time": "2023-12-27T21:02:49.697Z"
   },
   {
    "duration": 186,
    "start_time": "2023-12-27T21:02:49.821Z"
   },
   {
    "duration": 26,
    "start_time": "2023-12-27T21:02:50.009Z"
   },
   {
    "duration": 13,
    "start_time": "2023-12-27T21:02:50.037Z"
   },
   {
    "duration": 21,
    "start_time": "2023-12-27T21:02:50.052Z"
   },
   {
    "duration": 36,
    "start_time": "2023-12-27T21:02:50.074Z"
   },
   {
    "duration": 11,
    "start_time": "2023-12-27T21:02:50.112Z"
   },
   {
    "duration": 10,
    "start_time": "2023-12-27T21:02:50.125Z"
   },
   {
    "duration": 6,
    "start_time": "2023-12-27T21:02:50.137Z"
   },
   {
    "duration": 23,
    "start_time": "2023-12-27T21:02:50.144Z"
   },
   {
    "duration": 198,
    "start_time": "2023-12-27T21:02:50.168Z"
   },
   {
    "duration": 4,
    "start_time": "2023-12-27T21:02:50.368Z"
   },
   {
    "duration": 21,
    "start_time": "2023-12-27T21:02:50.373Z"
   },
   {
    "duration": 181,
    "start_time": "2023-12-27T21:02:50.396Z"
   },
   {
    "duration": 24,
    "start_time": "2023-12-27T21:02:50.578Z"
   },
   {
    "duration": 12,
    "start_time": "2023-12-27T21:02:50.604Z"
   },
   {
    "duration": 7,
    "start_time": "2023-12-27T21:02:50.618Z"
   },
   {
    "duration": 12,
    "start_time": "2023-12-27T21:02:50.626Z"
   },
   {
    "duration": 29,
    "start_time": "2023-12-27T21:02:50.640Z"
   },
   {
    "duration": 198,
    "start_time": "2023-12-27T21:02:50.671Z"
   },
   {
    "duration": 4,
    "start_time": "2023-12-27T21:02:50.871Z"
   },
   {
    "duration": 16,
    "start_time": "2023-12-27T21:02:50.876Z"
   },
   {
    "duration": 184,
    "start_time": "2023-12-27T21:02:50.894Z"
   },
   {
    "duration": 7,
    "start_time": "2023-12-27T21:02:51.087Z"
   },
   {
    "duration": 885,
    "start_time": "2023-12-27T21:02:51.095Z"
   },
   {
    "duration": 32,
    "start_time": "2023-12-27T21:02:51.982Z"
   },
   {
    "duration": 9,
    "start_time": "2023-12-27T21:02:52.016Z"
   },
   {
    "duration": 10,
    "start_time": "2023-12-27T21:02:52.027Z"
   },
   {
    "duration": 15,
    "start_time": "2023-12-27T21:02:52.038Z"
   },
   {
    "duration": 5,
    "start_time": "2023-12-27T21:02:52.055Z"
   },
   {
    "duration": 107,
    "start_time": "2023-12-27T21:02:52.088Z"
   },
   {
    "duration": 0,
    "start_time": "2023-12-27T21:02:52.197Z"
   },
   {
    "duration": 0,
    "start_time": "2023-12-27T21:02:52.198Z"
   },
   {
    "duration": 0,
    "start_time": "2023-12-27T21:02:52.200Z"
   },
   {
    "duration": 11,
    "start_time": "2023-12-27T21:06:33.277Z"
   },
   {
    "duration": 14,
    "start_time": "2023-12-27T21:07:40.174Z"
   },
   {
    "duration": 12,
    "start_time": "2023-12-27T21:08:01.587Z"
   },
   {
    "duration": 5,
    "start_time": "2023-12-27T21:08:46.419Z"
   },
   {
    "duration": 11,
    "start_time": "2023-12-27T21:09:20.705Z"
   },
   {
    "duration": 12,
    "start_time": "2023-12-27T21:09:27.625Z"
   },
   {
    "duration": 10,
    "start_time": "2023-12-27T21:09:36.661Z"
   },
   {
    "duration": 10,
    "start_time": "2023-12-27T21:09:52.159Z"
   },
   {
    "duration": 1346,
    "start_time": "2023-12-27T21:16:41.447Z"
   },
   {
    "duration": 47,
    "start_time": "2023-12-27T21:16:42.795Z"
   },
   {
    "duration": 279,
    "start_time": "2023-12-27T21:16:42.843Z"
   },
   {
    "duration": 44,
    "start_time": "2023-12-27T21:16:43.124Z"
   },
   {
    "duration": 578,
    "start_time": "2023-12-27T21:16:43.170Z"
   },
   {
    "duration": 29,
    "start_time": "2023-12-27T21:16:43.750Z"
   },
   {
    "duration": 15,
    "start_time": "2023-12-27T21:16:43.781Z"
   },
   {
    "duration": 12,
    "start_time": "2023-12-27T21:16:43.797Z"
   },
   {
    "duration": 5,
    "start_time": "2023-12-27T21:16:43.811Z"
   },
   {
    "duration": 16,
    "start_time": "2023-12-27T21:16:43.818Z"
   },
   {
    "duration": 5,
    "start_time": "2023-12-27T21:16:43.835Z"
   },
   {
    "duration": 12,
    "start_time": "2023-12-27T21:16:43.842Z"
   },
   {
    "duration": 12,
    "start_time": "2023-12-27T21:16:43.855Z"
   },
   {
    "duration": 24,
    "start_time": "2023-12-27T21:16:43.868Z"
   },
   {
    "duration": 17,
    "start_time": "2023-12-27T21:16:43.893Z"
   },
   {
    "duration": 6,
    "start_time": "2023-12-27T21:16:43.911Z"
   },
   {
    "duration": 7,
    "start_time": "2023-12-27T21:16:43.919Z"
   },
   {
    "duration": 5,
    "start_time": "2023-12-27T21:16:43.927Z"
   },
   {
    "duration": 168,
    "start_time": "2023-12-27T21:16:43.934Z"
   },
   {
    "duration": 157,
    "start_time": "2023-12-27T21:16:44.104Z"
   },
   {
    "duration": 173,
    "start_time": "2023-12-27T21:16:44.262Z"
   },
   {
    "duration": 102,
    "start_time": "2023-12-27T21:16:44.436Z"
   },
   {
    "duration": 10,
    "start_time": "2023-12-27T21:16:44.540Z"
   },
   {
    "duration": 19,
    "start_time": "2023-12-27T21:16:44.552Z"
   },
   {
    "duration": 160,
    "start_time": "2023-12-27T21:16:44.572Z"
   },
   {
    "duration": 117,
    "start_time": "2023-12-27T21:16:44.733Z"
   },
   {
    "duration": 187,
    "start_time": "2023-12-27T21:16:44.851Z"
   },
   {
    "duration": 109,
    "start_time": "2023-12-27T21:16:45.042Z"
   },
   {
    "duration": 195,
    "start_time": "2023-12-27T21:16:45.152Z"
   },
   {
    "duration": 26,
    "start_time": "2023-12-27T21:16:45.348Z"
   },
   {
    "duration": 25,
    "start_time": "2023-12-27T21:16:45.375Z"
   },
   {
    "duration": 22,
    "start_time": "2023-12-27T21:16:45.401Z"
   },
   {
    "duration": 17,
    "start_time": "2023-12-27T21:16:45.425Z"
   },
   {
    "duration": 12,
    "start_time": "2023-12-27T21:16:45.443Z"
   },
   {
    "duration": 7,
    "start_time": "2023-12-27T21:16:45.457Z"
   },
   {
    "duration": 30,
    "start_time": "2023-12-27T21:16:45.466Z"
   },
   {
    "duration": 15,
    "start_time": "2023-12-27T21:16:45.498Z"
   },
   {
    "duration": 188,
    "start_time": "2023-12-27T21:16:45.514Z"
   },
   {
    "duration": 5,
    "start_time": "2023-12-27T21:16:45.703Z"
   },
   {
    "duration": 10,
    "start_time": "2023-12-27T21:16:45.709Z"
   },
   {
    "duration": 200,
    "start_time": "2023-12-27T21:16:45.721Z"
   },
   {
    "duration": 15,
    "start_time": "2023-12-27T21:16:45.923Z"
   },
   {
    "duration": 13,
    "start_time": "2023-12-27T21:16:45.941Z"
   },
   {
    "duration": 21,
    "start_time": "2023-12-27T21:16:45.955Z"
   },
   {
    "duration": 15,
    "start_time": "2023-12-27T21:16:45.977Z"
   },
   {
    "duration": 9,
    "start_time": "2023-12-27T21:16:45.993Z"
   },
   {
    "duration": 202,
    "start_time": "2023-12-27T21:16:46.003Z"
   },
   {
    "duration": 4,
    "start_time": "2023-12-27T21:16:46.207Z"
   },
   {
    "duration": 19,
    "start_time": "2023-12-27T21:16:46.212Z"
   },
   {
    "duration": 196,
    "start_time": "2023-12-27T21:16:46.232Z"
   },
   {
    "duration": 5,
    "start_time": "2023-12-27T21:16:46.430Z"
   },
   {
    "duration": 874,
    "start_time": "2023-12-27T21:16:46.437Z"
   },
   {
    "duration": 14,
    "start_time": "2023-12-27T21:16:47.313Z"
   },
   {
    "duration": 35,
    "start_time": "2023-12-27T21:16:47.328Z"
   },
   {
    "duration": 13,
    "start_time": "2023-12-27T21:16:47.364Z"
   },
   {
    "duration": 31,
    "start_time": "2023-12-27T21:16:47.379Z"
   },
   {
    "duration": 4,
    "start_time": "2023-12-27T21:16:47.412Z"
   },
   {
    "duration": 12,
    "start_time": "2023-12-27T21:16:47.417Z"
   },
   {
    "duration": 5,
    "start_time": "2023-12-27T21:16:47.431Z"
   },
   {
    "duration": 30,
    "start_time": "2023-12-27T21:16:47.437Z"
   },
   {
    "duration": 12,
    "start_time": "2023-12-27T21:16:47.468Z"
   },
   {
    "duration": 1241,
    "start_time": "2023-12-28T14:33:19.630Z"
   },
   {
    "duration": 102,
    "start_time": "2023-12-28T14:33:20.873Z"
   },
   {
    "duration": 283,
    "start_time": "2023-12-28T14:33:20.977Z"
   },
   {
    "duration": 182,
    "start_time": "2023-12-28T14:33:21.261Z"
   },
   {
    "duration": 538,
    "start_time": "2023-12-28T14:33:21.445Z"
   },
   {
    "duration": 79,
    "start_time": "2023-12-28T14:33:21.985Z"
   },
   {
    "duration": 12,
    "start_time": "2023-12-28T14:33:22.066Z"
   },
   {
    "duration": 25,
    "start_time": "2023-12-28T14:33:22.080Z"
   },
   {
    "duration": 26,
    "start_time": "2023-12-28T14:33:22.107Z"
   },
   {
    "duration": 36,
    "start_time": "2023-12-28T14:33:22.135Z"
   },
   {
    "duration": 11,
    "start_time": "2023-12-28T14:33:22.173Z"
   },
   {
    "duration": 24,
    "start_time": "2023-12-28T14:33:22.185Z"
   },
   {
    "duration": 14,
    "start_time": "2023-12-28T14:33:22.211Z"
   },
   {
    "duration": 17,
    "start_time": "2023-12-28T14:33:22.228Z"
   },
   {
    "duration": 27,
    "start_time": "2023-12-28T14:33:22.247Z"
   },
   {
    "duration": 11,
    "start_time": "2023-12-28T14:33:22.276Z"
   },
   {
    "duration": 23,
    "start_time": "2023-12-28T14:33:22.288Z"
   },
   {
    "duration": 10,
    "start_time": "2023-12-28T14:33:22.313Z"
   },
   {
    "duration": 159,
    "start_time": "2023-12-28T14:33:22.325Z"
   },
   {
    "duration": 148,
    "start_time": "2023-12-28T14:33:22.485Z"
   },
   {
    "duration": 157,
    "start_time": "2023-12-28T14:33:22.635Z"
   },
   {
    "duration": 95,
    "start_time": "2023-12-28T14:33:22.794Z"
   },
   {
    "duration": 23,
    "start_time": "2023-12-28T14:33:22.890Z"
   },
   {
    "duration": 17,
    "start_time": "2023-12-28T14:33:22.915Z"
   },
   {
    "duration": 153,
    "start_time": "2023-12-28T14:33:22.934Z"
   },
   {
    "duration": 94,
    "start_time": "2023-12-28T14:33:23.089Z"
   },
   {
    "duration": 188,
    "start_time": "2023-12-28T14:33:23.184Z"
   },
   {
    "duration": 116,
    "start_time": "2023-12-28T14:33:23.374Z"
   },
   {
    "duration": 193,
    "start_time": "2023-12-28T14:33:23.498Z"
   },
   {
    "duration": 30,
    "start_time": "2023-12-28T14:33:23.693Z"
   },
   {
    "duration": 12,
    "start_time": "2023-12-28T14:33:23.725Z"
   },
   {
    "duration": 9,
    "start_time": "2023-12-28T14:33:23.738Z"
   },
   {
    "duration": 16,
    "start_time": "2023-12-28T14:33:23.748Z"
   },
   {
    "duration": 39,
    "start_time": "2023-12-28T14:33:23.765Z"
   },
   {
    "duration": 11,
    "start_time": "2023-12-28T14:33:23.806Z"
   },
   {
    "duration": 5,
    "start_time": "2023-12-28T14:33:23.819Z"
   },
   {
    "duration": 6,
    "start_time": "2023-12-28T14:33:23.826Z"
   },
   {
    "duration": 202,
    "start_time": "2023-12-28T14:33:23.833Z"
   },
   {
    "duration": 4,
    "start_time": "2023-12-28T14:33:24.036Z"
   },
   {
    "duration": 9,
    "start_time": "2023-12-28T14:33:24.041Z"
   },
   {
    "duration": 184,
    "start_time": "2023-12-28T14:33:24.053Z"
   },
   {
    "duration": 13,
    "start_time": "2023-12-28T14:33:24.239Z"
   },
   {
    "duration": 10,
    "start_time": "2023-12-28T14:33:24.253Z"
   },
   {
    "duration": 6,
    "start_time": "2023-12-28T14:33:24.264Z"
   },
   {
    "duration": 29,
    "start_time": "2023-12-28T14:33:24.272Z"
   },
   {
    "duration": 8,
    "start_time": "2023-12-28T14:33:24.303Z"
   },
   {
    "duration": 192,
    "start_time": "2023-12-28T14:33:24.313Z"
   },
   {
    "duration": 6,
    "start_time": "2023-12-28T14:33:24.507Z"
   },
   {
    "duration": 10,
    "start_time": "2023-12-28T14:33:24.514Z"
   },
   {
    "duration": 191,
    "start_time": "2023-12-28T14:33:24.526Z"
   },
   {
    "duration": 7,
    "start_time": "2023-12-28T14:33:24.719Z"
   },
   {
    "duration": 1595,
    "start_time": "2023-12-28T14:33:24.727Z"
   },
   {
    "duration": 11,
    "start_time": "2023-12-28T14:33:26.323Z"
   },
   {
    "duration": 65,
    "start_time": "2023-12-28T14:33:26.335Z"
   },
   {
    "duration": 20,
    "start_time": "2023-12-28T14:33:26.402Z"
   },
   {
    "duration": 12,
    "start_time": "2023-12-28T14:33:26.423Z"
   },
   {
    "duration": 11,
    "start_time": "2023-12-28T14:33:26.436Z"
   },
   {
    "duration": 59,
    "start_time": "2023-12-28T14:33:26.449Z"
   },
   {
    "duration": 6,
    "start_time": "2023-12-28T14:33:26.510Z"
   },
   {
    "duration": 17,
    "start_time": "2023-12-28T14:33:26.518Z"
   },
   {
    "duration": 11,
    "start_time": "2023-12-28T14:33:26.536Z"
   },
   {
    "duration": 7,
    "start_time": "2023-12-28T14:39:34.407Z"
   },
   {
    "duration": 4,
    "start_time": "2023-12-28T14:42:37.952Z"
   },
   {
    "duration": 2,
    "start_time": "2023-12-28T14:42:58.626Z"
   },
   {
    "duration": 4,
    "start_time": "2023-12-28T14:43:00.049Z"
   },
   {
    "duration": 3,
    "start_time": "2023-12-28T14:43:00.282Z"
   },
   {
    "duration": 3,
    "start_time": "2023-12-28T14:43:00.497Z"
   },
   {
    "duration": 9,
    "start_time": "2023-12-28T14:43:00.690Z"
   },
   {
    "duration": 744,
    "start_time": "2023-12-28T14:43:00.897Z"
   },
   {
    "duration": 3,
    "start_time": "2023-12-28T14:43:01.643Z"
   },
   {
    "duration": 1342,
    "start_time": "2023-12-28T14:43:06.080Z"
   },
   {
    "duration": 43,
    "start_time": "2023-12-28T14:43:07.424Z"
   },
   {
    "duration": 241,
    "start_time": "2023-12-28T14:43:07.468Z"
   },
   {
    "duration": 41,
    "start_time": "2023-12-28T14:43:07.710Z"
   },
   {
    "duration": 494,
    "start_time": "2023-12-28T14:43:07.753Z"
   },
   {
    "duration": 24,
    "start_time": "2023-12-28T14:43:08.249Z"
   },
   {
    "duration": 13,
    "start_time": "2023-12-28T14:43:08.275Z"
   },
   {
    "duration": 11,
    "start_time": "2023-12-28T14:43:08.289Z"
   },
   {
    "duration": 4,
    "start_time": "2023-12-28T14:43:08.302Z"
   },
   {
    "duration": 12,
    "start_time": "2023-12-28T14:43:08.308Z"
   },
   {
    "duration": 5,
    "start_time": "2023-12-28T14:43:08.321Z"
   },
   {
    "duration": 9,
    "start_time": "2023-12-28T14:43:08.327Z"
   },
   {
    "duration": 7,
    "start_time": "2023-12-28T14:43:08.337Z"
   },
   {
    "duration": 4,
    "start_time": "2023-12-28T14:43:08.347Z"
   },
   {
    "duration": 5,
    "start_time": "2023-12-28T14:43:08.352Z"
   },
   {
    "duration": 8,
    "start_time": "2023-12-28T14:43:08.358Z"
   },
   {
    "duration": 3,
    "start_time": "2023-12-28T14:43:08.398Z"
   },
   {
    "duration": 8,
    "start_time": "2023-12-28T14:43:08.402Z"
   },
   {
    "duration": 127,
    "start_time": "2023-12-28T14:43:08.411Z"
   },
   {
    "duration": 126,
    "start_time": "2023-12-28T14:43:08.540Z"
   },
   {
    "duration": 156,
    "start_time": "2023-12-28T14:43:08.667Z"
   },
   {
    "duration": 88,
    "start_time": "2023-12-28T14:43:08.825Z"
   },
   {
    "duration": 10,
    "start_time": "2023-12-28T14:43:08.914Z"
   },
   {
    "duration": 8,
    "start_time": "2023-12-28T14:43:08.925Z"
   },
   {
    "duration": 144,
    "start_time": "2023-12-28T14:43:08.934Z"
   },
   {
    "duration": 107,
    "start_time": "2023-12-28T14:43:09.079Z"
   },
   {
    "duration": 173,
    "start_time": "2023-12-28T14:43:09.188Z"
   },
   {
    "duration": 102,
    "start_time": "2023-12-28T14:43:09.363Z"
   },
   {
    "duration": 162,
    "start_time": "2023-12-28T14:43:09.466Z"
   },
   {
    "duration": 25,
    "start_time": "2023-12-28T14:43:09.630Z"
   },
   {
    "duration": 11,
    "start_time": "2023-12-28T14:43:09.656Z"
   },
   {
    "duration": 7,
    "start_time": "2023-12-28T14:43:09.669Z"
   },
   {
    "duration": 16,
    "start_time": "2023-12-28T14:43:09.698Z"
   },
   {
    "duration": 14,
    "start_time": "2023-12-28T14:43:09.716Z"
   },
   {
    "duration": 8,
    "start_time": "2023-12-28T14:43:09.733Z"
   },
   {
    "duration": 5,
    "start_time": "2023-12-28T14:43:09.742Z"
   },
   {
    "duration": 7,
    "start_time": "2023-12-28T14:43:09.748Z"
   },
   {
    "duration": 188,
    "start_time": "2023-12-28T14:43:09.756Z"
   },
   {
    "duration": 5,
    "start_time": "2023-12-28T14:43:09.946Z"
   },
   {
    "duration": 8,
    "start_time": "2023-12-28T14:43:09.952Z"
   },
   {
    "duration": 171,
    "start_time": "2023-12-28T14:43:09.964Z"
   },
   {
    "duration": 13,
    "start_time": "2023-12-28T14:43:10.137Z"
   },
   {
    "duration": 9,
    "start_time": "2023-12-28T14:43:10.152Z"
   },
   {
    "duration": 5,
    "start_time": "2023-12-28T14:43:10.163Z"
   },
   {
    "duration": 6,
    "start_time": "2023-12-28T14:43:10.169Z"
   },
   {
    "duration": 29,
    "start_time": "2023-12-28T14:43:10.176Z"
   },
   {
    "duration": 185,
    "start_time": "2023-12-28T14:43:10.207Z"
   },
   {
    "duration": 4,
    "start_time": "2023-12-28T14:43:10.398Z"
   },
   {
    "duration": 8,
    "start_time": "2023-12-28T14:43:10.404Z"
   },
   {
    "duration": 166,
    "start_time": "2023-12-28T14:43:10.413Z"
   },
   {
    "duration": 7,
    "start_time": "2023-12-28T14:43:10.580Z"
   },
   {
    "duration": 801,
    "start_time": "2023-12-28T14:43:10.599Z"
   },
   {
    "duration": 16,
    "start_time": "2023-12-28T14:43:11.402Z"
   },
   {
    "duration": 8,
    "start_time": "2023-12-28T14:43:11.419Z"
   },
   {
    "duration": 10,
    "start_time": "2023-12-28T14:43:11.428Z"
   },
   {
    "duration": 45,
    "start_time": "2023-12-28T14:43:11.439Z"
   },
   {
    "duration": 21,
    "start_time": "2023-12-28T14:43:11.486Z"
   },
   {
    "duration": 10,
    "start_time": "2023-12-28T14:43:11.509Z"
   },
   {
    "duration": 5,
    "start_time": "2023-12-28T14:43:11.520Z"
   },
   {
    "duration": 8,
    "start_time": "2023-12-28T14:43:11.527Z"
   },
   {
    "duration": 18,
    "start_time": "2023-12-28T14:43:11.536Z"
   },
   {
    "duration": 10,
    "start_time": "2023-12-28T14:43:11.556Z"
   },
   {
    "duration": 7,
    "start_time": "2023-12-28T14:43:11.568Z"
   },
   {
    "duration": 7,
    "start_time": "2023-12-28T14:43:11.576Z"
   },
   {
    "duration": 24,
    "start_time": "2023-12-28T14:43:11.585Z"
   },
   {
    "duration": 11,
    "start_time": "2023-12-28T14:43:11.611Z"
   },
   {
    "duration": 12,
    "start_time": "2023-12-28T14:43:11.623Z"
   },
   {
    "duration": 18,
    "start_time": "2023-12-28T14:43:11.636Z"
   },
   {
    "duration": 27,
    "start_time": "2023-12-28T14:43:11.655Z"
   },
   {
    "duration": 29,
    "start_time": "2023-12-28T14:43:11.684Z"
   },
   {
    "duration": 10,
    "start_time": "2023-12-28T14:43:11.714Z"
   },
   {
    "duration": 7,
    "start_time": "2023-12-28T14:43:11.726Z"
   },
   {
    "duration": 9,
    "start_time": "2023-12-28T14:43:11.735Z"
   },
   {
    "duration": 707,
    "start_time": "2023-12-28T14:43:11.745Z"
   },
   {
    "duration": 3,
    "start_time": "2023-12-28T14:43:12.454Z"
   },
   {
    "duration": 38,
    "start_time": "2023-12-28T14:43:12.458Z"
   },
   {
    "duration": 36,
    "start_time": "2023-12-28T14:43:12.498Z"
   },
   {
    "duration": 10,
    "start_time": "2023-12-28T14:43:12.536Z"
   },
   {
    "duration": 11,
    "start_time": "2023-12-28T14:43:12.548Z"
   },
   {
    "duration": 734,
    "start_time": "2023-12-28T14:43:12.560Z"
   },
   {
    "duration": 49,
    "start_time": "2023-12-28T14:52:41.472Z"
   },
   {
    "duration": 10,
    "start_time": "2023-12-28T14:52:48.698Z"
   },
   {
    "duration": 1557,
    "start_time": "2023-12-28T14:52:58.991Z"
   },
   {
    "duration": 104,
    "start_time": "2023-12-28T14:53:00.550Z"
   },
   {
    "duration": 301,
    "start_time": "2023-12-28T14:53:00.655Z"
   },
   {
    "duration": 163,
    "start_time": "2023-12-28T14:53:00.959Z"
   },
   {
    "duration": 610,
    "start_time": "2023-12-28T14:53:01.124Z"
   },
   {
    "duration": 80,
    "start_time": "2023-12-28T14:53:01.736Z"
   },
   {
    "duration": 108,
    "start_time": "2023-12-28T14:53:01.817Z"
   },
   {
    "duration": 75,
    "start_time": "2023-12-28T14:53:01.927Z"
   },
   {
    "duration": 98,
    "start_time": "2023-12-28T14:53:02.004Z"
   },
   {
    "duration": 111,
    "start_time": "2023-12-28T14:53:02.105Z"
   },
   {
    "duration": 55,
    "start_time": "2023-12-28T14:53:02.218Z"
   },
   {
    "duration": 51,
    "start_time": "2023-12-28T14:53:02.275Z"
   },
   {
    "duration": 88,
    "start_time": "2023-12-28T14:53:02.328Z"
   },
   {
    "duration": 30,
    "start_time": "2023-12-28T14:53:02.417Z"
   },
   {
    "duration": 103,
    "start_time": "2023-12-28T14:53:02.448Z"
   },
   {
    "duration": 86,
    "start_time": "2023-12-28T14:53:02.552Z"
   },
   {
    "duration": 50,
    "start_time": "2023-12-28T14:53:02.640Z"
   },
   {
    "duration": 22,
    "start_time": "2023-12-28T14:53:02.692Z"
   },
   {
    "duration": 218,
    "start_time": "2023-12-28T14:53:02.716Z"
   },
   {
    "duration": 171,
    "start_time": "2023-12-28T14:53:02.936Z"
   },
   {
    "duration": 209,
    "start_time": "2023-12-28T14:53:03.109Z"
   },
   {
    "duration": 118,
    "start_time": "2023-12-28T14:53:03.320Z"
   },
   {
    "duration": 10,
    "start_time": "2023-12-28T14:53:03.440Z"
   },
   {
    "duration": 14,
    "start_time": "2023-12-28T14:53:03.452Z"
   },
   {
    "duration": 209,
    "start_time": "2023-12-28T14:53:03.467Z"
   },
   {
    "duration": 128,
    "start_time": "2023-12-28T14:53:03.678Z"
   },
   {
    "duration": 204,
    "start_time": "2023-12-28T14:53:03.808Z"
   },
   {
    "duration": 139,
    "start_time": "2023-12-28T14:53:04.016Z"
   },
   {
    "duration": 214,
    "start_time": "2023-12-28T14:53:04.157Z"
   },
   {
    "duration": 44,
    "start_time": "2023-12-28T14:53:04.373Z"
   },
   {
    "duration": 15,
    "start_time": "2023-12-28T14:53:04.418Z"
   },
   {
    "duration": 10,
    "start_time": "2023-12-28T14:53:04.434Z"
   },
   {
    "duration": 17,
    "start_time": "2023-12-28T14:53:04.446Z"
   },
   {
    "duration": 38,
    "start_time": "2023-12-28T14:53:04.465Z"
   },
   {
    "duration": 9,
    "start_time": "2023-12-28T14:53:04.505Z"
   },
   {
    "duration": 23,
    "start_time": "2023-12-28T14:53:04.515Z"
   },
   {
    "duration": 20,
    "start_time": "2023-12-28T14:53:04.540Z"
   },
   {
    "duration": 238,
    "start_time": "2023-12-28T14:53:04.562Z"
   },
   {
    "duration": 5,
    "start_time": "2023-12-28T14:53:04.802Z"
   },
   {
    "duration": 17,
    "start_time": "2023-12-28T14:53:04.809Z"
   },
   {
    "duration": 204,
    "start_time": "2023-12-28T14:53:04.828Z"
   },
   {
    "duration": 15,
    "start_time": "2023-12-28T14:53:05.034Z"
   },
   {
    "duration": 24,
    "start_time": "2023-12-28T14:53:05.051Z"
   },
   {
    "duration": 11,
    "start_time": "2023-12-28T14:53:05.077Z"
   },
   {
    "duration": 13,
    "start_time": "2023-12-28T14:53:05.090Z"
   },
   {
    "duration": 16,
    "start_time": "2023-12-28T14:53:05.104Z"
   },
   {
    "duration": 206,
    "start_time": "2023-12-28T14:53:05.122Z"
   },
   {
    "duration": 4,
    "start_time": "2023-12-28T14:53:05.330Z"
   },
   {
    "duration": 45,
    "start_time": "2023-12-28T14:53:05.336Z"
   },
   {
    "duration": 207,
    "start_time": "2023-12-28T14:53:05.384Z"
   },
   {
    "duration": 11,
    "start_time": "2023-12-28T14:53:05.593Z"
   },
   {
    "duration": 909,
    "start_time": "2023-12-28T14:53:05.606Z"
   },
   {
    "duration": 14,
    "start_time": "2023-12-28T14:53:06.517Z"
   },
   {
    "duration": 22,
    "start_time": "2023-12-28T14:53:06.533Z"
   },
   {
    "duration": 8,
    "start_time": "2023-12-28T14:53:06.557Z"
   },
   {
    "duration": 29,
    "start_time": "2023-12-28T14:53:06.567Z"
   },
   {
    "duration": 5,
    "start_time": "2023-12-28T14:53:06.598Z"
   },
   {
    "duration": 13,
    "start_time": "2023-12-28T14:53:06.605Z"
   },
   {
    "duration": 6,
    "start_time": "2023-12-28T14:53:06.619Z"
   },
   {
    "duration": 37,
    "start_time": "2023-12-28T14:53:06.627Z"
   },
   {
    "duration": 10,
    "start_time": "2023-12-28T14:53:06.666Z"
   },
   {
    "duration": 14,
    "start_time": "2023-12-28T14:53:06.678Z"
   },
   {
    "duration": 6,
    "start_time": "2023-12-28T14:53:06.694Z"
   },
   {
    "duration": 75,
    "start_time": "2023-12-28T14:53:06.701Z"
   },
   {
    "duration": 16,
    "start_time": "2023-12-28T14:53:06.777Z"
   },
   {
    "duration": 15,
    "start_time": "2023-12-28T14:53:06.794Z"
   },
   {
    "duration": 16,
    "start_time": "2023-12-28T14:53:06.811Z"
   },
   {
    "duration": 20,
    "start_time": "2023-12-28T14:53:06.829Z"
   },
   {
    "duration": 21,
    "start_time": "2023-12-28T14:53:06.851Z"
   },
   {
    "duration": 7,
    "start_time": "2023-12-28T14:53:06.874Z"
   },
   {
    "duration": 6,
    "start_time": "2023-12-28T14:53:06.882Z"
   },
   {
    "duration": 11,
    "start_time": "2023-12-28T14:53:06.889Z"
   },
   {
    "duration": 25,
    "start_time": "2023-12-28T14:53:06.902Z"
   },
   {
    "duration": 886,
    "start_time": "2023-12-28T14:53:06.929Z"
   },
   {
    "duration": 4,
    "start_time": "2023-12-28T14:53:07.816Z"
   },
   {
    "duration": 24,
    "start_time": "2023-12-28T14:53:07.822Z"
   },
   {
    "duration": 42,
    "start_time": "2023-12-28T14:53:07.848Z"
   },
   {
    "duration": 23,
    "start_time": "2023-12-28T14:53:07.892Z"
   },
   {
    "duration": 48,
    "start_time": "2023-12-28T14:53:07.916Z"
   },
   {
    "duration": 928,
    "start_time": "2023-12-28T14:53:07.965Z"
   }
  ],
  "kernelspec": {
   "display_name": "Python 3 (ipykernel)",
   "language": "python",
   "name": "python3"
  },
  "language_info": {
   "codemirror_mode": {
    "name": "ipython",
    "version": 3
   },
   "file_extension": ".py",
   "mimetype": "text/x-python",
   "name": "python",
   "nbconvert_exporter": "python",
   "pygments_lexer": "ipython3",
   "version": "3.9.19"
  },
  "toc": {
   "base_numbering": 1,
   "nav_menu": {},
   "number_sections": true,
   "sideBar": true,
   "skip_h1_title": true,
   "title_cell": "Table of Contents",
   "title_sidebar": "Contents",
   "toc_cell": false,
   "toc_position": {
    "height": "calc(100% - 180px)",
    "left": "10px",
    "top": "150px",
    "width": "302.875px"
   },
   "toc_section_display": true,
   "toc_window_display": true
  }
 },
 "nbformat": 4,
 "nbformat_minor": 5
}
