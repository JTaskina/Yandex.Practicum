{
 "cells": [
  {
   "cell_type": "markdown",
   "id": "386f2ae7",
   "metadata": {
    "deletable": false,
    "editable": false,
    "id": "386f2ae7"
   },
   "source": [
    "# Исследование надежности заемщиков\n"
   ]
  },
  {
   "cell_type": "markdown",
   "id": "ffe86f65",
   "metadata": {
    "deletable": false,
    "editable": false,
    "id": "ffe86f65"
   },
   "source": [
    "Во второй части проекта вы выполните шаги 3 и 4. Их вручную проверит ревьюер.\n",
    "Чтобы вам не пришлось писать код заново для шагов 1 и 2, мы добавили авторские решения в ячейки с кодом. \n",
    "\n"
   ]
  },
  {
   "cell_type": "markdown",
   "id": "26613308",
   "metadata": {
    "deletable": false,
    "editable": false,
    "id": "26613308"
   },
   "source": [
    "## Откройте таблицу и изучите общую информацию о данных"
   ]
  },
  {
   "cell_type": "markdown",
   "id": "3c9f838e",
   "metadata": {
    "deletable": false,
    "editable": false,
    "id": "3c9f838e"
   },
   "source": [
    "**Задание 1. Импортируйте библиотеку pandas. Считайте данные из csv-файла в датафрейм и сохраните в переменную `data`. Путь к файлу:**\n",
    "\n",
    "`/datasets/data.csv`"
   ]
  },
  {
   "cell_type": "code",
   "execution_count": 1,
   "id": "77a68a90",
   "metadata": {
    "deletable": false,
    "id": "77a68a90"
   },
   "outputs": [],
   "source": [
    "import pandas as pd\n",
    "\n",
    "try:\n",
    "    data = pd.read_csv('/datasets/data.csv')\n",
    "except:\n",
    "    data = pd.read_csv('https://code.s3.yandex.net/datasets/data.csv')"
   ]
  },
  {
   "cell_type": "markdown",
   "id": "45365635",
   "metadata": {
    "deletable": false,
    "editable": false,
    "id": "45365635"
   },
   "source": [
    "**Задание 2. Выведите первые 20 строчек датафрейма `data` на экран.**"
   ]
  },
  {
   "cell_type": "code",
   "execution_count": 2,
   "id": "b0451a9a",
   "metadata": {
    "deletable": false,
    "id": "b0451a9a",
    "outputId": "1a8f3ef2-d323-4ec2-ddf7-89670b5944c4"
   },
   "outputs": [
    {
     "data": {
      "text/html": [
       "<div>\n",
       "<style scoped>\n",
       "    .dataframe tbody tr th:only-of-type {\n",
       "        vertical-align: middle;\n",
       "    }\n",
       "\n",
       "    .dataframe tbody tr th {\n",
       "        vertical-align: top;\n",
       "    }\n",
       "\n",
       "    .dataframe thead th {\n",
       "        text-align: right;\n",
       "    }\n",
       "</style>\n",
       "<table border=\"1\" class=\"dataframe\">\n",
       "  <thead>\n",
       "    <tr style=\"text-align: right;\">\n",
       "      <th></th>\n",
       "      <th>children</th>\n",
       "      <th>days_employed</th>\n",
       "      <th>dob_years</th>\n",
       "      <th>education</th>\n",
       "      <th>education_id</th>\n",
       "      <th>family_status</th>\n",
       "      <th>family_status_id</th>\n",
       "      <th>gender</th>\n",
       "      <th>income_type</th>\n",
       "      <th>debt</th>\n",
       "      <th>total_income</th>\n",
       "      <th>purpose</th>\n",
       "    </tr>\n",
       "  </thead>\n",
       "  <tbody>\n",
       "    <tr>\n",
       "      <th>0</th>\n",
       "      <td>1</td>\n",
       "      <td>-8437.673028</td>\n",
       "      <td>42</td>\n",
       "      <td>высшее</td>\n",
       "      <td>0</td>\n",
       "      <td>женат / замужем</td>\n",
       "      <td>0</td>\n",
       "      <td>F</td>\n",
       "      <td>сотрудник</td>\n",
       "      <td>0</td>\n",
       "      <td>253875.639453</td>\n",
       "      <td>покупка жилья</td>\n",
       "    </tr>\n",
       "    <tr>\n",
       "      <th>1</th>\n",
       "      <td>1</td>\n",
       "      <td>-4024.803754</td>\n",
       "      <td>36</td>\n",
       "      <td>среднее</td>\n",
       "      <td>1</td>\n",
       "      <td>женат / замужем</td>\n",
       "      <td>0</td>\n",
       "      <td>F</td>\n",
       "      <td>сотрудник</td>\n",
       "      <td>0</td>\n",
       "      <td>112080.014102</td>\n",
       "      <td>приобретение автомобиля</td>\n",
       "    </tr>\n",
       "    <tr>\n",
       "      <th>2</th>\n",
       "      <td>0</td>\n",
       "      <td>-5623.422610</td>\n",
       "      <td>33</td>\n",
       "      <td>Среднее</td>\n",
       "      <td>1</td>\n",
       "      <td>женат / замужем</td>\n",
       "      <td>0</td>\n",
       "      <td>M</td>\n",
       "      <td>сотрудник</td>\n",
       "      <td>0</td>\n",
       "      <td>145885.952297</td>\n",
       "      <td>покупка жилья</td>\n",
       "    </tr>\n",
       "    <tr>\n",
       "      <th>3</th>\n",
       "      <td>3</td>\n",
       "      <td>-4124.747207</td>\n",
       "      <td>32</td>\n",
       "      <td>среднее</td>\n",
       "      <td>1</td>\n",
       "      <td>женат / замужем</td>\n",
       "      <td>0</td>\n",
       "      <td>M</td>\n",
       "      <td>сотрудник</td>\n",
       "      <td>0</td>\n",
       "      <td>267628.550329</td>\n",
       "      <td>дополнительное образование</td>\n",
       "    </tr>\n",
       "    <tr>\n",
       "      <th>4</th>\n",
       "      <td>0</td>\n",
       "      <td>340266.072047</td>\n",
       "      <td>53</td>\n",
       "      <td>среднее</td>\n",
       "      <td>1</td>\n",
       "      <td>гражданский брак</td>\n",
       "      <td>1</td>\n",
       "      <td>F</td>\n",
       "      <td>пенсионер</td>\n",
       "      <td>0</td>\n",
       "      <td>158616.077870</td>\n",
       "      <td>сыграть свадьбу</td>\n",
       "    </tr>\n",
       "    <tr>\n",
       "      <th>5</th>\n",
       "      <td>0</td>\n",
       "      <td>-926.185831</td>\n",
       "      <td>27</td>\n",
       "      <td>высшее</td>\n",
       "      <td>0</td>\n",
       "      <td>гражданский брак</td>\n",
       "      <td>1</td>\n",
       "      <td>M</td>\n",
       "      <td>компаньон</td>\n",
       "      <td>0</td>\n",
       "      <td>255763.565419</td>\n",
       "      <td>покупка жилья</td>\n",
       "    </tr>\n",
       "    <tr>\n",
       "      <th>6</th>\n",
       "      <td>0</td>\n",
       "      <td>-2879.202052</td>\n",
       "      <td>43</td>\n",
       "      <td>высшее</td>\n",
       "      <td>0</td>\n",
       "      <td>женат / замужем</td>\n",
       "      <td>0</td>\n",
       "      <td>F</td>\n",
       "      <td>компаньон</td>\n",
       "      <td>0</td>\n",
       "      <td>240525.971920</td>\n",
       "      <td>операции с жильем</td>\n",
       "    </tr>\n",
       "    <tr>\n",
       "      <th>7</th>\n",
       "      <td>0</td>\n",
       "      <td>-152.779569</td>\n",
       "      <td>50</td>\n",
       "      <td>СРЕДНЕЕ</td>\n",
       "      <td>1</td>\n",
       "      <td>женат / замужем</td>\n",
       "      <td>0</td>\n",
       "      <td>M</td>\n",
       "      <td>сотрудник</td>\n",
       "      <td>0</td>\n",
       "      <td>135823.934197</td>\n",
       "      <td>образование</td>\n",
       "    </tr>\n",
       "    <tr>\n",
       "      <th>8</th>\n",
       "      <td>2</td>\n",
       "      <td>-6929.865299</td>\n",
       "      <td>35</td>\n",
       "      <td>ВЫСШЕЕ</td>\n",
       "      <td>0</td>\n",
       "      <td>гражданский брак</td>\n",
       "      <td>1</td>\n",
       "      <td>F</td>\n",
       "      <td>сотрудник</td>\n",
       "      <td>0</td>\n",
       "      <td>95856.832424</td>\n",
       "      <td>на проведение свадьбы</td>\n",
       "    </tr>\n",
       "    <tr>\n",
       "      <th>9</th>\n",
       "      <td>0</td>\n",
       "      <td>-2188.756445</td>\n",
       "      <td>41</td>\n",
       "      <td>среднее</td>\n",
       "      <td>1</td>\n",
       "      <td>женат / замужем</td>\n",
       "      <td>0</td>\n",
       "      <td>M</td>\n",
       "      <td>сотрудник</td>\n",
       "      <td>0</td>\n",
       "      <td>144425.938277</td>\n",
       "      <td>покупка жилья для семьи</td>\n",
       "    </tr>\n",
       "    <tr>\n",
       "      <th>10</th>\n",
       "      <td>2</td>\n",
       "      <td>-4171.483647</td>\n",
       "      <td>36</td>\n",
       "      <td>высшее</td>\n",
       "      <td>0</td>\n",
       "      <td>женат / замужем</td>\n",
       "      <td>0</td>\n",
       "      <td>M</td>\n",
       "      <td>компаньон</td>\n",
       "      <td>0</td>\n",
       "      <td>113943.491460</td>\n",
       "      <td>покупка недвижимости</td>\n",
       "    </tr>\n",
       "    <tr>\n",
       "      <th>11</th>\n",
       "      <td>0</td>\n",
       "      <td>-792.701887</td>\n",
       "      <td>40</td>\n",
       "      <td>среднее</td>\n",
       "      <td>1</td>\n",
       "      <td>женат / замужем</td>\n",
       "      <td>0</td>\n",
       "      <td>F</td>\n",
       "      <td>сотрудник</td>\n",
       "      <td>0</td>\n",
       "      <td>77069.234271</td>\n",
       "      <td>покупка коммерческой недвижимости</td>\n",
       "    </tr>\n",
       "    <tr>\n",
       "      <th>12</th>\n",
       "      <td>0</td>\n",
       "      <td>NaN</td>\n",
       "      <td>65</td>\n",
       "      <td>среднее</td>\n",
       "      <td>1</td>\n",
       "      <td>гражданский брак</td>\n",
       "      <td>1</td>\n",
       "      <td>M</td>\n",
       "      <td>пенсионер</td>\n",
       "      <td>0</td>\n",
       "      <td>NaN</td>\n",
       "      <td>сыграть свадьбу</td>\n",
       "    </tr>\n",
       "    <tr>\n",
       "      <th>13</th>\n",
       "      <td>0</td>\n",
       "      <td>-1846.641941</td>\n",
       "      <td>54</td>\n",
       "      <td>неоконченное высшее</td>\n",
       "      <td>2</td>\n",
       "      <td>женат / замужем</td>\n",
       "      <td>0</td>\n",
       "      <td>F</td>\n",
       "      <td>сотрудник</td>\n",
       "      <td>0</td>\n",
       "      <td>130458.228857</td>\n",
       "      <td>приобретение автомобиля</td>\n",
       "    </tr>\n",
       "    <tr>\n",
       "      <th>14</th>\n",
       "      <td>0</td>\n",
       "      <td>-1844.956182</td>\n",
       "      <td>56</td>\n",
       "      <td>высшее</td>\n",
       "      <td>0</td>\n",
       "      <td>гражданский брак</td>\n",
       "      <td>1</td>\n",
       "      <td>F</td>\n",
       "      <td>компаньон</td>\n",
       "      <td>1</td>\n",
       "      <td>165127.911772</td>\n",
       "      <td>покупка жилой недвижимости</td>\n",
       "    </tr>\n",
       "    <tr>\n",
       "      <th>15</th>\n",
       "      <td>1</td>\n",
       "      <td>-972.364419</td>\n",
       "      <td>26</td>\n",
       "      <td>среднее</td>\n",
       "      <td>1</td>\n",
       "      <td>женат / замужем</td>\n",
       "      <td>0</td>\n",
       "      <td>F</td>\n",
       "      <td>сотрудник</td>\n",
       "      <td>0</td>\n",
       "      <td>116820.904450</td>\n",
       "      <td>строительство собственной недвижимости</td>\n",
       "    </tr>\n",
       "    <tr>\n",
       "      <th>16</th>\n",
       "      <td>0</td>\n",
       "      <td>-1719.934226</td>\n",
       "      <td>35</td>\n",
       "      <td>среднее</td>\n",
       "      <td>1</td>\n",
       "      <td>женат / замужем</td>\n",
       "      <td>0</td>\n",
       "      <td>F</td>\n",
       "      <td>сотрудник</td>\n",
       "      <td>0</td>\n",
       "      <td>289202.704229</td>\n",
       "      <td>недвижимость</td>\n",
       "    </tr>\n",
       "    <tr>\n",
       "      <th>17</th>\n",
       "      <td>0</td>\n",
       "      <td>-2369.999720</td>\n",
       "      <td>33</td>\n",
       "      <td>высшее</td>\n",
       "      <td>0</td>\n",
       "      <td>гражданский брак</td>\n",
       "      <td>1</td>\n",
       "      <td>M</td>\n",
       "      <td>сотрудник</td>\n",
       "      <td>0</td>\n",
       "      <td>90410.586745</td>\n",
       "      <td>строительство недвижимости</td>\n",
       "    </tr>\n",
       "    <tr>\n",
       "      <th>18</th>\n",
       "      <td>0</td>\n",
       "      <td>400281.136913</td>\n",
       "      <td>53</td>\n",
       "      <td>среднее</td>\n",
       "      <td>1</td>\n",
       "      <td>вдовец / вдова</td>\n",
       "      <td>2</td>\n",
       "      <td>F</td>\n",
       "      <td>пенсионер</td>\n",
       "      <td>0</td>\n",
       "      <td>56823.777243</td>\n",
       "      <td>на покупку подержанного автомобиля</td>\n",
       "    </tr>\n",
       "    <tr>\n",
       "      <th>19</th>\n",
       "      <td>0</td>\n",
       "      <td>-10038.818549</td>\n",
       "      <td>48</td>\n",
       "      <td>СРЕДНЕЕ</td>\n",
       "      <td>1</td>\n",
       "      <td>в разводе</td>\n",
       "      <td>3</td>\n",
       "      <td>F</td>\n",
       "      <td>сотрудник</td>\n",
       "      <td>0</td>\n",
       "      <td>242831.107982</td>\n",
       "      <td>на покупку своего автомобиля</td>\n",
       "    </tr>\n",
       "  </tbody>\n",
       "</table>\n",
       "</div>"
      ],
      "text/plain": [
       "    children  days_employed  dob_years            education  education_id  \\\n",
       "0          1   -8437.673028         42               высшее             0   \n",
       "1          1   -4024.803754         36              среднее             1   \n",
       "2          0   -5623.422610         33              Среднее             1   \n",
       "3          3   -4124.747207         32              среднее             1   \n",
       "4          0  340266.072047         53              среднее             1   \n",
       "5          0    -926.185831         27               высшее             0   \n",
       "6          0   -2879.202052         43               высшее             0   \n",
       "7          0    -152.779569         50              СРЕДНЕЕ             1   \n",
       "8          2   -6929.865299         35               ВЫСШЕЕ             0   \n",
       "9          0   -2188.756445         41              среднее             1   \n",
       "10         2   -4171.483647         36               высшее             0   \n",
       "11         0    -792.701887         40              среднее             1   \n",
       "12         0            NaN         65              среднее             1   \n",
       "13         0   -1846.641941         54  неоконченное высшее             2   \n",
       "14         0   -1844.956182         56               высшее             0   \n",
       "15         1    -972.364419         26              среднее             1   \n",
       "16         0   -1719.934226         35              среднее             1   \n",
       "17         0   -2369.999720         33               высшее             0   \n",
       "18         0  400281.136913         53              среднее             1   \n",
       "19         0  -10038.818549         48              СРЕДНЕЕ             1   \n",
       "\n",
       "       family_status  family_status_id gender income_type  debt  \\\n",
       "0    женат / замужем                 0      F   сотрудник     0   \n",
       "1    женат / замужем                 0      F   сотрудник     0   \n",
       "2    женат / замужем                 0      M   сотрудник     0   \n",
       "3    женат / замужем                 0      M   сотрудник     0   \n",
       "4   гражданский брак                 1      F   пенсионер     0   \n",
       "5   гражданский брак                 1      M   компаньон     0   \n",
       "6    женат / замужем                 0      F   компаньон     0   \n",
       "7    женат / замужем                 0      M   сотрудник     0   \n",
       "8   гражданский брак                 1      F   сотрудник     0   \n",
       "9    женат / замужем                 0      M   сотрудник     0   \n",
       "10   женат / замужем                 0      M   компаньон     0   \n",
       "11   женат / замужем                 0      F   сотрудник     0   \n",
       "12  гражданский брак                 1      M   пенсионер     0   \n",
       "13   женат / замужем                 0      F   сотрудник     0   \n",
       "14  гражданский брак                 1      F   компаньон     1   \n",
       "15   женат / замужем                 0      F   сотрудник     0   \n",
       "16   женат / замужем                 0      F   сотрудник     0   \n",
       "17  гражданский брак                 1      M   сотрудник     0   \n",
       "18    вдовец / вдова                 2      F   пенсионер     0   \n",
       "19         в разводе                 3      F   сотрудник     0   \n",
       "\n",
       "     total_income                                 purpose  \n",
       "0   253875.639453                           покупка жилья  \n",
       "1   112080.014102                 приобретение автомобиля  \n",
       "2   145885.952297                           покупка жилья  \n",
       "3   267628.550329              дополнительное образование  \n",
       "4   158616.077870                         сыграть свадьбу  \n",
       "5   255763.565419                           покупка жилья  \n",
       "6   240525.971920                       операции с жильем  \n",
       "7   135823.934197                             образование  \n",
       "8    95856.832424                   на проведение свадьбы  \n",
       "9   144425.938277                 покупка жилья для семьи  \n",
       "10  113943.491460                    покупка недвижимости  \n",
       "11   77069.234271       покупка коммерческой недвижимости  \n",
       "12            NaN                         сыграть свадьбу  \n",
       "13  130458.228857                 приобретение автомобиля  \n",
       "14  165127.911772              покупка жилой недвижимости  \n",
       "15  116820.904450  строительство собственной недвижимости  \n",
       "16  289202.704229                            недвижимость  \n",
       "17   90410.586745              строительство недвижимости  \n",
       "18   56823.777243      на покупку подержанного автомобиля  \n",
       "19  242831.107982            на покупку своего автомобиля  "
      ]
     },
     "execution_count": 2,
     "metadata": {},
     "output_type": "execute_result"
    }
   ],
   "source": [
    "data.head(20)"
   ]
  },
  {
   "cell_type": "markdown",
   "id": "0ed8f27f",
   "metadata": {
    "deletable": false,
    "editable": false,
    "id": "0ed8f27f"
   },
   "source": [
    "**Задание 3. Выведите основную информацию о датафрейме с помощью метода `info()`.**"
   ]
  },
  {
   "cell_type": "code",
   "execution_count": 3,
   "id": "ab3f863b",
   "metadata": {
    "deletable": false,
    "id": "ab3f863b",
    "outputId": "15376089-8dad-46c9-b520-c05248d43158"
   },
   "outputs": [
    {
     "name": "stdout",
     "output_type": "stream",
     "text": [
      "<class 'pandas.core.frame.DataFrame'>\n",
      "RangeIndex: 21525 entries, 0 to 21524\n",
      "Data columns (total 12 columns):\n",
      " #   Column            Non-Null Count  Dtype  \n",
      "---  ------            --------------  -----  \n",
      " 0   children          21525 non-null  int64  \n",
      " 1   days_employed     19351 non-null  float64\n",
      " 2   dob_years         21525 non-null  int64  \n",
      " 3   education         21525 non-null  object \n",
      " 4   education_id      21525 non-null  int64  \n",
      " 5   family_status     21525 non-null  object \n",
      " 6   family_status_id  21525 non-null  int64  \n",
      " 7   gender            21525 non-null  object \n",
      " 8   income_type       21525 non-null  object \n",
      " 9   debt              21525 non-null  int64  \n",
      " 10  total_income      19351 non-null  float64\n",
      " 11  purpose           21525 non-null  object \n",
      "dtypes: float64(2), int64(5), object(5)\n",
      "memory usage: 2.0+ MB\n"
     ]
    }
   ],
   "source": [
    "data.info()"
   ]
  },
  {
   "cell_type": "markdown",
   "id": "60e3e22d",
   "metadata": {
    "deletable": false,
    "editable": false,
    "id": "60e3e22d"
   },
   "source": [
    "## Предобработка данных"
   ]
  },
  {
   "cell_type": "markdown",
   "id": "03dc170c",
   "metadata": {
    "deletable": false,
    "editable": false,
    "id": "03dc170c"
   },
   "source": [
    "### Удаление пропусков"
   ]
  },
  {
   "cell_type": "markdown",
   "id": "a4f54eef",
   "metadata": {
    "deletable": false,
    "editable": false,
    "id": "a4f54eef"
   },
   "source": [
    "**Задание 4. Выведите количество пропущенных значений для каждого столбца. Используйте комбинацию двух методов.**"
   ]
  },
  {
   "cell_type": "code",
   "execution_count": 4,
   "id": "2dc372b2",
   "metadata": {
    "deletable": false,
    "id": "2dc372b2",
    "outputId": "81f4d817-781c-465c-ed15-91ce4446810d"
   },
   "outputs": [
    {
     "data": {
      "text/plain": [
       "children               0\n",
       "days_employed       2174\n",
       "dob_years              0\n",
       "education              0\n",
       "education_id           0\n",
       "family_status          0\n",
       "family_status_id       0\n",
       "gender                 0\n",
       "income_type            0\n",
       "debt                   0\n",
       "total_income        2174\n",
       "purpose                0\n",
       "dtype: int64"
      ]
     },
     "execution_count": 4,
     "metadata": {},
     "output_type": "execute_result"
    }
   ],
   "source": [
    "data.isna().sum()"
   ]
  },
  {
   "cell_type": "markdown",
   "id": "14f011b1",
   "metadata": {
    "deletable": false,
    "editable": false,
    "id": "14f011b1"
   },
   "source": [
    "**Задание 5. В двух столбцах есть пропущенные значения. Один из них — `days_employed`. Пропуски в этом столбце вы обработаете на следующем этапе. Другой столбец с пропущенными значениями — `total_income` — хранит данные о доходах. На сумму дохода сильнее всего влияет тип занятости, поэтому заполнить пропуски в этом столбце нужно медианным значением по каждому типу из столбца `income_type`. Например, у человека с типом занятости `сотрудник` пропуск в столбце `total_income` должен быть заполнен медианным доходом среди всех записей с тем же типом.**"
   ]
  },
  {
   "cell_type": "code",
   "execution_count": 5,
   "id": "bdabfb6e",
   "metadata": {
    "deletable": false,
    "id": "bdabfb6e"
   },
   "outputs": [],
   "source": [
    "for t in data['income_type'].unique():\n",
    "    data.loc[(data['income_type'] == t) & (data['total_income'].isna()), 'total_income'] = \\\n",
    "    data.loc[(data['income_type'] == t), 'total_income'].median()"
   ]
  },
  {
   "cell_type": "markdown",
   "id": "5be34059",
   "metadata": {
    "deletable": false,
    "editable": false,
    "id": "5be34059"
   },
   "source": [
    "### Обработка аномальных значений"
   ]
  },
  {
   "cell_type": "markdown",
   "id": "a87606cb",
   "metadata": {
    "deletable": false,
    "editable": false,
    "id": "a87606cb"
   },
   "source": [
    "**Задание 6. В данных могут встречаться артефакты (аномалии) — значения, которые не отражают действительность и появились по какой-то ошибке. таким артефактом будет отрицательное количество дней трудового стажа в столбце `days_employed`. Для реальных данных это нормально. Обработайте значения в этом столбце: замените все отрицательные значения положительными с помощью метода `abs()`.**"
   ]
  },
  {
   "cell_type": "code",
   "execution_count": 6,
   "id": "020c46cc",
   "metadata": {
    "deletable": false,
    "id": "020c46cc"
   },
   "outputs": [],
   "source": [
    "data['days_employed'] = data['days_employed'].abs()"
   ]
  },
  {
   "cell_type": "markdown",
   "id": "45538a3a",
   "metadata": {
    "deletable": false,
    "editable": false,
    "id": "45538a3a"
   },
   "source": [
    "**Задание 7. Для каждого типа занятости выведите медианное значение трудового стажа `days_employed` в днях.**"
   ]
  },
  {
   "cell_type": "code",
   "execution_count": 7,
   "id": "cd3e6328",
   "metadata": {
    "deletable": false,
    "id": "cd3e6328",
    "outputId": "801ef80e-522b-4668-f34e-565af7432bcf"
   },
   "outputs": [
    {
     "data": {
      "text/plain": [
       "income_type\n",
       "безработный        366413.652744\n",
       "в декрете            3296.759962\n",
       "госслужащий          2689.368353\n",
       "компаньон            1547.382223\n",
       "пенсионер          365213.306266\n",
       "предприниматель       520.848083\n",
       "сотрудник            1574.202821\n",
       "студент               578.751554\n",
       "Name: days_employed, dtype: float64"
      ]
     },
     "execution_count": 7,
     "metadata": {},
     "output_type": "execute_result"
    }
   ],
   "source": [
    "data.groupby('income_type')['days_employed'].agg('median')"
   ]
  },
  {
   "cell_type": "markdown",
   "id": "90c5f058",
   "metadata": {
    "deletable": false,
    "editable": false,
    "id": "90c5f058"
   },
   "source": [
    "У двух типов (безработные и пенсионеры) получатся аномально большие значения. Исправить такие значения сложно, поэтому оставьте их как есть."
   ]
  },
  {
   "cell_type": "markdown",
   "id": "9652e50d",
   "metadata": {
    "deletable": false,
    "editable": false,
    "id": "9652e50d"
   },
   "source": [
    "**Задание 8. Выведите перечень уникальных значений столбца `children`.**"
   ]
  },
  {
   "cell_type": "code",
   "execution_count": 8,
   "id": "dbb37b8e",
   "metadata": {
    "deletable": false,
    "id": "dbb37b8e",
    "outputId": "6975b15c-7f95-4697-d16d-a0c79b657b03"
   },
   "outputs": [
    {
     "data": {
      "text/plain": [
       "array([ 1,  0,  3,  2, -1,  4, 20,  5])"
      ]
     },
     "execution_count": 8,
     "metadata": {},
     "output_type": "execute_result"
    }
   ],
   "source": [
    "data['children'].unique()"
   ]
  },
  {
   "cell_type": "markdown",
   "id": "2b8b0715",
   "metadata": {
    "deletable": false,
    "editable": false,
    "id": "2b8b0715"
   },
   "source": [
    "**Задание 9. В столбце `children` есть два аномальных значения. Удалите строки, в которых встречаются такие аномальные значения из датафрейма `data`.**"
   ]
  },
  {
   "cell_type": "code",
   "execution_count": 9,
   "id": "20009df8",
   "metadata": {
    "deletable": false,
    "id": "20009df8"
   },
   "outputs": [],
   "source": [
    "data = data[(data['children'] != -1) & (data['children'] != 20)]"
   ]
  },
  {
   "cell_type": "markdown",
   "id": "8c6ac9f1",
   "metadata": {
    "deletable": false,
    "editable": false,
    "id": "8c6ac9f1"
   },
   "source": [
    "**Задание 10. Ещё раз выведите перечень уникальных значений столбца `children`, чтобы убедиться, что артефакты удалены.**"
   ]
  },
  {
   "cell_type": "code",
   "execution_count": 10,
   "id": "07337b81",
   "metadata": {
    "deletable": false,
    "id": "07337b81",
    "outputId": "b2097101-d49d-44d9-901b-32a65c9463d1"
   },
   "outputs": [
    {
     "data": {
      "text/plain": [
       "array([1, 0, 3, 2, 4, 5])"
      ]
     },
     "execution_count": 10,
     "metadata": {},
     "output_type": "execute_result"
    }
   ],
   "source": [
    "data['children'].unique()"
   ]
  },
  {
   "cell_type": "markdown",
   "id": "ee3f52d4",
   "metadata": {
    "deletable": false,
    "editable": false,
    "id": "ee3f52d4"
   },
   "source": [
    "### Удаление пропусков (продолжение)"
   ]
  },
  {
   "cell_type": "markdown",
   "id": "a700b0e4",
   "metadata": {
    "deletable": false,
    "editable": false,
    "id": "a700b0e4"
   },
   "source": [
    "**Задание 11. Заполните пропуски в столбце `days_employed` медианными значениями по каждого типа занятости `income_type`.**"
   ]
  },
  {
   "cell_type": "code",
   "execution_count": 11,
   "id": "61946b83",
   "metadata": {
    "deletable": false,
    "id": "61946b83"
   },
   "outputs": [],
   "source": [
    "for t in data['income_type'].unique():\n",
    "    data.loc[(data['income_type'] == t) & (data['days_employed'].isna()), 'days_employed'] = \\\n",
    "    data.loc[(data['income_type'] == t), 'days_employed'].median()"
   ]
  },
  {
   "cell_type": "markdown",
   "id": "550dcd9b",
   "metadata": {
    "deletable": false,
    "editable": false,
    "id": "550dcd9b"
   },
   "source": [
    "**Задание 12. Убедитесь, что все пропуски заполнены. Проверьте себя и ещё раз выведите количество пропущенных значений для каждого столбца с помощью двух методов.**"
   ]
  },
  {
   "cell_type": "code",
   "execution_count": 12,
   "id": "937c7014",
   "metadata": {
    "deletable": false,
    "id": "937c7014",
    "outputId": "8da1e4e1-358e-4e87-98c9-f261bce0a7b2"
   },
   "outputs": [
    {
     "data": {
      "text/plain": [
       "children            0\n",
       "days_employed       0\n",
       "dob_years           0\n",
       "education           0\n",
       "education_id        0\n",
       "family_status       0\n",
       "family_status_id    0\n",
       "gender              0\n",
       "income_type         0\n",
       "debt                0\n",
       "total_income        0\n",
       "purpose             0\n",
       "dtype: int64"
      ]
     },
     "execution_count": 12,
     "metadata": {},
     "output_type": "execute_result"
    }
   ],
   "source": [
    "data.isna().sum()"
   ]
  },
  {
   "cell_type": "markdown",
   "id": "d522e295",
   "metadata": {
    "deletable": false,
    "editable": false,
    "id": "d522e295"
   },
   "source": [
    "### Изменение типов данных"
   ]
  },
  {
   "cell_type": "markdown",
   "id": "c229c581",
   "metadata": {
    "deletable": false,
    "editable": false,
    "id": "c229c581"
   },
   "source": [
    "**Задание 13. Замените вещественный тип данных в столбце `total_income` на целочисленный с помощью метода `astype()`.**"
   ]
  },
  {
   "cell_type": "code",
   "execution_count": 13,
   "id": "31036462",
   "metadata": {
    "deletable": false,
    "id": "31036462"
   },
   "outputs": [],
   "source": [
    "data['total_income'] = data['total_income'].astype(int)"
   ]
  },
  {
   "cell_type": "markdown",
   "id": "b8e3d1d9",
   "metadata": {
    "deletable": false,
    "editable": false,
    "id": "b8e3d1d9"
   },
   "source": [
    "### Обработка дубликатов"
   ]
  },
  {
   "cell_type": "markdown",
   "id": "9be53c49",
   "metadata": {
    "deletable": false,
    "editable": false,
    "id": "9be53c49"
   },
   "source": [
    "**Задание 14. Обработайте неявные дубликаты в столбце `education`. В этом столбце есть одни и те же значения, но записанные по-разному: с использованием заглавных и строчных букв. Приведите их к нижнему регистру.**"
   ]
  },
  {
   "cell_type": "code",
   "execution_count": 14,
   "id": "d89e73e1",
   "metadata": {
    "deletable": false,
    "id": "d89e73e1"
   },
   "outputs": [],
   "source": [
    "data['education'] = data['education'].str.lower()"
   ]
  },
  {
   "cell_type": "markdown",
   "id": "01d4500e",
   "metadata": {
    "deletable": false,
    "editable": false,
    "id": "01d4500e"
   },
   "source": [
    "**Задание 15. Выведите на экран количество строк-дубликатов в данных. Если такие строки присутствуют, удалите их.**"
   ]
  },
  {
   "cell_type": "code",
   "execution_count": 15,
   "id": "e10efb23",
   "metadata": {
    "deletable": false,
    "id": "e10efb23",
    "outputId": "9684deba-1934-42d1-99e1-cda61740f822"
   },
   "outputs": [
    {
     "data": {
      "text/plain": [
       "71"
      ]
     },
     "execution_count": 15,
     "metadata": {},
     "output_type": "execute_result"
    }
   ],
   "source": [
    "data.duplicated().sum()"
   ]
  },
  {
   "cell_type": "code",
   "execution_count": 16,
   "id": "df853f20",
   "metadata": {
    "deletable": false,
    "id": "df853f20"
   },
   "outputs": [],
   "source": [
    "data = data.drop_duplicates()"
   ]
  },
  {
   "cell_type": "markdown",
   "id": "627be38f",
   "metadata": {
    "deletable": false,
    "editable": false,
    "id": "627be38f"
   },
   "source": [
    "### Категоризация данных"
   ]
  },
  {
   "cell_type": "markdown",
   "id": "4684c3e0",
   "metadata": {
    "deletable": false,
    "editable": false,
    "id": "4684c3e0"
   },
   "source": [
    "**Задание 16. На основании диапазонов, указанных ниже, создайте в датафрейме `data` столбец `total_income_category` с категориями:**\n",
    "\n",
    "- 0–30000 — `'E'`;\n",
    "- 30001–50000 — `'D'`;\n",
    "- 50001–200000 — `'C'`;\n",
    "- 200001–1000000 — `'B'`;\n",
    "- 1000001 и выше — `'A'`.\n",
    "\n",
    "\n",
    "**Например, кредитополучателю с доходом 25000 нужно назначить категорию `'E'`, а клиенту, получающему 235000, — `'B'`. Используйте собственную функцию с именем `categorize_income()` и метод `apply()`.**"
   ]
  },
  {
   "cell_type": "code",
   "execution_count": 17,
   "id": "78965238",
   "metadata": {
    "deletable": false,
    "id": "78965238"
   },
   "outputs": [],
   "source": [
    "def categorize_income(income):\n",
    "    try:\n",
    "        if 0 <= income <= 30000:\n",
    "            return 'E'\n",
    "        elif 30001 <= income <= 50000:\n",
    "            return 'D'\n",
    "        elif 50001 <= income <= 200000:\n",
    "            return 'C'\n",
    "        elif 200001 <= income <= 1000000:\n",
    "            return 'B'\n",
    "        elif income >= 1000001:\n",
    "            return 'A'\n",
    "    except:\n",
    "        pass"
   ]
  },
  {
   "cell_type": "code",
   "execution_count": 18,
   "id": "0980ada1",
   "metadata": {
    "deletable": false,
    "id": "0980ada1"
   },
   "outputs": [],
   "source": [
    "data['total_income_category'] = data['total_income'].apply(categorize_income)"
   ]
  },
  {
   "cell_type": "markdown",
   "id": "9917bba0",
   "metadata": {
    "deletable": false,
    "editable": false,
    "id": "9917bba0"
   },
   "source": [
    "**Задание 17. Выведите на экран перечень уникальных целей взятия кредита из столбца `purpose`.**"
   ]
  },
  {
   "cell_type": "code",
   "execution_count": 19,
   "id": "ee07b65e",
   "metadata": {
    "deletable": false,
    "id": "ee07b65e",
    "outputId": "673c12d9-7d7e-4ae0-9812-c622c89dd244"
   },
   "outputs": [
    {
     "data": {
      "text/plain": [
       "array(['покупка жилья', 'приобретение автомобиля',\n",
       "       'дополнительное образование', 'сыграть свадьбу',\n",
       "       'операции с жильем', 'образование', 'на проведение свадьбы',\n",
       "       'покупка жилья для семьи', 'покупка недвижимости',\n",
       "       'покупка коммерческой недвижимости', 'покупка жилой недвижимости',\n",
       "       'строительство собственной недвижимости', 'недвижимость',\n",
       "       'строительство недвижимости', 'на покупку подержанного автомобиля',\n",
       "       'на покупку своего автомобиля',\n",
       "       'операции с коммерческой недвижимостью',\n",
       "       'строительство жилой недвижимости', 'жилье',\n",
       "       'операции со своей недвижимостью', 'автомобили',\n",
       "       'заняться образованием', 'сделка с подержанным автомобилем',\n",
       "       'получение образования', 'автомобиль', 'свадьба',\n",
       "       'получение дополнительного образования', 'покупка своего жилья',\n",
       "       'операции с недвижимостью', 'получение высшего образования',\n",
       "       'свой автомобиль', 'сделка с автомобилем',\n",
       "       'профильное образование', 'высшее образование',\n",
       "       'покупка жилья для сдачи', 'на покупку автомобиля', 'ремонт жилью',\n",
       "       'заняться высшим образованием'], dtype=object)"
      ]
     },
     "execution_count": 19,
     "metadata": {},
     "output_type": "execute_result"
    }
   ],
   "source": [
    "data['purpose'].unique()"
   ]
  },
  {
   "cell_type": "markdown",
   "id": "52b79d56",
   "metadata": {
    "deletable": false,
    "editable": false,
    "id": "52b79d56"
   },
   "source": [
    "**Задание 18. Создайте функцию, которая на основании данных из столбца `purpose` сформирует новый столбец `purpose_category`, в который войдут следующие категории:**\n",
    "\n",
    "- `'операции с автомобилем'`,\n",
    "- `'операции с недвижимостью'`,\n",
    "- `'проведение свадьбы'`,\n",
    "- `'получение образования'`.\n",
    "\n",
    "**Например, если в столбце `purpose` находится подстрока `'на покупку автомобиля'`, то в столбце `purpose_category` должна появиться строка `'операции с автомобилем'`.**\n",
    "\n",
    "**Используйте собственную функцию с именем `categorize_purpose()` и метод `apply()`. Изучите данные в столбце `purpose` и определите, какие подстроки помогут вам правильно определить категорию.**"
   ]
  },
  {
   "cell_type": "code",
   "execution_count": 20,
   "id": "be41da5d",
   "metadata": {
    "deletable": false,
    "id": "be41da5d"
   },
   "outputs": [],
   "source": [
    "def categorize_purpose(row):\n",
    "    try:\n",
    "        if 'автом' in row:\n",
    "            return 'операции с автомобилем'\n",
    "        elif 'жил' in row or 'недвиж' in row:\n",
    "            return 'операции с недвижимостью'\n",
    "        elif 'свад' in row:\n",
    "            return 'проведение свадьбы'\n",
    "        elif 'образов' in row:\n",
    "            return 'получение образования'\n",
    "    except:\n",
    "        return 'нет категории'"
   ]
  },
  {
   "cell_type": "code",
   "execution_count": 21,
   "id": "94c4a19a",
   "metadata": {
    "deletable": false,
    "id": "94c4a19a"
   },
   "outputs": [],
   "source": [
    "data['purpose_category'] = data['purpose'].apply(categorize_purpose)"
   ]
  },
  {
   "cell_type": "markdown",
   "id": "3d596c34",
   "metadata": {
    "deletable": false,
    "editable": false,
    "id": "3d596c34"
   },
   "source": [
    "### Шаг 3. Исследуйте данные и ответьте на вопросы"
   ]
  },
  {
   "cell_type": "markdown",
   "id": "648db036",
   "metadata": {
    "deletable": false,
    "editable": false,
    "id": "648db036"
   },
   "source": [
    "#### 3.1 Есть ли зависимость между количеством детей и возвратом кредита в срок?"
   ]
  },
  {
   "cell_type": "code",
   "execution_count": 22,
   "id": "7fcff25e",
   "metadata": {
    "deletable": false,
    "id": "7fcff25e",
    "scrolled": true
   },
   "outputs": [
    {
     "name": "stdout",
     "output_type": "stream",
     "text": [
      "          count   sum   convers\n",
      "children                       \n",
      "4            41     4  0.097561\n",
      "2          2052   194  0.094542\n",
      "1          4808   444  0.092346\n",
      "3           330    27  0.081818\n",
      "0         14091  1063  0.075438\n",
      "5             9     0  0.000000\n"
     ]
    }
   ],
   "source": [
    "data_pivot = data.pivot_table(index=['children'],  values= 'debt', aggfunc={'sum','count'})\n",
    "data_pivot['convers'] = data_pivot['sum']/ data_pivot['count']\n",
    "data_pivot = data_pivot.sort_values(by = 'convers', ascending = False)\n",
    "print(data_pivot)"
   ]
  },
  {
   "cell_type": "code",
   "execution_count": 23,
   "id": "c20dbafd",
   "metadata": {},
   "outputs": [
    {
     "data": {
      "text/plain": [
       "<AxesSubplot:title={'center':'Зависимость количества детей на невозврат кредита'}, xlabel='children', ylabel='convers'>"
      ]
     },
     "execution_count": 23,
     "metadata": {},
     "output_type": "execute_result"
    },
    {
     "data": {
      "image/png": "[encoded data removed]",
      "text/plain": [
       "<Figure size 432x288 with 1 Axes>"
      ]
     },
     "metadata": {
      "needs_background": "light"
     },
     "output_type": "display_data"
    }
   ],
   "source": [
    "import matplotlib.pyplot as plt\n",
    "import seaborn as sns\n",
    "\n",
    "x =data_pivot.index \n",
    "y = data_pivot['convers']\n",
    "plt.title(\"Зависимость количества детей на невозврат кредита\")\n",
    "sns.barplot(x=x, y=y)"
   ]
  },
  {
   "cell_type": "code",
   "execution_count": 24,
   "id": "c68e57f7",
   "metadata": {},
   "outputs": [
    {
     "data": {
      "text/plain": [
       "<AxesSubplot:title={'center':'Общее количество кредитов'}, xlabel='children', ylabel='count'>"
      ]
     },
     "execution_count": 24,
     "metadata": {},
     "output_type": "execute_result"
    },
    {
     "data": {
      "image/png": "[encoded data removed]",
      "text/plain": [
       "<Figure size 432x288 with 1 Axes>"
      ]
     },
     "metadata": {
      "needs_background": "light"
     },
     "output_type": "display_data"
    }
   ],
   "source": [
    "x1 =data_pivot.index \n",
    "y2 = data_pivot['count']\n",
    "plt.title(\"Общее количество кредитов\")\n",
    "sns.barplot(x=x1, y=y2)"
   ]
  },
  {
   "cell_type": "markdown",
   "id": "2eb9088e",
   "metadata": {
    "deletable": false,
    "id": "2eb9088e"
   },
   "source": [
    "**Вывод:*Зависимость  между количеством детей и возвратом кредита в срок существует. Наибольший процент невозврата у семей с 4 детьми. Возможно, это связано с большими расходами в семье и, в большинстве случаев, невозможности работать одному родителю(необходим уход за детьми). Семьи с 5 детьми крайне редко берут кредит, поэтому процент невозврата ничтожен. Семьи без детей имеют наименьший процент невозврата, т.к. нет расходов на детей и возможность работать обоим супругам. Семьи с 2 детьми имеют больший процент невозврата, чем с 1 ребенком, возможно ввиду больших расходов. Общее количество кредитов у семей с 3-5 детьми очень низкое, т.к. таких семей намного меньше, и они менее платежеспособны(в большинстве случаев), чем семьи не более, чем с 2мя детьми.* "
   ]
  },
  {
   "cell_type": "markdown",
   "id": "74c9b3a7",
   "metadata": {
    "deletable": false,
    "editable": false,
    "id": "74c9b3a7"
   },
   "source": [
    "#### 3.2 Есть ли зависимость между семейным положением и возвратом кредита в срок?"
   ]
  },
  {
   "cell_type": "code",
   "execution_count": 25,
   "id": "8098ab3b",
   "metadata": {
    "deletable": false,
    "id": "8098ab3b"
   },
   "outputs": [
    {
     "name": "stdout",
     "output_type": "stream",
     "text": [
      "                       count  sum   convers\n",
      "family_status                              \n",
      "Не женат / не замужем   2796  273  0.097639\n",
      "гражданский брак        4134  385  0.093130\n",
      "женат / замужем        12261  927  0.075606\n",
      "в разводе               1189   84  0.070648\n",
      "вдовец / вдова           951   63  0.066246\n"
     ]
    }
   ],
   "source": [
    "data_pivot = data.pivot_table(index=['family_status'],  values= 'debt', aggfunc={'sum','count'})\n",
    "data_pivot['convers'] = data_pivot['sum']/ data_pivot['count']\n",
    "data_pivot = data_pivot.sort_values(by = 'convers', ascending = False)\n",
    "print(data_pivot)"
   ]
  },
  {
   "cell_type": "code",
   "execution_count": 26,
   "id": "d14c058c",
   "metadata": {},
   "outputs": [
    {
     "data": {
      "text/plain": [
       "<AxesSubplot:title={'center':'Зависимость семейного положения на невозврат кредита'}, xlabel='family_status', ylabel='convers'>"
      ]
     },
     "execution_count": 26,
     "metadata": {},
     "output_type": "execute_result"
    },
    {
     "data": {
      "image/png": "[encoded data removed]",
      "text/plain": [
       "<Figure size 432x288 with 1 Axes>"
      ]
     },
     "metadata": {
      "needs_background": "light"
     },
     "output_type": "display_data"
    }
   ],
   "source": [
    "x =data_pivot.index \n",
    "y = data_pivot['convers']\n",
    "plt.title(\"Зависимость семейного положения на невозврат кредита\")\n",
    "sns.barplot(x=x, y=y)"
   ]
  },
  {
   "cell_type": "markdown",
   "id": "c389ca63",
   "metadata": {
    "deletable": false,
    "id": "c389ca63"
   },
   "source": [
    "**Вывод:*Самый большой процент невозврата у неженатых людей и людей в гражданском браке, возможно, связано с нестабильностью в личной жизни, и, в большинстве случаев, с молодым возрастом(и более низким доходом соответственно). Люди в разводе или вдовцы скорее всего более старшего возраста, низкий процент невозврата связан с осознанным подходом к жизни и к финансам. Люди в браке имеют стабильность в личной жизни и в работе, более уверены в завтрашнем дне, поэтому невозврат средний, невозврат может быть связан с наличием детей, уходом за родителями и т.д.* "
   ]
  },
  {
   "cell_type": "markdown",
   "id": "9529de68",
   "metadata": {
    "deletable": false,
    "editable": false,
    "id": "9529de68"
   },
   "source": [
    "#### 3.3 Есть ли зависимость между уровнем дохода и возвратом кредита в срок?"
   ]
  },
  {
   "cell_type": "code",
   "execution_count": 27,
   "id": "8787f44a",
   "metadata": {
    "deletable": false,
    "id": "8787f44a"
   },
   "outputs": [
    {
     "name": "stdout",
     "output_type": "stream",
     "text": [
      "                       count   sum   convers\n",
      "total_income_category                       \n",
      "E                         22     2  0.090909\n",
      "C                      15921  1353  0.084982\n",
      "A                         25     2  0.080000\n",
      "B                       5014   354  0.070602\n",
      "D                        349    21  0.060172\n"
     ]
    }
   ],
   "source": [
    "data_pivot = data.pivot_table(index=['total_income_category'],  values= 'debt', aggfunc={'sum','count'})\n",
    "data_pivot['convers'] = data_pivot['sum']/ data_pivot['count']\n",
    "data_pivot = data_pivot.sort_values(by = 'convers', ascending = False)\n",
    "print(data_pivot)# Ваш код будет здесь. Вы можете создавать новые ячейки."
   ]
  },
  {
   "cell_type": "markdown",
   "id": "6dd14b57",
   "metadata": {
    "deletable": false,
    "id": "6dd14b57"
   },
   "source": [
    "**Вывод:*Самый высокий процент невозврата у людей с доходом менее 30тыс руб, это понятно, т.к. с таким доходом очень сложно покрыть кредит. Самый низкий процент невозврата у категории с доходом от 30 тыс до 50 тыс руб,возможно, берут небольшие суммы. Количество кредитов у категорий дохода до 50тыс.руб.менее 2% от общего числа,т.к. это недостаточный доход для покрытия кредита, особенно большой суммы. Возможно с таким доходом реже выдаются кредиты. Низкий процент невозврата у людей с доходом от 200тыс до 1000тыс, связан с высокой платежеспособностью. Относительно других категорий, процент невозврата у категории с доходом от 50тыс до 200тыс выше. Это основная масса кредиторов, возможно невозврат связан с инфляцией, увеличением расходов, потерей работы. "
   ]
  },
  {
   "cell_type": "markdown",
   "id": "1dcc9b12",
   "metadata": {
    "deletable": false,
    "editable": false,
    "id": "1dcc9b12"
   },
   "source": [
    "#### 3.4 Как разные цели кредита влияют на его возврат в срок?"
   ]
  },
  {
   "cell_type": "code",
   "execution_count": 28,
   "id": "c602bc8b",
   "metadata": {
    "deletable": false,
    "id": "c602bc8b"
   },
   "outputs": [
    {
     "name": "stdout",
     "output_type": "stream",
     "text": [
      "                          count  sum   convers\n",
      "purpose_category                              \n",
      "операции с автомобилем     4279  400  0.093480\n",
      "получение образования      3988  369  0.092528\n",
      "проведение свадьбы         2313  183  0.079118\n",
      "операции с недвижимостью  10751  780  0.072551\n"
     ]
    }
   ],
   "source": [
    "data_pivot = data.pivot_table(index=['purpose_category'],  values= 'debt', aggfunc={'sum','count'})\n",
    "data_pivot['convers'] = data_pivot['sum']/ data_pivot['count']\n",
    "data_pivot = data_pivot.sort_values(by = 'convers', ascending = False)\n",
    "print(data_pivot)# Ваш код будет здесь. Вы можете создавать новые ячейки."
   ]
  },
  {
   "cell_type": "markdown",
   "id": "cf05ed63",
   "metadata": {
    "deletable": false,
    "id": "cf05ed63"
   },
   "source": [
    "**Вывод:*Самый высокий риск невозврата кредита на автомобиль, может быть с ненадежным залогом(в отличии от квартиры машина ломается, разбивается и т.д.). Также высокий процент невозврата кредита за образование, предполагаю из-за молодого возраста, отсутствиия работы и низкой ответственности. У кредитов на жилье самый низкий риск невозврата, возможно связан с залогом, необходимостью в жилье, осознанным приобретением, наличием семьи. На проведение свадеб, возможно, берут небольшие суммы, поэтому выплаты легче. * "
   ]
  },
  {
   "cell_type": "markdown",
   "id": "46c1f10b",
   "metadata": {
    "deletable": false,
    "editable": false,
    "id": "46c1f10b"
   },
   "source": [
    "#### 3.5 Приведите возможные причины появления пропусков в исходных данных."
   ]
  },
  {
   "cell_type": "markdown",
   "id": "3697d2a9",
   "metadata": {
    "deletable": false,
    "id": "3697d2a9"
   },
   "source": [
    "*Ответ:* Одинаковое количество пропусков в столбцах days_employed и total_income. Возможно первая причина - у безработных нет данных по количеству дней и доходов, вторая - незаполнение days_employed сложность подсчета количества трудовых дней, обычно считаются года. Незаполнение total_income может быть связано с нежеланием раскрывать доход (например \"серая зарплата\"). Могут быть технические проблемы с заполнением."
   ]
  },
  {
   "cell_type": "markdown",
   "id": "3137d257",
   "metadata": {
    "deletable": false,
    "editable": false,
    "id": "3137d257"
   },
   "source": [
    "#### 3.6 Объясните, почему заполнить пропуски медианным значением — лучшее решение для количественных переменных."
   ]
  },
  {
   "cell_type": "markdown",
   "id": "cf40012a",
   "metadata": {
    "deletable": false,
    "id": "cf40012a"
   },
   "source": [
    "*Ответ:* Потому что среднее значение покажет некорректную информацию из-за присутствия пропусков и большого разброса значений, например в зарплате."
   ]
  },
  {
   "cell_type": "markdown",
   "id": "57bc304e",
   "metadata": {
    "deletable": false,
    "editable": false,
    "id": "57bc304e"
   },
   "source": [
    "### Шаг 4: общий вывод."
   ]
  },
  {
   "cell_type": "markdown",
   "id": "1ab75d1c",
   "metadata": {
    "deletable": false,
    "id": "1ab75d1c"
   },
   "source": [
    "Напишите ваш общий вывод.\n",
    "Мною был проведен анализ данных.  \n",
    "Были удалены пропуски и заменены медианным значением по каждому типу занятости.  \n",
    "Также были обработаны аномальные значения( заменены все отрицательные значения положительными). \n",
    "Обработаны дубликаты(значения приведены к одному регистру).\n",
    "Столбец доходов был разбит на категории.\n",
    "Цели кредита были разбиты на 4 подкатегории: недвижимость, образование, автомобиль, свадьба.\n",
    "   Анализ данных показал зависимость невозврата кредита от количества детей. Если не  брать в расчет многодетные семьи(3 и более детей), есть прямая зависимость невозврата кредита. У семей с 2мя детьми на 0,2% больше доля невозврата, чем у семей с 1 ребенком и на 1,9% больше, чем у бездетных семей. Скорее всего это связано с большей финансовой нагрузкой на семью. Процент заемщиков – многодетных семей от общего числа менее 2%, поэтому сложно дать оценку из-за недостаточности данных.\n",
    "    Зависимость невозврата кредита от семейного положения также прослеживается. Процент невозврата у неженатых и людей в гражданском браке выше на около 2%, чем у людей в браке. Возможно, это связано с нестабильностью в личной жизни, неуверенностью в завтрашнем дне, более молодым возрастом (и соответственно более низким  доходом). Самый низкий процент невозврата у разведенных и вдовцов, возможно, это связано с более взрослым возрастом и более высокой ответственностью. \n"
   ]
  }
 ],
 "metadata": {
  "ExecuteTimeLog": [
   {
    "duration": 53,
    "start_time": "2023-11-23T19:00:16.953Z"
   },
   {
    "duration": 719,
    "start_time": "2023-11-23T19:00:47.874Z"
   },
   {
    "duration": 22,
    "start_time": "2023-11-23T19:00:48.595Z"
   },
   {
    "duration": 40,
    "start_time": "2023-11-23T19:00:48.619Z"
   },
   {
    "duration": 10,
    "start_time": "2023-11-23T19:00:48.662Z"
   },
   {
    "duration": 54,
    "start_time": "2023-11-23T19:00:48.674Z"
   },
   {
    "duration": 8,
    "start_time": "2023-11-23T19:00:48.730Z"
   },
   {
    "duration": 35,
    "start_time": "2023-11-23T19:00:48.740Z"
   },
   {
    "duration": 18,
    "start_time": "2023-11-23T19:00:48.777Z"
   },
   {
    "duration": 30,
    "start_time": "2023-11-23T19:00:48.797Z"
   },
   {
    "duration": 25,
    "start_time": "2023-11-23T19:00:48.830Z"
   },
   {
    "duration": 62,
    "start_time": "2023-11-23T19:00:48.857Z"
   },
   {
    "duration": 11,
    "start_time": "2023-11-23T19:00:48.921Z"
   },
   {
    "duration": 32,
    "start_time": "2023-11-23T19:00:48.933Z"
   },
   {
    "duration": 35,
    "start_time": "2023-11-23T19:00:48.966Z"
   },
   {
    "duration": 49,
    "start_time": "2023-11-23T19:00:49.003Z"
   },
   {
    "duration": 34,
    "start_time": "2023-11-23T19:00:49.054Z"
   },
   {
    "duration": 15,
    "start_time": "2023-11-23T19:00:49.090Z"
   },
   {
    "duration": 34,
    "start_time": "2023-11-23T19:00:49.107Z"
   },
   {
    "duration": 29,
    "start_time": "2023-11-23T19:00:49.142Z"
   },
   {
    "duration": 26,
    "start_time": "2023-11-23T19:00:49.172Z"
   },
   {
    "duration": 53,
    "start_time": "2023-11-23T19:00:49.200Z"
   },
   {
    "duration": 44,
    "start_time": "2023-11-23T19:00:49.255Z"
   },
   {
    "duration": 27,
    "start_time": "2023-11-23T19:00:49.300Z"
   },
   {
    "duration": 30,
    "start_time": "2023-11-23T19:00:49.329Z"
   },
   {
    "duration": 43,
    "start_time": "2023-11-23T19:00:49.360Z"
   },
   {
    "duration": 5,
    "start_time": "2023-11-23T19:01:45.097Z"
   },
   {
    "duration": 8,
    "start_time": "2023-11-23T19:03:04.481Z"
   },
   {
    "duration": 72,
    "start_time": "2023-11-23T19:24:19.620Z"
   },
   {
    "duration": 12,
    "start_time": "2023-11-23T19:29:40.863Z"
   },
   {
    "duration": 7,
    "start_time": "2023-11-23T19:29:44.193Z"
   },
   {
    "duration": 11,
    "start_time": "2023-11-23T19:31:21.929Z"
   },
   {
    "duration": 9,
    "start_time": "2023-11-23T19:32:26.487Z"
   },
   {
    "duration": 12,
    "start_time": "2023-11-23T19:33:41.063Z"
   },
   {
    "duration": 14,
    "start_time": "2023-11-23T19:34:17.935Z"
   },
   {
    "duration": 14,
    "start_time": "2023-11-23T19:35:34.710Z"
   },
   {
    "duration": 14,
    "start_time": "2023-11-23T19:44:22.664Z"
   },
   {
    "duration": 6,
    "start_time": "2023-11-23T19:50:36.231Z"
   },
   {
    "duration": 5,
    "start_time": "2023-11-23T19:50:48.354Z"
   },
   {
    "duration": 7,
    "start_time": "2023-11-23T19:50:58.546Z"
   },
   {
    "duration": 6,
    "start_time": "2023-11-23T19:51:07.627Z"
   },
   {
    "duration": 9,
    "start_time": "2023-11-23T19:51:20.619Z"
   },
   {
    "duration": 7,
    "start_time": "2023-11-23T19:51:29.636Z"
   },
   {
    "duration": 7,
    "start_time": "2023-11-23T19:51:40.880Z"
   },
   {
    "duration": 6,
    "start_time": "2023-11-23T19:53:05.705Z"
   },
   {
    "duration": 447,
    "start_time": "2023-11-23T19:53:38.014Z"
   },
   {
    "duration": 22,
    "start_time": "2023-11-23T19:53:38.463Z"
   },
   {
    "duration": 21,
    "start_time": "2023-11-23T19:53:38.486Z"
   },
   {
    "duration": 15,
    "start_time": "2023-11-23T19:53:38.509Z"
   },
   {
    "duration": 61,
    "start_time": "2023-11-23T19:53:38.526Z"
   },
   {
    "duration": 3,
    "start_time": "2023-11-23T19:53:38.589Z"
   },
   {
    "duration": 28,
    "start_time": "2023-11-23T19:53:38.594Z"
   },
   {
    "duration": 23,
    "start_time": "2023-11-23T19:53:38.623Z"
   },
   {
    "duration": 22,
    "start_time": "2023-11-23T19:53:38.648Z"
   },
   {
    "duration": 10,
    "start_time": "2023-11-23T19:53:38.673Z"
   },
   {
    "duration": 57,
    "start_time": "2023-11-23T19:53:38.685Z"
   },
   {
    "duration": 10,
    "start_time": "2023-11-23T19:53:38.744Z"
   },
   {
    "duration": 5,
    "start_time": "2023-11-23T19:53:38.756Z"
   },
   {
    "duration": 29,
    "start_time": "2023-11-23T19:53:38.762Z"
   },
   {
    "duration": 23,
    "start_time": "2023-11-23T19:53:38.792Z"
   },
   {
    "duration": 18,
    "start_time": "2023-11-23T19:53:38.816Z"
   },
   {
    "duration": 4,
    "start_time": "2023-11-23T19:53:38.835Z"
   },
   {
    "duration": 15,
    "start_time": "2023-11-23T19:53:38.840Z"
   },
   {
    "duration": 6,
    "start_time": "2023-11-23T19:53:38.864Z"
   },
   {
    "duration": 10,
    "start_time": "2023-11-23T19:53:38.871Z"
   },
   {
    "duration": 9,
    "start_time": "2023-11-23T19:53:38.882Z"
   },
   {
    "duration": 2,
    "start_time": "2023-11-23T19:53:38.893Z"
   },
   {
    "duration": 4,
    "start_time": "2023-11-23T19:53:38.896Z"
   },
   {
    "duration": 9,
    "start_time": "2023-11-23T19:53:38.902Z"
   },
   {
    "duration": 64,
    "start_time": "2023-11-23T19:54:17.974Z"
   },
   {
    "duration": 5,
    "start_time": "2023-11-23T19:54:28.551Z"
   },
   {
    "duration": 688,
    "start_time": "2023-11-23T20:06:22.722Z"
   },
   {
    "duration": 663,
    "start_time": "2023-11-23T20:06:41.402Z"
   },
   {
    "duration": 114,
    "start_time": "2023-11-23T20:09:06.720Z"
   },
   {
    "duration": 81,
    "start_time": "2023-11-23T20:12:02.912Z"
   },
   {
    "duration": 129,
    "start_time": "2023-11-23T20:12:28.947Z"
   },
   {
    "duration": 127,
    "start_time": "2023-11-23T20:13:49.594Z"
   },
   {
    "duration": 17,
    "start_time": "2023-11-23T20:13:59.477Z"
   },
   {
    "duration": 16,
    "start_time": "2023-11-23T20:15:43.698Z"
   },
   {
    "duration": 18,
    "start_time": "2023-11-23T20:16:13.370Z"
   },
   {
    "duration": 16,
    "start_time": "2023-11-23T20:16:32.120Z"
   },
   {
    "duration": 16,
    "start_time": "2023-11-23T20:18:28.925Z"
   },
   {
    "duration": 18,
    "start_time": "2023-11-23T20:19:06.058Z"
   },
   {
    "duration": 17,
    "start_time": "2023-11-23T20:19:24.703Z"
   },
   {
    "duration": 17,
    "start_time": "2023-11-23T20:21:32.497Z"
   },
   {
    "duration": 24,
    "start_time": "2023-11-23T20:22:52.675Z"
   },
   {
    "duration": 19,
    "start_time": "2023-11-23T20:23:45.446Z"
   },
   {
    "duration": 19,
    "start_time": "2023-11-23T20:25:28.066Z"
   },
   {
    "duration": 17,
    "start_time": "2023-11-23T20:25:58.593Z"
   },
   {
    "duration": 720,
    "start_time": "2023-11-24T10:04:06.181Z"
   },
   {
    "duration": 25,
    "start_time": "2023-11-24T10:04:06.903Z"
   },
   {
    "duration": 21,
    "start_time": "2023-11-24T10:04:06.930Z"
   },
   {
    "duration": 11,
    "start_time": "2023-11-24T10:04:06.953Z"
   },
   {
    "duration": 51,
    "start_time": "2023-11-24T10:04:06.966Z"
   },
   {
    "duration": 3,
    "start_time": "2023-11-24T10:04:07.018Z"
   },
   {
    "duration": 11,
    "start_time": "2023-11-24T10:04:07.023Z"
   },
   {
    "duration": 24,
    "start_time": "2023-11-24T10:04:07.035Z"
   },
   {
    "duration": 9,
    "start_time": "2023-11-24T10:04:07.061Z"
   },
   {
    "duration": 13,
    "start_time": "2023-11-24T10:04:07.072Z"
   },
   {
    "duration": 38,
    "start_time": "2023-11-24T10:04:07.087Z"
   },
   {
    "duration": 11,
    "start_time": "2023-11-24T10:04:07.127Z"
   },
   {
    "duration": 3,
    "start_time": "2023-11-24T10:04:07.159Z"
   },
   {
    "duration": 16,
    "start_time": "2023-11-24T10:04:07.164Z"
   },
   {
    "duration": 21,
    "start_time": "2023-11-24T10:04:07.182Z"
   },
   {
    "duration": 19,
    "start_time": "2023-11-24T10:04:07.205Z"
   },
   {
    "duration": 4,
    "start_time": "2023-11-24T10:04:07.226Z"
   },
   {
    "duration": 13,
    "start_time": "2023-11-24T10:04:07.259Z"
   },
   {
    "duration": 8,
    "start_time": "2023-11-24T10:04:07.274Z"
   },
   {
    "duration": 4,
    "start_time": "2023-11-24T10:04:07.283Z"
   },
   {
    "duration": 19,
    "start_time": "2023-11-24T10:04:07.288Z"
   },
   {
    "duration": 22,
    "start_time": "2023-11-24T10:04:07.308Z"
   },
   {
    "duration": 18,
    "start_time": "2023-11-24T10:04:07.359Z"
   },
   {
    "duration": 18,
    "start_time": "2023-11-24T10:04:07.379Z"
   },
   {
    "duration": 19,
    "start_time": "2023-11-24T10:04:07.398Z"
   },
   {
    "duration": 46,
    "start_time": "2023-11-24T14:27:50.743Z"
   },
   {
    "duration": 6,
    "start_time": "2023-11-24T14:28:12.366Z"
   },
   {
    "duration": 664,
    "start_time": "2023-11-24T14:28:20.058Z"
   },
   {
    "duration": 20,
    "start_time": "2023-11-24T14:28:20.724Z"
   },
   {
    "duration": 17,
    "start_time": "2023-11-24T14:28:20.746Z"
   },
   {
    "duration": 16,
    "start_time": "2023-11-24T14:28:20.764Z"
   },
   {
    "duration": 41,
    "start_time": "2023-11-24T14:28:20.782Z"
   },
   {
    "duration": 3,
    "start_time": "2023-11-24T14:28:20.825Z"
   },
   {
    "duration": 24,
    "start_time": "2023-11-24T14:28:20.829Z"
   },
   {
    "duration": 17,
    "start_time": "2023-11-24T14:28:20.854Z"
   },
   {
    "duration": 10,
    "start_time": "2023-11-24T14:28:20.872Z"
   },
   {
    "duration": 18,
    "start_time": "2023-11-24T14:28:20.884Z"
   },
   {
    "duration": 41,
    "start_time": "2023-11-24T14:28:20.903Z"
   },
   {
    "duration": 10,
    "start_time": "2023-11-24T14:28:20.945Z"
   },
   {
    "duration": 21,
    "start_time": "2023-11-24T14:28:20.956Z"
   },
   {
    "duration": 18,
    "start_time": "2023-11-24T14:28:20.978Z"
   },
   {
    "duration": 46,
    "start_time": "2023-11-24T14:28:20.997Z"
   },
   {
    "duration": 15,
    "start_time": "2023-11-24T14:28:21.044Z"
   },
   {
    "duration": 4,
    "start_time": "2023-11-24T14:28:21.061Z"
   },
   {
    "duration": 21,
    "start_time": "2023-11-24T14:28:21.066Z"
   },
   {
    "duration": 12,
    "start_time": "2023-11-24T14:28:21.088Z"
   },
   {
    "duration": 3,
    "start_time": "2023-11-24T14:28:21.101Z"
   },
   {
    "duration": 8,
    "start_time": "2023-11-24T14:28:21.105Z"
   },
   {
    "duration": 26,
    "start_time": "2023-11-24T14:28:21.114Z"
   },
   {
    "duration": 20,
    "start_time": "2023-11-24T14:28:21.141Z"
   },
   {
    "duration": 14,
    "start_time": "2023-11-24T14:28:21.162Z"
   },
   {
    "duration": 21,
    "start_time": "2023-11-24T14:28:21.177Z"
   },
   {
    "duration": 70,
    "start_time": "2023-11-24T14:28:39.879Z"
   },
   {
    "duration": 1011,
    "start_time": "2023-11-24T14:29:34.855Z"
   },
   {
    "duration": 2282,
    "start_time": "2023-11-24T14:30:18.686Z"
   },
   {
    "duration": 22,
    "start_time": "2023-11-24T14:39:42.144Z"
   },
   {
    "duration": 21,
    "start_time": "2023-11-24T14:44:45.787Z"
   },
   {
    "duration": 781,
    "start_time": "2023-11-24T14:45:41.043Z"
   },
   {
    "duration": 772,
    "start_time": "2023-11-24T14:54:08.828Z"
   },
   {
    "duration": 25,
    "start_time": "2023-11-24T15:00:24.312Z"
   },
   {
    "duration": 100,
    "start_time": "2023-11-25T12:08:11.569Z"
   },
   {
    "duration": 1502,
    "start_time": "2023-11-25T12:08:23.812Z"
   },
   {
    "duration": 715,
    "start_time": "2023-11-25T12:08:44.309Z"
   },
   {
    "duration": 23,
    "start_time": "2023-11-25T12:08:45.026Z"
   },
   {
    "duration": 19,
    "start_time": "2023-11-25T12:08:45.051Z"
   },
   {
    "duration": 29,
    "start_time": "2023-11-25T12:08:45.072Z"
   },
   {
    "duration": 49,
    "start_time": "2023-11-25T12:08:45.103Z"
   },
   {
    "duration": 4,
    "start_time": "2023-11-25T12:08:45.154Z"
   },
   {
    "duration": 18,
    "start_time": "2023-11-25T12:08:45.159Z"
   },
   {
    "duration": 8,
    "start_time": "2023-11-25T12:08:45.179Z"
   },
   {
    "duration": 8,
    "start_time": "2023-11-25T12:08:45.188Z"
   },
   {
    "duration": 4,
    "start_time": "2023-11-25T12:08:45.200Z"
   },
   {
    "duration": 45,
    "start_time": "2023-11-25T12:08:45.206Z"
   },
   {
    "duration": 10,
    "start_time": "2023-11-25T12:08:45.253Z"
   },
   {
    "duration": 5,
    "start_time": "2023-11-25T12:08:45.265Z"
   },
   {
    "duration": 13,
    "start_time": "2023-11-25T12:08:45.272Z"
   },
   {
    "duration": 38,
    "start_time": "2023-11-25T12:08:45.286Z"
   },
   {
    "duration": 17,
    "start_time": "2023-11-25T12:08:45.325Z"
   },
   {
    "duration": 4,
    "start_time": "2023-11-25T12:08:45.343Z"
   },
   {
    "duration": 21,
    "start_time": "2023-11-25T12:08:45.349Z"
   },
   {
    "duration": 11,
    "start_time": "2023-11-25T12:08:45.372Z"
   },
   {
    "duration": 5,
    "start_time": "2023-11-25T12:08:45.385Z"
   },
   {
    "duration": 19,
    "start_time": "2023-11-25T12:08:45.391Z"
   },
   {
    "duration": 2632,
    "start_time": "2023-11-25T12:08:45.411Z"
   },
   {
    "duration": 0,
    "start_time": "2023-11-25T12:08:48.045Z"
   },
   {
    "duration": 0,
    "start_time": "2023-11-25T12:08:48.046Z"
   },
   {
    "duration": 0,
    "start_time": "2023-11-25T12:08:48.048Z"
   },
   {
    "duration": 24,
    "start_time": "2023-11-25T12:09:32.126Z"
   },
   {
    "duration": 193,
    "start_time": "2023-11-25T12:09:53.178Z"
   },
   {
    "duration": 2711,
    "start_time": "2023-11-25T12:12:12.190Z"
   },
   {
    "duration": 199,
    "start_time": "2023-11-25T12:12:45.532Z"
   },
   {
    "duration": 201,
    "start_time": "2023-11-25T12:32:01.890Z"
   },
   {
    "duration": 184,
    "start_time": "2023-11-25T12:32:57.512Z"
   },
   {
    "duration": 189,
    "start_time": "2023-11-25T12:38:21.082Z"
   },
   {
    "duration": 201,
    "start_time": "2023-11-25T14:17:05.559Z"
   },
   {
    "duration": 158,
    "start_time": "2023-11-25T14:20:27.070Z"
   },
   {
    "duration": 1427,
    "start_time": "2023-11-25T14:23:05.374Z"
   },
   {
    "duration": 1341,
    "start_time": "2023-11-25T14:23:47.524Z"
   },
   {
    "duration": 155,
    "start_time": "2023-11-25T14:24:33.719Z"
   },
   {
    "duration": 26,
    "start_time": "2023-11-25T14:27:57.636Z"
   },
   {
    "duration": 1388,
    "start_time": "2023-11-25T14:29:02.065Z"
   },
   {
    "duration": 229,
    "start_time": "2023-11-25T14:29:19.289Z"
   },
   {
    "duration": 25,
    "start_time": "2023-11-25T14:30:08.316Z"
   },
   {
    "duration": 25,
    "start_time": "2023-11-25T14:32:00.980Z"
   },
   {
    "duration": 25,
    "start_time": "2023-11-25T14:33:05.041Z"
   },
   {
    "duration": 1498,
    "start_time": "2023-11-25T14:34:55.599Z"
   },
   {
    "duration": 1296,
    "start_time": "2023-11-25T14:36:51.351Z"
   },
   {
    "duration": 32,
    "start_time": "2023-11-25T14:37:53.270Z"
   },
   {
    "duration": 23,
    "start_time": "2023-11-25T14:39:08.170Z"
   },
   {
    "duration": 150,
    "start_time": "2023-11-25T14:43:18.833Z"
   },
   {
    "duration": 234,
    "start_time": "2023-11-25T14:59:58.812Z"
   },
   {
    "duration": 176,
    "start_time": "2023-11-25T15:00:57.307Z"
   },
   {
    "duration": 171,
    "start_time": "2023-11-25T15:02:54.219Z"
   },
   {
    "duration": 142,
    "start_time": "2023-11-25T15:06:00.023Z"
   },
   {
    "duration": 163,
    "start_time": "2023-11-25T15:07:24.362Z"
   },
   {
    "duration": 186,
    "start_time": "2023-11-25T15:08:35.069Z"
   },
   {
    "duration": 156,
    "start_time": "2023-11-25T15:10:09.755Z"
   },
   {
    "duration": 169,
    "start_time": "2023-11-25T15:13:00.566Z"
   },
   {
    "duration": 147,
    "start_time": "2023-11-25T15:13:29.554Z"
   },
   {
    "duration": 250,
    "start_time": "2023-11-25T15:14:56.939Z"
   },
   {
    "duration": 178,
    "start_time": "2023-11-25T15:15:28.776Z"
   },
   {
    "duration": 153,
    "start_time": "2023-11-25T15:16:41.592Z"
   },
   {
    "duration": 151,
    "start_time": "2023-11-25T15:23:20.138Z"
   },
   {
    "duration": 490,
    "start_time": "2023-11-25T15:23:37.141Z"
   },
   {
    "duration": 25,
    "start_time": "2023-11-25T15:23:37.633Z"
   },
   {
    "duration": 16,
    "start_time": "2023-11-25T15:23:37.660Z"
   },
   {
    "duration": 29,
    "start_time": "2023-11-25T15:23:37.678Z"
   },
   {
    "duration": 38,
    "start_time": "2023-11-25T15:23:37.709Z"
   },
   {
    "duration": 4,
    "start_time": "2023-11-25T15:23:37.749Z"
   },
   {
    "duration": 10,
    "start_time": "2023-11-25T15:23:37.755Z"
   },
   {
    "duration": 4,
    "start_time": "2023-11-25T15:23:37.767Z"
   },
   {
    "duration": 37,
    "start_time": "2023-11-25T15:23:37.773Z"
   },
   {
    "duration": 4,
    "start_time": "2023-11-25T15:23:37.813Z"
   },
   {
    "duration": 48,
    "start_time": "2023-11-25T15:23:37.819Z"
   },
   {
    "duration": 11,
    "start_time": "2023-11-25T15:23:37.869Z"
   },
   {
    "duration": 27,
    "start_time": "2023-11-25T15:23:37.882Z"
   },
   {
    "duration": 15,
    "start_time": "2023-11-25T15:23:37.911Z"
   },
   {
    "duration": 25,
    "start_time": "2023-11-25T15:23:37.928Z"
   },
   {
    "duration": 19,
    "start_time": "2023-11-25T15:23:37.955Z"
   },
   {
    "duration": 4,
    "start_time": "2023-11-25T15:23:37.976Z"
   },
   {
    "duration": 17,
    "start_time": "2023-11-25T15:23:38.007Z"
   },
   {
    "duration": 20,
    "start_time": "2023-11-25T15:23:38.027Z"
   },
   {
    "duration": 7,
    "start_time": "2023-11-25T15:23:38.049Z"
   },
   {
    "duration": 17,
    "start_time": "2023-11-25T15:23:38.058Z"
   },
   {
    "duration": 1034,
    "start_time": "2023-11-25T15:23:38.076Z"
   },
   {
    "duration": 20,
    "start_time": "2023-11-25T15:23:39.111Z"
   },
   {
    "duration": 17,
    "start_time": "2023-11-25T15:23:39.133Z"
   },
   {
    "duration": 18,
    "start_time": "2023-11-25T15:23:39.152Z"
   },
   {
    "duration": 167,
    "start_time": "2023-11-25T15:37:08.816Z"
   },
   {
    "duration": 168,
    "start_time": "2023-11-25T16:37:08.316Z"
   },
   {
    "duration": 180,
    "start_time": "2023-11-25T16:37:48.863Z"
   },
   {
    "duration": 156,
    "start_time": "2023-11-25T16:51:28.504Z"
   },
   {
    "duration": 159,
    "start_time": "2023-11-25T16:51:38.704Z"
   },
   {
    "duration": 170,
    "start_time": "2023-11-25T16:52:35.392Z"
   },
   {
    "duration": 168,
    "start_time": "2023-11-25T16:52:47.740Z"
   },
   {
    "duration": 214,
    "start_time": "2023-11-25T16:53:58.073Z"
   },
   {
    "duration": 18,
    "start_time": "2023-11-25T16:54:24.050Z"
   },
   {
    "duration": 22,
    "start_time": "2023-11-25T16:58:34.097Z"
   },
   {
    "duration": 140,
    "start_time": "2023-11-25T16:58:38.066Z"
   },
   {
    "duration": 18,
    "start_time": "2023-11-25T16:59:55.822Z"
   },
   {
    "duration": 16,
    "start_time": "2023-11-25T17:00:19.428Z"
   },
   {
    "duration": 135,
    "start_time": "2023-11-25T17:00:29.649Z"
   },
   {
    "duration": 147,
    "start_time": "2023-11-25T17:00:48.808Z"
   },
   {
    "duration": 140,
    "start_time": "2023-11-25T17:01:16.246Z"
   },
   {
    "duration": 537,
    "start_time": "2023-11-25T17:01:32.590Z"
   },
   {
    "duration": 34,
    "start_time": "2023-11-25T17:01:33.130Z"
   },
   {
    "duration": 25,
    "start_time": "2023-11-25T17:01:33.166Z"
   },
   {
    "duration": 25,
    "start_time": "2023-11-25T17:01:33.193Z"
   },
   {
    "duration": 50,
    "start_time": "2023-11-25T17:01:33.220Z"
   },
   {
    "duration": 4,
    "start_time": "2023-11-25T17:01:33.272Z"
   },
   {
    "duration": 30,
    "start_time": "2023-11-25T17:01:33.277Z"
   },
   {
    "duration": 69,
    "start_time": "2023-11-25T17:01:33.309Z"
   },
   {
    "duration": 93,
    "start_time": "2023-11-25T17:01:33.380Z"
   },
   {
    "duration": 9,
    "start_time": "2023-11-25T17:01:33.476Z"
   },
   {
    "duration": 40,
    "start_time": "2023-11-25T17:01:33.486Z"
   },
   {
    "duration": 12,
    "start_time": "2023-11-25T17:01:33.528Z"
   },
   {
    "duration": 40,
    "start_time": "2023-11-25T17:01:33.541Z"
   },
   {
    "duration": 48,
    "start_time": "2023-11-25T17:01:33.584Z"
   },
   {
    "duration": 49,
    "start_time": "2023-11-25T17:01:33.634Z"
   },
   {
    "duration": 47,
    "start_time": "2023-11-25T17:01:33.685Z"
   },
   {
    "duration": 8,
    "start_time": "2023-11-25T17:01:33.734Z"
   },
   {
    "duration": 23,
    "start_time": "2023-11-25T17:01:33.744Z"
   },
   {
    "duration": 17,
    "start_time": "2023-11-25T17:01:33.769Z"
   },
   {
    "duration": 26,
    "start_time": "2023-11-25T17:01:33.788Z"
   },
   {
    "duration": 38,
    "start_time": "2023-11-25T17:01:33.815Z"
   },
   {
    "duration": 32,
    "start_time": "2023-11-25T17:01:33.855Z"
   },
   {
    "duration": 1115,
    "start_time": "2023-11-25T17:01:33.889Z"
   },
   {
    "duration": 166,
    "start_time": "2023-11-25T17:01:35.007Z"
   },
   {
    "duration": 21,
    "start_time": "2023-11-25T17:01:35.175Z"
   },
   {
    "duration": 174,
    "start_time": "2023-11-25T17:01:35.197Z"
   },
   {
    "duration": 19,
    "start_time": "2023-11-25T17:01:35.373Z"
   },
   {
    "duration": 20,
    "start_time": "2023-11-25T17:01:35.406Z"
   },
   {
    "duration": 486,
    "start_time": "2023-11-25T17:09:38.717Z"
   },
   {
    "duration": 26,
    "start_time": "2023-11-25T17:09:39.205Z"
   },
   {
    "duration": 20,
    "start_time": "2023-11-25T17:09:39.232Z"
   },
   {
    "duration": 11,
    "start_time": "2023-11-25T17:09:39.254Z"
   },
   {
    "duration": 71,
    "start_time": "2023-11-25T17:09:39.267Z"
   },
   {
    "duration": 3,
    "start_time": "2023-11-25T17:09:39.340Z"
   },
   {
    "duration": 19,
    "start_time": "2023-11-25T17:09:39.345Z"
   },
   {
    "duration": 16,
    "start_time": "2023-11-25T17:09:39.365Z"
   },
   {
    "duration": 8,
    "start_time": "2023-11-25T17:09:39.383Z"
   },
   {
    "duration": 15,
    "start_time": "2023-11-25T17:09:39.395Z"
   },
   {
    "duration": 56,
    "start_time": "2023-11-25T17:09:39.413Z"
   },
   {
    "duration": 12,
    "start_time": "2023-11-25T17:09:39.470Z"
   },
   {
    "duration": 4,
    "start_time": "2023-11-25T17:09:39.483Z"
   },
   {
    "duration": 22,
    "start_time": "2023-11-25T17:09:39.489Z"
   },
   {
    "duration": 26,
    "start_time": "2023-11-25T17:09:39.513Z"
   },
   {
    "duration": 19,
    "start_time": "2023-11-25T17:09:39.541Z"
   },
   {
    "duration": 4,
    "start_time": "2023-11-25T17:09:39.562Z"
   },
   {
    "duration": 15,
    "start_time": "2023-11-25T17:09:39.568Z"
   },
   {
    "duration": 7,
    "start_time": "2023-11-25T17:09:39.606Z"
   },
   {
    "duration": 9,
    "start_time": "2023-11-25T17:09:39.615Z"
   },
   {
    "duration": 16,
    "start_time": "2023-11-25T17:09:39.626Z"
   },
   {
    "duration": 25,
    "start_time": "2023-11-25T17:09:39.645Z"
   },
   {
    "duration": 1015,
    "start_time": "2023-11-25T17:09:39.672Z"
   },
   {
    "duration": 166,
    "start_time": "2023-11-25T17:09:40.689Z"
   },
   {
    "duration": 21,
    "start_time": "2023-11-25T17:09:40.858Z"
   },
   {
    "duration": 184,
    "start_time": "2023-11-25T17:09:40.881Z"
   },
   {
    "duration": 19,
    "start_time": "2023-11-25T17:09:41.067Z"
   },
   {
    "duration": 33,
    "start_time": "2023-11-25T17:09:41.089Z"
   }
  ],
  "colab": {
   "provenance": []
  },
  "kernelspec": {
   "display_name": "Python 3 (ipykernel)",
   "language": "python",
   "name": "python3"
  },
  "language_info": {
   "codemirror_mode": {
    "name": "ipython",
    "version": 3
   },
   "file_extension": ".py",
   "mimetype": "text/x-python",
   "name": "python",
   "nbconvert_exporter": "python",
   "pygments_lexer": "ipython3",
   "version": "3.9.19"
  },
  "toc": {
   "base_numbering": 1,
   "nav_menu": {},
   "number_sections": true,
   "sideBar": true,
   "skip_h1_title": true,
   "title_cell": "Table of Contents",
   "title_sidebar": "Contents",
   "toc_cell": false,
   "toc_position": {},
   "toc_section_display": true,
   "toc_window_display": false
  }
 },
 "nbformat": 4,
 "nbformat_minor": 5
}
