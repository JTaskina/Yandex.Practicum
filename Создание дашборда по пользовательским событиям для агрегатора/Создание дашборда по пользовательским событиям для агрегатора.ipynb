{
 "cells": [
  {
   "cell_type": "markdown",
   "id": "948f354d",
   "metadata": {},
   "source": [
    "<h1>Проект: Изучение данных о конференциях TED<span class=\"tocSkip\"></span></h1>"
   ]
  },
  {
   "cell_type": "markdown",
   "id": "4dc6088e",
   "metadata": {},
   "source": [
    "**Цель проекта:** Проанализировать как распределены выступления по странам, категориям и годам.\n"
   ]
  },
  {
   "cell_type": "markdown",
   "id": "d086de75",
   "metadata": {},
   "source": [
    "Презентация https://public.tableau.com/app/profile/julia.t1104/viz/_17149844541980/sheet22"
   ]
  }
 ],
 "metadata": {
  "kernelspec": {
   "display_name": "Python 3 (ipykernel)",
   "language": "python",
   "name": "python3"
  },
  "language_info": {
   "codemirror_mode": {
    "name": "ipython",
    "version": 3
   },
   "file_extension": ".py",
   "mimetype": "text/x-python",
   "name": "python",
   "nbconvert_exporter": "python",
   "pygments_lexer": "ipython3",
   "version": "3.9.19"
  },
  "toc": {
   "base_numbering": 1,
   "nav_menu": {},
   "number_sections": true,
   "sideBar": true,
   "skip_h1_title": true,
   "title_cell": "Table of Contents",
   "title_sidebar": "Contents",
   "toc_cell": false,
   "toc_position": {},
   "toc_section_display": true,
   "toc_window_display": false
  }
 },
 "nbformat": 4,
 "nbformat_minor": 5
}
